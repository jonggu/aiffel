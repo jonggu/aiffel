{
 "cells": [
  {
   "cell_type": "markdown",
   "metadata": {},
   "source": [
    "# 완전탐색 (2020-09-07)"
   ]
  },
  {
   "cell_type": "markdown",
   "metadata": {},
   "source": [
    "## 1. 모의고사\n",
    "* 테스트 1 〉\t통과 (0.03ms, 9.75MB)\n",
    "* 테스트 2 〉\t통과 (0.02ms, 9.52MB)\n",
    "* 테스트 3 〉\t통과 (0.02ms, 9.76MB)\n",
    "* 테스트 4 〉\t통과 (0.02ms, 9.58MB)\n",
    "* 테스트 5 〉\t통과 (0.08ms, 9.61MB)\n",
    "* 테스트 6 〉\t통과 (0.08ms, 9.56MB)\n",
    "* 테스트 7 〉\t통과 (4.78ms, 9.63MB)\n",
    "* 테스트 8 〉\t통과 (2.50ms, 9.51MB)\n",
    "* 테스트 9 〉\t통과 (8.27ms, 9.62MB)\n",
    "* 테스트 10 〉\t통과 (4.62ms, 9.64MB)\n",
    "* 테스트 11 〉\t통과 (8.76ms, 9.7MB)\n",
    "* 테스트 12 〉\t통과 (7.73ms, 9.76MB)\n",
    "* 테스트 13 〉\t통과 (0.64ms, 9.53MB)\n",
    "* 테스트 14 〉\t통과 (9.60ms, 9.8MB)"
   ]
  },
  {
   "cell_type": "code",
   "execution_count": 1,
   "metadata": {},
   "outputs": [],
   "source": [
    "# 성공\n",
    "\n",
    "def solution1(answers):\n",
    "    answer = []\n",
    "    \n",
    "    p1 = [1, 2, 3, 4, 5] # 5\n",
    "    p2 = [2, 1, 2, 3, 2, 4, 2, 5] # 8\n",
    "    p3 = [3, 3, 1, 1, 2, 2, 4, 4, 5, 5] # 10\n",
    "    \n",
    "    p1_count = 0\n",
    "    p2_count = 0\n",
    "    p3_count = 0\n",
    "    \n",
    "    for num, answer in enumerate(answers):\n",
    "        curr_num = num + 1\n",
    "        \n",
    "        curr_p1_idx = num - (int(num / len(p1)) * len(p1)) # p1\n",
    "        curr_p2_idx = num - (int(num / len(p2)) * len(p2)) # p2\n",
    "        curr_p3_idx = num - (int(num / len(p3)) * len(p3)) # p3\n",
    "\n",
    "        if answer == p1[curr_p1_idx]:\n",
    "            p1_count += 1\n",
    "        \n",
    "        if answer == p2[curr_p2_idx]:\n",
    "            p2_count += 1\n",
    "            \n",
    "        if answer == p3[curr_p3_idx]:\n",
    "            p3_count += 1\n",
    "\n",
    "    \n",
    "    counts = {1: p1_count, 2: p2_count, 3: p3_count}\n",
    "    \n",
    "    # https://stackoverflow.com/questions/25762332/how-to-get-all-the-keys-with-the-same-highest-value\n",
    "    max_value = max(counts.values())\n",
    "    answer = [k for k,v in counts.items() if v == max_value]\n",
    "    \n",
    "    return answer"
   ]
  },
  {
   "cell_type": "code",
   "execution_count": 2,
   "metadata": {},
   "outputs": [
    {
     "name": "stdout",
     "output_type": "stream",
     "text": [
      "3.4 µs ± 4.29 ns per loop (mean ± std. dev. of 7 runs, 100000 loops each)\n",
      "3.48 µs ± 6.66 ns per loop (mean ± std. dev. of 7 runs, 100000 loops each)\n"
     ]
    }
   ],
   "source": [
    "%timeit solution1([1, 2, 3, 4, 5]) # 입출력 예 1\n",
    "%timeit solution1([1, 3, 2, 4, 2]) # 입출력 예 2"
   ]
  },
  {
   "cell_type": "markdown",
   "metadata": {},
   "source": [
    "## 2. 소수 찾기\n",
    "* 테스트 1 〉\t통과 (1.12ms, 9.8MB)\n",
    "* 테스트 2 〉\t통과 (1244.76ms, 19.8MB)\n",
    "* 테스트 3 〉\t통과 (0.04ms, 9.71MB)\n",
    "* 테스트 4 〉\t통과 (72.37ms, 14.4MB)\n",
    "* 테스트 5 〉\t통과 (960.69ms, 61.5MB)\n",
    "* 테스트 6 〉\t통과 (0.04ms, 9.7MB)\n",
    "* 테스트 7 〉\t통과 (1.08ms, 9.77MB)\n",
    "* 테스트 8 〉\t통과 (1602.69ms, 95.6MB)\n",
    "* 테스트 9 〉\t통과 (0.14ms, 9.71MB)\n",
    "* 테스트 10 〉\t통과 (1478.90ms, 24.7MB)\n",
    "* 테스트 11 〉\t통과 (51.46ms, 11MB)\n",
    "* 테스트 12 〉\t통과 (17.14ms, 10.5MB)"
   ]
  },
  {
   "cell_type": "code",
   "execution_count": 3,
   "metadata": {},
   "outputs": [],
   "source": [
    "# 실패 (일부 케이스 시간 초과)\n",
    "\n",
    "from itertools import permutations # https://ourcstory.tistory.com/414\n",
    "\n",
    "def solution2_1(numbers):\n",
    "    answer = 0\n",
    "    \n",
    "    curr_numbers = []\n",
    "    \n",
    "    for n in range(len(numbers)):\n",
    "        curr_combs = list(permutations(numbers, n+1))\n",
    "        \n",
    "        for comb in curr_combs:\n",
    "            curr_comb = ''.join(comb)\n",
    "            \n",
    "            if int(curr_comb) in curr_numbers:\n",
    "                continue\n",
    "            else:\n",
    "                curr_numbers.append(int(curr_comb))\n",
    "\n",
    "    curr_numbers = sorted(curr_numbers)\n",
    "    \n",
    "    result = []\n",
    "    \n",
    "    for curr_num in curr_numbers:\n",
    "        # bad algorithm https://53perc.tistory.com/entry/%ED%8C%8C%EC%9D%B4%EC%8D%AC-%EC%86%8C%EC%88%98-%ED%8C%90%EB%B3%84%ED%95%98%EA%B8%B0\n",
    "        is_prime = True\n",
    "        \n",
    "        if curr_num == 1 or curr_num == 0: \n",
    "            is_prime = False # 0, 1은 소수가 아님\n",
    "        else:\n",
    "            for f in range(2, curr_num):\n",
    "                if curr_num % f == 0:\n",
    "                    is_prime = False\n",
    "                    \n",
    "        if is_prime:\n",
    "            result.append(curr_num)\n",
    "        \n",
    "    answer = len(result)\n",
    "    \n",
    "    return answer"
   ]
  },
  {
   "cell_type": "code",
   "execution_count": 4,
   "metadata": {},
   "outputs": [
    {
     "name": "stdout",
     "output_type": "stream",
     "text": [
      "5.35 µs ± 12.3 ns per loop (mean ± std. dev. of 7 runs, 100000 loops each)\n",
      "12.2 µs ± 69.9 ns per loop (mean ± std. dev. of 7 runs, 100000 loops each)\n"
     ]
    }
   ],
   "source": [
    "%timeit solution2_1(\"17\") # 입출력 예 1\n",
    "%timeit solution2_1(\"011\") # 입출력 예 2"
   ]
  },
  {
   "cell_type": "code",
   "execution_count": 5,
   "metadata": {},
   "outputs": [],
   "source": [
    "# 성공\n",
    "\n",
    "from itertools import permutations # https://ourcstory.tistory.com/414\n",
    "\n",
    "def solution2_2(numbers):\n",
    "    def get_primes(n): # https://wikidocs.net/21638\n",
    "        result = []\n",
    "        \n",
    "        a = [False, False] + [True]*(n-1)\n",
    "        \n",
    "        for i in range(2, n + 1):\n",
    "            if a[i]:\n",
    "                result.append(i)\n",
    "                for j in range(2*i, n+1, i):\n",
    "                    a[j] = False\n",
    "        return result\n",
    "\n",
    "    answer = 0\n",
    "    \n",
    "    curr_numbers = []\n",
    "    \n",
    "    for n in range(len(numbers)):\n",
    "        curr_combs = list(permutations(numbers, n+1))\n",
    "        \n",
    "        for comb in curr_combs:\n",
    "            curr_comb = ''.join(comb)\n",
    "            \n",
    "            if int(curr_comb) in curr_numbers:\n",
    "                continue\n",
    "            else:\n",
    "                curr_numbers.append(int(curr_comb))\n",
    "\n",
    "    curr_numbers = sorted(curr_numbers)\n",
    "    \n",
    "    primes = get_primes(curr_numbers[len(curr_numbers) - 1])\n",
    "    result = []\n",
    "    \n",
    "    for curr_num in curr_numbers:\n",
    "        if curr_num in primes:\n",
    "            result.append(curr_num)\n",
    "        \n",
    "    answer = len(result)\n",
    "    \n",
    "    return answer"
   ]
  },
  {
   "cell_type": "code",
   "execution_count": 6,
   "metadata": {},
   "outputs": [
    {
     "name": "stdout",
     "output_type": "stream",
     "text": [
      "10.1 µs ± 13.6 ns per loop (mean ± std. dev. of 7 runs, 100000 loops each)\n",
      "17.3 µs ± 139 ns per loop (mean ± std. dev. of 7 runs, 100000 loops each)\n"
     ]
    }
   ],
   "source": [
    "%timeit solution2_2(\"17\") # 입출력 예 1\n",
    "%timeit solution2_2(\"011\") # 입출력 예 2"
   ]
  },
  {
   "cell_type": "markdown",
   "metadata": {},
   "source": [
    "## 3. 카펫\n",
    "* 테스트 1 〉\t통과 (0.01ms, 9.34MB)\n",
    "* 테스트 2 〉\t통과 (0.01ms, 9.42MB)\n",
    "* 테스트 3 〉\t통과 (1.11ms, 9.39MB)\n",
    "* 테스트 4 〉\t통과 (0.90ms, 9.5MB)\n",
    "* 테스트 5 〉\t통과 (2.55ms, 9.65MB)\n",
    "* 테스트 6 〉\t통과 (0.72ms, 9.55MB)\n",
    "* 테스트 7 〉\t통과 (1.22ms, 9.61MB)\n",
    "* 테스트 8 〉\t통과 (0.95ms, 9.55MB)\n",
    "* 테스트 9 〉\t통과 (2.66ms, 9.54MB)\n",
    "* 테스트 10 〉\t통과 (1.13ms, 9.58MB)\n",
    "* 테스트 11 〉\t통과 (0.01ms, 9.49MB)\n",
    "* 테스트 12 〉\t통과 (0.01ms, 9.48MB)\n",
    "* 테스트 13 〉\t통과 (0.01ms, 9.49MB)"
   ]
  },
  {
   "cell_type": "code",
   "execution_count": 7,
   "metadata": {},
   "outputs": [],
   "source": [
    "# 성공\n",
    "\n",
    "def solution3(brown, yellow):\n",
    "    answer = []\n",
    "    \n",
    "    # brown의 수를 기준으로 해야 할 것 같은데.\n",
    "    # brown을 테두리로 만드는 경우의 수를 생각하고\n",
    "    # 그 안에 yellow가 맞게 들어가는지 확인\n",
    "    # * brown의 가로/세로 길이는 무조건 3 이상\n",
    "    # 예) brown이 24개면, 가로가 3~12 / 세로가 3~12\n",
    "    ## 가로가 3개면, 세로는 (24/2)-3 = 9개\n",
    "    \n",
    "    browns = []\n",
    "    \n",
    "    for w in range(3, int(brown/2) + 1): # brown이 홀수인 경우? 그런 경우는 없을 것 같음\n",
    "        h_num = int(brown/2) - w\n",
    "        h = h_num + 2 # 모서리는 width에 포함\n",
    "        \n",
    "        if w < h:\n",
    "            continue\n",
    "        else:\n",
    "            browns.append([w, h])\n",
    "    \n",
    "    for b in browns:\n",
    "        curr_width = b[0]\n",
    "        curr_height = b[1]\n",
    "        \n",
    "        yellow_w = curr_width - 2\n",
    "        yellow_h = curr_height - 2\n",
    "        \n",
    "        if yellow_w * yellow_h == yellow:\n",
    "            answer = b\n",
    "            break\n",
    "    \n",
    "    return answer"
   ]
  },
  {
   "cell_type": "code",
   "execution_count": 8,
   "metadata": {},
   "outputs": [
    {
     "name": "stdout",
     "output_type": "stream",
     "text": [
      "867 ns ± 9.19 ns per loop (mean ± std. dev. of 7 runs, 1000000 loops each)\n",
      "748 ns ± 7.31 ns per loop (mean ± std. dev. of 7 runs, 1000000 loops each)\n",
      "2.04 µs ± 21.3 ns per loop (mean ± std. dev. of 7 runs, 100000 loops each)\n"
     ]
    }
   ],
   "source": [
    "%timeit solution3(10, 2) # 입출력 예 1\n",
    "%timeit solution3(8, 1) # 입출력 예 2\n",
    "%timeit solution3(24, 24) # 입출력 예 3"
   ]
  },
  {
   "cell_type": "code",
   "execution_count": null,
   "metadata": {},
   "outputs": [],
   "source": []
  }
 ],
 "metadata": {
  "kernelspec": {
   "display_name": "aiffel",
   "language": "python",
   "name": "aiffel"
  },
  "language_info": {
   "codemirror_mode": {
    "name": "ipython",
    "version": 3
   },
   "file_extension": ".py",
   "mimetype": "text/x-python",
   "name": "python",
   "nbconvert_exporter": "python",
   "pygments_lexer": "ipython3",
   "version": "3.7.6"
  }
 },
 "nbformat": 4,
 "nbformat_minor": 4
}
