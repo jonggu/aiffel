{
 "cells": [
  {
   "cell_type": "markdown",
   "metadata": {},
   "source": [
    "# 18-13. 프로젝트: 뉴스기사 요약해보기"
   ]
  },
  {
   "cell_type": "markdown",
   "metadata": {},
   "source": [
    "## 필요한 모듈 import"
   ]
  },
  {
   "cell_type": "code",
   "execution_count": 1,
   "metadata": {},
   "outputs": [
    {
     "name": "stderr",
     "output_type": "stream",
     "text": [
      "[nltk_data] Downloading package stopwords to\n",
      "[nltk_data]     /home/aiffel0042/nltk_data...\n",
      "[nltk_data]   Package stopwords is already up-to-date!\n"
     ]
    }
   ],
   "source": [
    "import urllib.request\n",
    "\n",
    "import nltk\n",
    "nltk.download('stopwords')\n",
    "\n",
    "import numpy as np\n",
    "import pandas as pd\n",
    "import os\n",
    "import re\n",
    "import matplotlib.pyplot as plt\n",
    "from nltk.corpus import stopwords\n",
    "from bs4 import BeautifulSoup \n",
    "from tensorflow.keras.preprocessing.text import Tokenizer \n",
    "from tensorflow.keras.preprocessing.sequence import pad_sequences\n",
    "\n",
    "from tensorflow.keras.layers import Input, LSTM, Embedding, Dense, Concatenate\n",
    "from tensorflow.keras.models import Model\n",
    "from tensorflow.keras.callbacks import EarlyStopping, ModelCheckpoint\n",
    "\n",
    "# 공개된 어텐션 함수 다운로드\n",
    "urllib.request.urlretrieve(\"https://raw.githubusercontent.com/thushv89/attention_keras/master/src/layers/attention.py\", filename=\"attention.py\")\n",
    "from attention import AttentionLayer\n",
    "\n",
    "import requests\n",
    "from summa.summarizer import summarize"
   ]
  },
  {
   "cell_type": "markdown",
   "metadata": {},
   "source": [
    "## 데이터 수집하기"
   ]
  },
  {
   "cell_type": "code",
   "execution_count": 2,
   "metadata": {},
   "outputs": [
    {
     "data": {
      "text/html": [
       "<div>\n",
       "<style scoped>\n",
       "    .dataframe tbody tr th:only-of-type {\n",
       "        vertical-align: middle;\n",
       "    }\n",
       "\n",
       "    .dataframe tbody tr th {\n",
       "        vertical-align: top;\n",
       "    }\n",
       "\n",
       "    .dataframe thead th {\n",
       "        text-align: right;\n",
       "    }\n",
       "</style>\n",
       "<table border=\"1\" class=\"dataframe\">\n",
       "  <thead>\n",
       "    <tr style=\"text-align: right;\">\n",
       "      <th></th>\n",
       "      <th>headlines</th>\n",
       "      <th>text</th>\n",
       "    </tr>\n",
       "  </thead>\n",
       "  <tbody>\n",
       "    <tr>\n",
       "      <th>40535</th>\n",
       "      <td>Moody's cuts India's GDP growth forecast to 7....</td>\n",
       "      <td>Global credit rating agency Moody's has cut In...</td>\n",
       "    </tr>\n",
       "    <tr>\n",
       "      <th>82408</th>\n",
       "      <td>Samsung to sell recycled Note 7 in South Korea...</td>\n",
       "      <td>South Korean smartphone maker Samsung on Sunda...</td>\n",
       "    </tr>\n",
       "    <tr>\n",
       "      <th>53700</th>\n",
       "      <td>Liverpool's Mohamed Salah named African Footba...</td>\n",
       "      <td>Liverpool's Egyptian forward Mohamed Salah was...</td>\n",
       "    </tr>\n",
       "    <tr>\n",
       "      <th>29455</th>\n",
       "      <td>We're not giving Rashid Khan to India: Afghan ...</td>\n",
       "      <td>Afghanistan President Ashraf Ghani tweeted to ...</td>\n",
       "    </tr>\n",
       "    <tr>\n",
       "      <th>55521</th>\n",
       "      <td>Cryptocurrency fuels irrational exuberance: Ba...</td>\n",
       "      <td>Bank of Korea Governor Lee Ju-yeol has said th...</td>\n",
       "    </tr>\n",
       "    <tr>\n",
       "      <th>13453</th>\n",
       "      <td>WhatsApp's Delete for Everyone feature gets re...</td>\n",
       "      <td>WhatsApp has updated its Delete for Everyone f...</td>\n",
       "    </tr>\n",
       "    <tr>\n",
       "      <th>41245</th>\n",
       "      <td>Why iPhone and iPad ads always display 9:41 AM...</td>\n",
       "      <td>The 9:41 AM time displayed on iPhone and iPad ...</td>\n",
       "    </tr>\n",
       "    <tr>\n",
       "      <th>16980</th>\n",
       "      <td>Facebook offers rewards for finding bugs in th...</td>\n",
       "      <td>Facebook is expanding its bug bounty program a...</td>\n",
       "    </tr>\n",
       "    <tr>\n",
       "      <th>9039</th>\n",
       "      <td>Loan waiver not a permanent solution: Venkaiah...</td>\n",
       "      <td>Vice-President Venkaiah Naidu on Thursday said...</td>\n",
       "    </tr>\n",
       "    <tr>\n",
       "      <th>66884</th>\n",
       "      <td>Sasikala granted 5-day parole to visit ailing ...</td>\n",
       "      <td>Sidelined AIADMK leader VK Sasikala was grante...</td>\n",
       "    </tr>\n",
       "  </tbody>\n",
       "</table>\n",
       "</div>"
      ],
      "text/plain": [
       "                                               headlines  \\\n",
       "40535  Moody's cuts India's GDP growth forecast to 7....   \n",
       "82408  Samsung to sell recycled Note 7 in South Korea...   \n",
       "53700  Liverpool's Mohamed Salah named African Footba...   \n",
       "29455  We're not giving Rashid Khan to India: Afghan ...   \n",
       "55521  Cryptocurrency fuels irrational exuberance: Ba...   \n",
       "13453  WhatsApp's Delete for Everyone feature gets re...   \n",
       "41245  Why iPhone and iPad ads always display 9:41 AM...   \n",
       "16980  Facebook offers rewards for finding bugs in th...   \n",
       "9039   Loan waiver not a permanent solution: Venkaiah...   \n",
       "66884  Sasikala granted 5-day parole to visit ailing ...   \n",
       "\n",
       "                                                    text  \n",
       "40535  Global credit rating agency Moody's has cut In...  \n",
       "82408  South Korean smartphone maker Samsung on Sunda...  \n",
       "53700  Liverpool's Egyptian forward Mohamed Salah was...  \n",
       "29455  Afghanistan President Ashraf Ghani tweeted to ...  \n",
       "55521  Bank of Korea Governor Lee Ju-yeol has said th...  \n",
       "13453  WhatsApp has updated its Delete for Everyone f...  \n",
       "41245  The 9:41 AM time displayed on iPhone and iPad ...  \n",
       "16980  Facebook is expanding its bug bounty program a...  \n",
       "9039   Vice-President Venkaiah Naidu on Thursday said...  \n",
       "66884  Sidelined AIADMK leader VK Sasikala was grante...  "
      ]
     },
     "execution_count": 2,
     "metadata": {},
     "output_type": "execute_result"
    }
   ],
   "source": [
    "# urllib.request.urlretrieve(\"https://raw.githubusercontent.com/sunnysai12345/News_Summary/master/news_summary_more.csv\", filename=\"news_summary_more.csv\")\n",
    "data = pd.read_csv('news_summary_more.csv', encoding='iso-8859-1')\n",
    "\n",
    "data_summa = pd.read_csv('news_summary_more.csv', encoding='iso-8859-1') # for testing summa\n",
    "\n",
    "data.sample(10)"
   ]
  },
  {
   "cell_type": "markdown",
   "metadata": {},
   "source": [
    "## 데이터 전처리하기 (추상적 요약)"
   ]
  },
  {
   "cell_type": "code",
   "execution_count": 3,
   "metadata": {},
   "outputs": [
    {
     "name": "stdout",
     "output_type": "stream",
     "text": [
      "중복 제거 전: 98401\n",
      "중복 제거 후: 98360 \n",
      "\n",
      "drop_duplicates() 후: 98360\n"
     ]
    }
   ],
   "source": [
    "# 중복 text 확인\n",
    "print(\"중복 제거 전:\", len(data['text']))\n",
    "print(\"중복 제거 후:\", data['text'].nunique(), '\\n') # nunique(): number of unique elements https://pandas.pydata.org/pandas-docs/stable/reference/api/pandas.Series.nunique.html\n",
    "\n",
    "# 중복 제거\n",
    "data.drop_duplicates(subset=['text'], inplace=True) # inplace: Whether to drop duplicates in place or to return a copy. https://pandas.pydata.org/pandas-docs/stable/reference/api/pandas.DataFrame.drop_duplicates.html\n",
    "\n",
    "print(\"drop_duplicates() 후:\", len(data))"
   ]
  },
  {
   "cell_type": "code",
   "execution_count": 4,
   "metadata": {},
   "outputs": [
    {
     "name": "stdout",
     "output_type": "stream",
     "text": [
      "headlines    0\n",
      "text         0\n",
      "dtype: int64\n"
     ]
    }
   ],
   "source": [
    "# NULL 데이터 확인\n",
    "print(data.isnull().sum())\n",
    "\n",
    "# NULL이 없으므로 아래 작업은 수행하지 않음\n",
    "# data.dropna(axis=0, inplace=True)"
   ]
  },
  {
   "cell_type": "code",
   "execution_count": 5,
   "metadata": {},
   "outputs": [
    {
     "name": "stdout",
     "output_type": "stream",
     "text": [
      "정규화 사전의 수:  120\n"
     ]
    }
   ],
   "source": [
    "# 정규화 사전 만들기 https://stackoverflow.com/questions/19790188/expanding-english-language-contractions-in-python\n",
    "\n",
    "contractions = {\"ain't\": \"is not\", \"aren't\": \"are not\",\"can't\": \"cannot\", \"'cause\": \"because\", \"could've\": \"could have\", \"couldn't\": \"could not\",\n",
    "    \"didn't\": \"did not\",  \"doesn't\": \"does not\", \"don't\": \"do not\", \"hadn't\": \"had not\", \"hasn't\": \"has not\", \"haven't\": \"have not\",\n",
    "    \"he'd\": \"he would\",\"he'll\": \"he will\", \"he's\": \"he is\", \"how'd\": \"how did\", \"how'd'y\": \"how do you\", \"how'll\": \"how will\", \"how's\": \"how is\",\n",
    "    \"I'd\": \"I would\", \"I'd've\": \"I would have\", \"I'll\": \"I will\", \"I'll've\": \"I will have\",\"I'm\": \"I am\", \"I've\": \"I have\", \"i'd\": \"i would\",\n",
    "    \"i'd've\": \"i would have\", \"i'll\": \"i will\",  \"i'll've\": \"i will have\",\"i'm\": \"i am\", \"i've\": \"i have\", \"isn't\": \"is not\", \"it'd\": \"it would\",\n",
    "    \"it'd've\": \"it would have\", \"it'll\": \"it will\", \"it'll've\": \"it will have\",\"it's\": \"it is\", \"let's\": \"let us\", \"ma'am\": \"madam\",\n",
    "    \"mayn't\": \"may not\", \"might've\": \"might have\",\"mightn't\": \"might not\",\"mightn't've\": \"might not have\", \"must've\": \"must have\",\n",
    "    \"mustn't\": \"must not\", \"mustn't've\": \"must not have\", \"needn't\": \"need not\", \"needn't've\": \"need not have\",\"o'clock\": \"of the clock\",\n",
    "    \"oughtn't\": \"ought not\", \"oughtn't've\": \"ought not have\", \"shan't\": \"shall not\", \"sha'n't\": \"shall not\", \"shan't've\": \"shall not have\",\n",
    "    \"she'd\": \"she would\", \"she'd've\": \"she would have\", \"she'll\": \"she will\", \"she'll've\": \"she will have\", \"she's\": \"she is\",\n",
    "    \"should've\": \"should have\", \"shouldn't\": \"should not\", \"shouldn't've\": \"should not have\", \"so've\": \"so have\",\"so's\": \"so as\",\n",
    "    \"this's\": \"this is\",\"that'd\": \"that would\", \"that'd've\": \"that would have\", \"that's\": \"that is\", \"there'd\": \"there would\",\n",
    "    \"there'd've\": \"there would have\", \"there's\": \"there is\", \"here's\": \"here is\",\"they'd\": \"they would\", \"they'd've\": \"they would have\",\n",
    "    \"they'll\": \"they will\", \"they'll've\": \"they will have\", \"they're\": \"they are\", \"they've\": \"they have\", \"to've\": \"to have\",\n",
    "    \"wasn't\": \"was not\", \"we'd\": \"we would\", \"we'd've\": \"we would have\", \"we'll\": \"we will\", \"we'll've\": \"we will have\", \"we're\": \"we are\",\n",
    "    \"we've\": \"we have\", \"weren't\": \"were not\", \"what'll\": \"what will\", \"what'll've\": \"what will have\", \"what're\": \"what are\",\n",
    "    \"what's\": \"what is\", \"what've\": \"what have\", \"when's\": \"when is\", \"when've\": \"when have\", \"where'd\": \"where did\", \"where's\": \"where is\",\n",
    "    \"where've\": \"where have\", \"who'll\": \"who will\", \"who'll've\": \"who will have\", \"who's\": \"who is\", \"who've\": \"who have\",\n",
    "    \"why's\": \"why is\", \"why've\": \"why have\", \"will've\": \"will have\", \"won't\": \"will not\", \"won't've\": \"will not have\",\n",
    "    \"would've\": \"would have\", \"wouldn't\": \"would not\", \"wouldn't've\": \"would not have\", \"y'all\": \"you all\",\n",
    "    \"y'all'd\": \"you all would\",\"y'all'd've\": \"you all would have\",\"y'all're\": \"you all are\",\"y'all've\": \"you all have\",\n",
    "    \"you'd\": \"you would\", \"you'd've\": \"you would have\", \"you'll\": \"you will\", \"you'll've\": \"you will have\",\n",
    "    \"you're\": \"you are\", \"you've\": \"you have\"}\n",
    "\n",
    "print(\"정규화 사전의 수: \",len(contractions))"
   ]
  },
  {
   "cell_type": "code",
   "execution_count": 6,
   "metadata": {},
   "outputs": [
    {
     "name": "stdout",
     "output_type": "stream",
     "text": [
      "불용어 개수: 179\n",
      "['i', 'me', 'my', 'myself', 'we', 'our', 'ours', 'ourselves', 'you', \"you're\", \"you've\", \"you'll\", \"you'd\", 'your', 'yours', 'yourself', 'yourselves', 'he', 'him', 'his', 'himself', 'she', \"she's\", 'her', 'hers', 'herself', 'it', \"it's\", 'its', 'itself', 'they', 'them', 'their', 'theirs', 'themselves', 'what', 'which', 'who', 'whom', 'this', 'that', \"that'll\", 'these', 'those', 'am', 'is', 'are', 'was', 'were', 'be', 'been', 'being', 'have', 'has', 'had', 'having', 'do', 'does', 'did', 'doing', 'a', 'an', 'the', 'and', 'but', 'if', 'or', 'because', 'as', 'until', 'while', 'of', 'at', 'by', 'for', 'with', 'about', 'against', 'between', 'into', 'through', 'during', 'before', 'after', 'above', 'below', 'to', 'from', 'up', 'down', 'in', 'out', 'on', 'off', 'over', 'under', 'again', 'further', 'then', 'once', 'here', 'there', 'when', 'where', 'why', 'how', 'all', 'any', 'both', 'each', 'few', 'more', 'most', 'other', 'some', 'such', 'no', 'nor', 'not', 'only', 'own', 'same', 'so', 'than', 'too', 'very', 's', 't', 'can', 'will', 'just', 'don', \"don't\", 'should', \"should've\", 'now', 'd', 'll', 'm', 'o', 're', 've', 'y', 'ain', 'aren', \"aren't\", 'couldn', \"couldn't\", 'didn', \"didn't\", 'doesn', \"doesn't\", 'hadn', \"hadn't\", 'hasn', \"hasn't\", 'haven', \"haven't\", 'isn', \"isn't\", 'ma', 'mightn', \"mightn't\", 'mustn', \"mustn't\", 'needn', \"needn't\", 'shan', \"shan't\", 'shouldn', \"shouldn't\", 'wasn', \"wasn't\", 'weren', \"weren't\", 'won', \"won't\", 'wouldn', \"wouldn't\"]\n"
     ]
    }
   ],
   "source": [
    "# 불용어 (텍스트에 자주 등장하지만 자연어 처리에 실질적으로 별 도움이 되지 않는 단어들) 제거\n",
    "# stopwords: from nltk\n",
    "\n",
    "print('불용어 개수:', len(stopwords.words('english') ))\n",
    "print(stopwords.words('english'))"
   ]
  },
  {
   "cell_type": "code",
   "execution_count": 7,
   "metadata": {},
   "outputs": [
    {
     "name": "stdout",
     "output_type": "stream",
     "text": [
      "everything bought great infact ordered twice third ordered wasfor mother father\n",
      "great way to start the day\n"
     ]
    }
   ],
   "source": [
    "# 데이터 전처리 함수\n",
    "def preprocess_sentence(sentence, remove_stopwords=True):\n",
    "    sentence = sentence.lower() # 텍스트 소문자화\n",
    "    sentence = BeautifulSoup(sentence, \"lxml\").text # <br />, <a href = ...> 등의 html 태그 제거\n",
    "    sentence = re.sub(r'\\([^)]*\\)', '', sentence) # 괄호로 닫힌 문자열 (...) 제거 Ex) my husband (and myself!) for => my husband for\n",
    "    sentence = re.sub('\"','', sentence) # 쌍따옴표 \" 제거\n",
    "    sentence = ' '.join([contractions[t] if t in contractions else t for t in sentence.split(\" \")]) # 약어 정규화\n",
    "    sentence = re.sub(r\"'s\\b\",\"\",sentence) # 소유격 제거. Ex) roland's -> roland\n",
    "    sentence = re.sub(\"[^a-zA-Z]\", \" \", sentence) # 영어 외 문자(숫자, 특수문자 등) 공백으로 변환\n",
    "    sentence = re.sub('[m]{2,}', 'mm', sentence) # m이 3개 이상이면 2개로 변경. Ex) ummmmmmm yeah -> umm yeah\n",
    "    \n",
    "    # 불용어 제거 (Text)\n",
    "    if remove_stopwords:\n",
    "        tokens = ' '.join(word for word in sentence.split() if not word in stopwords.words('english') if len(word) > 1)\n",
    "    # 불용어 미제거 (Summary)\n",
    "    else:\n",
    "        tokens = ' '.join(word for word in sentence.split() if len(word) > 1)\n",
    "    return tokens\n",
    "\n",
    "# 테스트\n",
    "temp_text = 'Everything I bought was great, infact I ordered twice and the third ordered was<br />for my mother and father.'\n",
    "temp_summary = 'Great way to start (or finish) the day!!!'\n",
    "\n",
    "print(preprocess_sentence(temp_text))\n",
    "print(preprocess_sentence(temp_summary, False))  # 불용어를 제거하지 않습니다."
   ]
  },
  {
   "cell_type": "code",
   "execution_count": 8,
   "metadata": {},
   "outputs": [
    {
     "data": {
      "text/plain": [
       "['saurav kant alumnus upgrad iiit pg program machine learning artificial intelligence sr systems engineer infosys almost years work experience program upgrad degree career support helped transition data scientist tech mahindra salary hike upgrad online power learning powered lakh careers',\n",
       " 'kunal shah credit card bill payment platform cred gave users chance win free food swiggy one year pranav kaushik delhi techie bagged reward spending cred coins users get one cred coin per rupee bill paid used avail rewards brands like ixigo bookmyshow ubereats cult fit',\n",
       " 'new zealand defeated india wickets fourth odi hamilton thursday win first match five match odi series india lost international match rohit sharma captaincy consecutive victories dating back march match witnessed india getting seventh lowest total odi cricket history',\n",
       " 'aegon life iterm insurance plan customers enjoy tax benefits premiums paid save taxes plan provides life cover age years also customers options insure critical illnesses disability accidental death benefit rider life cover age years',\n",
       " 'speaking sexual harassment allegations rajkumar hirani sonam kapoor said known hirani many years true metoo movement get derailed metoo movement always believe woman case need reserve judgment added hirani accused assistant worked sanju']"
      ]
     },
     "execution_count": 8,
     "metadata": {},
     "output_type": "execute_result"
    }
   ],
   "source": [
    "clean_text = []\n",
    "\n",
    "# 전체 text 데이터에 대한 전처리\n",
    "for s in data['text']:\n",
    "    clean_text.append(preprocess_sentence(s))\n",
    "\n",
    "# 전처리 후 출력\n",
    "clean_text[:5]"
   ]
  },
  {
   "cell_type": "code",
   "execution_count": 9,
   "metadata": {},
   "outputs": [
    {
     "data": {
      "text/plain": [
       "['upgrad learner switches to career in ml al with salary hike',\n",
       " 'delhi techie wins free food from swiggy for one year on cred',\n",
       " 'new zealand end rohit sharma led india match winning streak',\n",
       " 'aegon life iterm insurance plan helps customers save tax',\n",
       " 'have known hirani for yrs what if metoo claims are not true sonam']"
      ]
     },
     "execution_count": 9,
     "metadata": {},
     "output_type": "execute_result"
    }
   ],
   "source": [
    "clean_headlines = []\n",
    "\n",
    "# 전체 headlines 데이터에 대한 전처리\n",
    "for s in data['headlines']:\n",
    "    clean_headlines.append(preprocess_sentence(s, False))\n",
    "\n",
    "clean_headlines[:5]"
   ]
  },
  {
   "cell_type": "code",
   "execution_count": 10,
   "metadata": {},
   "outputs": [],
   "source": [
    "# 정제 과정에서 빈 데이터 생겼는지 확인하고 NULL 값으로 대체\n",
    "data['text'] = clean_text\n",
    "data['headlines'] = clean_headlines\n",
    "\n",
    "# 빈 값을 Null 값으로 변환\n",
    "data.replace('', np.nan, inplace=True)"
   ]
  },
  {
   "cell_type": "code",
   "execution_count": 11,
   "metadata": {},
   "outputs": [
    {
     "name": "stdout",
     "output_type": "stream",
     "text": [
      "headlines    0\n",
      "text         0\n",
      "dtype: int64\n"
     ]
    }
   ],
   "source": [
    "# NULL 데이터 확인\n",
    "print(data.isnull().sum())\n",
    "\n",
    "# NULL이 없으므로 아래 작업은 수행하지 않음\n",
    "# data.dropna(axis=0, inplace=True)\n",
    "# print('전체 샘플수 :',(len(data)))#데이터 전처리 함수"
   ]
  },
  {
   "cell_type": "code",
   "execution_count": 12,
   "metadata": {},
   "outputs": [
    {
     "name": "stdout",
     "output_type": "stream",
     "text": [
      "텍스트의 최소 길이 : 1\n",
      "텍스트의 최대 길이 : 60\n",
      "텍스트의 평균 길이 : 35.09968483123221\n",
      "헤드라인의 최소 길이 : 1\n",
      "헤드라인의 최대 길이 : 16\n",
      "헤드라인의 평균 길이 : 9.299532330215534\n"
     ]
    },
    {
     "data": {
      "image/png": "[encoded data removed]",
      "text/plain": [
       "<Figure size 432x288 with 2 Axes>"
      ]
     },
     "metadata": {
      "needs_background": "light"
     },
     "output_type": "display_data"
    },
    {
     "data": {
      "image/png": "[encoded data removed]",
      "text/plain": [
       "<Figure size 432x288 with 1 Axes>"
      ]
     },
     "metadata": {
      "needs_background": "light"
     },
     "output_type": "display_data"
    },
    {
     "data": {
      "image/png": "[encoded data removed]",
      "text/plain": [
       "<Figure size 432x288 with 1 Axes>"
      ]
     },
     "metadata": {
      "needs_background": "light"
     },
     "output_type": "display_data"
    }
   ],
   "source": [
    "# 길이 분포 출력\n",
    "text_len = [len(s.split()) for s in data['text']]\n",
    "headlines_len = [len(s.split()) for s in data['headlines']]\n",
    "\n",
    "print('텍스트의 최소 길이 : {}'.format(np.min(text_len)))\n",
    "print('텍스트의 최대 길이 : {}'.format(np.max(text_len)))\n",
    "print('텍스트의 평균 길이 : {}'.format(np.mean(text_len)))\n",
    "print('헤드라인의 최소 길이 : {}'.format(np.min(headlines_len)))\n",
    "print('헤드라인의 최대 길이 : {}'.format(np.max(headlines_len)))\n",
    "print('헤드라인의 평균 길이 : {}'.format(np.mean(headlines_len)))\n",
    "\n",
    "plt.subplot(1,2,1)\n",
    "plt.boxplot(headlines_len)\n",
    "plt.title('headlines')\n",
    "plt.subplot(1,2,2)\n",
    "plt.boxplot(text_len)\n",
    "plt.title('text')\n",
    "plt.tight_layout()\n",
    "plt.show()\n",
    "\n",
    "plt.title('headlines')\n",
    "plt.hist(headlines_len, bins = 40)\n",
    "plt.xlabel('length of samples')\n",
    "plt.ylabel('number of samples')\n",
    "plt.show()\n",
    "\n",
    "plt.title('text')\n",
    "plt.hist(text_len, bins = 40)\n",
    "plt.xlabel('length of samples')\n",
    "plt.ylabel('number of samples')\n",
    "plt.show()"
   ]
  },
  {
   "cell_type": "code",
   "execution_count": 13,
   "metadata": {},
   "outputs": [],
   "source": [
    "# 위 그래프를 바탕으로 최대 길이 지정\n",
    "text_max_len = 42\n",
    "headlines_max_len = 11"
   ]
  },
  {
   "cell_type": "code",
   "execution_count": 14,
   "metadata": {},
   "outputs": [
    {
     "data": {
      "text/html": [
       "<div>\n",
       "<style scoped>\n",
       "    .dataframe tbody tr th:only-of-type {\n",
       "        vertical-align: middle;\n",
       "    }\n",
       "\n",
       "    .dataframe tbody tr th {\n",
       "        vertical-align: top;\n",
       "    }\n",
       "\n",
       "    .dataframe thead th {\n",
       "        text-align: right;\n",
       "    }\n",
       "</style>\n",
       "<table border=\"1\" class=\"dataframe\">\n",
       "  <thead>\n",
       "    <tr style=\"text-align: right;\">\n",
       "      <th></th>\n",
       "      <th>headlines</th>\n",
       "      <th>text</th>\n",
       "      <th>decoder_input</th>\n",
       "      <th>decoder_target</th>\n",
       "    </tr>\n",
       "  </thead>\n",
       "  <tbody>\n",
       "    <tr>\n",
       "      <th>0</th>\n",
       "      <td>upgrad learner switches to career in ml al wit...</td>\n",
       "      <td>saurav kant alumnus upgrad iiit pg program mac...</td>\n",
       "      <td>sostoken upgrad learner switches to career in ...</td>\n",
       "      <td>upgrad learner switches to career in ml al wit...</td>\n",
       "    </tr>\n",
       "    <tr>\n",
       "      <th>1</th>\n",
       "      <td>delhi techie wins free food from swiggy for on...</td>\n",
       "      <td>kunal shah credit card bill payment platform c...</td>\n",
       "      <td>sostoken delhi techie wins free food from swig...</td>\n",
       "      <td>delhi techie wins free food from swiggy for on...</td>\n",
       "    </tr>\n",
       "    <tr>\n",
       "      <th>2</th>\n",
       "      <td>new zealand end rohit sharma led india match w...</td>\n",
       "      <td>new zealand defeated india wickets fourth odi ...</td>\n",
       "      <td>sostoken new zealand end rohit sharma led indi...</td>\n",
       "      <td>new zealand end rohit sharma led india match w...</td>\n",
       "    </tr>\n",
       "    <tr>\n",
       "      <th>3</th>\n",
       "      <td>aegon life iterm insurance plan helps customer...</td>\n",
       "      <td>aegon life iterm insurance plan customers enjo...</td>\n",
       "      <td>sostoken aegon life iterm insurance plan helps...</td>\n",
       "      <td>aegon life iterm insurance plan helps customer...</td>\n",
       "    </tr>\n",
       "    <tr>\n",
       "      <th>4</th>\n",
       "      <td>have known hirani for yrs what if metoo claims...</td>\n",
       "      <td>speaking sexual harassment allegations rajkuma...</td>\n",
       "      <td>sostoken have known hirani for yrs what if met...</td>\n",
       "      <td>have known hirani for yrs what if metoo claims...</td>\n",
       "    </tr>\n",
       "  </tbody>\n",
       "</table>\n",
       "</div>"
      ],
      "text/plain": [
       "                                           headlines  \\\n",
       "0  upgrad learner switches to career in ml al wit...   \n",
       "1  delhi techie wins free food from swiggy for on...   \n",
       "2  new zealand end rohit sharma led india match w...   \n",
       "3  aegon life iterm insurance plan helps customer...   \n",
       "4  have known hirani for yrs what if metoo claims...   \n",
       "\n",
       "                                                text  \\\n",
       "0  saurav kant alumnus upgrad iiit pg program mac...   \n",
       "1  kunal shah credit card bill payment platform c...   \n",
       "2  new zealand defeated india wickets fourth odi ...   \n",
       "3  aegon life iterm insurance plan customers enjo...   \n",
       "4  speaking sexual harassment allegations rajkuma...   \n",
       "\n",
       "                                       decoder_input  \\\n",
       "0  sostoken upgrad learner switches to career in ...   \n",
       "1  sostoken delhi techie wins free food from swig...   \n",
       "2  sostoken new zealand end rohit sharma led indi...   \n",
       "3  sostoken aegon life iterm insurance plan helps...   \n",
       "4  sostoken have known hirani for yrs what if met...   \n",
       "\n",
       "                                      decoder_target  \n",
       "0  upgrad learner switches to career in ml al wit...  \n",
       "1  delhi techie wins free food from swiggy for on...  \n",
       "2  new zealand end rohit sharma led india match w...  \n",
       "3  aegon life iterm insurance plan helps customer...  \n",
       "4  have known hirani for yrs what if metoo claims...  "
      ]
     },
     "execution_count": 14,
     "metadata": {},
     "output_type": "execute_result"
    }
   ],
   "source": [
    "# 시작 및 종료 토큰 추가\n",
    "data['decoder_input'] = data['headlines'].apply(lambda x : 'sostoken '+ x)\n",
    "data['decoder_target'] = data['headlines'].apply(lambda x : x + ' eostoken')\n",
    "data.head()"
   ]
  },
  {
   "cell_type": "code",
   "execution_count": 15,
   "metadata": {},
   "outputs": [],
   "source": [
    "encoder_input = np.array(data['text']) # 인코더의 입력\n",
    "decoder_input = np.array(data['decoder_input']) # 디코더의 입력\n",
    "decoder_target = np.array(data['decoder_target']) # 디코더의 레이블"
   ]
  },
  {
   "cell_type": "code",
   "execution_count": 16,
   "metadata": {},
   "outputs": [
    {
     "name": "stdout",
     "output_type": "stream",
     "text": [
      "[73630 25049  6281 ... 36221 74522 86823]\n",
      "테스트 데이터의 수 : 19672 \n",
      "\n",
      "훈련 데이터의 개수 : 78688\n",
      "훈련 레이블의 개수 : 78688\n",
      "테스트 데이터의 개수 : 19672\n",
      "테스트 레이블의 개수 : 19672\n"
     ]
    }
   ],
   "source": [
    "# 훈련 데이터와 테스트 데이터 분리\n",
    "\n",
    "# 순서가 섞인 정수 시퀀스 (크기: encoder_input 과 같음)\n",
    "indices = np.arange(encoder_input.shape[0])\n",
    "np.random.shuffle(indices)\n",
    "print(indices)\n",
    "\n",
    "# 만들어진 정수 시퀀스로 데이터의 샘플 순서를 재정의\n",
    "encoder_input = encoder_input[indices]\n",
    "decoder_input = decoder_input[indices]\n",
    "decoder_target = decoder_target[indices]\n",
    "\n",
    "# 8:2로 테스트 데이터 수 정의\n",
    "n_of_val = int(len(encoder_input)*0.2)\n",
    "print('테스트 데이터의 수 :',n_of_val, '\\n')\n",
    "\n",
    "# 정해진 테스트 데이터 수대로 데이터 분리\n",
    "encoder_input_train = encoder_input[:-n_of_val]\n",
    "decoder_input_train = decoder_input[:-n_of_val]\n",
    "decoder_target_train = decoder_target[:-n_of_val]\n",
    "\n",
    "encoder_input_test = encoder_input[-n_of_val:]\n",
    "decoder_input_test = decoder_input[-n_of_val:]\n",
    "decoder_target_test = decoder_target[-n_of_val:]\n",
    "\n",
    "print('훈련 데이터의 개수 :', len(encoder_input_train))\n",
    "print('훈련 레이블의 개수 :',len(decoder_input_train))\n",
    "print('테스트 데이터의 개수 :',len(encoder_input_test))\n",
    "print('테스트 레이블의 개수 :',len(decoder_input_test))"
   ]
  },
  {
   "cell_type": "code",
   "execution_count": 17,
   "metadata": {},
   "outputs": [
    {
     "name": "stdout",
     "output_type": "stream",
     "text": [
      "단어 집합(vocabulary)의 크기 : 69697\n",
      "등장 빈도가 6번 이하인 희귀 단어의 수: 47505\n",
      "단어 집합에서 희귀 단어를 제외시킬 경우의 단어 집합의 크기 22192\n",
      "단어 집합에서 희귀 단어의 비율: 68.15931819160078\n",
      "전체 등장 빈도에서 희귀 단어 등장 빈도 비율: 3.4901581594438627\n"
     ]
    }
   ],
   "source": [
    "# 단어 집합 만들기\n",
    "src_tokenizer = Tokenizer() # 토크나이저 정의\n",
    "src_tokenizer.fit_on_texts(encoder_input_train) # 입력된 데이터로부터 단어 집합 생성\n",
    "\n",
    "threshold = 7\n",
    "total_cnt = len(src_tokenizer.word_index) # 단어의 수\n",
    "rare_cnt = 0 # 등장 빈도수가 threshold보다 작은 단어의 개수를 카운트\n",
    "total_freq = 0 # 훈련 데이터의 전체 단어 빈도수 총 합\n",
    "rare_freq = 0 # 등장 빈도수가 threshold보다 작은 단어의 등장 빈도수의 총 합\n",
    "\n",
    "# 단어와 빈도수의 쌍(pair)을 key와 value로 받는다.\n",
    "for key, value in src_tokenizer.word_counts.items():\n",
    "    total_freq = total_freq + value\n",
    "\n",
    "    # 단어의 등장 빈도수가 threshold보다 작으면\n",
    "    if(value < threshold):\n",
    "        rare_cnt = rare_cnt + 1\n",
    "        rare_freq = rare_freq + value\n",
    "\n",
    "print('단어 집합(vocabulary)의 크기 :',total_cnt)\n",
    "print('등장 빈도가 %s번 이하인 희귀 단어의 수: %s'%(threshold - 1, rare_cnt))\n",
    "print('단어 집합에서 희귀 단어를 제외시킬 경우의 단어 집합의 크기 %s'%(total_cnt - rare_cnt))\n",
    "print(\"단어 집합에서 희귀 단어의 비율:\", (rare_cnt / total_cnt)*100)\n",
    "print(\"전체 등장 빈도에서 희귀 단어 등장 빈도 비율:\", (rare_freq / total_freq)*100)"
   ]
  },
  {
   "cell_type": "code",
   "execution_count": 18,
   "metadata": {},
   "outputs": [],
   "source": [
    "src_vocab = 8000\n",
    "src_tokenizer = Tokenizer(num_words = src_vocab) # 단어 집합의 크기를 8,000으로 제한\n",
    "src_tokenizer.fit_on_texts(encoder_input_train) # 단어 집합 재생성"
   ]
  },
  {
   "cell_type": "code",
   "execution_count": 19,
   "metadata": {},
   "outputs": [
    {
     "name": "stdout",
     "output_type": "stream",
     "text": [
      "[[952, 21, 55, 176, 66, 4508, 1168, 5, 403, 2198, 16, 125, 43, 2715, 7918, 304, 6325, 7918, 304, 1488, 7560, 873, 117, 1225, 403, 1, 66], [3566, 3031, 142, 341, 75, 256, 3139, 4438, 592, 4536, 2795, 174, 127, 3314, 2437, 2057, 81, 5295, 1183, 1077, 33, 675, 17, 6893, 2365, 6011, 3360, 3373, 406, 6726, 5847, 75, 17, 592, 1], [3, 13, 38, 265, 3721, 178, 82, 3819, 89, 53, 6470, 63, 7678, 7561, 26, 9, 7919, 608, 921, 1045, 6, 89, 63, 618, 4254, 3511, 2336, 570, 387]]\n"
     ]
    }
   ],
   "source": [
    "# 텍스트 시퀀스를 정수 시퀀스로 변환\n",
    "encoder_input_train = src_tokenizer.texts_to_sequences(encoder_input_train) \n",
    "encoder_input_test = src_tokenizer.texts_to_sequences(encoder_input_test)\n",
    "\n",
    "#잘 진행되었는지 샘플 출력\n",
    "print(encoder_input_train[:3])"
   ]
  },
  {
   "cell_type": "code",
   "execution_count": 20,
   "metadata": {},
   "outputs": [],
   "source": [
    "tar_tokenizer = Tokenizer()\n",
    "tar_tokenizer.fit_on_texts(decoder_input_train)"
   ]
  },
  {
   "cell_type": "code",
   "execution_count": 21,
   "metadata": {},
   "outputs": [
    {
     "name": "stdout",
     "output_type": "stream",
     "text": [
      "단어 집합(vocabulary)의 크기 : 30040\n",
      "등장 빈도가 5번 이하인 희귀 단어의 수: 19606\n",
      "단어 집합에서 희귀 단어를 제외시킬 경우의 단어 집합의 크기 10434\n",
      "단어 집합에서 희귀 단어의 비율: 65.26631158455393\n",
      "전체 등장 빈도에서 희귀 단어 등장 빈도 비율: 4.618214295406828\n"
     ]
    }
   ],
   "source": [
    "threshold = 6\n",
    "total_cnt = len(tar_tokenizer.word_index) # 단어의 수\n",
    "rare_cnt = 0 # 등장 빈도수가 threshold보다 작은 단어의 개수를 카운트\n",
    "total_freq = 0 # 훈련 데이터의 전체 단어 빈도수 총 합\n",
    "rare_freq = 0 # 등장 빈도수가 threshold보다 작은 단어의 등장 빈도수의 총 합\n",
    "\n",
    "# 단어와 빈도수의 쌍(pair)을 key와 value로 받는다.\n",
    "for key, value in tar_tokenizer.word_counts.items():\n",
    "    total_freq = total_freq + value\n",
    "\n",
    "    # 단어의 등장 빈도수가 threshold보다 작으면\n",
    "    if(value < threshold):\n",
    "        rare_cnt = rare_cnt + 1\n",
    "        rare_freq = rare_freq + value\n",
    "\n",
    "print('단어 집합(vocabulary)의 크기 :',total_cnt)\n",
    "print('등장 빈도가 %s번 이하인 희귀 단어의 수: %s'%(threshold - 1, rare_cnt))\n",
    "print('단어 집합에서 희귀 단어를 제외시킬 경우의 단어 집합의 크기 %s'%(total_cnt - rare_cnt))\n",
    "print(\"단어 집합에서 희귀 단어의 비율:\", (rare_cnt / total_cnt)*100)\n",
    "print(\"전체 등장 빈도에서 희귀 단어 등장 빈도 비율:\", (rare_freq / total_freq)*100)"
   ]
  },
  {
   "cell_type": "code",
   "execution_count": 22,
   "metadata": {},
   "outputs": [
    {
     "name": "stdout",
     "output_type": "stream",
     "text": [
      "input\n",
      "input  [[1, 389, 388, 77, 6, 13, 305, 712, 29], [1, 200, 1879, 707, 6, 332], [1, 12, 8, 1009, 3, 441, 128], [1, 131, 388, 44, 479, 4, 64, 12, 53], [1, 3, 623, 101, 602, 5, 1009]]\n",
      "target\n",
      "decoder  [[389, 388, 77, 6, 13, 305, 712, 29, 2], [200, 1879, 707, 6, 332, 2], [12, 8, 1009, 3, 441, 128, 2], [131, 388, 44, 479, 4, 64, 12, 53, 2], [3, 623, 101, 602, 5, 1009, 2]]\n"
     ]
    }
   ],
   "source": [
    "tar_vocab = 2000\n",
    "tar_tokenizer = Tokenizer(num_words = tar_vocab) \n",
    "tar_tokenizer.fit_on_texts(decoder_input_train)\n",
    "tar_tokenizer.fit_on_texts(decoder_target_train)\n",
    "\n",
    "# 텍스트 시퀀스를 정수 시퀀스로 변환\n",
    "decoder_input_train = tar_tokenizer.texts_to_sequences(decoder_input_train) \n",
    "decoder_target_train = tar_tokenizer.texts_to_sequences(decoder_target_train)\n",
    "decoder_input_test = tar_tokenizer.texts_to_sequences(decoder_input_test)\n",
    "decoder_target_test = tar_tokenizer.texts_to_sequences(decoder_target_test)\n",
    "\n",
    "#잘 변환되었는지 확인\n",
    "print('input')\n",
    "print('input ',decoder_input_train[:5])\n",
    "print('target')\n",
    "print('decoder ',decoder_target_train[:5])"
   ]
  },
  {
   "cell_type": "code",
   "execution_count": 23,
   "metadata": {},
   "outputs": [
    {
     "name": "stdout",
     "output_type": "stream",
     "text": [
      "삭제할 훈련 데이터의 개수 : 10\n",
      "삭제할 테스트 데이터의 개수 : 4\n",
      "훈련 데이터의 개수 : 78678\n",
      "훈련 레이블의 개수 : 78678\n",
      "테스트 데이터의 개수 : 19668\n",
      "테스트 레이블의 개수 : 19668\n"
     ]
    }
   ],
   "source": [
    "drop_train = [index for index, sentence in enumerate(decoder_input_train) if len(sentence) == 1]\n",
    "drop_test = [index for index, sentence in enumerate(decoder_input_test) if len(sentence) == 1]\n",
    "\n",
    "print('삭제할 훈련 데이터의 개수 :',len(drop_train))\n",
    "print('삭제할 테스트 데이터의 개수 :',len(drop_test))\n",
    "\n",
    "encoder_input_train = np.delete(encoder_input_train, drop_train, axis=0)\n",
    "decoder_input_train = np.delete(decoder_input_train, drop_train, axis=0)\n",
    "decoder_target_train = np.delete(decoder_target_train, drop_train, axis=0)\n",
    "\n",
    "encoder_input_test = np.delete(encoder_input_test, drop_test, axis=0)\n",
    "decoder_input_test = np.delete(decoder_input_test, drop_test, axis=0)\n",
    "decoder_target_test = np.delete(decoder_target_test, drop_test, axis=0)\n",
    "\n",
    "print('훈련 데이터의 개수 :', len(encoder_input_train))\n",
    "print('훈련 레이블의 개수 :',len(decoder_input_train))\n",
    "print('테스트 데이터의 개수 :',len(encoder_input_test))\n",
    "print('테스트 레이블의 개수 :',len(decoder_input_test))"
   ]
  },
  {
   "cell_type": "code",
   "execution_count": 24,
   "metadata": {},
   "outputs": [],
   "source": [
    "# 패딩\n",
    "encoder_input_train = pad_sequences(encoder_input_train, maxlen = text_max_len, padding='post')\n",
    "encoder_input_test = pad_sequences(encoder_input_test, maxlen = text_max_len, padding='post')\n",
    "decoder_input_train = pad_sequences(decoder_input_train, maxlen = headlines_max_len, padding='post')\n",
    "decoder_target_train = pad_sequences(decoder_target_train, maxlen = headlines_max_len, padding='post')\n",
    "decoder_input_test = pad_sequences(decoder_input_test, maxlen = headlines_max_len, padding='post')\n",
    "decoder_target_test = pad_sequences(decoder_target_test, maxlen = headlines_max_len, padding='post')"
   ]
  },
  {
   "cell_type": "markdown",
   "metadata": {},
   "source": [
    "## 어텐션 매커니즘 사용하기 (추상적 요약)\n",
    "* 모델 학습 후 그래프를 살펴보니 test 그래프 (주황색) 가 대략 10th epoch 이후 일정한 값으로 수렴하고 있다. 이에 따라 임의로 설정한 50 epochs가 다 돌지 않고 26th epoch에서 early stopped 됐다."
   ]
  },
  {
   "cell_type": "code",
   "execution_count": 25,
   "metadata": {},
   "outputs": [],
   "source": [
    "# 모델 설계하기\n",
    "\n",
    "# 인코더 설계 시작\n",
    "embedding_dim = 128\n",
    "hidden_size = 256\n",
    "\n",
    "# 인코더\n",
    "encoder_inputs = Input(shape=(text_max_len,))\n",
    "\n",
    "# 인코더의 임베딩 층\n",
    "enc_emb = Embedding(src_vocab, embedding_dim)(encoder_inputs)\n",
    "\n",
    "# 인코더의 LSTM 1\n",
    "encoder_lstm1 = LSTM(hidden_size, return_sequences=True, return_state=True ,dropout = 0.4, recurrent_dropout = 0.0) # 0.4 -> 0.0\n",
    "encoder_output1, state_h1, state_c1 = encoder_lstm1(enc_emb)\n",
    "\n",
    "# 인코더의 LSTM 2\n",
    "encoder_lstm2 = LSTM(hidden_size, return_sequences=True, return_state=True, dropout=0.4, recurrent_dropout=0.0) # 0.4 -> 0.0\n",
    "encoder_output2, state_h2, state_c2 = encoder_lstm2(encoder_output1)\n",
    "\n",
    "# 인코더의 LSTM 3\n",
    "encoder_lstm3 = LSTM(hidden_size, return_state=True, return_sequences=True, dropout=0.4, recurrent_dropout=0.0) # 0.4 -> 0.0\n",
    "encoder_outputs, state_h, state_c= encoder_lstm3(encoder_output2)"
   ]
  },
  {
   "cell_type": "code",
   "execution_count": 26,
   "metadata": {},
   "outputs": [],
   "source": [
    "decoder_inputs = Input(shape=(None,))\n",
    "\n",
    "# 디코더의 임베딩 층\n",
    "dec_emb_layer = Embedding(tar_vocab, embedding_dim)\n",
    "dec_emb = dec_emb_layer(decoder_inputs)\n",
    "\n",
    "# 디코더의 LSTM\n",
    "decoder_lstm = LSTM(hidden_size, return_sequences = True, return_state = True, dropout = 0.4, recurrent_dropout=0.0) # 0.2 -> 0.0\n",
    "decoder_outputs, _, _ = decoder_lstm(dec_emb, initial_state = [state_h, state_c])\n",
    "\n",
    "# 디코더의 출력층\n",
    "decoder_softmax_layer = Dense(tar_vocab, activation = 'softmax')\n",
    "decoder_softmax_outputs = decoder_softmax_layer(decoder_outputs) "
   ]
  },
  {
   "cell_type": "code",
   "execution_count": 27,
   "metadata": {},
   "outputs": [
    {
     "name": "stdout",
     "output_type": "stream",
     "text": [
      "Model: \"functional_1\"\n",
      "__________________________________________________________________________________________________\n",
      "Layer (type)                    Output Shape         Param #     Connected to                     \n",
      "==================================================================================================\n",
      "input_1 (InputLayer)            [(None, 42)]         0                                            \n",
      "__________________________________________________________________________________________________\n",
      "embedding (Embedding)           (None, 42, 128)      1024000     input_1[0][0]                    \n",
      "__________________________________________________________________________________________________\n",
      "lstm (LSTM)                     [(None, 42, 256), (N 394240      embedding[0][0]                  \n",
      "__________________________________________________________________________________________________\n",
      "input_2 (InputLayer)            [(None, None)]       0                                            \n",
      "__________________________________________________________________________________________________\n",
      "lstm_1 (LSTM)                   [(None, 42, 256), (N 525312      lstm[0][0]                       \n",
      "__________________________________________________________________________________________________\n",
      "embedding_1 (Embedding)         (None, None, 128)    256000      input_2[0][0]                    \n",
      "__________________________________________________________________________________________________\n",
      "lstm_2 (LSTM)                   [(None, 42, 256), (N 525312      lstm_1[0][0]                     \n",
      "__________________________________________________________________________________________________\n",
      "lstm_3 (LSTM)                   [(None, None, 256),  394240      embedding_1[0][0]                \n",
      "                                                                 lstm_2[0][1]                     \n",
      "                                                                 lstm_2[0][2]                     \n",
      "__________________________________________________________________________________________________\n",
      "attention_layer (AttentionLayer ((None, None, 256),  131328      lstm_2[0][0]                     \n",
      "                                                                 lstm_3[0][0]                     \n",
      "__________________________________________________________________________________________________\n",
      "concat_layer (Concatenate)      (None, None, 512)    0           lstm_3[0][0]                     \n",
      "                                                                 attention_layer[0][0]            \n",
      "__________________________________________________________________________________________________\n",
      "dense_1 (Dense)                 (None, None, 2000)   1026000     concat_layer[0][0]               \n",
      "==================================================================================================\n",
      "Total params: 4,276,432\n",
      "Trainable params: 4,276,432\n",
      "Non-trainable params: 0\n",
      "__________________________________________________________________________________________________\n"
     ]
    }
   ],
   "source": [
    "# 어텐션 층(어텐션 함수)\n",
    "attn_layer = AttentionLayer(name='attention_layer')\n",
    "# 인코더와 디코더의 모든 time step의 hidden state를 어텐션 층에 전달하고 결과를 리턴\n",
    "attn_out, attn_states = attn_layer([encoder_outputs, decoder_outputs])\n",
    "\n",
    "# 어텐션의 결과와 디코더의 hidden state들을 연결\n",
    "decoder_concat_input = Concatenate(axis = -1, name='concat_layer')([decoder_outputs, attn_out])\n",
    "\n",
    "# 디코더의 출력층\n",
    "decoder_softmax_layer = Dense(tar_vocab, activation='softmax')\n",
    "decoder_softmax_outputs = decoder_softmax_layer(decoder_concat_input)\n",
    "\n",
    "# 모델 정의\n",
    "model = Model([encoder_inputs, decoder_inputs], decoder_softmax_outputs)\n",
    "model.summary()"
   ]
  },
  {
   "cell_type": "code",
   "execution_count": 28,
   "metadata": {},
   "outputs": [
    {
     "name": "stdout",
     "output_type": "stream",
     "text": [
      "Epoch 1/50\n",
      "308/308 [==============================] - 27s 88ms/step - loss: 4.2093 - val_loss: 3.8895\n",
      "Epoch 2/50\n",
      "308/308 [==============================] - 26s 85ms/step - loss: 3.7168 - val_loss: 3.5450\n",
      "Epoch 3/50\n",
      "308/308 [==============================] - 26s 85ms/step - loss: 3.4094 - val_loss: 3.3191\n",
      "Epoch 4/50\n",
      "308/308 [==============================] - 26s 86ms/step - loss: 3.1966 - val_loss: 3.1467\n",
      "Epoch 5/50\n",
      "308/308 [==============================] - 26s 86ms/step - loss: 3.0417 - val_loss: 3.0404\n",
      "Epoch 6/50\n",
      "308/308 [==============================] - 27s 88ms/step - loss: 2.9181 - val_loss: 2.9443\n",
      "Epoch 7/50\n",
      "308/308 [==============================] - 27s 86ms/step - loss: 2.8142 - val_loss: 2.8816\n",
      "Epoch 8/50\n",
      "308/308 [==============================] - 27s 87ms/step - loss: 2.7260 - val_loss: 2.8188\n",
      "Epoch 9/50\n",
      "308/308 [==============================] - 27s 87ms/step - loss: 2.6483 - val_loss: 2.7777\n",
      "Epoch 10/50\n",
      "308/308 [==============================] - 27s 87ms/step - loss: 2.5796 - val_loss: 2.7449\n",
      "Epoch 11/50\n",
      "308/308 [==============================] - 27s 88ms/step - loss: 2.5183 - val_loss: 2.7063\n",
      "Epoch 12/50\n",
      "308/308 [==============================] - 27s 87ms/step - loss: 2.4613 - val_loss: 2.6885\n",
      "Epoch 13/50\n",
      "308/308 [==============================] - 27s 87ms/step - loss: 2.4109 - val_loss: 2.6661\n",
      "Epoch 14/50\n",
      "308/308 [==============================] - 27s 88ms/step - loss: 2.3647 - val_loss: 2.6516\n",
      "Epoch 15/50\n",
      "308/308 [==============================] - 27s 88ms/step - loss: 2.3219 - val_loss: 2.6302\n",
      "Epoch 16/50\n",
      "308/308 [==============================] - 27s 88ms/step - loss: 2.2802 - val_loss: 2.6252\n",
      "Epoch 17/50\n",
      "308/308 [==============================] - 27s 88ms/step - loss: 2.2433 - val_loss: 2.6121\n",
      "Epoch 18/50\n",
      "308/308 [==============================] - 27s 88ms/step - loss: 2.2084 - val_loss: 2.6053\n",
      "Epoch 19/50\n",
      "308/308 [==============================] - 27s 88ms/step - loss: 2.1757 - val_loss: 2.6043\n",
      "Epoch 20/50\n",
      "308/308 [==============================] - 27s 88ms/step - loss: 2.1443 - val_loss: 2.5973\n",
      "Epoch 21/50\n",
      "308/308 [==============================] - 27s 87ms/step - loss: 2.1144 - val_loss: 2.5964\n",
      "Epoch 22/50\n",
      "308/308 [==============================] - 27s 88ms/step - loss: 2.0869 - val_loss: 2.5946\n",
      "Epoch 23/50\n",
      "308/308 [==============================] - 27s 88ms/step - loss: 2.0607 - val_loss: 2.6007\n",
      "Epoch 24/50\n",
      "308/308 [==============================] - 27s 88ms/step - loss: 2.0362 - val_loss: 2.5943\n",
      "Epoch 25/50\n",
      "308/308 [==============================] - 27s 88ms/step - loss: 2.0108 - val_loss: 2.5978\n",
      "Epoch 26/50\n",
      "308/308 [==============================] - 27s 89ms/step - loss: 1.9893 - val_loss: 2.5990\n",
      "Epoch 00026: early stopping\n"
     ]
    }
   ],
   "source": [
    "# 모델 훈련하기\n",
    "model.compile(optimizer='rmsprop', loss='sparse_categorical_crossentropy')\n",
    "es = EarlyStopping(monitor='val_loss', mode='min', verbose=1, patience = 2)\n",
    "history = model.fit(x = [encoder_input_train, decoder_input_train], y = decoder_target_train, \\\n",
    "          validation_data = ([encoder_input_test, decoder_input_test], decoder_target_test),\n",
    "          batch_size = 256, callbacks=[es], epochs = 50)"
   ]
  },
  {
   "cell_type": "code",
   "execution_count": 29,
   "metadata": {},
   "outputs": [
    {
     "data": {
      "image/png": "[encoded data removed]",
      "text/plain": [
       "<Figure size 432x288 with 1 Axes>"
      ]
     },
     "metadata": {
      "needs_background": "light"
     },
     "output_type": "display_data"
    }
   ],
   "source": [
    "plt.plot(history.history['loss'], label='train')\n",
    "plt.plot(history.history['val_loss'], label='test')\n",
    "plt.legend()\n",
    "plt.show()"
   ]
  },
  {
   "cell_type": "code",
   "execution_count": 30,
   "metadata": {},
   "outputs": [],
   "source": [
    "src_index_to_word = src_tokenizer.index_word # 원문 단어 집합에서 정수 -> 단어를 얻음\n",
    "tar_word_to_index = tar_tokenizer.word_index # 요약 단어 집합에서 단어 -> 정수를 얻음\n",
    "tar_index_to_word = tar_tokenizer.index_word # 요약 단어 집합에서 정수 -> 단어를 얻음\n",
    "\n",
    "# 인코더 설계\n",
    "encoder_model = Model(inputs=encoder_inputs, outputs=[encoder_outputs, state_h, state_c])\n",
    "\n",
    "# 이전 시점의 상태들을 저장하는 텐서\n",
    "decoder_state_input_h = Input(shape=(hidden_size,))\n",
    "decoder_state_input_c = Input(shape=(hidden_size,))\n",
    "\n",
    "dec_emb2 = dec_emb_layer(decoder_inputs)\n",
    "# 문장의 다음 단어를 예측하기 위해서 초기 상태(initial_state)를 이전 시점의 상태로 사용. 이는 뒤의 함수 decode_sequence()에 구현\n",
    "# 훈련 과정에서와 달리 LSTM의 리턴하는 은닉 상태와 셀 상태인 state_h와 state_c를 버리지 않음.\n",
    "decoder_outputs2, state_h2, state_c2 = decoder_lstm(dec_emb2, initial_state=[decoder_state_input_h, decoder_state_input_c])\n",
    "\n",
    "# 어텐션 함수\n",
    "decoder_hidden_state_input = Input(shape=(text_max_len, hidden_size))\n",
    "attn_out_inf, attn_states_inf = attn_layer([decoder_hidden_state_input, decoder_outputs2])\n",
    "decoder_inf_concat = Concatenate(axis=-1, name='concat')([decoder_outputs2, attn_out_inf])\n",
    "\n",
    "# 디코더의 출력층\n",
    "decoder_outputs2 = decoder_softmax_layer(decoder_inf_concat) \n",
    "\n",
    "# 최종 디코더 모델\n",
    "decoder_model = Model(\n",
    "    [decoder_inputs] + [decoder_hidden_state_input,decoder_state_input_h, decoder_state_input_c],\n",
    "    [decoder_outputs2] + [state_h2, state_c2])"
   ]
  },
  {
   "cell_type": "code",
   "execution_count": 31,
   "metadata": {},
   "outputs": [],
   "source": [
    "def decode_sequence(input_seq):\n",
    "    # 입력으로부터 인코더의 상태를 얻음\n",
    "    e_out, e_h, e_c = encoder_model.predict(input_seq)\n",
    "\n",
    "     # <SOS>에 해당하는 토큰 생성\n",
    "    target_seq = np.zeros((1,1))\n",
    "    target_seq[0, 0] = tar_word_to_index['sostoken']\n",
    "\n",
    "    stop_condition = False\n",
    "    decoded_sentence = ''\n",
    "    while not stop_condition: # stop_condition이 True가 될 때까지 루프 반복\n",
    "\n",
    "        output_tokens, h, c = decoder_model.predict([target_seq] + [e_out, e_h, e_c])\n",
    "        sampled_token_index = np.argmax(output_tokens[0, -1, :])\n",
    "        sampled_token = tar_index_to_word[sampled_token_index]\n",
    "\n",
    "        if(sampled_token!='eostoken'):\n",
    "            decoded_sentence += ' '+sampled_token\n",
    "\n",
    "        #  <eos>에 도달하거나 최대 길이를 넘으면 중단.\n",
    "        if (sampled_token == 'eostoken'  or len(decoded_sentence.split()) >= (headlines_max_len-1)):\n",
    "            stop_condition = True\n",
    "\n",
    "        # 길이가 1인 타겟 시퀀스를 업데이트\n",
    "        target_seq = np.zeros((1,1))\n",
    "        target_seq[0, 0] = sampled_token_index\n",
    "\n",
    "        # 상태를 업데이트 합니다.\n",
    "        e_h, e_c = h, c\n",
    "\n",
    "    return decoded_sentence"
   ]
  },
  {
   "cell_type": "markdown",
   "metadata": {},
   "source": [
    "## 실제 결과와 요약문 비교하기 (추상적 요약)\n",
    "* 50개의 샘플로 추상적 요약 결과를 실제 요약 (headline) 과 비교해본 결과 정확도가 떨어져 보였다. 원문의 주요한 단어들을 뽑아냈지만, 전반적으로 headline에 비해 원문의 내용을 한 눈에 이해하기는 어려운 요약 결과들이 대부분이었다.   \n",
    "   \n",
    "   \n",
    "* 모델의 정확도가 떨어지는 것으로 추정된다. 예측 요약 결과를 지나치게 짧게 추출한 것도 요인이 아닐까 싶다."
   ]
  },
  {
   "cell_type": "code",
   "execution_count": 32,
   "metadata": {},
   "outputs": [],
   "source": [
    "# 원문의 정수 시퀀스를 텍스트 시퀀스로 변환\n",
    "def seq2text(input_seq):\n",
    "    temp=''\n",
    "    for i in input_seq:\n",
    "        if(i!=0):\n",
    "            temp = temp + src_index_to_word[i]+' '\n",
    "    return temp\n",
    "\n",
    "# 요약문의 정수 시퀀스를 텍스트 시퀀스로 변환\n",
    "def seq2summary(input_seq):\n",
    "    temp=''\n",
    "    for i in input_seq:\n",
    "        if((i!=0 and i!=tar_word_to_index['sostoken']) and i!=tar_word_to_index['eostoken']):\n",
    "            temp = temp + tar_index_to_word[i] + ' '\n",
    "    return temp"
   ]
  },
  {
   "cell_type": "code",
   "execution_count": 33,
   "metadata": {
    "scrolled": false
   },
   "outputs": [
    {
     "name": "stdout",
     "output_type": "stream",
     "text": [
      "원문 : chris starrer superhero film galaxy merit wrote hindustan times movie ability exist science fiction story strongest point said times india ndtv wrote film designed rated ndtv \n",
      "실제 요약 : of the on its own review \n",
      "예측 요약 :  chris hits the theatres\n",
      "\n",
      "\n",
      "원문 : commerce giant amazon recalled lakh power banks us citing battery pose fire burn amazon received reports country including one report chemical burns due contact battery acid amazon also offering refund affected customers \n",
      "실제 요약 : amazon recalls lakh power banks in us over fire \n",
      "예측 요약 :  amazon to pay billion to\n",
      "\n",
      "\n",
      "원문 : following demise former prime minister atal bihari vajpayee rajinikanth tweeted hear demise great shri vajpayee ji may soul rest peace titan departed wrote singer music director vishal hai mere ji ke ke tha wrote \n",
      "실제 요약 : by of great rajinikanth on vajpayee \n",
      "예측 요약 :  vajpayee was to late pm vajpayee\n",
      "\n",
      "\n",
      "원문 : ram gopal varma offered reward lakh television employee named rohit able trace andhra pradesh chief minister chandrababu naidu shared video social media asked help track man wanted naidu upcoming film lakshmi nnn \n",
      "실제 요약 : offers lakh to man who found andhra cm \n",
      "예측 요약 :  offers reward for info on assam cm\n",
      "\n",
      "\n",
      "원문 : barcelona recovered champions league stage exit setting match unbeaten record la liga win saturday win set goals luis barcelona points clear top points ahead rivals fourth placed real madrid \n",
      "실제 요약 : bar go for straight games set record \n",
      "예측 요약 :  barcelona man city to league title\n",
      "\n",
      "\n",
      "원문 : sanya malhotra play vidya balan daughter upcoming biopic devi per reports reportedly vidya second biopic play lead film dirty picture based silk life vidya last seen rama rao biopic played wife \n",
      "실제 요약 : to play daughter in biopic report \n",
      "예측 요약 :  to star in biopic reports\n",
      "\n",
      "\n",
      "원문 : maharashtra court sentenced year old man life imprisonment raping minor girl multiple times fine also imposed convict july convict allegedly victim drinks raped house later different occasions assaulted threatening \n",
      "실제 요약 : year old man awarded life for raping minor \n",
      "예측 요약 :  man gets life term for raping minor girl\n",
      "\n",
      "\n",
      "원문 : siblings abandoned families separated time adoption five years age agree union minister maneka gandhi said tuesday central adoption resource authority placed siblings family except rare cases \n",
      "실제 요약 : can be during if they govt \n",
      "예측 요약 :  to get back in years\n",
      "\n",
      "\n",
      "원문 : jupiter great red spot big enough three years growing nasa discovered first confirmed solar system largest storm continuous records maintained since currently big enough accommodate one earth said nasa \n",
      "실제 요약 : great red spot getting as it nasa \n",
      "예측 요약 :  earth was the of the nasa\n",
      "\n",
      "\n",
      "원문 : wishing indian coast guard st foundation day pm narendra modi thursday tweeted indian coast guard serving nation great guard also help protect maritime environment added indian coast guard mission assist life property sea \n",
      "실제 요약 : pm modi wishes indian on its day \n",
      "예측 요약 :  pm modi to work together on india\n",
      "\n",
      "\n",
      "원문 : reacting ongoing controversy surrounding kapil sharma said people want career destroyed spread whatever lies want know new people success added kapil recently abused editor accused starting false propaganda \n",
      "실제 요약 : people can know what am doing kapil sharma \n",
      "예측 요약 :  people are not on kapil\n",
      "\n",
      "\n",
      "원문 : trump calls india true friend wells us principal deputy assistant secretary south central asian affairs said state secretary mike pompeo considers us india bilateral relationship one deeply bound shared values added wells remarks came farewell reception hosted honour outgoing indian ambassador us \n",
      "실제 요약 : trump calls india friend us official \n",
      "예측 요약 :  us india of india ex envoy india\n",
      "\n",
      "\n",
      "원문 : nagpur set become country first city get fleet electric pilot project see around electric nagpur local body also provide charging stations across city centre currently runs faster adoption manufacturing electric vehicles scheme aims go completely electric \n",
      "실제 요약 : to become st indian city to have electric \n",
      "예측 요약 :  becomes st indian to get its first car\n",
      "\n",
      "\n",
      "원문 : video showing policemen thrashing pulling hair two girl students protesting bjp president amit shah rally allahabad surfaced online video girls first seen black flags trying block shah later policemen seen taking jeep hitting pulling hair \n",
      "실제 요약 : cops girls hair for against shah rally \n",
      "예측 요약 :  video shows cops hair in bjp at rally\n",
      "\n",
      "\n",
      "원문 : royal company director hinted william could added considered proper times possibly men added wrote cycle published addressed man woman \n",
      "실제 요약 : director at for men \n",
      "예측 요약 :  is not to be\n",
      "\n",
      "\n",
      "원문 : hollywood actress said felt guilty wrong announcement la la land best picture year oscars presented award actor warren added thought could done something said felt showed nn nn \n",
      "실제 요약 : very guilty about the best picture up \n",
      "예측 요약 :  actress on award\n",
      "\n",
      "\n",
      "원문 : pakistan government friday announced ease travel restrictions bid revive tourism information minister hussain calling country tourists pakistan grant visa arrival citizens countries provide electronic visas new rules would also ease travel restrictions foreign journalists hussain said \n",
      "실제 요약 : pakistan visa rules calls for tourists \n",
      "예측 요약 :  pak to launch visa for citizens\n",
      "\n",
      "\n",
      "원문 : actor aamir khan donated lakh chief minister relief fund relief operations flood victims bihar earlier aamir appealed people help bihar flood victims state government relief fund notably floods bihar affected crore people districts state \n",
      "실제 요약 : aamir khan donates lakh to help bihar flood victims \n",
      "예측 요약 :  aamir donates lakh relief fund for flood relief\n",
      "\n",
      "\n",
      "원문 : saint louis university us offering people would exposed flu virus study university converted part campus hotel research hub dubbed hotel volunteers would access meals internet tv private day stay \n",
      "실제 요약 : people to get to stay at hotel get \n",
      "예측 요약 :  us to probe into\n",
      "\n",
      "\n",
      "원문 : indian transgender asked former us president barack obama raise voice criminal according section indian penal code obama encouraged views said tell experiences story people might start experiences see humanity \n",
      "실제 요약 : obama to indian transgender who said am criminal \n",
      "예측 요약 :  us asks obama to prevent\n",
      "\n",
      "\n",
      "원문 : thousands people sang never walk alone evacuated festival arena germany suspected terror threat friday rock ring festival evacuated police received concrete leads possible terror attack days terrorist killed people concert \n",
      "실제 요약 : event guests you will never walk over terror threat \n",
      "예측 요약 :  of philippine city bomb bomb\n",
      "\n",
      "\n",
      "원문 : people arrested turkish security forces wearing white shirt word hero written block letters turkey shirt sign support us based cleric allegedly attempted last year failed military coup tried president tayyip recep \n",
      "실제 요약 : turkey arrests people for wearing \n",
      "예측 요약 :  held for wearing in us\n",
      "\n",
      "\n",
      "원문 : smashing two sixes second odi australia adelaide tuesday india opener rohit sharma broke world record hitting sixes opponent international cricket across formats year old hit sixes australia overtook windies chris gayle slammed sixes england \n",
      "실제 요약 : rohit sets world record for most against an \n",
      "예측 요약 :  hit ton as runs in balls to score ton\n",
      "\n",
      "\n",
      "원문 : many one killed country since ministry environment revealed rti reply around arrested since crime reply stated maximum number killings one reported assam \n",
      "실제 요약 : one killed since held rti \n",
      "예측 요약 :  killed in in\n",
      "\n",
      "\n",
      "원문 : picture british man stuck mud gone viral friend noticed snapchat new maps feature showed cartoon giving two water man attempting photograph liverpool got stuck rescued maps feature lets users track friends \n",
      "실제 요약 : man stuck in goes viral after snapchat shows him \n",
      "예측 요약 :  man saves from train goes viral\n",
      "\n",
      "\n",
      "원문 : indian air force cleared national highways named proposal convert highways also serve emergency landing enable rescue teams reach affected areas easily reports said highways blocked used aircraft landing remain open public otherwise official said \n",
      "실제 요약 : national to as emergency landing \n",
      "예측 요약 :  iaf to make emergency emergency due to\n",
      "\n",
      "\n",
      "원문 : dutch boat carries abortion women international waters near countries abortion banned restricted coast mexico non profit group women waves operates boat said required previously visited waters ireland poland expelled without performing single abortion \n",
      "실제 요약 : reaches of mexico \n",
      "예측 요약 :  women bans in\n",
      "\n",
      "\n",
      "원문 : michael met children live different parts world together first time children range age chose anonymous children started loved immediately met said \n",
      "실제 요약 : meets all his children together \n"
     ]
    },
    {
     "name": "stdout",
     "output_type": "stream",
     "text": [
      "예측 요약 :  video of children in\n",
      "\n",
      "\n",
      "원문 : batsman named man tournament recently concluded asia cup used sell puri living felt friend caught selling stop today added days always remember try stay keep working hard said \n",
      "실제 요약 : asia cup best player sold for living \n",
      "예측 요약 :  man who sold to sell for asia cup\n",
      "\n",
      "\n",
      "원문 : responding opposition remarks government prepare deal pakistan external affairs minister sushma swaraj said day stop terror talks start added government prepared peace friendship things pakistan pm nawaz sharif declared hizbul terrorist wani \n",
      "실제 요약 : with pak will start the day it stops terror swaraj \n",
      "예측 요약 :  pak govt talks cannot stop terrorism pak\n",
      "\n",
      "\n",
      "원문 : pay merchant discount rate banks debit cards upi aadhaar based transactions january rate charged merchant bank providing debit credit card services charges government banks next two years \n",
      "실제 요약 : no charges on card payments of up to from now \n",
      "예측 요약 :  banks to pay credit card for not\n",
      "\n",
      "\n",
      "원문 : bjp leader monday filed plea supreme court seeking minority status hindus seven states union territory plea stated even though hindus minority states benefits meant enjoyed majority communities present \n",
      "실제 요약 : plea for status for hindus in states filed in sc \n",
      "예측 요약 :  bjp leader moves sc against centre for\n",
      "\n",
      "\n",
      "원문 : actress anushka sharma took social media wish husband team india captain virat kohli occasion th birthday monday anushka shared two pictures kohli wrote thank god birth duo tied knot december last year celebrating kohli birthday \n",
      "실제 요약 : god for his birth anushka on husband virat th birthday \n",
      "예측 요약 :  anushka sharma wish virat kohli on his birthday\n",
      "\n",
      "\n",
      "원문 : twenty three time grand slam champion serena williams revealed named daughter alexis australian open title serena tournament eight weeks pregnant tweeted fun fact daughter open serena learned pregnancy two days tournament \n",
      "실제 요약 : serena reveals why she named daughter \n",
      "예측 요약 :  serena daughter is the only serena\n",
      "\n",
      "\n",
      "원문 : bihar chief minister nitish kumar thanked prime minister narendra modi tweet supporting decision resign congratulations nitish kumar joining fight corruption pm modi tweeted earlier today kumar submitted resignation governor nath tripathi citing crisis ruling congress rjd jd alliance \n",
      "실제 요약 : nitish kumar thanks pm modi for tweet resignation \n",
      "예측 요약 :  nitish kumar to pm modi for nitish kumar\n",
      "\n",
      "\n",
      "원문 : dog watched owner grave nearly years died argentine city carlos year old dog named refused leave even though owner son tried take home several times recently facing health issues including poor \n",
      "실제 요약 : dog for yrs dies in same \n",
      "예측 요약 :  dog dies after being declared by dog in us\n",
      "\n",
      "\n",
      "원문 : occasion social media day saturday congress tweeted video women urging pm narendra modi trolls social media singing version song let women challenged pm modi real prime minister trolls sent rape threats mothers \n",
      "실제 요약 : cong tells pm modi to trolls on social media day \n",
      "예측 요약 :  congress slams media for pm modi\n",
      "\n",
      "\n",
      "원문 : rajasthan government appeal rajasthan high court actors saif ali khan tabu sonali bendre poaching case april jodhpur court sentenced salman khan main accused case five years prison later granted bail spending two nights jail \n",
      "실제 요약 : raj govt to against saif in case \n",
      "예측 요약 :  rajasthan hc denies bail in case\n",
      "\n",
      "\n",
      "원문 : commerce giant amazon posted net income billion fourth quarter ended december largest history net sales also increased billion quarter compared billion fourth quarter amazon also posted net income billion full year \n",
      "실제 요약 : amazon posts its largest profit at billion \n",
      "예측 요약 :  amazon posts posts record loss of billion in quarter\n",
      "\n",
      "\n",
      "원문 : airasia pilot delayed kolkata flight allegedly put air full vacate plane passengers refused outside passenger said sitting inside flight one half hours without food water created scene heavy created inside plane added \n",
      "실제 요약 : pilot puts on full to make passengers leave plane \n",
      "예측 요약 :  pilot flight after being forced to\n",
      "\n",
      "\n",
      "원문 : astronomers university us discovered new sized planet solar system light years earth found kepler system discovered years ago planets long day orbit around host star astronomers said discovery made studying planet transit signals \n",
      "실제 요약 : new of \n",
      "예측 요약 :  solar system found in the sun\n",
      "\n",
      "\n",
      "원문 : former captain rahul dravid appointed india batting overseas tours bcci announced tuesday dravid would take role alongside current position coach india teams recently given two year extension dravid appointed alongside ravi shastri head coach zaheer khan bowling coach \n",
      "실제 요약 : dravid to be india for \n",
      "예측 요약 :  dravid dravid india for team india\n",
      "\n",
      "\n",
      "원문 : technology major google reportedly working ear headphones bluetooth capabilities headphones also built calls traditional audio cable listening however reports added headphones could also upgrade existing headphones google issues employees \n",
      "실제 요약 : google working on report \n",
      "예측 요약 :  google to screen\n",
      "\n",
      "\n",
      "원문 : aligarh railway station put high alert area police station officials received call threatening blow place thursday receiving threat call security around railway station premises dog squads also brought checking passengers area \n",
      "실제 요약 : railway station put on alert after bomb threat call \n",
      "예측 요약 :  mumbai police station alert after security\n",
      "\n",
      "\n",
      "원문 : shahid kapoor shraddha kapoor starrer average one time watch appeals parts wrote bollywood hungama film power heavy duty wrote times india dna wrote social drama fails rated \n",
      "실제 요약 : shahid hits the theatres \n",
      "예측 요약 :  shahid shahid starrer hits the theatres\n",
      "\n",
      "\n",
      "원문 : slamming bjp leader sushil modi party shatrughan sinha said hearing threat expelled party many years please stop threatening comes modi said sinha enemy party must removed soon tweets favour lalu prasad arvind kejriwal \n",
      "실제 요약 : stop why do not you me bjp mp \n",
      "예측 요약 :  never threat to congress leader\n",
      "\n",
      "\n",
      "원문 : commemorate women day combined innovation introduce brand new safety make riding safe women safety scooter handle accelerator easy access aimed confidence among women take charge safety \n",
      "실제 요약 : safety for the safety of women \n",
      "예측 요약 :  to be launched in women\n",
      "\n",
      "\n",
      "원문 : president pranab mukherjee friday said india become global terms gdp also terms gross national happiness along gdp considered one important factors development mukherjee added million youth entering job market adequate mukherjee said \n",
      "실제 요약 : india must to become global power of prez \n",
      "예측 요약 :  india gdp growth to gdp\n",
      "\n",
      "\n",
      "원문 : hindu parishad chief launch hindu helpline members hindu community jammu kashmir reports said expected launch initiative three day visit state starting november helpline aimed members community like accidents issues \n",
      "실제 요약 : hindu chief to launch hindu in \n",
      "예측 요약 :  hindu group to launch in\n",
      "\n",
      "\n",
      "원문 : pm narendra modi saturday took twitter thank fifa president football jersey read modi impossible come argentina think football players popular india pm modi wrote gone attend summit \n",
      "실제 요약 : pm modi thanks fifa president for modi football \n",
      "예측 요약 :  pm modi tweets user on\n",
      "\n",
      "\n"
     ]
    }
   ],
   "source": [
    "for i in range(50, 100):\n",
    "    print(\"원문 :\", seq2text(encoder_input_test[i]))\n",
    "    print(\"실제 요약 :\", seq2summary(decoder_input_test[i]))\n",
    "    print(\"예측 요약 :\", decode_sequence(encoder_input_test[i].reshape(1, text_max_len)))\n",
    "    print(\"\\n\")"
   ]
  },
  {
   "cell_type": "markdown",
   "metadata": {},
   "source": [
    "## Summa를 이용해 추출적 요약 해보기\n",
    "* 정제된 text를 재료로 시도하니 추출적 요약이 되지 않았다. 입력 문장의 길이가 일정 수준 이상 확보되어야 하는 것으로 보인다. 부득이하게 정제하지 않은 원본 데이터로 추출적 요약을 시도해봤다.   \n",
    "   \n",
    "   \n",
    "* 실제 요약 (데이터 내 headline) 과 summa를 이용한 추출적 요약의 내용은 전반적으로 크게 다르지 않았다. 다만 ratio를 실제 요약 (headline) 수준으로 낮추면 결과가 나오지 않아 길게 설정했더니, 전반적으로 좀 더 장황한 문장이 나왔다. 실제 요약에는 'Bosch' 로만 표기된 것이 추출적 요약에서는 'German multinational engineering and electronics firm Bosch' 로 수식어가 붙어 있는 식이다.   \n",
    "   \n",
    "   \n",
    "* 추출적 요약은 길이가 충분히 긴 입력 문장을 대상으로 사용해야 할 것 같다."
   ]
  },
  {
   "cell_type": "code",
   "execution_count": 38,
   "metadata": {
    "scrolled": false
   },
   "outputs": [
    {
     "name": "stdout",
     "output_type": "stream",
     "text": [
      "원문 : German multinational engineering and electronics firm Bosch has made its first investment in India in Bengaluru-based deep-tech startup SimYog. SimYog has raised about Ã¢ÂÂ¹6.3 crore in the funding round, with participation from early-stage venture capital firm Ideaspring Capital. Incubated at the Indian Institute of Science (IISc), it provides design and sign-off tools for automotive electronics.\n",
      "실제 요약 : Bosch makes its 1st India investment in IISc spinoff SimYog\n",
      "추출적 요약 : German multinational engineering and electronics firm Bosch has made its first investment in India in Bengaluru-based deep-tech startup SimYog. SimYog has raised about Ã¢ÂÂ¹6.3 crore in the funding round, with participation from early-stage venture capital firm Ideaspring Capital. \n",
      "\n",
      "원문 : Mumbai-headquartered talent technology startup Shortlist has raised $2 million in a Series A round of funding. The round was led by Blue Haven Initiative, with participation from Compass Venture Capital, Zephyr Acorn among others. Founded by Simon Desjardins, Paul Breloff and Matt Schnuck, Shortlist screens candidates using predictive chat-based interviews and online competency-based assessments.\n",
      "실제 요약 : Mumbai's talent tech startup Shortlist raises $2 million\n",
      "추출적 요약 : Mumbai-headquartered talent technology startup Shortlist has raised $2 million in a Series A round of funding. \n",
      "\n",
      "원문 : MIT engineers have developed a jelly-like ingestible pill that expands inside the stomach and can be used to monitor conditions like cancers and ulcers for up to a month. The pill, made using two types of hydrogels, is embedded with a sensor that continuously tracks the stomach's temperature. It can be removed by drinking a calcium-ion solution that shrinks it.\n",
      "실제 요약 : MIT makes pill that expands in stomach to track cancer, ulcer\n",
      "추출적 요약 : MIT engineers have developed a jelly-like ingestible pill that expands inside the stomach and can be used to monitor conditions like cancers and ulcers for up to a month. \n",
      "\n",
      "원문 : New York's Columbia University neuro-engineers claim to have developed a system that can convert human brain signals directly into speech using artificial intelligence. Researchers revealed a computer algorithm 'vocoder' was used. \"This is the same technology used by Amazon Echo and Apple Siri to give verbal responses to our questions,\" senior author of the study Nima Mesgarani said.\n",
      "실제 요약 : Brain signals converted directly into speech using AI: Study\n",
      "추출적 요약 : New York's Columbia University neuro-engineers claim to have developed a system that can convert human brain signals directly into speech using artificial intelligence. \n",
      "\n",
      "원문 : A team of IIT-Roorkee scientists is testing a floating device that can generate electricity from flowing surface water of rivers. Instead of using water falling from height to turn turbines like in traditional dams, the prototype uses velocity of flowing river, professor RP Saini said. \"Flowing water can generate hundred times more power than wind of same velocity,\" Saini added.\n",
      "실제 요약 : IIT Roorkee tests device to generate electricity from river flow\n",
      "추출적 요약 : \"Flowing water can generate hundred times more power than wind of same velocity,\" Saini added. \n",
      "\n",
      "원문 : A 22-year-old woman died after she fell down a flight of stairs in a New York City subway station while carrying her one-year-old baby in a pram. The station where she died didn't have elevators. Only about a quarter of New York City's 472 subway stations have elevators, making the rest inaccessible to people in wheelchairs and parents carrying prams.\n",
      "실제 요약 : US woman carrying baby dies after falling down stairs in subway\n",
      "추출적 요약 : Only about a quarter of New York City's 472 subway stations have elevators, making the rest inaccessible to people in wheelchairs and parents carrying prams. \n",
      "\n",
      "원문 : The country's largest fuel retailer Indian Oil Corporation on Wednesday reported a 91% year-on-year decline in its net profit at Ã¢ÂÂ¹717 crore for the December quarter. The fall in profit came amid increased expenses which stood at Ã¢ÂÂ¹1.6 lakh crore and rise in foreign exchange loss. The company's domestic sales increased 2.8% from the year-ago period to 21.545 million tonnes.\n",
      "실제 요약 : Indian Oil third-quarter profit plunges 91% to Ã¢ÂÂ¹717 crore\n",
      "추출적 요약 : The fall in profit came amid increased expenses which stood at Ã¢ÂÂ¹1.6 lakh crore and rise in foreign exchange loss. \n",
      "\n",
      "원문 : Speaking about the incident when her private pictures were leaked online, actress Hansika Motwani said, \"Certain people [said] since I anyway did bikini shoots...what's the big deal if such pictures are leaked?\" \"When I do...bikini shoot, I'm doing it out of my own choice. Here it's being circulated without...consent,\" she added. Hansika said some of the leaked pictures were morphed.\n",
      "실제 요약 : People said I did bikini shoots anyway: Hansika on private pics leak\n",
      "추출적 요약 : Speaking about the incident when her private pictures were leaked online, actress Hansika Motwani said, \"Certain people [said] since I anyway did bikini shoots...what's the big deal if such pictures are leaked?\" \"When I do...bikini shoot, I'm doing it out of my own choice. \n",
      "\n",
      "원문 : Pakistan captain Sarfaraz Ahmed has said that former fast bowler Shoaib Akhtar was not criticising but personally attacking him over the four-match ban handed to him by the ICC over his 'Abey Kaale' remark on South Africa's Andile Phehlukwayo. Akhtar had said that Sarfaraz's comments were unacceptable and that he had gotten off easily with a four-match suspension.\n",
      "실제 요약 : Akhtar not criticising but personally attacking me: Sarfaraz Ahmed\n",
      "추출적 요약 : Pakistan captain Sarfaraz Ahmed has said that former fast bowler Shoaib Akhtar was not criticising but personally attacking him over the four-match ban handed to him by the ICC over his 'Abey Kaale' remark on South Africa's Andile Phehlukwayo. \n",
      "\n",
      "원문 : Apple on Tuesday said its sales in China fell 27% in the December quarter, representing nearly $5 billion of lost revenue. Apple's overall revenue fell 4.5% to $84.3 billion during the quarter while profit fell slightly to $19.97 billion. Notably, the iPhone maker reported a decline in both revenue and profits for the first time in more than 10 years.\n",
      "실제 요약 : Apple loses $5 billion in revenue from China last quarter\n",
      "추출적 요약 : Apple's overall revenue fell 4.5% to $84.3 billion during the quarter while profit fell slightly to $19.97 billion. \n",
      "\n",
      "원문 : After Congress President Rahul Gandhi's recent poll promises like Minimum Income Guarantee and women's reservation, scholar and activist Madhu Kishwar tweeted, \"Wait till Rahul Gandhi also promises free sex for every adult male for a certain number of days every year!\" Several people criticised her for the remark, with one saying, \"I can't believe you have written it. Stumped. Sad.\"\n",
      "실제 요약 : Activist says 'Wait till Rahul also promises free sex', criticised\n",
      "추출적 요약 : After Congress President Rahul Gandhi's recent poll promises like Minimum Income Guarantee and women's reservation, scholar and activist Madhu Kishwar tweeted, \"Wait till Rahul Gandhi also promises free sex for every adult male for a certain number of days every year!\" Several people criticised her for the remark, with one saying, \"I can't believe you have written it. \n",
      "\n",
      "원문 : After Congress chief Rahul Gandhi claimed Goa CM Manohar Parrikar told him he had \"nothing to do with the new Rafale deal,\" BJP minister Mauvin Godinho asked Rahul \"not to politicise a courtesy visit.\" Godinho added, \"It wasn't the right thing for Rahul Gandhi to do...When you come to enquire about a person's health, it should be limited to that.\" \n",
      "실제 요약 : Don't politicise visit to Parrikar, BJP minister tells Rahul\n",
      "추출적 요약 :  \n",
      "\n",
      "원문 : BJP MLA Surendra Singh on Wednesday compared Congress President Rahul Gandhi and his sister, Priyanka Gandhi, to 'Ravana' and 'Surpanakha' from Ramayana. \"Just how Ravana pushed his sister Surpanakha in the war ahead of him, Rahul Gandhi has pushed his sister (Priyanka) in the fray...We are blessed with a leader like (PM) Narendra Modi,\" Singh said.\n",
      "실제 요약 : Ravana pushed sister Surpanakha into war, Rahul did same: BJP MLA\n",
      "추출적 요약 : BJP MLA Surendra Singh on Wednesday compared Congress President Rahul Gandhi and his sister, Priyanka Gandhi, to 'Ravana' and 'Surpanakha' from Ramayana. \n",
      "\n",
      "원문 : All India Anna Dravida Munnetra Kazhagam (AIADMK) has told party leaders who want to contest the upcoming Lok Sabha polls to pay Ã¢ÂÂ¹25,000 while submitting their application forms. The fee is applicable for a total of 40 seats in Tamil Nadu and Puducherry. AIADMK had issued a similar notification for party ticket aspirants ahead of the 2014 Lok Sabha polls. \n",
      "실제 요약 : Pay Ã¢ÂÂ¹25,000 to contest LS polls: AIADMK to ticket seekers\n",
      "추출적 요약 : All India Anna Dravida Munnetra Kazhagam (AIADMK) has told party leaders who want to contest the upcoming Lok Sabha polls to pay Ã¢ÂÂ¹25,000 while submitting their application forms. \n",
      "\n",
      "원문 : A special CBI court in Guwahati has awarded life sentence to National Democratic Front of Bodoland founder and chief Ranjan Daimary and nine others in connection with the 2008 Assam serial blasts, which killed 88 people. Around 11 bombs went off across Assam in the attacks that took place almost a month before 26/11 Mumbai attack.\n",
      "실제 요약 : Bodo outfit head gets life term for 2008 Assam blasts that killed 88\n",
      "추출적 요약 : A special CBI court in Guwahati has awarded life sentence to National Democratic Front of Bodoland founder and chief Ranjan Daimary and nine others in connection with the 2008 Assam serial blasts, which killed 88 people. \n",
      "\n",
      "원문 : The Supreme Court today allowed former Finance Minister P Chidambaram's son Karti Chidambaram to travel abroad but warned him, \"You can go wherever you want...but don't play around with the law.\" The court also directed Karti, an accused in the Aircel-Maxis case, to deposit Ã¢ÂÂ¹10 crore as surety and warned him of action in case of \"an iota of non-cooperation.\"\n",
      "실제 요약 : Don't play around with the law, SC warns Karti Chidambaram\n",
      "추출적 요약 :  \n",
      "\n",
      "원문 : Wayanad District Congress Committee member OM George has been booked for allegedly sexually assaulting a minor tribal girl for one and a half years in Kerala. George, who is currently absconding, was suspended from the primary membership of the party. Meanwhile, the girl has been shifted to a government-run shelter home. \n",
      "실제 요약 : Kerala Congress leader charged for raping girl for 1.5 years\n",
      "추출적 요약 : Wayanad District Congress Committee member OM George has been booked for allegedly sexually assaulting a minor tribal girl for one and a half years in Kerala. \n",
      "\n",
      "원문 : Goa CM Manohar Parrikar, who is also the state Finance Minister, presented the annual budget in the state Assembly on Wednesday with a tube in his nose. Suffering from a pancreatic ailment for months, Parrikar said he was in full 'hosh' (consciousness) after Goa Congress chief Girish Chodankar said the CM should come back to 'hosh' before speaking about 'josh'. \n",
      "실제 요약 : I'm in full hosh: CM Parrikar presents Goa budget with tube in nose\n",
      "추출적 요약 : Goa CM Manohar Parrikar, who is also the state Finance Minister, presented the annual budget in the state Assembly on Wednesday with a tube in his nose. \n",
      "\n",
      "원문 : The Delhi Police has registered an FIR against SpiceJet Chairman and MD Ajay Singh and seven other directors in a cheating case. A Delhi-based private consultant alleged that they used his services in the aviation sector, but did not pay his fees. \"The complainant has defrauded the company and is now filing frivolous complaints to extract money,\" SpiceJet said.\n",
      "실제 요약 : Delhi consultant accuses SpiceJet MD of cheating, police file FIR\n",
      "추출적 요약 : The Delhi Police has registered an FIR against SpiceJet Chairman and MD Ajay Singh and seven other directors in a cheating case. \n",
      "\n",
      "원문 : Mahindra Group's Chairman Anand Mahindra took to Twitter to share the picture of a menu featuring a dish named 'Delicious roasted husband'. He captioned it, \"I'm certainly going to think twice about visiting this restaurant with my wife. Don't want her getting any creative ideas....!\" Reacting to his tweet, a user commented, \"Doesn't the wife roast the husband daily?\"\n",
      "실제 요약 : Anand Mahindra shares menu with dish 'delicious roasted husband'\n",
      "추출적 요약 : Don't want her getting any creative ideas....!\" Reacting to his tweet, a user commented, \"Doesn't the wife roast the husband daily?\" \n",
      "\n"
     ]
    }
   ],
   "source": [
    "for i in range(100, 120):\n",
    "    print(\"원문 :\", data_summa['text'][i])\n",
    "    print(\"실제 요약 :\", data_summa['headlines'][i])\n",
    "    print(\"추출적 요약 :\", summarize(data_summa['text'][i], ratio=0.5), '\\n')"
   ]
  },
  {
   "cell_type": "code",
   "execution_count": null,
   "metadata": {},
   "outputs": [],
   "source": []
  }
 ],
 "metadata": {
  "kernelspec": {
   "display_name": "aiffel",
   "language": "python",
   "name": "aiffel"
  },
  "language_info": {
   "codemirror_mode": {
    "name": "ipython",
    "version": 3
   },
   "file_extension": ".py",
   "mimetype": "text/x-python",
   "name": "python",
   "nbconvert_exporter": "python",
   "pygments_lexer": "ipython3",
   "version": "3.7.6"
  }
 },
 "nbformat": 4,
 "nbformat_minor": 4
}
