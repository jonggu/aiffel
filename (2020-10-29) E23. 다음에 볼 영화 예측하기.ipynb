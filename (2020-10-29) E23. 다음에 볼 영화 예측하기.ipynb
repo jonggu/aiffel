{
 "cells": [
  {
   "cell_type": "markdown",
   "metadata": {},
   "source": [
    "# E23. 다음에 볼 영화 예측하기\n",
    "* session-based recommendation: 세션 데이터를 기반으로 유저가 다음에 클릭 또는 구매할 아이템을 예측하는 추천\n",
    "* https://www.youtube.com/watch?v=OpoVuwxGRDI&ab_channel=%EC%96%84%ED%8C%8D%ED%95%9C%EC%BD%94%EB%94%A9%EC%82%AC%EC%A0%84\n",
    "* https://medium.com/@chrisjune_13837/web-%EC%BF%A0%ED%82%A4-%EC%84%B8%EC%85%98%EC%9D%B4%EB%9E%80-aa6bcb327582\n",
    "* https://www.yoochoose.com/\n",
    "    - https://2015.recsyschallenge.com/challenge.html\n",
    "    \n",
    "```\n",
    "$ sudo apt install p7zip-full\n",
    "$ 7z x yoochoose-data.7z -oyoochoose-data\n",
    "```"
   ]
  },
  {
   "cell_type": "code",
   "execution_count": 1,
   "metadata": {},
   "outputs": [],
   "source": [
    "import os\n",
    "\n",
    "import datetime as dt\n",
    "from pathlib import Path\n",
    "import os\n",
    "\n",
    "import numpy as np\n",
    "import pandas as pd\n",
    "import warnings\n",
    "warnings.filterwarnings('ignore')\n",
    "\n",
    "import matplotlib.pyplot as plt\n",
    "\n",
    "import tensorflow as tf\n",
    "from tensorflow.keras.layers import Input, Dense, Dropout, GRU\n",
    "from tensorflow.keras.losses import categorical_crossentropy\n",
    "from tensorflow.keras.models import Model\n",
    "from tensorflow.keras.optimizers import Adam\n",
    "from tensorflow.keras.utils import to_categorical\n",
    "from tqdm import tqdm"
   ]
  },
  {
   "cell_type": "code",
   "execution_count": 2,
   "metadata": {
    "scrolled": false
   },
   "outputs": [
    {
     "name": "stdout",
     "output_type": "stream",
     "text": [
      "﻿SUMMARY\n",
      "\n",
      "================================================================================\n",
      "\n",
      "\n",
      "\n",
      "This dataset was constructed by YOOCHOOSE GmbH to support participants in the RecSys Challenge 2015.\n",
      "\n",
      "See  http://recsys.yoochoose.net for details about the challenge.\n",
      "\n",
      "\n",
      "\n",
      "The YOOCHOOSE dataset contain a collection of sessions from a retailer, where each session\n",
      "\n",
      "is encapsulating the click events that the user performed in the session.\n",
      "\n",
      "For some of the sessions, there are also buy events; means that the session ended\n",
      "\n",
      "with the user bought something from the web shop. The data was collected during several\n",
      "\n",
      "months in the year of 2014, reflecting the clicks and purchases performed by the users\n",
      "\n",
      "of an on-line retailer in Europe.  To protect end users privacy, as well as the retailer,\n",
      "\n",
      "all numbers have been modified. Do not try to reveal the identity of the retailer.\n",
      "\n",
      "\n",
      "\n",
      "LICENSE\n",
      "\n",
      "================================================================================\n",
      "\n",
      "This dataset is licensed under the Creative Commons Attribution-NonCommercial-NoDerivatives 4.0\n",
      "\n",
      "International License. To view a copy of this license, visit http://creativecommons.org/licenses/by-nc-nd/4.0/.\n",
      "\n",
      "YOOCHOOSE cannot guarantee the completeness and correctness of the data or the validity\n",
      "\n",
      "of results based on the use of the dataset as it was collected by implicit tracking of a website. \n",
      "\n",
      "If you have any further questions or comments, please contact YooChoose <support@YooChoose.com>. \n",
      "\n",
      "The data is provided \"as it is\" and there is no obligation of YOOCHOOSE to correct it,\n",
      "\n",
      "improve it or to provide additional information about it.\n",
      "\n",
      "\n",
      "\n",
      "CLICKS DATASET FILE DESCRIPTION\n",
      "\n",
      "================================================================================\n",
      "\n",
      "The file yoochoose-clicks.dat comprising the clicks of the users over the items.\n",
      "\n",
      "Each record/line in the file has the following fields/format: Session ID, Timestamp, Item ID, Category\n",
      "\n",
      "-Session ID – the id of the session. In one session there are one or many clicks. Could be represented as an integer number.\n",
      "\n",
      "-Timestamp – the time when the click occurred. Format of YYYY-MM-DDThh:mm:ss.SSSZ\n",
      "\n",
      "-Item ID – the unique identifier of the item that has been clicked. Could be represented as an integer number.\n",
      "\n",
      "-Category – the context of the click. The value \"S\" indicates a special offer, \"0\" indicates  a missing value, a number between 1 to 12 indicates a real category identifier,\n",
      "\n",
      " any other number indicates a brand. E.g. if an item has been clicked in the context of a promotion or special offer then the value will be \"S\", if the context was a brand i.e BOSCH,\n",
      "\n",
      " then the value will be an 8-10 digits number. If the item has been clicked under regular category, i.e. sport, then the value will be a number between 1 to 12. \n",
      "\n",
      " \n",
      "\n",
      "BUYS DATSET FILE DESCRIPTION\n",
      "\n",
      "================================================================================\n",
      "\n",
      "The file yoochoose-buys.dat comprising the buy events of the users over the items.\n",
      "\n",
      "Each record/line in the file has the following fields: Session ID, Timestamp, Item ID, Price, Quantity\n",
      "\n",
      "\n",
      "\n",
      "-Session ID - the id of the session. In one session there are one or many buying events. Could be represented as an integer number.\n",
      "\n",
      "-Timestamp - the time when the buy occurred. Format of YYYY-MM-DDThh:mm:ss.SSSZ\n",
      "\n",
      "-Item ID – the unique identifier of item that has been bought. Could be represented as an integer number.\n",
      "\n",
      "-Price – the price of the item. Could be represented as an integer number.\n",
      "\n",
      "-Quantity – the quantity in this buying.  Could be represented as an integer number.\n",
      "\n",
      "\n",
      "\n",
      "TEST DATASET FILE DESCRIPTION\n",
      "\n",
      "================================================================================\n",
      "\n",
      "The file yoochoose-test.dat comprising only clicks of users over items.\n",
      "\n",
      "This file served as a test file in the RecSys challenge 2015. \n",
      "\n",
      "The structure is identical to the file yoochoose-clicks.dat but you will not find the\n",
      "\n",
      "corresponding buying events to these sessions in the yoochoose-buys.dat file.\n",
      "\n"
     ]
    }
   ],
   "source": [
    "f = open('yoochoose-data/dataset-README.txt', 'r')\n",
    "while True:\n",
    "    line = f.readline()\n",
    "    if not line: break\n",
    "    print(line)\n",
    "f.close()"
   ]
  },
  {
   "cell_type": "markdown",
   "metadata": {},
   "source": [
    "## Data Preprocess\n",
    "```\n",
    "$ pip list | grep pathlib\n",
    "$ pip install pathlib\n",
    "```\n",
    "* (유저-상품 매트릭스를 유저 행렬과 상품 행렬의 곱으로 표현하는) Matrix Factorization 을 사용한다면?: User * Item Matrix의 빈칸이 너무 많아서(data sparsity) 모델이 제대로 학습되지 않을 가능성이 있다. "
   ]
  },
  {
   "cell_type": "markdown",
   "metadata": {},
   "source": [
    "### Data Load"
   ]
  },
  {
   "cell_type": "code",
   "execution_count": 3,
   "metadata": {},
   "outputs": [
    {
     "data": {
      "text/plain": [
       "PosixPath('yoochoose-data/yoochoose-clicks.dat')"
      ]
     },
     "execution_count": 3,
     "metadata": {},
     "output_type": "execute_result"
    }
   ],
   "source": [
    "data_path = Path('yoochoose-data') \n",
    "train_path = data_path / 'yoochoose-clicks.dat'\n",
    "train_path"
   ]
  },
  {
   "cell_type": "code",
   "execution_count": 4,
   "metadata": {},
   "outputs": [],
   "source": [
    "def load_data(data_path: Path, nrows=None):\n",
    "    data = pd.read_csv(data_path, sep=',', header=None, usecols=[0, 1, 2],\n",
    "                       parse_dates=[1], dtype={0: np.int32, 2: np.int32}, nrows=nrows)\n",
    "    data.columns = ['SessionId', 'Time', 'ItemId']\n",
    "    return data"
   ]
  },
  {
   "cell_type": "code",
   "execution_count": 5,
   "metadata": {},
   "outputs": [
    {
     "data": {
      "text/html": [
       "<div>\n",
       "<style scoped>\n",
       "    .dataframe tbody tr th:only-of-type {\n",
       "        vertical-align: middle;\n",
       "    }\n",
       "\n",
       "    .dataframe tbody tr th {\n",
       "        vertical-align: top;\n",
       "    }\n",
       "\n",
       "    .dataframe thead th {\n",
       "        text-align: right;\n",
       "    }\n",
       "</style>\n",
       "<table border=\"1\" class=\"dataframe\">\n",
       "  <thead>\n",
       "    <tr style=\"text-align: right;\">\n",
       "      <th></th>\n",
       "      <th>SessionId</th>\n",
       "      <th>Time</th>\n",
       "      <th>ItemId</th>\n",
       "    </tr>\n",
       "  </thead>\n",
       "  <tbody>\n",
       "    <tr>\n",
       "      <th>0</th>\n",
       "      <td>1</td>\n",
       "      <td>2014-04-07 10:51:09.277000+00:00</td>\n",
       "      <td>214536502</td>\n",
       "    </tr>\n",
       "    <tr>\n",
       "      <th>1</th>\n",
       "      <td>1</td>\n",
       "      <td>2014-04-07 10:54:09.868000+00:00</td>\n",
       "      <td>214536500</td>\n",
       "    </tr>\n",
       "    <tr>\n",
       "      <th>2</th>\n",
       "      <td>1</td>\n",
       "      <td>2014-04-07 10:54:46.998000+00:00</td>\n",
       "      <td>214536506</td>\n",
       "    </tr>\n",
       "    <tr>\n",
       "      <th>3</th>\n",
       "      <td>1</td>\n",
       "      <td>2014-04-07 10:57:00.306000+00:00</td>\n",
       "      <td>214577561</td>\n",
       "    </tr>\n",
       "    <tr>\n",
       "      <th>4</th>\n",
       "      <td>2</td>\n",
       "      <td>2014-04-07 13:56:37.614000+00:00</td>\n",
       "      <td>214662742</td>\n",
       "    </tr>\n",
       "    <tr>\n",
       "      <th>...</th>\n",
       "      <td>...</td>\n",
       "      <td>...</td>\n",
       "      <td>...</td>\n",
       "    </tr>\n",
       "    <tr>\n",
       "      <th>32230487</th>\n",
       "      <td>11562158</td>\n",
       "      <td>2014-09-26 04:50:29.172000+00:00</td>\n",
       "      <td>214849132</td>\n",
       "    </tr>\n",
       "    <tr>\n",
       "      <th>32230488</th>\n",
       "      <td>11562158</td>\n",
       "      <td>2014-09-26 04:52:21.900000+00:00</td>\n",
       "      <td>214854774</td>\n",
       "    </tr>\n",
       "    <tr>\n",
       "      <th>32230489</th>\n",
       "      <td>11562158</td>\n",
       "      <td>2014-09-26 05:16:32.904000+00:00</td>\n",
       "      <td>214849132</td>\n",
       "    </tr>\n",
       "    <tr>\n",
       "      <th>32230490</th>\n",
       "      <td>11562159</td>\n",
       "      <td>2014-09-26 19:16:28.897000+00:00</td>\n",
       "      <td>214849132</td>\n",
       "    </tr>\n",
       "    <tr>\n",
       "      <th>32230477</th>\n",
       "      <td>11562161</td>\n",
       "      <td>2014-09-26 20:45:42.791000+00:00</td>\n",
       "      <td>214546022</td>\n",
       "    </tr>\n",
       "  </tbody>\n",
       "</table>\n",
       "<p>33003944 rows × 3 columns</p>\n",
       "</div>"
      ],
      "text/plain": [
       "          SessionId                             Time     ItemId\n",
       "0                 1 2014-04-07 10:51:09.277000+00:00  214536502\n",
       "1                 1 2014-04-07 10:54:09.868000+00:00  214536500\n",
       "2                 1 2014-04-07 10:54:46.998000+00:00  214536506\n",
       "3                 1 2014-04-07 10:57:00.306000+00:00  214577561\n",
       "4                 2 2014-04-07 13:56:37.614000+00:00  214662742\n",
       "...             ...                              ...        ...\n",
       "32230487   11562158 2014-09-26 04:50:29.172000+00:00  214849132\n",
       "32230488   11562158 2014-09-26 04:52:21.900000+00:00  214854774\n",
       "32230489   11562158 2014-09-26 05:16:32.904000+00:00  214849132\n",
       "32230490   11562159 2014-09-26 19:16:28.897000+00:00  214849132\n",
       "32230477   11562161 2014-09-26 20:45:42.791000+00:00  214546022\n",
       "\n",
       "[33003944 rows x 3 columns]"
      ]
     },
     "execution_count": 5,
     "metadata": {},
     "output_type": "execute_result"
    }
   ],
   "source": [
    "# 시간이 좀 걸릴 수 있습니다. 메모리도 10GB 가까이 소요될 수 있으니 메모리 상태에 주의해 주세요.  \n",
    "\n",
    "data = load_data(train_path, None)\n",
    "data.sort_values(['SessionId', 'Time'], inplace=True)  # data를 id와 시간 순서로 정렬해줍니다.\n",
    "data"
   ]
  },
  {
   "cell_type": "code",
   "execution_count": 6,
   "metadata": {},
   "outputs": [
    {
     "data": {
      "text/plain": [
       "(9249729, 52739)"
      ]
     },
     "execution_count": 6,
     "metadata": {},
     "output_type": "execute_result"
    }
   ],
   "source": [
    "# 유저 수와 아이템 수 확인 (세션 수 900만개, 아이템 수 5만개)\n",
    "\n",
    "data['SessionId'].nunique(), data['ItemId'].nunique() # (9249729, 52739)"
   ]
  },
  {
   "cell_type": "markdown",
   "metadata": {},
   "source": [
    "* session_length: 같은 SessionId를 공유하는 데이터 row의 개수 (해당 세션의 사용자가 그 세션 동안 몇 번의 액션을 취했는지)\n",
    "* SessionId: 브라우저에서 웹서버로 접속할 때 항상 포함하게 되는 유저 구분자"
   ]
  },
  {
   "cell_type": "code",
   "execution_count": 7,
   "metadata": {},
   "outputs": [
    {
     "data": {
      "text/plain": [
       "SessionId\n",
       "1           4\n",
       "2           6\n",
       "3           3\n",
       "4           2\n",
       "6           2\n",
       "           ..\n",
       "11562156    2\n",
       "11562157    2\n",
       "11562158    3\n",
       "11562159    1\n",
       "11562161    1\n",
       "Length: 9249729, dtype: int64"
      ]
     },
     "execution_count": 7,
     "metadata": {},
     "output_type": "execute_result"
    }
   ],
   "source": [
    "session_length = data.groupby('SessionId').size() # 각 세션이 대략 몇 개의 클릭 데이터를 갖는가?\n",
    "session_length"
   ]
  },
  {
   "cell_type": "code",
   "execution_count": 8,
   "metadata": {},
   "outputs": [
    {
     "data": {
      "text/plain": [
       "(2.0, 3.568098481587947)"
      ]
     },
     "execution_count": 8,
     "metadata": {},
     "output_type": "execute_result"
    }
   ],
   "source": [
    "session_length.median(), session_length.mean()"
   ]
  },
  {
   "cell_type": "code",
   "execution_count": 9,
   "metadata": {},
   "outputs": [
    {
     "data": {
      "text/plain": [
       "(1, 200)"
      ]
     },
     "execution_count": 9,
     "metadata": {},
     "output_type": "execute_result"
    }
   ],
   "source": [
    "session_length.min(), session_length.max()"
   ]
  },
  {
   "cell_type": "code",
   "execution_count": 10,
   "metadata": {},
   "outputs": [
    {
     "data": {
      "text/plain": [
       "41.0"
      ]
     },
     "execution_count": 10,
     "metadata": {},
     "output_type": "execute_result"
    }
   ],
   "source": [
    "session_length.quantile(0.999) # 99.9%의 세션은 길이 41 이하"
   ]
  },
  {
   "cell_type": "code",
   "execution_count": 11,
   "metadata": {},
   "outputs": [
    {
     "data": {
      "text/html": [
       "<div>\n",
       "<style scoped>\n",
       "    .dataframe tbody tr th:only-of-type {\n",
       "        vertical-align: middle;\n",
       "    }\n",
       "\n",
       "    .dataframe tbody tr th {\n",
       "        vertical-align: top;\n",
       "    }\n",
       "\n",
       "    .dataframe thead th {\n",
       "        text-align: right;\n",
       "    }\n",
       "</style>\n",
       "<table border=\"1\" class=\"dataframe\">\n",
       "  <thead>\n",
       "    <tr style=\"text-align: right;\">\n",
       "      <th></th>\n",
       "      <th>SessionId</th>\n",
       "      <th>Time</th>\n",
       "      <th>ItemId</th>\n",
       "    </tr>\n",
       "  </thead>\n",
       "  <tbody>\n",
       "    <tr>\n",
       "      <th>580293</th>\n",
       "      <td>189448</td>\n",
       "      <td>2014-04-01 08:56:28.983000+00:00</td>\n",
       "      <td>214830392</td>\n",
       "    </tr>\n",
       "    <tr>\n",
       "      <th>580294</th>\n",
       "      <td>189448</td>\n",
       "      <td>2014-04-01 08:56:31.815000+00:00</td>\n",
       "      <td>214830392</td>\n",
       "    </tr>\n",
       "    <tr>\n",
       "      <th>580295</th>\n",
       "      <td>189448</td>\n",
       "      <td>2014-04-01 08:57:08.301000+00:00</td>\n",
       "      <td>214830392</td>\n",
       "    </tr>\n",
       "    <tr>\n",
       "      <th>580296</th>\n",
       "      <td>189448</td>\n",
       "      <td>2014-04-01 08:57:10.338000+00:00</td>\n",
       "      <td>214830392</td>\n",
       "    </tr>\n",
       "    <tr>\n",
       "      <th>580297</th>\n",
       "      <td>189448</td>\n",
       "      <td>2014-04-01 08:58:01.728000+00:00</td>\n",
       "      <td>214830390</td>\n",
       "    </tr>\n",
       "    <tr>\n",
       "      <th>...</th>\n",
       "      <td>...</td>\n",
       "      <td>...</td>\n",
       "      <td>...</td>\n",
       "    </tr>\n",
       "    <tr>\n",
       "      <th>580488</th>\n",
       "      <td>189448</td>\n",
       "      <td>2014-04-01 10:35:52.400000+00:00</td>\n",
       "      <td>214830137</td>\n",
       "    </tr>\n",
       "    <tr>\n",
       "      <th>580489</th>\n",
       "      <td>189448</td>\n",
       "      <td>2014-04-01 10:37:15.094000+00:00</td>\n",
       "      <td>214830118</td>\n",
       "    </tr>\n",
       "    <tr>\n",
       "      <th>580490</th>\n",
       "      <td>189448</td>\n",
       "      <td>2014-04-01 10:37:35.955000+00:00</td>\n",
       "      <td>214830118</td>\n",
       "    </tr>\n",
       "    <tr>\n",
       "      <th>580491</th>\n",
       "      <td>189448</td>\n",
       "      <td>2014-04-01 10:37:37.098000+00:00</td>\n",
       "      <td>214830118</td>\n",
       "    </tr>\n",
       "    <tr>\n",
       "      <th>580492</th>\n",
       "      <td>189448</td>\n",
       "      <td>2014-04-01 10:37:46.557000+00:00</td>\n",
       "      <td>214830116</td>\n",
       "    </tr>\n",
       "  </tbody>\n",
       "</table>\n",
       "<p>200 rows × 3 columns</p>\n",
       "</div>"
      ],
      "text/plain": [
       "        SessionId                             Time     ItemId\n",
       "580293     189448 2014-04-01 08:56:28.983000+00:00  214830392\n",
       "580294     189448 2014-04-01 08:56:31.815000+00:00  214830392\n",
       "580295     189448 2014-04-01 08:57:08.301000+00:00  214830392\n",
       "580296     189448 2014-04-01 08:57:10.338000+00:00  214830392\n",
       "580297     189448 2014-04-01 08:58:01.728000+00:00  214830390\n",
       "...           ...                              ...        ...\n",
       "580488     189448 2014-04-01 10:35:52.400000+00:00  214830137\n",
       "580489     189448 2014-04-01 10:37:15.094000+00:00  214830118\n",
       "580490     189448 2014-04-01 10:37:35.955000+00:00  214830118\n",
       "580491     189448 2014-04-01 10:37:37.098000+00:00  214830118\n",
       "580492     189448 2014-04-01 10:37:46.557000+00:00  214830116\n",
       "\n",
       "[200 rows x 3 columns]"
      ]
     },
     "execution_count": 11,
     "metadata": {},
     "output_type": "execute_result"
    }
   ],
   "source": [
    "# 길이가 가장 긴 (session_length=200) 하나의 세션만 살펴보기\n",
    "\n",
    "long_session = session_length[session_length==200].index[0]\n",
    "data[data['SessionId']==long_session]"
   ]
  },
  {
   "cell_type": "code",
   "execution_count": 12,
   "metadata": {},
   "outputs": [
    {
     "data": {
      "image/png": "[encoded data removed]",
      "text/plain": [
       "<Figure size 1440x720 with 1 Axes>"
      ]
     },
     "metadata": {
      "needs_background": "light"
     },
     "output_type": "display_data"
    }
   ],
   "source": [
    "# 시각화\n",
    "\n",
    "length_count = session_length.groupby(session_length).size()\n",
    "length_percent_cumsum = length_count.cumsum() / length_count.sum()\n",
    "length_percent_cumsum_999 = length_percent_cumsum[length_percent_cumsum < 0.999]\n",
    "\n",
    "plt.figure(figsize=(20, 10))\n",
    "plt.bar(x=length_percent_cumsum_999.index,\n",
    "        height=length_percent_cumsum_999, color='red')\n",
    "plt.xticks(length_percent_cumsum_999.index)\n",
    "plt.yticks(np.arange(0, 1.01, 0.05))\n",
    "plt.title('Cumsum Percentage Until 0.999', size=20)\n",
    "plt.show()"
   ]
  },
  {
   "cell_type": "code",
   "execution_count": 13,
   "metadata": {},
   "outputs": [
    {
     "name": "stdout",
     "output_type": "stream",
     "text": [
      "2014-04-01 03:00:00.124000+00:00\n",
      "2014-09-30 02:59:59.430000+00:00\n"
     ]
    }
   ],
   "source": [
    "# 시간 관련 정보 확인\n",
    "\n",
    "oldest, latest = data['Time'].min(), data['Time'].max()\n",
    "print(oldest) \n",
    "print(latest) # oldest~latest: 총 6개월치"
   ]
  },
  {
   "cell_type": "code",
   "execution_count": 14,
   "metadata": {},
   "outputs": [
    {
     "data": {
      "text/html": [
       "<div>\n",
       "<style scoped>\n",
       "    .dataframe tbody tr th:only-of-type {\n",
       "        vertical-align: middle;\n",
       "    }\n",
       "\n",
       "    .dataframe tbody tr th {\n",
       "        vertical-align: top;\n",
       "    }\n",
       "\n",
       "    .dataframe thead th {\n",
       "        text-align: right;\n",
       "    }\n",
       "</style>\n",
       "<table border=\"1\" class=\"dataframe\">\n",
       "  <thead>\n",
       "    <tr style=\"text-align: right;\">\n",
       "      <th></th>\n",
       "      <th>SessionId</th>\n",
       "      <th>Time</th>\n",
       "      <th>ItemId</th>\n",
       "    </tr>\n",
       "  </thead>\n",
       "  <tbody>\n",
       "    <tr>\n",
       "      <th>26837834</th>\n",
       "      <td>9194111</td>\n",
       "      <td>2014-08-31 17:40:46.805000+00:00</td>\n",
       "      <td>214853420</td>\n",
       "    </tr>\n",
       "    <tr>\n",
       "      <th>26837835</th>\n",
       "      <td>9194111</td>\n",
       "      <td>2014-08-31 17:42:26.089000+00:00</td>\n",
       "      <td>214850942</td>\n",
       "    </tr>\n",
       "    <tr>\n",
       "      <th>26837836</th>\n",
       "      <td>9194111</td>\n",
       "      <td>2014-08-31 17:44:06.583000+00:00</td>\n",
       "      <td>214829878</td>\n",
       "    </tr>\n",
       "    <tr>\n",
       "      <th>26837837</th>\n",
       "      <td>9194111</td>\n",
       "      <td>2014-08-31 17:48:49.873000+00:00</td>\n",
       "      <td>214853420</td>\n",
       "    </tr>\n",
       "    <tr>\n",
       "      <th>26838214</th>\n",
       "      <td>9194112</td>\n",
       "      <td>2014-09-01 13:26:36.292000+00:00</td>\n",
       "      <td>214853422</td>\n",
       "    </tr>\n",
       "    <tr>\n",
       "      <th>...</th>\n",
       "      <td>...</td>\n",
       "      <td>...</td>\n",
       "      <td>...</td>\n",
       "    </tr>\n",
       "    <tr>\n",
       "      <th>32230487</th>\n",
       "      <td>11562158</td>\n",
       "      <td>2014-09-26 04:50:29.172000+00:00</td>\n",
       "      <td>214849132</td>\n",
       "    </tr>\n",
       "    <tr>\n",
       "      <th>32230488</th>\n",
       "      <td>11562158</td>\n",
       "      <td>2014-09-26 04:52:21.900000+00:00</td>\n",
       "      <td>214854774</td>\n",
       "    </tr>\n",
       "    <tr>\n",
       "      <th>32230489</th>\n",
       "      <td>11562158</td>\n",
       "      <td>2014-09-26 05:16:32.904000+00:00</td>\n",
       "      <td>214849132</td>\n",
       "    </tr>\n",
       "    <tr>\n",
       "      <th>32230490</th>\n",
       "      <td>11562159</td>\n",
       "      <td>2014-09-26 19:16:28.897000+00:00</td>\n",
       "      <td>214849132</td>\n",
       "    </tr>\n",
       "    <tr>\n",
       "      <th>32230477</th>\n",
       "      <td>11562161</td>\n",
       "      <td>2014-09-26 20:45:42.791000+00:00</td>\n",
       "      <td>214546022</td>\n",
       "    </tr>\n",
       "  </tbody>\n",
       "</table>\n",
       "<p>5641401 rows × 3 columns</p>\n",
       "</div>"
      ],
      "text/plain": [
       "          SessionId                             Time     ItemId\n",
       "26837834    9194111 2014-08-31 17:40:46.805000+00:00  214853420\n",
       "26837835    9194111 2014-08-31 17:42:26.089000+00:00  214850942\n",
       "26837836    9194111 2014-08-31 17:44:06.583000+00:00  214829878\n",
       "26837837    9194111 2014-08-31 17:48:49.873000+00:00  214853420\n",
       "26838214    9194112 2014-09-01 13:26:36.292000+00:00  214853422\n",
       "...             ...                              ...        ...\n",
       "32230487   11562158 2014-09-26 04:50:29.172000+00:00  214849132\n",
       "32230488   11562158 2014-09-26 04:52:21.900000+00:00  214854774\n",
       "32230489   11562158 2014-09-26 05:16:32.904000+00:00  214849132\n",
       "32230490   11562159 2014-09-26 19:16:28.897000+00:00  214849132\n",
       "32230477   11562161 2014-09-26 20:45:42.791000+00:00  214546022\n",
       "\n",
       "[5641401 rows x 3 columns]"
      ]
     },
     "execution_count": 14,
     "metadata": {},
     "output_type": "execute_result"
    }
   ],
   "source": [
    "type(latest) # timestamp 객체는 int와의 사칙연산 안 됨\n",
    "\n",
    "# timedelta: 날짜끼리의 차이를 구할 때 사용\n",
    "month_ago = latest - dt.timedelta(30)     # 최종 날짜로부터 30일 이전 날짜를 구한다.  \n",
    "data = data[data['Time'] > month_ago]   # 방금 구한 날짜 이후의 데이터만 모은다. \n",
    "data"
   ]
  },
  {
   "cell_type": "markdown",
   "metadata": {},
   "source": [
    "### Data Cleaning\n",
    "* 유저가 최소 1개 이상 클릭했을 때 다음 클릭을 예측하는 것이므로, 길이 1인 세션은 제거\n",
    "* 너무 적게 클릭된 아이템 역시 이상한 아이템일 가능성이 있으므로, 제거"
   ]
  },
  {
   "cell_type": "code",
   "execution_count": 15,
   "metadata": {},
   "outputs": [],
   "source": [
    "# short_session을 제거한 다음 unpopular item을 제거하면 다시 길이가 1인 session이 생길 수 있습니다.\n",
    "# 이를 위해 반복문을 통해 지속적으로 제거 합니다.\n",
    "def cleanse_recursive(data: pd.DataFrame, shortest, least_click) -> pd.DataFrame:\n",
    "    while True:\n",
    "        before_len = len(data)\n",
    "        data = cleanse_short_session(data, shortest)\n",
    "        data = cleanse_unpopular_item(data, least_click)\n",
    "        after_len = len(data)\n",
    "        if before_len == after_len:\n",
    "            break\n",
    "    return data\n",
    "\n",
    "def cleanse_short_session(data: pd.DataFrame, shortest):\n",
    "    session_len = data.groupby('SessionId').size()\n",
    "    session_use = session_len[session_len >= shortest].index\n",
    "    data = data[data['SessionId'].isin(session_use)]\n",
    "    return data\n",
    "\n",
    "def cleanse_unpopular_item(data: pd.DataFrame, least_click):\n",
    "    item_popular = data.groupby('ItemId').size()\n",
    "    item_use = item_popular[item_popular >= least_click].index\n",
    "    data = data[data['ItemId'].isin(item_use)]\n",
    "    return data"
   ]
  },
  {
   "cell_type": "code",
   "execution_count": 16,
   "metadata": {},
   "outputs": [
    {
     "data": {
      "text/html": [
       "<div>\n",
       "<style scoped>\n",
       "    .dataframe tbody tr th:only-of-type {\n",
       "        vertical-align: middle;\n",
       "    }\n",
       "\n",
       "    .dataframe tbody tr th {\n",
       "        vertical-align: top;\n",
       "    }\n",
       "\n",
       "    .dataframe thead th {\n",
       "        text-align: right;\n",
       "    }\n",
       "</style>\n",
       "<table border=\"1\" class=\"dataframe\">\n",
       "  <thead>\n",
       "    <tr style=\"text-align: right;\">\n",
       "      <th></th>\n",
       "      <th>SessionId</th>\n",
       "      <th>Time</th>\n",
       "      <th>ItemId</th>\n",
       "    </tr>\n",
       "  </thead>\n",
       "  <tbody>\n",
       "    <tr>\n",
       "      <th>26837834</th>\n",
       "      <td>9194111</td>\n",
       "      <td>2014-08-31 17:40:46.805000+00:00</td>\n",
       "      <td>214853420</td>\n",
       "    </tr>\n",
       "    <tr>\n",
       "      <th>26837835</th>\n",
       "      <td>9194111</td>\n",
       "      <td>2014-08-31 17:42:26.089000+00:00</td>\n",
       "      <td>214850942</td>\n",
       "    </tr>\n",
       "    <tr>\n",
       "      <th>26837836</th>\n",
       "      <td>9194111</td>\n",
       "      <td>2014-08-31 17:44:06.583000+00:00</td>\n",
       "      <td>214829878</td>\n",
       "    </tr>\n",
       "    <tr>\n",
       "      <th>26837837</th>\n",
       "      <td>9194111</td>\n",
       "      <td>2014-08-31 17:48:49.873000+00:00</td>\n",
       "      <td>214853420</td>\n",
       "    </tr>\n",
       "    <tr>\n",
       "      <th>26838202</th>\n",
       "      <td>9194123</td>\n",
       "      <td>2014-08-31 19:26:57.386000+00:00</td>\n",
       "      <td>214601207</td>\n",
       "    </tr>\n",
       "    <tr>\n",
       "      <th>...</th>\n",
       "      <td>...</td>\n",
       "      <td>...</td>\n",
       "      <td>...</td>\n",
       "    </tr>\n",
       "    <tr>\n",
       "      <th>32230485</th>\n",
       "      <td>11562157</td>\n",
       "      <td>2014-09-25 12:31:10.391000+00:00</td>\n",
       "      <td>214580372</td>\n",
       "    </tr>\n",
       "    <tr>\n",
       "      <th>32230486</th>\n",
       "      <td>11562157</td>\n",
       "      <td>2014-09-25 12:31:29.679000+00:00</td>\n",
       "      <td>214516012</td>\n",
       "    </tr>\n",
       "    <tr>\n",
       "      <th>32230487</th>\n",
       "      <td>11562158</td>\n",
       "      <td>2014-09-26 04:50:29.172000+00:00</td>\n",
       "      <td>214849132</td>\n",
       "    </tr>\n",
       "    <tr>\n",
       "      <th>32230488</th>\n",
       "      <td>11562158</td>\n",
       "      <td>2014-09-26 04:52:21.900000+00:00</td>\n",
       "      <td>214854774</td>\n",
       "    </tr>\n",
       "    <tr>\n",
       "      <th>32230489</th>\n",
       "      <td>11562158</td>\n",
       "      <td>2014-09-26 05:16:32.904000+00:00</td>\n",
       "      <td>214849132</td>\n",
       "    </tr>\n",
       "  </tbody>\n",
       "</table>\n",
       "<p>5254242 rows × 3 columns</p>\n",
       "</div>"
      ],
      "text/plain": [
       "          SessionId                             Time     ItemId\n",
       "26837834    9194111 2014-08-31 17:40:46.805000+00:00  214853420\n",
       "26837835    9194111 2014-08-31 17:42:26.089000+00:00  214850942\n",
       "26837836    9194111 2014-08-31 17:44:06.583000+00:00  214829878\n",
       "26837837    9194111 2014-08-31 17:48:49.873000+00:00  214853420\n",
       "26838202    9194123 2014-08-31 19:26:57.386000+00:00  214601207\n",
       "...             ...                              ...        ...\n",
       "32230485   11562157 2014-09-25 12:31:10.391000+00:00  214580372\n",
       "32230486   11562157 2014-09-25 12:31:29.679000+00:00  214516012\n",
       "32230487   11562158 2014-09-26 04:50:29.172000+00:00  214849132\n",
       "32230488   11562158 2014-09-26 04:52:21.900000+00:00  214854774\n",
       "32230489   11562158 2014-09-26 05:16:32.904000+00:00  214849132\n",
       "\n",
       "[5254242 rows x 3 columns]"
      ]
     },
     "execution_count": 16,
     "metadata": {},
     "output_type": "execute_result"
    }
   ],
   "source": [
    "data = cleanse_recursive(data, shortest=2, least_click=5)\n",
    "data"
   ]
  },
  {
   "cell_type": "markdown",
   "metadata": {},
   "source": [
    "### Train / Valid / Test Split\n",
    "* session-based recommendation에서는 기간에 따라 train / valid / test 셋 나누기도 함. 사람들의 소비 패턴이 달라지기 때문 (1달 전에 성능이 좋은 모델을 쓰면 지금 맞지 않을 수가 있는데, 추천 시스템은 지금 잘 예측하는 게 중요)"
   ]
  },
  {
   "cell_type": "code",
   "execution_count": 17,
   "metadata": {},
   "outputs": [
    {
     "data": {
      "text/plain": [
       "(Timestamp('2014-04-01 03:00:08.250000+0000', tz='UTC'),\n",
       " Timestamp('2014-09-30 02:59:23.866000+0000', tz='UTC'))"
      ]
     },
     "execution_count": 17,
     "metadata": {},
     "output_type": "execute_result"
    }
   ],
   "source": [
    "test_path = data_path / 'yoochoose-test.dat'\n",
    "test= load_data(test_path)\n",
    "test['Time'].min(), test['Time'].max()"
   ]
  },
  {
   "cell_type": "code",
   "execution_count": 18,
   "metadata": {},
   "outputs": [],
   "source": [
    "def split_by_date(data: pd.DataFrame, n_days: int):\n",
    "    final_time = data['Time'].max()\n",
    "    session_last_time = data.groupby('SessionId')['Time'].max()\n",
    "    session_in_train = session_last_time[session_last_time < final_time - dt.timedelta(n_days)].index\n",
    "    session_in_test = session_last_time[session_last_time >= final_time - dt.timedelta(n_days)].index\n",
    "\n",
    "    before_date = data[data['SessionId'].isin(session_in_train)]\n",
    "    after_date = data[data['SessionId'].isin(session_in_test)]\n",
    "    after_date = after_date[after_date['ItemId'].isin(before_date['ItemId'])]\n",
    "    return before_date, after_date"
   ]
  },
  {
   "cell_type": "code",
   "execution_count": 19,
   "metadata": {},
   "outputs": [],
   "source": [
    "tr, test = split_by_date(data, n_days=1)\n",
    "tr, val = split_by_date(tr, n_days=1)"
   ]
  },
  {
   "cell_type": "code",
   "execution_count": 20,
   "metadata": {},
   "outputs": [],
   "source": [
    "# data에 대한 정보를 살펴봅니다.\n",
    "def stats_info(data: pd.DataFrame, status: str):\n",
    "    print(f'* {status} Set Stats Info\\n'\n",
    "          f'\\t Events: {len(data)}\\n'\n",
    "          f'\\t Sessions: {data[\"SessionId\"].nunique()}\\n'\n",
    "          f'\\t Items: {data[\"ItemId\"].nunique()}\\n'\n",
    "          f'\\t First Time : {data[\"Time\"].min()}\\n'\n",
    "          f'\\t Last Time : {data[\"Time\"].max()}\\n')"
   ]
  },
  {
   "cell_type": "code",
   "execution_count": 21,
   "metadata": {},
   "outputs": [
    {
     "name": "stdout",
     "output_type": "stream",
     "text": [
      "* train Set Stats Info\n",
      "\t Events: 5125100\n",
      "\t Sessions: 1243431\n",
      "\t Items: 20153\n",
      "\t First Time : 2014-08-31 03:00:01.111000+00:00\n",
      "\t Last Time : 2014-09-28 02:57:34.348000+00:00\n",
      "\n",
      "* valid Set Stats Info\n",
      "\t Events: 58074\n",
      "\t Sessions: 12350\n",
      "\t Items: 6232\n",
      "\t First Time : 2014-09-28 03:00:25.298000+00:00\n",
      "\t Last Time : 2014-09-29 02:58:27.660000+00:00\n",
      "\n",
      "* test Set Stats Info\n",
      "\t Events: 71009\n",
      "\t Sessions: 15289\n",
      "\t Items: 6580\n",
      "\t First Time : 2014-09-29 02:37:20.695000+00:00\n",
      "\t Last Time : 2014-09-30 02:59:59.430000+00:00\n",
      "\n"
     ]
    }
   ],
   "source": [
    "stats_info(tr, 'train')\n",
    "stats_info(val, 'valid')\n",
    "stats_info(test, 'test')"
   ]
  },
  {
   "cell_type": "code",
   "execution_count": 22,
   "metadata": {},
   "outputs": [],
   "source": [
    "# train set에 없는 아이템이 val, test기간에 생길 수 있으므로 train data를 기준으로 인덱싱합니다.\n",
    "id2idx = {item_id : index for index, item_id in enumerate(tr['ItemId'].unique())}\n",
    "\n",
    "def indexing(df, id2idx):\n",
    "    df['item_idx'] = df['ItemId'].map(lambda x: id2idx.get(x, -1))  # id2idx에 없는 아이템은 모르는 값(-1) 처리 해줍니다.\n",
    "    return df\n",
    "\n",
    "tr = indexing(tr, id2idx)\n",
    "val = indexing(val, id2idx)\n",
    "test = indexing(test, id2idx)"
   ]
  },
  {
   "cell_type": "code",
   "execution_count": 23,
   "metadata": {},
   "outputs": [],
   "source": [
    "save_path = data_path / 'processed'\n",
    "save_path.mkdir(parents=True, exist_ok=True)\n",
    "\n",
    "tr.to_pickle(save_path / 'train.pkl')\n",
    "val.to_pickle(save_path / 'valid.pkl')\n",
    "test.to_pickle(save_path / 'test.pkl')"
   ]
  },
  {
   "cell_type": "markdown",
   "metadata": {},
   "source": [
    "## GRU4REC\n",
    "* https://arxiv.org/pdf/1511.06939v4.pdf"
   ]
  },
  {
   "cell_type": "markdown",
   "metadata": {},
   "source": [
    "## Data Pipeline\n",
    "* Session-Parallel Mini-Batch 구현해보기\n",
    "   \n",
    "### SessionDataset\n",
    "* 세션이 시작되는 인덱스를 담는 값과, 세션을 새로 인덱싱한 값을 갖는 클래스 생성"
   ]
  },
  {
   "cell_type": "code",
   "execution_count": 24,
   "metadata": {},
   "outputs": [],
   "source": [
    "class SessionDataset:\n",
    "    \"\"\"Credit to yhs-968/pyGRU4REC.\"\"\"\n",
    "\n",
    "    def __init__(self, data):\n",
    "        self.df = data\n",
    "        self.click_offsets = self.get_click_offsets()\n",
    "        self.session_idx = np.arange(self.df['SessionId'].nunique())  # indexing to SessionId\n",
    "\n",
    "    def get_click_offsets(self):\n",
    "        \"\"\"\n",
    "        Return the indexes of the first click of each session IDs,\n",
    "        \"\"\"\n",
    "        offsets = np.zeros(self.df['SessionId'].nunique() + 1, dtype=np.int32)\n",
    "        offsets[1:] = self.df.groupby('SessionId').size().cumsum()\n",
    "        return offsets"
   ]
  },
  {
   "cell_type": "markdown",
   "metadata": {},
   "source": [
    "* ```click_offsets```: 각 세션이 시작된 인덱스\n",
    "* ```session_idx```: 각 세션을 인덱싱한 np.array"
   ]
  },
  {
   "cell_type": "code",
   "execution_count": 25,
   "metadata": {},
   "outputs": [
    {
     "data": {
      "text/html": [
       "<div>\n",
       "<style scoped>\n",
       "    .dataframe tbody tr th:only-of-type {\n",
       "        vertical-align: middle;\n",
       "    }\n",
       "\n",
       "    .dataframe tbody tr th {\n",
       "        vertical-align: top;\n",
       "    }\n",
       "\n",
       "    .dataframe thead th {\n",
       "        text-align: right;\n",
       "    }\n",
       "</style>\n",
       "<table border=\"1\" class=\"dataframe\">\n",
       "  <thead>\n",
       "    <tr style=\"text-align: right;\">\n",
       "      <th></th>\n",
       "      <th>SessionId</th>\n",
       "      <th>Time</th>\n",
       "      <th>ItemId</th>\n",
       "      <th>item_idx</th>\n",
       "    </tr>\n",
       "  </thead>\n",
       "  <tbody>\n",
       "    <tr>\n",
       "      <th>26837834</th>\n",
       "      <td>9194111</td>\n",
       "      <td>2014-08-31 17:40:46.805000+00:00</td>\n",
       "      <td>214853420</td>\n",
       "      <td>0</td>\n",
       "    </tr>\n",
       "    <tr>\n",
       "      <th>26837835</th>\n",
       "      <td>9194111</td>\n",
       "      <td>2014-08-31 17:42:26.089000+00:00</td>\n",
       "      <td>214850942</td>\n",
       "      <td>1</td>\n",
       "    </tr>\n",
       "    <tr>\n",
       "      <th>26837836</th>\n",
       "      <td>9194111</td>\n",
       "      <td>2014-08-31 17:44:06.583000+00:00</td>\n",
       "      <td>214829878</td>\n",
       "      <td>2</td>\n",
       "    </tr>\n",
       "    <tr>\n",
       "      <th>26837837</th>\n",
       "      <td>9194111</td>\n",
       "      <td>2014-08-31 17:48:49.873000+00:00</td>\n",
       "      <td>214853420</td>\n",
       "      <td>0</td>\n",
       "    </tr>\n",
       "    <tr>\n",
       "      <th>26838202</th>\n",
       "      <td>9194123</td>\n",
       "      <td>2014-08-31 19:26:57.386000+00:00</td>\n",
       "      <td>214601207</td>\n",
       "      <td>3</td>\n",
       "    </tr>\n",
       "    <tr>\n",
       "      <th>26838203</th>\n",
       "      <td>9194123</td>\n",
       "      <td>2014-08-31 19:34:37.068000+00:00</td>\n",
       "      <td>214510689</td>\n",
       "      <td>4</td>\n",
       "    </tr>\n",
       "    <tr>\n",
       "      <th>26838193</th>\n",
       "      <td>9194124</td>\n",
       "      <td>2014-08-31 19:14:28.308000+00:00</td>\n",
       "      <td>214849327</td>\n",
       "      <td>5</td>\n",
       "    </tr>\n",
       "    <tr>\n",
       "      <th>26838194</th>\n",
       "      <td>9194124</td>\n",
       "      <td>2014-08-31 19:16:31.114000+00:00</td>\n",
       "      <td>214828970</td>\n",
       "      <td>6</td>\n",
       "    </tr>\n",
       "    <tr>\n",
       "      <th>26838196</th>\n",
       "      <td>9194127</td>\n",
       "      <td>2014-09-01 15:36:11.651000+00:00</td>\n",
       "      <td>214845997</td>\n",
       "      <td>7</td>\n",
       "    </tr>\n",
       "    <tr>\n",
       "      <th>26838197</th>\n",
       "      <td>9194127</td>\n",
       "      <td>2014-09-01 15:38:00.222000+00:00</td>\n",
       "      <td>214845997</td>\n",
       "      <td>7</td>\n",
       "    </tr>\n",
       "  </tbody>\n",
       "</table>\n",
       "</div>"
      ],
      "text/plain": [
       "          SessionId                             Time     ItemId  item_idx\n",
       "26837834    9194111 2014-08-31 17:40:46.805000+00:00  214853420         0\n",
       "26837835    9194111 2014-08-31 17:42:26.089000+00:00  214850942         1\n",
       "26837836    9194111 2014-08-31 17:44:06.583000+00:00  214829878         2\n",
       "26837837    9194111 2014-08-31 17:48:49.873000+00:00  214853420         0\n",
       "26838202    9194123 2014-08-31 19:26:57.386000+00:00  214601207         3\n",
       "26838203    9194123 2014-08-31 19:34:37.068000+00:00  214510689         4\n",
       "26838193    9194124 2014-08-31 19:14:28.308000+00:00  214849327         5\n",
       "26838194    9194124 2014-08-31 19:16:31.114000+00:00  214828970         6\n",
       "26838196    9194127 2014-09-01 15:36:11.651000+00:00  214845997         7\n",
       "26838197    9194127 2014-09-01 15:38:00.222000+00:00  214845997         7"
      ]
     },
     "execution_count": 25,
     "metadata": {},
     "output_type": "execute_result"
    }
   ],
   "source": [
    "tr_dataset = SessionDataset(tr)\n",
    "tr_dataset.df.head(10)"
   ]
  },
  {
   "cell_type": "code",
   "execution_count": 26,
   "metadata": {},
   "outputs": [
    {
     "data": {
      "text/plain": [
       "array([      0,       4,       6, ..., 5125095, 5125097, 5125100],\n",
       "      dtype=int32)"
      ]
     },
     "execution_count": 26,
     "metadata": {},
     "output_type": "execute_result"
    }
   ],
   "source": [
    "tr_dataset.click_offsets"
   ]
  },
  {
   "cell_type": "code",
   "execution_count": 27,
   "metadata": {},
   "outputs": [
    {
     "data": {
      "text/plain": [
       "array([      0,       1,       2, ..., 1243428, 1243429, 1243430])"
      ]
     },
     "execution_count": 27,
     "metadata": {},
     "output_type": "execute_result"
    }
   ],
   "source": [
    "tr_dataset.session_idx"
   ]
  },
  {
   "cell_type": "markdown",
   "metadata": {},
   "source": [
    "### SessionDataLoader\n",
    "* (Python iterator/generator: https://dojang.io/mod/page/view.php?id=2405)\n",
    "* ```SessionDataLoader()```: SessionDataset 객체를 받아서 Session-Parallel Mini-Batch 만드는 클래스\n",
    "    - ```__iter__``` 메소드: 모델 인풋, 라벨, 세션이 끝나는 곳의 위치를 yield\n",
    "    - ```mask```: RNN Cell State를 초기화하는 데 사용"
   ]
  },
  {
   "cell_type": "code",
   "execution_count": 28,
   "metadata": {},
   "outputs": [],
   "source": [
    "class SessionDataLoader:\n",
    "    \"\"\"Credit to yhs-968/pyGRU4REC.\"\"\"\n",
    "\n",
    "    def __init__(self, dataset: SessionDataset, batch_size=50):\n",
    "        self.dataset = dataset\n",
    "        self.batch_size = batch_size\n",
    "\n",
    "    def __iter__(self):\n",
    "        \"\"\" Returns the iterator for producing session-parallel training mini-batches.\n",
    "        Yields:\n",
    "            input (B,):  Item indices that will be encoded as one-hot vectors later.\n",
    "            target (B,): a Variable that stores the target item indices\n",
    "            masks: Numpy array indicating the positions of the sessions to be terminated\n",
    "        \"\"\"\n",
    "\n",
    "        start, end, mask, last_session, finished = self.initialize()  # initialize 메소드에서 확인해주세요.\n",
    "        \"\"\"\n",
    "        start : Index Where Session Start\n",
    "        end : Index Where Session End\n",
    "        mask : indicator for the sessions to be terminated\n",
    "        \"\"\"\n",
    "\n",
    "        while not finished:\n",
    "            min_len = (end - start).min() - 1  # Shortest Length Among Sessions\n",
    "            for i in range(min_len):\n",
    "                # Build inputs & targets\n",
    "                inp = self.dataset.df['item_idx'].values[start + i]\n",
    "                target = self.dataset.df['item_idx'].values[start + i + 1]\n",
    "                yield inp, target, mask\n",
    "\n",
    "            start, end, mask, last_session, finished = self.update_status(start, end, min_len, last_session, finished)\n",
    "\n",
    "    def initialize(self):\n",
    "        first_iters = np.arange(self.batch_size)    # 첫 배치에 사용할 세션 Index를 가져옵니다.\n",
    "        last_session = self.batch_size - 1    # 마지막으로 다루고 있는 세션 Index를 저장해둡니다.\n",
    "        start = self.dataset.click_offsets[self.dataset.session_idx[first_iters]]       # data 상에서 session이 시작된 위치를 가져옵니다.\n",
    "        end = self.dataset.click_offsets[self.dataset.session_idx[first_iters] + 1]  # session이 끝난 위치 바로 다음 위치를 가져옵니다.\n",
    "        mask = np.array([])   # session의 모든 아이템을 다 돌은 경우 mask에 추가해줄 것입니다.\n",
    "        finished = False         # data를 전부 돌았는지 기록하기 위한 변수입니다.\n",
    "        return start, end, mask, last_session, finished\n",
    "\n",
    "    def update_status(self, start: np.ndarray, end: np.ndarray, min_len: int, last_session: int, finished: bool):  \n",
    "        # 다음 배치 데이터를 생성하기 위해 상태를 update합니다.\n",
    "        \n",
    "        start += min_len   # __iter__에서 min_len 만큼 for문을 돌았으므로 start를 min_len 만큼 더해줍니다.\n",
    "        mask = np.arange(self.batch_size)[(end - start) == 1]  \n",
    "        # end는 다음 세션이 시작되는 위치인데 start와 한 칸 차이난다는 것은 session이 끝났다는 뜻입니다. mask에 기록해줍니다.\n",
    "\n",
    "        for i, idx in enumerate(mask, start=1):  # mask에 추가된 세션 개수만큼 새로운 세션을 돌것입니다.\n",
    "            new_session = last_session + i  \n",
    "            if new_session > self.dataset.session_idx[-1]:  # 만약 새로운 세션이 마지막 세션 index보다 크다면 모든 학습데이터를 돈 것입니다.\n",
    "                finished = True\n",
    "                break\n",
    "            # update the next starting/ending point\n",
    "            start[idx] = self.dataset.click_offsets[self.dataset.session_idx[new_session]]     # 종료된 세션 대신 새로운 세션의 시작점을 기록합니다.\n",
    "            end[idx] = self.dataset.click_offsets[self.dataset.session_idx[new_session] + 1]\n",
    "\n",
    "        last_session += len(mask)  # 마지막 세션의 위치를 기록해둡니다.\n",
    "        return start, end, mask, last_session, finished"
   ]
  },
  {
   "cell_type": "code",
   "execution_count": 29,
   "metadata": {},
   "outputs": [
    {
     "data": {
      "text/html": [
       "<div>\n",
       "<style scoped>\n",
       "    .dataframe tbody tr th:only-of-type {\n",
       "        vertical-align: middle;\n",
       "    }\n",
       "\n",
       "    .dataframe tbody tr th {\n",
       "        vertical-align: top;\n",
       "    }\n",
       "\n",
       "    .dataframe thead th {\n",
       "        text-align: right;\n",
       "    }\n",
       "</style>\n",
       "<table border=\"1\" class=\"dataframe\">\n",
       "  <thead>\n",
       "    <tr style=\"text-align: right;\">\n",
       "      <th></th>\n",
       "      <th>SessionId</th>\n",
       "      <th>Time</th>\n",
       "      <th>ItemId</th>\n",
       "      <th>item_idx</th>\n",
       "    </tr>\n",
       "  </thead>\n",
       "  <tbody>\n",
       "    <tr>\n",
       "      <th>26837834</th>\n",
       "      <td>9194111</td>\n",
       "      <td>2014-08-31 17:40:46.805000+00:00</td>\n",
       "      <td>214853420</td>\n",
       "      <td>0</td>\n",
       "    </tr>\n",
       "    <tr>\n",
       "      <th>26837835</th>\n",
       "      <td>9194111</td>\n",
       "      <td>2014-08-31 17:42:26.089000+00:00</td>\n",
       "      <td>214850942</td>\n",
       "      <td>1</td>\n",
       "    </tr>\n",
       "    <tr>\n",
       "      <th>26837836</th>\n",
       "      <td>9194111</td>\n",
       "      <td>2014-08-31 17:44:06.583000+00:00</td>\n",
       "      <td>214829878</td>\n",
       "      <td>2</td>\n",
       "    </tr>\n",
       "    <tr>\n",
       "      <th>26837837</th>\n",
       "      <td>9194111</td>\n",
       "      <td>2014-08-31 17:48:49.873000+00:00</td>\n",
       "      <td>214853420</td>\n",
       "      <td>0</td>\n",
       "    </tr>\n",
       "    <tr>\n",
       "      <th>26838202</th>\n",
       "      <td>9194123</td>\n",
       "      <td>2014-08-31 19:26:57.386000+00:00</td>\n",
       "      <td>214601207</td>\n",
       "      <td>3</td>\n",
       "    </tr>\n",
       "    <tr>\n",
       "      <th>26838203</th>\n",
       "      <td>9194123</td>\n",
       "      <td>2014-08-31 19:34:37.068000+00:00</td>\n",
       "      <td>214510689</td>\n",
       "      <td>4</td>\n",
       "    </tr>\n",
       "    <tr>\n",
       "      <th>26838193</th>\n",
       "      <td>9194124</td>\n",
       "      <td>2014-08-31 19:14:28.308000+00:00</td>\n",
       "      <td>214849327</td>\n",
       "      <td>5</td>\n",
       "    </tr>\n",
       "    <tr>\n",
       "      <th>26838194</th>\n",
       "      <td>9194124</td>\n",
       "      <td>2014-08-31 19:16:31.114000+00:00</td>\n",
       "      <td>214828970</td>\n",
       "      <td>6</td>\n",
       "    </tr>\n",
       "    <tr>\n",
       "      <th>26838196</th>\n",
       "      <td>9194127</td>\n",
       "      <td>2014-09-01 15:36:11.651000+00:00</td>\n",
       "      <td>214845997</td>\n",
       "      <td>7</td>\n",
       "    </tr>\n",
       "    <tr>\n",
       "      <th>26838197</th>\n",
       "      <td>9194127</td>\n",
       "      <td>2014-09-01 15:38:00.222000+00:00</td>\n",
       "      <td>214845997</td>\n",
       "      <td>7</td>\n",
       "    </tr>\n",
       "    <tr>\n",
       "      <th>26838198</th>\n",
       "      <td>9194127</td>\n",
       "      <td>2014-09-01 15:38:56.867000+00:00</td>\n",
       "      <td>214845997</td>\n",
       "      <td>7</td>\n",
       "    </tr>\n",
       "    <tr>\n",
       "      <th>26838259</th>\n",
       "      <td>9194128</td>\n",
       "      <td>2014-08-31 19:09:27.360000+00:00</td>\n",
       "      <td>214581830</td>\n",
       "      <td>8</td>\n",
       "    </tr>\n",
       "    <tr>\n",
       "      <th>26838260</th>\n",
       "      <td>9194128</td>\n",
       "      <td>2014-08-31 19:10:04.641000+00:00</td>\n",
       "      <td>214574135</td>\n",
       "      <td>9</td>\n",
       "    </tr>\n",
       "    <tr>\n",
       "      <th>26838261</th>\n",
       "      <td>9194128</td>\n",
       "      <td>2014-08-31 19:10:57+00:00</td>\n",
       "      <td>214857795</td>\n",
       "      <td>10</td>\n",
       "    </tr>\n",
       "    <tr>\n",
       "      <th>26838262</th>\n",
       "      <td>9194128</td>\n",
       "      <td>2014-08-31 19:11:31.797000+00:00</td>\n",
       "      <td>214574139</td>\n",
       "      <td>11</td>\n",
       "    </tr>\n",
       "  </tbody>\n",
       "</table>\n",
       "</div>"
      ],
      "text/plain": [
       "          SessionId                             Time     ItemId  item_idx\n",
       "26837834    9194111 2014-08-31 17:40:46.805000+00:00  214853420         0\n",
       "26837835    9194111 2014-08-31 17:42:26.089000+00:00  214850942         1\n",
       "26837836    9194111 2014-08-31 17:44:06.583000+00:00  214829878         2\n",
       "26837837    9194111 2014-08-31 17:48:49.873000+00:00  214853420         0\n",
       "26838202    9194123 2014-08-31 19:26:57.386000+00:00  214601207         3\n",
       "26838203    9194123 2014-08-31 19:34:37.068000+00:00  214510689         4\n",
       "26838193    9194124 2014-08-31 19:14:28.308000+00:00  214849327         5\n",
       "26838194    9194124 2014-08-31 19:16:31.114000+00:00  214828970         6\n",
       "26838196    9194127 2014-09-01 15:36:11.651000+00:00  214845997         7\n",
       "26838197    9194127 2014-09-01 15:38:00.222000+00:00  214845997         7\n",
       "26838198    9194127 2014-09-01 15:38:56.867000+00:00  214845997         7\n",
       "26838259    9194128 2014-08-31 19:09:27.360000+00:00  214581830         8\n",
       "26838260    9194128 2014-08-31 19:10:04.641000+00:00  214574135         9\n",
       "26838261    9194128        2014-08-31 19:10:57+00:00  214857795        10\n",
       "26838262    9194128 2014-08-31 19:11:31.797000+00:00  214574139        11"
      ]
     },
     "execution_count": 29,
     "metadata": {},
     "output_type": "execute_result"
    }
   ],
   "source": [
    "tr_data_loader = SessionDataLoader(tr_dataset, batch_size=4)\n",
    "tr_dataset.df.head(15)"
   ]
  },
  {
   "cell_type": "code",
   "execution_count": 30,
   "metadata": {},
   "outputs": [],
   "source": [
    "iter_ex = iter(tr_data_loader)"
   ]
  },
  {
   "cell_type": "code",
   "execution_count": 31,
   "metadata": {},
   "outputs": [
    {
     "name": "stdout",
     "output_type": "stream",
     "text": [
      "Model Input Item Idx are : [0 3 5 7]\n",
      "Label Item Idx are :       [1 4 6 7]\n",
      "Previous Masked Input Idx are []\n"
     ]
    }
   ],
   "source": [
    "inputs, labels, mask =  next(iter_ex)\n",
    "print(f'Model Input Item Idx are : {inputs}')\n",
    "print(f'Label Item Idx are : {\"\":5} {labels}')\n",
    "print(f'Previous Masked Input Idx are {mask}')"
   ]
  },
  {
   "cell_type": "markdown",
   "metadata": {},
   "source": [
    "## Modeling\n",
    "### Evaluation Metric\n",
    "* recall@k: recall의 개념을 확장한 지표 (https://ddiri01.tistory.com/321)\n",
    "* MAP@k (Mean Average Precision@k): precision의 개념을 확장한 지표\n",
    "* 순서에 민감한 지표들 (https://medium.com/swlh/rank-aware-recsys-evaluation-metrics-5191bba16832)\n",
    "    - MRR: 정답 아이템이 나온 순번의 역수 값 https://lamttic.github.io/2020/03/20/01.html\n",
    "    - NDCG\n",
    "* @k 는 Top K 개를 뜻하는 듯?"
   ]
  },
  {
   "cell_type": "code",
   "execution_count": 32,
   "metadata": {},
   "outputs": [],
   "source": [
    "def mrr_k(pred, truth: int, k: int):\n",
    "    indexing = np.where(pred[:k] == truth)[0]\n",
    "    if len(indexing) > 0:\n",
    "        return 1 / (indexing[0] + 1)\n",
    "    else:\n",
    "        return 0\n",
    "\n",
    "\n",
    "def recall_k(pred, truth: int, k: int) -> int:\n",
    "    answer = truth in pred[:k]\n",
    "    return int(answer)"
   ]
  },
  {
   "cell_type": "markdown",
   "metadata": {},
   "source": [
    "### Model Architecture"
   ]
  },
  {
   "cell_type": "code",
   "execution_count": 33,
   "metadata": {},
   "outputs": [],
   "source": [
    "def create_model(args):\n",
    "    inputs = Input(batch_shape=(args.batch_size, 1, args.num_items))\n",
    "    gru, _ = GRU(args.hsz, stateful=True, return_state=True, name='GRU')(inputs)\n",
    "    dropout = Dropout(args.drop_rate)(gru)\n",
    "    predictions = Dense(args.num_items, activation='softmax')(dropout)\n",
    "    model = Model(inputs=inputs, outputs=[predictions])\n",
    "    model.compile(loss=categorical_crossentropy, optimizer=Adam(args.lr), metrics=['accuracy'])\n",
    "    model.summary()\n",
    "    return model"
   ]
  },
  {
   "cell_type": "code",
   "execution_count": 34,
   "metadata": {},
   "outputs": [],
   "source": [
    "# 모델에 사용할 하이퍼파라미터를 class 형태로 관리\n",
    "\n",
    "class Args:\n",
    "    def __init__(self, tr, val, test, batch_size, hsz, drop_rate, lr, epochs, k):\n",
    "        self.tr = tr\n",
    "        self.val = val\n",
    "        self.test = test\n",
    "        self.num_items = tr['ItemId'].nunique()\n",
    "        self.num_sessions = tr['SessionId'].nunique()\n",
    "        self.batch_size = batch_size\n",
    "        self.hsz = hsz\n",
    "        self.drop_rate = drop_rate\n",
    "        self.lr = lr\n",
    "        self.epochs = epochs\n",
    "        self.k = k\n",
    "\n",
    "args = Args(tr, val, test, batch_size=2048, hsz=50, drop_rate=0.1, lr=0.001, epochs=3, k=20)"
   ]
  },
  {
   "cell_type": "code",
   "execution_count": 35,
   "metadata": {},
   "outputs": [
    {
     "name": "stdout",
     "output_type": "stream",
     "text": [
      "Model: \"functional_1\"\n",
      "_________________________________________________________________\n",
      "Layer (type)                 Output Shape              Param #   \n",
      "=================================================================\n",
      "input_1 (InputLayer)         [(2048, 1, 20153)]        0         \n",
      "_________________________________________________________________\n",
      "GRU (GRU)                    [(2048, 50), (2048, 50)]  3030750   \n",
      "_________________________________________________________________\n",
      "dropout (Dropout)            (2048, 50)                0         \n",
      "_________________________________________________________________\n",
      "dense (Dense)                (2048, 20153)             1027803   \n",
      "=================================================================\n",
      "Total params: 4,058,553\n",
      "Trainable params: 4,058,553\n",
      "Non-trainable params: 0\n",
      "_________________________________________________________________\n"
     ]
    }
   ],
   "source": [
    "model = create_model(args)"
   ]
  },
  {
   "cell_type": "markdown",
   "metadata": {},
   "source": [
    "### Model Training"
   ]
  },
  {
   "cell_type": "code",
   "execution_count": 36,
   "metadata": {},
   "outputs": [],
   "source": [
    "# train 셋으로 학습하면서 valid 셋으로 검증합니다.\n",
    "def train_model(model, args):\n",
    "    train_dataset = SessionDataset(args.tr)\n",
    "    train_loader = SessionDataLoader(train_dataset, batch_size=args.batch_size)\n",
    "\n",
    "    for epoch in range(1, args.epochs + 1):\n",
    "        total_step = len(args.tr) - args.tr['SessionId'].nunique()\n",
    "        tr_loader = tqdm(train_loader, total=total_step // args.batch_size, desc='Train', mininterval=1)\n",
    "        for feat, target, mask in tr_loader:\n",
    "            reset_hidden_states(model, mask)  # 종료된 session은 hidden_state를 초기화합니다. 아래 메서드에서 확인해주세요.\n",
    "\n",
    "            input_ohe = to_categorical(feat, num_classes=args.num_items)\n",
    "            input_ohe = np.expand_dims(input_ohe, axis=1)\n",
    "            target_ohe = to_categorical(target, num_classes=args.num_items)\n",
    "\n",
    "            result = model.train_on_batch(input_ohe, target_ohe)\n",
    "            tr_loader.set_postfix(train_loss=result[0], accuracy = result[1])\n",
    "\n",
    "        val_recall, val_mrr = get_metrics(args.val, model, args, args.k)  # valid set에 대해 검증합니다.\n",
    "\n",
    "        print(f\"\\t - Recall@{args.k} epoch {epoch}: {val_recall:3f}\")\n",
    "        print(f\"\\t - MRR@{args.k}    epoch {epoch}: {val_mrr:3f}\\n\")\n",
    "\n",
    "\n",
    "def reset_hidden_states(model, mask):\n",
    "    gru_layer = model.get_layer(name='GRU')  # model에서 gru layer를 가져옵니다.\n",
    "    hidden_states = gru_layer.states[0].numpy()  # gru_layer의 parameter를 가져옵니다.\n",
    "    for elt in mask:  # mask된 인덱스 즉, 종료된 세션의 인덱스를 돌면서\n",
    "        hidden_states[elt, :] = 0  # parameter를 초기화 합니다.\n",
    "    gru_layer.reset_states(states=hidden_states)\n",
    "\n",
    "\n",
    "def get_metrics(data, model, args, k: int):  # valid셋과 test셋을 평가하는 코드입니다. \n",
    "                                             # train과 거의 같지만 mrr, recall을 구하는 라인이 있습니다.\n",
    "    dataset = SessionDataset(data)\n",
    "    loader = SessionDataLoader(dataset, batch_size=args.batch_size)\n",
    "    recall_list, mrr_list = [], []\n",
    "\n",
    "    total_step = len(data) - data['SessionId'].nunique()\n",
    "    for inputs, label, mask in tqdm(loader, total=total_step // args.batch_size, desc='Evaluation', mininterval=1):\n",
    "        reset_hidden_states(model, mask)\n",
    "        input_ohe = to_categorical(inputs, num_classes=args.num_items)\n",
    "        input_ohe = np.expand_dims(input_ohe, axis=1)\n",
    "\n",
    "        pred = model.predict(input_ohe, batch_size=args.batch_size)\n",
    "        pred_arg = tf.argsort(pred, direction='DESCENDING')  # softmax 값이 큰 순서대로 sorting 합니다.\n",
    "\n",
    "        length = len(inputs)\n",
    "        recall_list.extend([recall_k(pred_arg[i], label[i], k) for i in range(length)])\n",
    "        mrr_list.extend([mrr_k(pred_arg[i], label[i], k) for i in range(length)])\n",
    "\n",
    "    recall, mrr = np.mean(recall_list), np.mean(mrr_list)\n",
    "    return recall, mrr"
   ]
  },
  {
   "cell_type": "code",
   "execution_count": null,
   "metadata": {},
   "outputs": [],
   "source": [
    "# 학습 시간이 다소 오래 소요됩니다. (예상시간 1시간)\n",
    "train_model(model, args)"
   ]
  },
  {
   "cell_type": "markdown",
   "metadata": {},
   "source": [
    "### Inference"
   ]
  },
  {
   "cell_type": "code",
   "execution_count": null,
   "metadata": {},
   "outputs": [],
   "source": [
    "def test_model(model, args, test):\n",
    "    test_recall, test_mrr = get_metrics(test, model, args, 20)\n",
    "    print(f\"\\t - Recall@{args.k}: {test_recall:3f}\")\n",
    "    print(f\"\\t - MRR@{args.k}: {test_mrr:3f}\\n\")\n",
    "\n",
    "test_model(model, args, test)"
   ]
  },
  {
   "cell_type": "markdown",
   "metadata": {},
   "source": [
    "## 프로젝트: Movielens 영화 SBR\n",
    "* ```Movielens 1M Dataset```\n",
    "\n",
    "```\n",
    "$ wget http://files.grouplens.org/datasets/movielens/ml-1m.zip\n",
    "$ unzip ml-1m.zip\n",
    "```"
   ]
  },
  {
   "cell_type": "code",
   "execution_count": 37,
   "metadata": {},
   "outputs": [
    {
     "data": {
      "text/html": [
       "<div>\n",
       "<style scoped>\n",
       "    .dataframe tbody tr th:only-of-type {\n",
       "        vertical-align: middle;\n",
       "    }\n",
       "\n",
       "    .dataframe tbody tr th {\n",
       "        vertical-align: top;\n",
       "    }\n",
       "\n",
       "    .dataframe thead th {\n",
       "        text-align: right;\n",
       "    }\n",
       "</style>\n",
       "<table border=\"1\" class=\"dataframe\">\n",
       "  <thead>\n",
       "    <tr style=\"text-align: right;\">\n",
       "      <th></th>\n",
       "      <th>UserId</th>\n",
       "      <th>ItemId</th>\n",
       "      <th>Rating</th>\n",
       "      <th>Time</th>\n",
       "    </tr>\n",
       "  </thead>\n",
       "  <tbody>\n",
       "    <tr>\n",
       "      <th>31</th>\n",
       "      <td>1</td>\n",
       "      <td>3186</td>\n",
       "      <td>4</td>\n",
       "      <td>978300019</td>\n",
       "    </tr>\n",
       "    <tr>\n",
       "      <th>22</th>\n",
       "      <td>1</td>\n",
       "      <td>1270</td>\n",
       "      <td>5</td>\n",
       "      <td>978300055</td>\n",
       "    </tr>\n",
       "    <tr>\n",
       "      <th>27</th>\n",
       "      <td>1</td>\n",
       "      <td>1721</td>\n",
       "      <td>4</td>\n",
       "      <td>978300055</td>\n",
       "    </tr>\n",
       "    <tr>\n",
       "      <th>37</th>\n",
       "      <td>1</td>\n",
       "      <td>1022</td>\n",
       "      <td>5</td>\n",
       "      <td>978300055</td>\n",
       "    </tr>\n",
       "    <tr>\n",
       "      <th>24</th>\n",
       "      <td>1</td>\n",
       "      <td>2340</td>\n",
       "      <td>3</td>\n",
       "      <td>978300103</td>\n",
       "    </tr>\n",
       "    <tr>\n",
       "      <th>...</th>\n",
       "      <td>...</td>\n",
       "      <td>...</td>\n",
       "      <td>...</td>\n",
       "      <td>...</td>\n",
       "    </tr>\n",
       "    <tr>\n",
       "      <th>1000019</th>\n",
       "      <td>6040</td>\n",
       "      <td>2917</td>\n",
       "      <td>4</td>\n",
       "      <td>997454429</td>\n",
       "    </tr>\n",
       "    <tr>\n",
       "      <th>999988</th>\n",
       "      <td>6040</td>\n",
       "      <td>1921</td>\n",
       "      <td>4</td>\n",
       "      <td>997454464</td>\n",
       "    </tr>\n",
       "    <tr>\n",
       "      <th>1000172</th>\n",
       "      <td>6040</td>\n",
       "      <td>1784</td>\n",
       "      <td>3</td>\n",
       "      <td>997454464</td>\n",
       "    </tr>\n",
       "    <tr>\n",
       "      <th>1000167</th>\n",
       "      <td>6040</td>\n",
       "      <td>161</td>\n",
       "      <td>3</td>\n",
       "      <td>997454486</td>\n",
       "    </tr>\n",
       "    <tr>\n",
       "      <th>1000042</th>\n",
       "      <td>6040</td>\n",
       "      <td>1221</td>\n",
       "      <td>4</td>\n",
       "      <td>998315055</td>\n",
       "    </tr>\n",
       "  </tbody>\n",
       "</table>\n",
       "<p>1000209 rows × 4 columns</p>\n",
       "</div>"
      ],
      "text/plain": [
       "         UserId  ItemId  Rating       Time\n",
       "31            1    3186       4  978300019\n",
       "22            1    1270       5  978300055\n",
       "27            1    1721       4  978300055\n",
       "37            1    1022       5  978300055\n",
       "24            1    2340       3  978300103\n",
       "...         ...     ...     ...        ...\n",
       "1000019    6040    2917       4  997454429\n",
       "999988     6040    1921       4  997454464\n",
       "1000172    6040    1784       3  997454464\n",
       "1000167    6040     161       3  997454486\n",
       "1000042    6040    1221       4  998315055\n",
       "\n",
       "[1000209 rows x 4 columns]"
      ]
     },
     "execution_count": 37,
     "metadata": {},
     "output_type": "execute_result"
    }
   ],
   "source": [
    "data_path = Path('yoochoose-data/ml-1m')\n",
    "train_path = data_path / 'ratings.dat'\n",
    "\n",
    "def load_data(data_path: Path, nrows=None):\n",
    "    data = pd.read_csv(data_path, sep='::', header=None, usecols=[0, 1, 2, 3], dtype={0: np.int32, 1: np.int32, 2: np.int32}, nrows=nrows)\n",
    "    data.columns = ['UserId', 'ItemId', 'Rating', 'Time']\n",
    "    return data\n",
    "\n",
    "data = load_data(train_path, None)\n",
    "data.sort_values(['UserId', 'Time'], inplace=True)  # data를 id와 시간 순서로 정렬해줍니다.\n",
    "data"
   ]
  },
  {
   "cell_type": "markdown",
   "metadata": {},
   "source": [
    "### 데이터 전처리\n",
    "* 항목별 기본 분석, session length, session time, cleaning\n",
    "* 이 데이터셋은 session이 UserID 단위로 데이터가 생성되어 있으므로, 이를 session 단위로 어떻게 해석할지에 주의"
   ]
  },
  {
   "cell_type": "code",
   "execution_count": 38,
   "metadata": {},
   "outputs": [
    {
     "data": {
      "text/plain": [
       "(6040, 3706)"
      ]
     },
     "execution_count": 38,
     "metadata": {},
     "output_type": "execute_result"
    }
   ],
   "source": [
    "# 유저 수와 아이템 수 확인\n",
    "\n",
    "data['UserId'].nunique(), data['ItemId'].nunique()"
   ]
  },
  {
   "cell_type": "code",
   "execution_count": 39,
   "metadata": {},
   "outputs": [
    {
     "data": {
      "text/plain": [
       "UserId\n",
       "1        53\n",
       "2       129\n",
       "3        51\n",
       "4        21\n",
       "5       198\n",
       "       ... \n",
       "6036    888\n",
       "6037    202\n",
       "6038     20\n",
       "6039    123\n",
       "6040    341\n",
       "Length: 6040, dtype: int64"
      ]
     },
     "execution_count": 39,
     "metadata": {},
     "output_type": "execute_result"
    }
   ],
   "source": [
    "session_length = data.groupby('UserId').size() # 각 세션이 대략 몇 개의 클릭 데이터를 갖는가?\n",
    "session_length"
   ]
  },
  {
   "cell_type": "code",
   "execution_count": 40,
   "metadata": {},
   "outputs": [
    {
     "data": {
      "text/plain": [
       "(96.0, 165.5975165562914)"
      ]
     },
     "execution_count": 40,
     "metadata": {},
     "output_type": "execute_result"
    }
   ],
   "source": [
    "session_length.median(), session_length.mean()"
   ]
  },
  {
   "cell_type": "code",
   "execution_count": 41,
   "metadata": {},
   "outputs": [
    {
     "data": {
      "text/plain": [
       "(20, 2314)"
      ]
     },
     "execution_count": 41,
     "metadata": {},
     "output_type": "execute_result"
    }
   ],
   "source": [
    "session_length.min(), session_length.max()"
   ]
  },
  {
   "cell_type": "code",
   "execution_count": 42,
   "metadata": {},
   "outputs": [
    {
     "data": {
      "text/plain": [
       "1343.181000000005"
      ]
     },
     "execution_count": 42,
     "metadata": {},
     "output_type": "execute_result"
    }
   ],
   "source": [
    "session_length.quantile(0.999) # 99.9%의 세션은 길이 1343.181 이하"
   ]
  },
  {
   "cell_type": "code",
   "execution_count": 43,
   "metadata": {},
   "outputs": [
    {
     "data": {
      "text/html": [
       "<div>\n",
       "<style scoped>\n",
       "    .dataframe tbody tr th:only-of-type {\n",
       "        vertical-align: middle;\n",
       "    }\n",
       "\n",
       "    .dataframe tbody tr th {\n",
       "        vertical-align: top;\n",
       "    }\n",
       "\n",
       "    .dataframe thead th {\n",
       "        text-align: right;\n",
       "    }\n",
       "</style>\n",
       "<table border=\"1\" class=\"dataframe\">\n",
       "  <thead>\n",
       "    <tr style=\"text-align: right;\">\n",
       "      <th></th>\n",
       "      <th>UserId</th>\n",
       "      <th>ItemId</th>\n",
       "      <th>Rating</th>\n",
       "      <th>Time</th>\n",
       "    </tr>\n",
       "  </thead>\n",
       "  <tbody>\n",
       "    <tr>\n",
       "      <th>137631</th>\n",
       "      <td>889</td>\n",
       "      <td>1266</td>\n",
       "      <td>3</td>\n",
       "      <td>975247862</td>\n",
       "    </tr>\n",
       "    <tr>\n",
       "      <th>137864</th>\n",
       "      <td>889</td>\n",
       "      <td>2430</td>\n",
       "      <td>3</td>\n",
       "      <td>975247862</td>\n",
       "    </tr>\n",
       "    <tr>\n",
       "      <th>137889</th>\n",
       "      <td>889</td>\n",
       "      <td>1643</td>\n",
       "      <td>3</td>\n",
       "      <td>975247862</td>\n",
       "    </tr>\n",
       "    <tr>\n",
       "      <th>138039</th>\n",
       "      <td>889</td>\n",
       "      <td>3461</td>\n",
       "      <td>3</td>\n",
       "      <td>975247862</td>\n",
       "    </tr>\n",
       "    <tr>\n",
       "      <th>138316</th>\n",
       "      <td>889</td>\n",
       "      <td>1193</td>\n",
       "      <td>1</td>\n",
       "      <td>975247862</td>\n",
       "    </tr>\n",
       "    <tr>\n",
       "      <th>...</th>\n",
       "      <td>...</td>\n",
       "      <td>...</td>\n",
       "      <td>...</td>\n",
       "      <td>...</td>\n",
       "    </tr>\n",
       "    <tr>\n",
       "      <th>138285</th>\n",
       "      <td>889</td>\n",
       "      <td>1322</td>\n",
       "      <td>1</td>\n",
       "      <td>975364486</td>\n",
       "    </tr>\n",
       "    <tr>\n",
       "      <th>138292</th>\n",
       "      <td>889</td>\n",
       "      <td>1328</td>\n",
       "      <td>1</td>\n",
       "      <td>975364486</td>\n",
       "    </tr>\n",
       "    <tr>\n",
       "      <th>139033</th>\n",
       "      <td>889</td>\n",
       "      <td>2974</td>\n",
       "      <td>2</td>\n",
       "      <td>975364486</td>\n",
       "    </tr>\n",
       "    <tr>\n",
       "      <th>137720</th>\n",
       "      <td>889</td>\n",
       "      <td>3047</td>\n",
       "      <td>5</td>\n",
       "      <td>975364518</td>\n",
       "    </tr>\n",
       "    <tr>\n",
       "      <th>138794</th>\n",
       "      <td>889</td>\n",
       "      <td>3713</td>\n",
       "      <td>4</td>\n",
       "      <td>975364518</td>\n",
       "    </tr>\n",
       "  </tbody>\n",
       "</table>\n",
       "<p>1518 rows × 4 columns</p>\n",
       "</div>"
      ],
      "text/plain": [
       "        UserId  ItemId  Rating       Time\n",
       "137631     889    1266       3  975247862\n",
       "137864     889    2430       3  975247862\n",
       "137889     889    1643       3  975247862\n",
       "138039     889    3461       3  975247862\n",
       "138316     889    1193       1  975247862\n",
       "...        ...     ...     ...        ...\n",
       "138285     889    1322       1  975364486\n",
       "138292     889    1328       1  975364486\n",
       "139033     889    2974       2  975364486\n",
       "137720     889    3047       5  975364518\n",
       "138794     889    3713       4  975364518\n",
       "\n",
       "[1518 rows x 4 columns]"
      ]
     },
     "execution_count": 43,
     "metadata": {},
     "output_type": "execute_result"
    }
   ],
   "source": [
    "# 길이가 가장 긴 (session_length=max) 하나의 세션만 살펴보기\n",
    "\n",
    "long_session = session_length[session_length>=1343.181000000005].index[0]\n",
    "data[data['UserId']==long_session]"
   ]
  },
  {
   "cell_type": "code",
   "execution_count": 44,
   "metadata": {},
   "outputs": [
    {
     "data": {
      "image/png": "[encoded data removed]",
      "text/plain": [
       "<Figure size 1440x720 with 1 Axes>"
      ]
     },
     "metadata": {
      "needs_background": "light"
     },
     "output_type": "display_data"
    }
   ],
   "source": [
    "# 시각화\n",
    "\n",
    "length_count = session_length.groupby(session_length).size()\n",
    "length_percent_cumsum = length_count.cumsum() / length_count.sum()\n",
    "length_percent_cumsum_999 = length_percent_cumsum[length_percent_cumsum < 0.999]\n",
    "\n",
    "plt.figure(figsize=(20, 10))\n",
    "plt.bar(x=length_percent_cumsum_999.index,\n",
    "        height=length_percent_cumsum_999, color='red')\n",
    "plt.xticks(length_percent_cumsum_999.index)\n",
    "plt.yticks(np.arange(0, 1.01, 0.05))\n",
    "plt.title('Cumsum Percentage Until 0.999', size=20)\n",
    "plt.show()"
   ]
  },
  {
   "cell_type": "code",
   "execution_count": 45,
   "metadata": {},
   "outputs": [
    {
     "name": "stdout",
     "output_type": "stream",
     "text": [
      "2000-04-25 23:05:32\n",
      "2003-02-28 17:49:50\n"
     ]
    }
   ],
   "source": [
    "# 시간 관련 정보 확인\n",
    "\n",
    "# unix timestamp 형식인 Time 컬럼을 datetime 객체로 변경\n",
    "# https://stackoverflow.com/questions/3682748/converting-unix-timestamp-string-to-readable-date\n",
    "# https://www.kite.com/python/answers/how-to-modify-all-the-values-in-a-pandas-dataframe-column-in-python\n",
    "data['Time'] = data['Time'].apply(lambda x:dt.datetime.utcfromtimestamp(int(x)))\n",
    "\n",
    "oldest, latest = data['Time'].min(), data['Time'].max()\n",
    "print(oldest) \n",
    "print(latest) # oldest~latest: 총 2년 10개월치"
   ]
  },
  {
   "cell_type": "code",
   "execution_count": null,
   "metadata": {},
   "outputs": [],
   "source": [
    "# timedelta: 날짜끼리의 차이를 구할 때 사용\n",
    "'''\n",
    "month_ago = latest - dt.timedelta(365) # 최근 1년 한정\n",
    "data = data[data['Time'] > month_ago]\n",
    "data\n",
    "'''"
   ]
  },
  {
   "cell_type": "code",
   "execution_count": 46,
   "metadata": {},
   "outputs": [],
   "source": [
    "# SessionId -> UserId로 변경\n",
    "def cleanse_short_session(data: pd.DataFrame, shortest):\n",
    "    session_len = data.groupby('UserId').size()\n",
    "    session_use = session_len[session_len >= shortest].index\n",
    "    data = data[data['UserId'].isin(session_use)]\n",
    "    return data"
   ]
  },
  {
   "cell_type": "code",
   "execution_count": 47,
   "metadata": {},
   "outputs": [
    {
     "data": {
      "text/html": [
       "<div>\n",
       "<style scoped>\n",
       "    .dataframe tbody tr th:only-of-type {\n",
       "        vertical-align: middle;\n",
       "    }\n",
       "\n",
       "    .dataframe tbody tr th {\n",
       "        vertical-align: top;\n",
       "    }\n",
       "\n",
       "    .dataframe thead th {\n",
       "        text-align: right;\n",
       "    }\n",
       "</style>\n",
       "<table border=\"1\" class=\"dataframe\">\n",
       "  <thead>\n",
       "    <tr style=\"text-align: right;\">\n",
       "      <th></th>\n",
       "      <th>UserId</th>\n",
       "      <th>ItemId</th>\n",
       "      <th>Rating</th>\n",
       "      <th>Time</th>\n",
       "    </tr>\n",
       "  </thead>\n",
       "  <tbody>\n",
       "    <tr>\n",
       "      <th>31</th>\n",
       "      <td>1</td>\n",
       "      <td>3186</td>\n",
       "      <td>4</td>\n",
       "      <td>2000-12-31 22:00:19</td>\n",
       "    </tr>\n",
       "    <tr>\n",
       "      <th>22</th>\n",
       "      <td>1</td>\n",
       "      <td>1270</td>\n",
       "      <td>5</td>\n",
       "      <td>2000-12-31 22:00:55</td>\n",
       "    </tr>\n",
       "    <tr>\n",
       "      <th>27</th>\n",
       "      <td>1</td>\n",
       "      <td>1721</td>\n",
       "      <td>4</td>\n",
       "      <td>2000-12-31 22:00:55</td>\n",
       "    </tr>\n",
       "    <tr>\n",
       "      <th>37</th>\n",
       "      <td>1</td>\n",
       "      <td>1022</td>\n",
       "      <td>5</td>\n",
       "      <td>2000-12-31 22:00:55</td>\n",
       "    </tr>\n",
       "    <tr>\n",
       "      <th>24</th>\n",
       "      <td>1</td>\n",
       "      <td>2340</td>\n",
       "      <td>3</td>\n",
       "      <td>2000-12-31 22:01:43</td>\n",
       "    </tr>\n",
       "    <tr>\n",
       "      <th>...</th>\n",
       "      <td>...</td>\n",
       "      <td>...</td>\n",
       "      <td>...</td>\n",
       "      <td>...</td>\n",
       "    </tr>\n",
       "    <tr>\n",
       "      <th>1000019</th>\n",
       "      <td>6040</td>\n",
       "      <td>2917</td>\n",
       "      <td>4</td>\n",
       "      <td>2001-08-10 14:40:29</td>\n",
       "    </tr>\n",
       "    <tr>\n",
       "      <th>999988</th>\n",
       "      <td>6040</td>\n",
       "      <td>1921</td>\n",
       "      <td>4</td>\n",
       "      <td>2001-08-10 14:41:04</td>\n",
       "    </tr>\n",
       "    <tr>\n",
       "      <th>1000172</th>\n",
       "      <td>6040</td>\n",
       "      <td>1784</td>\n",
       "      <td>3</td>\n",
       "      <td>2001-08-10 14:41:04</td>\n",
       "    </tr>\n",
       "    <tr>\n",
       "      <th>1000167</th>\n",
       "      <td>6040</td>\n",
       "      <td>161</td>\n",
       "      <td>3</td>\n",
       "      <td>2001-08-10 14:41:26</td>\n",
       "    </tr>\n",
       "    <tr>\n",
       "      <th>1000042</th>\n",
       "      <td>6040</td>\n",
       "      <td>1221</td>\n",
       "      <td>4</td>\n",
       "      <td>2001-08-20 13:44:15</td>\n",
       "    </tr>\n",
       "  </tbody>\n",
       "</table>\n",
       "<p>999611 rows × 4 columns</p>\n",
       "</div>"
      ],
      "text/plain": [
       "         UserId  ItemId  Rating                Time\n",
       "31            1    3186       4 2000-12-31 22:00:19\n",
       "22            1    1270       5 2000-12-31 22:00:55\n",
       "27            1    1721       4 2000-12-31 22:00:55\n",
       "37            1    1022       5 2000-12-31 22:00:55\n",
       "24            1    2340       3 2000-12-31 22:01:43\n",
       "...         ...     ...     ...                 ...\n",
       "1000019    6040    2917       4 2001-08-10 14:40:29\n",
       "999988     6040    1921       4 2001-08-10 14:41:04\n",
       "1000172    6040    1784       3 2001-08-10 14:41:04\n",
       "1000167    6040     161       3 2001-08-10 14:41:26\n",
       "1000042    6040    1221       4 2001-08-20 13:44:15\n",
       "\n",
       "[999611 rows x 4 columns]"
      ]
     },
     "execution_count": 47,
     "metadata": {},
     "output_type": "execute_result"
    }
   ],
   "source": [
    "# 평가를 많이 하거나, 적게 했다고 abuse 여부를 따지긴 어렵지 않나?\n",
    "data = cleanse_recursive(data, shortest=2, least_click=5)\n",
    "data"
   ]
  },
  {
   "cell_type": "code",
   "execution_count": null,
   "metadata": {},
   "outputs": [],
   "source": [
    "# SessionId -> UserId로 변경\n",
    "'''\n",
    "def split_by_date(data: pd.DataFrame, n_days: int):\n",
    "    final_time = data['Time'].max()\n",
    "    session_last_time = data.groupby('UserId')['Time'].max()\n",
    "    session_in_train = session_last_time[session_last_time < final_time - dt.timedelta(n_days)].index\n",
    "    session_in_test = session_last_time[session_last_time >= final_time - dt.timedelta(n_days)].index\n",
    "\n",
    "    before_date = data[data['UserId'].isin(session_in_train)]\n",
    "    after_date = data[data['UserId'].isin(session_in_test)]\n",
    "    after_date = after_date[after_date['ItemId'].isin(before_date['ItemId'])]\n",
    "    return before_date, after_date\n",
    "\n",
    "# train / valid / test split\n",
    "data_train, data_test = split_by_date(data, n_days=1)\n",
    "data_train, data_val = split_by_date(data_train, n_days=1)\n",
    "'''"
   ]
  },
  {
   "cell_type": "code",
   "execution_count": 50,
   "metadata": {},
   "outputs": [
    {
     "data": {
      "text/plain": [
       "(999611, 4)"
      ]
     },
     "execution_count": 50,
     "metadata": {},
     "output_type": "execute_result"
    }
   ],
   "source": [
    "data.sort_values(by=['Time'], inplace=True) # https://pandas.pydata.org/pandas-docs/stable/reference/api/pandas.DataFrame.sort_values.html\n",
    "data.shape"
   ]
  },
  {
   "cell_type": "code",
   "execution_count": 51,
   "metadata": {},
   "outputs": [
    {
     "data": {
      "text/html": [
       "<div>\n",
       "<style scoped>\n",
       "    .dataframe tbody tr th:only-of-type {\n",
       "        vertical-align: middle;\n",
       "    }\n",
       "\n",
       "    .dataframe tbody tr th {\n",
       "        vertical-align: top;\n",
       "    }\n",
       "\n",
       "    .dataframe thead th {\n",
       "        text-align: right;\n",
       "    }\n",
       "</style>\n",
       "<table border=\"1\" class=\"dataframe\">\n",
       "  <thead>\n",
       "    <tr style=\"text-align: right;\">\n",
       "      <th></th>\n",
       "      <th>UserId</th>\n",
       "      <th>ItemId</th>\n",
       "      <th>Rating</th>\n",
       "      <th>Time</th>\n",
       "    </tr>\n",
       "  </thead>\n",
       "  <tbody>\n",
       "    <tr>\n",
       "      <th>1000138</th>\n",
       "      <td>6040</td>\n",
       "      <td>858</td>\n",
       "      <td>4</td>\n",
       "      <td>2000-04-25 23:05:32</td>\n",
       "    </tr>\n",
       "    <tr>\n",
       "      <th>999873</th>\n",
       "      <td>6040</td>\n",
       "      <td>593</td>\n",
       "      <td>5</td>\n",
       "      <td>2000-04-25 23:05:54</td>\n",
       "    </tr>\n",
       "    <tr>\n",
       "      <th>1000153</th>\n",
       "      <td>6040</td>\n",
       "      <td>2384</td>\n",
       "      <td>4</td>\n",
       "      <td>2000-04-25 23:05:54</td>\n",
       "    </tr>\n",
       "    <tr>\n",
       "      <th>1000007</th>\n",
       "      <td>6040</td>\n",
       "      <td>1961</td>\n",
       "      <td>4</td>\n",
       "      <td>2000-04-25 23:06:17</td>\n",
       "    </tr>\n",
       "    <tr>\n",
       "      <th>1000192</th>\n",
       "      <td>6040</td>\n",
       "      <td>2019</td>\n",
       "      <td>5</td>\n",
       "      <td>2000-04-25 23:06:17</td>\n",
       "    </tr>\n",
       "  </tbody>\n",
       "</table>\n",
       "</div>"
      ],
      "text/plain": [
       "         UserId  ItemId  Rating                Time\n",
       "1000138    6040     858       4 2000-04-25 23:05:32\n",
       "999873     6040     593       5 2000-04-25 23:05:54\n",
       "1000153    6040    2384       4 2000-04-25 23:05:54\n",
       "1000007    6040    1961       4 2000-04-25 23:06:17\n",
       "1000192    6040    2019       5 2000-04-25 23:06:17"
      ]
     },
     "execution_count": 51,
     "metadata": {},
     "output_type": "execute_result"
    }
   ],
   "source": [
    "data.head()"
   ]
  },
  {
   "cell_type": "code",
   "execution_count": 52,
   "metadata": {},
   "outputs": [
    {
     "data": {
      "text/html": [
       "<div>\n",
       "<style scoped>\n",
       "    .dataframe tbody tr th:only-of-type {\n",
       "        vertical-align: middle;\n",
       "    }\n",
       "\n",
       "    .dataframe tbody tr th {\n",
       "        vertical-align: top;\n",
       "    }\n",
       "\n",
       "    .dataframe thead th {\n",
       "        text-align: right;\n",
       "    }\n",
       "</style>\n",
       "<table border=\"1\" class=\"dataframe\">\n",
       "  <thead>\n",
       "    <tr style=\"text-align: right;\">\n",
       "      <th></th>\n",
       "      <th>UserId</th>\n",
       "      <th>ItemId</th>\n",
       "      <th>Rating</th>\n",
       "      <th>Time</th>\n",
       "    </tr>\n",
       "  </thead>\n",
       "  <tbody>\n",
       "    <tr>\n",
       "      <th>825793</th>\n",
       "      <td>4958</td>\n",
       "      <td>2399</td>\n",
       "      <td>1</td>\n",
       "      <td>2003-02-28 17:45:38</td>\n",
       "    </tr>\n",
       "    <tr>\n",
       "      <th>825438</th>\n",
       "      <td>4958</td>\n",
       "      <td>1407</td>\n",
       "      <td>5</td>\n",
       "      <td>2003-02-28 17:47:23</td>\n",
       "    </tr>\n",
       "    <tr>\n",
       "      <th>825724</th>\n",
       "      <td>4958</td>\n",
       "      <td>3264</td>\n",
       "      <td>4</td>\n",
       "      <td>2003-02-28 17:49:08</td>\n",
       "    </tr>\n",
       "    <tr>\n",
       "      <th>825731</th>\n",
       "      <td>4958</td>\n",
       "      <td>2634</td>\n",
       "      <td>3</td>\n",
       "      <td>2003-02-28 17:49:08</td>\n",
       "    </tr>\n",
       "    <tr>\n",
       "      <th>825603</th>\n",
       "      <td>4958</td>\n",
       "      <td>1924</td>\n",
       "      <td>4</td>\n",
       "      <td>2003-02-28 17:49:50</td>\n",
       "    </tr>\n",
       "  </tbody>\n",
       "</table>\n",
       "</div>"
      ],
      "text/plain": [
       "        UserId  ItemId  Rating                Time\n",
       "825793    4958    2399       1 2003-02-28 17:45:38\n",
       "825438    4958    1407       5 2003-02-28 17:47:23\n",
       "825724    4958    3264       4 2003-02-28 17:49:08\n",
       "825731    4958    2634       3 2003-02-28 17:49:08\n",
       "825603    4958    1924       4 2003-02-28 17:49:50"
      ]
     },
     "execution_count": 52,
     "metadata": {},
     "output_type": "execute_result"
    }
   ],
   "source": [
    "data.tail()"
   ]
  },
  {
   "cell_type": "code",
   "execution_count": 56,
   "metadata": {},
   "outputs": [],
   "source": [
    "# split\n",
    "data_train = data[:700000]\n",
    "data_val = data[700000:850000]\n",
    "data_test = data[850000:]"
   ]
  },
  {
   "cell_type": "code",
   "execution_count": 57,
   "metadata": {},
   "outputs": [],
   "source": [
    "# SessionId -> UserId로 변경\n",
    "def stats_info(data: pd.DataFrame, status: str):\n",
    "    print(f'* {status} Set Stats Info\\n'\n",
    "          f'\\t Events: {len(data)}\\n'\n",
    "          f'\\t Users (Sessions): {data[\"UserId\"].nunique()}\\n'\n",
    "          f'\\t Items: {data[\"ItemId\"].nunique()}\\n'\n",
    "          f'\\t First Time : {data[\"Time\"].min()}\\n'\n",
    "          f'\\t Last Time : {data[\"Time\"].max()}\\n')"
   ]
  },
  {
   "cell_type": "code",
   "execution_count": 58,
   "metadata": {},
   "outputs": [
    {
     "name": "stdout",
     "output_type": "stream",
     "text": [
      "* train Set Stats Info\n",
      "\t Events: 700000\n",
      "\t Users (Sessions): 4870\n",
      "\t Items: 3408\n",
      "\t First Time : 2000-04-25 23:05:32\n",
      "\t Last Time : 2000-11-22 03:15:20\n",
      "\n",
      "* valid Set Stats Info\n",
      "\t Events: 150000\n",
      "\t Users (Sessions): 1348\n",
      "\t Items: 3351\n",
      "\t First Time : 2000-11-22 03:15:23\n",
      "\t Last Time : 2000-12-10 04:52:34\n",
      "\n",
      "* test Set Stats Info\n",
      "\t Events: 149611\n",
      "\t Users (Sessions): 1511\n",
      "\t Items: 3362\n",
      "\t First Time : 2000-12-10 04:52:34\n",
      "\t Last Time : 2003-02-28 17:49:50\n",
      "\n"
     ]
    }
   ],
   "source": [
    "stats_info(data_train, 'train')\n",
    "stats_info(data_val, 'valid')\n",
    "stats_info(data_test, 'test')"
   ]
  },
  {
   "cell_type": "code",
   "execution_count": 59,
   "metadata": {},
   "outputs": [],
   "source": [
    "# train set에 없는 아이템이 val, test기간에 생길 수 있으므로 train data를 기준으로 인덱싱합니다.\n",
    "id2idx = {item_id : index for index, item_id in enumerate(data_train['ItemId'].unique())}\n",
    "\n",
    "def indexing(df, id2idx):\n",
    "    df['item_idx'] = df['ItemId'].map(lambda x: id2idx.get(x, -1))  # id2idx에 없는 아이템은 모르는 값(-1) 처리 해줍니다.\n",
    "    return df\n",
    "\n",
    "data_train = indexing(data_train, id2idx)\n",
    "data_val = indexing(data_val, id2idx)\n",
    "data_test = indexing(data_test, id2idx)"
   ]
  },
  {
   "cell_type": "code",
   "execution_count": 60,
   "metadata": {},
   "outputs": [],
   "source": [
    "save_path = data_path / 'processed'\n",
    "save_path.mkdir(parents=True, exist_ok=True)\n",
    "\n",
    "data_train.to_pickle(save_path / 'train.pkl')\n",
    "data_val.to_pickle(save_path / 'valid.pkl')\n",
    "data_test.to_pickle(save_path / 'test.pkl')"
   ]
  },
  {
   "cell_type": "markdown",
   "metadata": {},
   "source": [
    "### 미니배치 구성\n",
    "* Session-Parallel Mini-Batch의 개념에 따라, 학습 속도의 저하가 최소화될 수 있도록 구성\n",
    "* Session 단위를 어떻게 정의했느냐에 따라서 Session-Parallel Mini-Batch이 굳이 필요하지 않을 수도 있다"
   ]
  },
  {
   "cell_type": "markdown",
   "metadata": {},
   "source": [
    "### 모델 구성"
   ]
  },
  {
   "cell_type": "code",
   "execution_count": 61,
   "metadata": {},
   "outputs": [],
   "source": [
    "# SessionId -> UserId로 변경\n",
    "class SessionDataset:\n",
    "    \"\"\"Credit to yhs-968/pyGRU4REC.\"\"\"\n",
    "\n",
    "    def __init__(self, data):\n",
    "        self.df = data\n",
    "        self.click_offsets = self.get_click_offsets()\n",
    "        self.session_idx = np.arange(self.df['UserId'].nunique())  # indexing to SessionId\n",
    "\n",
    "    def get_click_offsets(self):\n",
    "        \"\"\"\n",
    "        Return the indexes of the first click of each session IDs,\n",
    "        \"\"\"\n",
    "        offsets = np.zeros(self.df['UserId'].nunique() + 1, dtype=np.int32)\n",
    "        offsets[1:] = self.df.groupby('UserId').size().cumsum()\n",
    "        return offsets"
   ]
  },
  {
   "cell_type": "code",
   "execution_count": 62,
   "metadata": {},
   "outputs": [
    {
     "data": {
      "text/html": [
       "<div>\n",
       "<style scoped>\n",
       "    .dataframe tbody tr th:only-of-type {\n",
       "        vertical-align: middle;\n",
       "    }\n",
       "\n",
       "    .dataframe tbody tr th {\n",
       "        vertical-align: top;\n",
       "    }\n",
       "\n",
       "    .dataframe thead th {\n",
       "        text-align: right;\n",
       "    }\n",
       "</style>\n",
       "<table border=\"1\" class=\"dataframe\">\n",
       "  <thead>\n",
       "    <tr style=\"text-align: right;\">\n",
       "      <th></th>\n",
       "      <th>UserId</th>\n",
       "      <th>ItemId</th>\n",
       "      <th>Rating</th>\n",
       "      <th>Time</th>\n",
       "      <th>item_idx</th>\n",
       "    </tr>\n",
       "  </thead>\n",
       "  <tbody>\n",
       "    <tr>\n",
       "      <th>1000138</th>\n",
       "      <td>6040</td>\n",
       "      <td>858</td>\n",
       "      <td>4</td>\n",
       "      <td>2000-04-25 23:05:32</td>\n",
       "      <td>0</td>\n",
       "    </tr>\n",
       "    <tr>\n",
       "      <th>999873</th>\n",
       "      <td>6040</td>\n",
       "      <td>593</td>\n",
       "      <td>5</td>\n",
       "      <td>2000-04-25 23:05:54</td>\n",
       "      <td>1</td>\n",
       "    </tr>\n",
       "    <tr>\n",
       "      <th>1000153</th>\n",
       "      <td>6040</td>\n",
       "      <td>2384</td>\n",
       "      <td>4</td>\n",
       "      <td>2000-04-25 23:05:54</td>\n",
       "      <td>2</td>\n",
       "    </tr>\n",
       "    <tr>\n",
       "      <th>1000007</th>\n",
       "      <td>6040</td>\n",
       "      <td>1961</td>\n",
       "      <td>4</td>\n",
       "      <td>2000-04-25 23:06:17</td>\n",
       "      <td>3</td>\n",
       "    </tr>\n",
       "    <tr>\n",
       "      <th>1000192</th>\n",
       "      <td>6040</td>\n",
       "      <td>2019</td>\n",
       "      <td>5</td>\n",
       "      <td>2000-04-25 23:06:17</td>\n",
       "      <td>4</td>\n",
       "    </tr>\n",
       "    <tr>\n",
       "      <th>999868</th>\n",
       "      <td>6040</td>\n",
       "      <td>573</td>\n",
       "      <td>4</td>\n",
       "      <td>2000-04-25 23:07:36</td>\n",
       "      <td>5</td>\n",
       "    </tr>\n",
       "    <tr>\n",
       "      <th>999877</th>\n",
       "      <td>6040</td>\n",
       "      <td>1419</td>\n",
       "      <td>3</td>\n",
       "      <td>2000-04-25 23:07:36</td>\n",
       "      <td>6</td>\n",
       "    </tr>\n",
       "    <tr>\n",
       "      <th>999920</th>\n",
       "      <td>6040</td>\n",
       "      <td>213</td>\n",
       "      <td>5</td>\n",
       "      <td>2000-04-25 23:07:36</td>\n",
       "      <td>7</td>\n",
       "    </tr>\n",
       "    <tr>\n",
       "      <th>999967</th>\n",
       "      <td>6040</td>\n",
       "      <td>3111</td>\n",
       "      <td>5</td>\n",
       "      <td>2000-04-25 23:07:36</td>\n",
       "      <td>8</td>\n",
       "    </tr>\n",
       "    <tr>\n",
       "      <th>999980</th>\n",
       "      <td>6040</td>\n",
       "      <td>3505</td>\n",
       "      <td>4</td>\n",
       "      <td>2000-04-25 23:07:36</td>\n",
       "      <td>9</td>\n",
       "    </tr>\n",
       "  </tbody>\n",
       "</table>\n",
       "</div>"
      ],
      "text/plain": [
       "         UserId  ItemId  Rating                Time  item_idx\n",
       "1000138    6040     858       4 2000-04-25 23:05:32         0\n",
       "999873     6040     593       5 2000-04-25 23:05:54         1\n",
       "1000153    6040    2384       4 2000-04-25 23:05:54         2\n",
       "1000007    6040    1961       4 2000-04-25 23:06:17         3\n",
       "1000192    6040    2019       5 2000-04-25 23:06:17         4\n",
       "999868     6040     573       4 2000-04-25 23:07:36         5\n",
       "999877     6040    1419       3 2000-04-25 23:07:36         6\n",
       "999920     6040     213       5 2000-04-25 23:07:36         7\n",
       "999967     6040    3111       5 2000-04-25 23:07:36         8\n",
       "999980     6040    3505       4 2000-04-25 23:07:36         9"
      ]
     },
     "execution_count": 62,
     "metadata": {},
     "output_type": "execute_result"
    }
   ],
   "source": [
    "tr_dataset = SessionDataset(data_train)\n",
    "tr_dataset.df.head(10)"
   ]
  },
  {
   "cell_type": "code",
   "execution_count": 63,
   "metadata": {},
   "outputs": [
    {
     "data": {
      "text/plain": [
       "array([     0,     76,    174, ..., 699559, 699682, 700000], dtype=int32)"
      ]
     },
     "execution_count": 63,
     "metadata": {},
     "output_type": "execute_result"
    }
   ],
   "source": [
    "tr_dataset.click_offsets"
   ]
  },
  {
   "cell_type": "code",
   "execution_count": 64,
   "metadata": {},
   "outputs": [
    {
     "data": {
      "text/plain": [
       "array([   0,    1,    2, ..., 4867, 4868, 4869])"
      ]
     },
     "execution_count": 64,
     "metadata": {},
     "output_type": "execute_result"
    }
   ],
   "source": [
    "tr_dataset.session_idx"
   ]
  },
  {
   "cell_type": "code",
   "execution_count": 65,
   "metadata": {},
   "outputs": [
    {
     "data": {
      "text/html": [
       "<div>\n",
       "<style scoped>\n",
       "    .dataframe tbody tr th:only-of-type {\n",
       "        vertical-align: middle;\n",
       "    }\n",
       "\n",
       "    .dataframe tbody tr th {\n",
       "        vertical-align: top;\n",
       "    }\n",
       "\n",
       "    .dataframe thead th {\n",
       "        text-align: right;\n",
       "    }\n",
       "</style>\n",
       "<table border=\"1\" class=\"dataframe\">\n",
       "  <thead>\n",
       "    <tr style=\"text-align: right;\">\n",
       "      <th></th>\n",
       "      <th>UserId</th>\n",
       "      <th>ItemId</th>\n",
       "      <th>Rating</th>\n",
       "      <th>Time</th>\n",
       "      <th>item_idx</th>\n",
       "    </tr>\n",
       "  </thead>\n",
       "  <tbody>\n",
       "    <tr>\n",
       "      <th>1000138</th>\n",
       "      <td>6040</td>\n",
       "      <td>858</td>\n",
       "      <td>4</td>\n",
       "      <td>2000-04-25 23:05:32</td>\n",
       "      <td>0</td>\n",
       "    </tr>\n",
       "    <tr>\n",
       "      <th>999873</th>\n",
       "      <td>6040</td>\n",
       "      <td>593</td>\n",
       "      <td>5</td>\n",
       "      <td>2000-04-25 23:05:54</td>\n",
       "      <td>1</td>\n",
       "    </tr>\n",
       "    <tr>\n",
       "      <th>1000153</th>\n",
       "      <td>6040</td>\n",
       "      <td>2384</td>\n",
       "      <td>4</td>\n",
       "      <td>2000-04-25 23:05:54</td>\n",
       "      <td>2</td>\n",
       "    </tr>\n",
       "    <tr>\n",
       "      <th>1000007</th>\n",
       "      <td>6040</td>\n",
       "      <td>1961</td>\n",
       "      <td>4</td>\n",
       "      <td>2000-04-25 23:06:17</td>\n",
       "      <td>3</td>\n",
       "    </tr>\n",
       "    <tr>\n",
       "      <th>1000192</th>\n",
       "      <td>6040</td>\n",
       "      <td>2019</td>\n",
       "      <td>5</td>\n",
       "      <td>2000-04-25 23:06:17</td>\n",
       "      <td>4</td>\n",
       "    </tr>\n",
       "    <tr>\n",
       "      <th>999868</th>\n",
       "      <td>6040</td>\n",
       "      <td>573</td>\n",
       "      <td>4</td>\n",
       "      <td>2000-04-25 23:07:36</td>\n",
       "      <td>5</td>\n",
       "    </tr>\n",
       "    <tr>\n",
       "      <th>999877</th>\n",
       "      <td>6040</td>\n",
       "      <td>1419</td>\n",
       "      <td>3</td>\n",
       "      <td>2000-04-25 23:07:36</td>\n",
       "      <td>6</td>\n",
       "    </tr>\n",
       "    <tr>\n",
       "      <th>999920</th>\n",
       "      <td>6040</td>\n",
       "      <td>213</td>\n",
       "      <td>5</td>\n",
       "      <td>2000-04-25 23:07:36</td>\n",
       "      <td>7</td>\n",
       "    </tr>\n",
       "    <tr>\n",
       "      <th>999967</th>\n",
       "      <td>6040</td>\n",
       "      <td>3111</td>\n",
       "      <td>5</td>\n",
       "      <td>2000-04-25 23:07:36</td>\n",
       "      <td>8</td>\n",
       "    </tr>\n",
       "    <tr>\n",
       "      <th>999980</th>\n",
       "      <td>6040</td>\n",
       "      <td>3505</td>\n",
       "      <td>4</td>\n",
       "      <td>2000-04-25 23:07:36</td>\n",
       "      <td>9</td>\n",
       "    </tr>\n",
       "    <tr>\n",
       "      <th>1000155</th>\n",
       "      <td>6040</td>\n",
       "      <td>1734</td>\n",
       "      <td>2</td>\n",
       "      <td>2000-04-25 23:08:01</td>\n",
       "      <td>10</td>\n",
       "    </tr>\n",
       "    <tr>\n",
       "      <th>999971</th>\n",
       "      <td>6040</td>\n",
       "      <td>2503</td>\n",
       "      <td>5</td>\n",
       "      <td>2000-04-25 23:09:51</td>\n",
       "      <td>11</td>\n",
       "    </tr>\n",
       "    <tr>\n",
       "      <th>999888</th>\n",
       "      <td>6040</td>\n",
       "      <td>919</td>\n",
       "      <td>5</td>\n",
       "      <td>2000-04-25 23:09:51</td>\n",
       "      <td>12</td>\n",
       "    </tr>\n",
       "    <tr>\n",
       "      <th>999884</th>\n",
       "      <td>6040</td>\n",
       "      <td>912</td>\n",
       "      <td>5</td>\n",
       "      <td>2000-04-25 23:09:51</td>\n",
       "      <td>13</td>\n",
       "    </tr>\n",
       "    <tr>\n",
       "      <th>1000186</th>\n",
       "      <td>6040</td>\n",
       "      <td>527</td>\n",
       "      <td>5</td>\n",
       "      <td>2000-04-25 23:10:19</td>\n",
       "      <td>14</td>\n",
       "    </tr>\n",
       "  </tbody>\n",
       "</table>\n",
       "</div>"
      ],
      "text/plain": [
       "         UserId  ItemId  Rating                Time  item_idx\n",
       "1000138    6040     858       4 2000-04-25 23:05:32         0\n",
       "999873     6040     593       5 2000-04-25 23:05:54         1\n",
       "1000153    6040    2384       4 2000-04-25 23:05:54         2\n",
       "1000007    6040    1961       4 2000-04-25 23:06:17         3\n",
       "1000192    6040    2019       5 2000-04-25 23:06:17         4\n",
       "999868     6040     573       4 2000-04-25 23:07:36         5\n",
       "999877     6040    1419       3 2000-04-25 23:07:36         6\n",
       "999920     6040     213       5 2000-04-25 23:07:36         7\n",
       "999967     6040    3111       5 2000-04-25 23:07:36         8\n",
       "999980     6040    3505       4 2000-04-25 23:07:36         9\n",
       "1000155    6040    1734       2 2000-04-25 23:08:01        10\n",
       "999971     6040    2503       5 2000-04-25 23:09:51        11\n",
       "999888     6040     919       5 2000-04-25 23:09:51        12\n",
       "999884     6040     912       5 2000-04-25 23:09:51        13\n",
       "1000186    6040     527       5 2000-04-25 23:10:19        14"
      ]
     },
     "execution_count": 65,
     "metadata": {},
     "output_type": "execute_result"
    }
   ],
   "source": [
    "tr_data_loader = SessionDataLoader(tr_dataset, batch_size=4)\n",
    "tr_dataset.df.head(15)"
   ]
  },
  {
   "cell_type": "code",
   "execution_count": 66,
   "metadata": {},
   "outputs": [],
   "source": [
    "iter_ex = iter(tr_data_loader)"
   ]
  },
  {
   "cell_type": "code",
   "execution_count": 67,
   "metadata": {},
   "outputs": [
    {
     "name": "stdout",
     "output_type": "stream",
     "text": [
      "Model Input Item Idx are : [  0  76 171 204]\n",
      "Label Item Idx are :       [  1  77 172 205]\n",
      "Previous Masked Input Idx are []\n"
     ]
    }
   ],
   "source": [
    "inputs, labels, mask =  next(iter_ex)\n",
    "print(f'Model Input Item Idx are : {inputs}')\n",
    "print(f'Label Item Idx are : {\"\":5} {labels}')\n",
    "print(f'Previous Masked Input Idx are {mask}')"
   ]
  },
  {
   "cell_type": "code",
   "execution_count": 68,
   "metadata": {},
   "outputs": [],
   "source": [
    "# SessionId -> UserId로 변경\n",
    "class Args:\n",
    "    def __init__(self, tr, val, test, batch_size, hsz, drop_rate, lr, epochs, k):\n",
    "        self.tr = tr\n",
    "        self.val = val\n",
    "        self.test = test\n",
    "        self.num_items = tr['ItemId'].nunique()\n",
    "        self.num_sessions = tr['UserId'].nunique()\n",
    "        self.batch_size = batch_size\n",
    "        self.hsz = hsz\n",
    "        self.drop_rate = drop_rate\n",
    "        self.lr = lr\n",
    "        self.epochs = epochs\n",
    "        self.k = k\n",
    "\n",
    "args = Args(data_train, data_val, data_test, batch_size=256, hsz=50, drop_rate=0.1, lr=0.001, epochs=5, k=20)"
   ]
  },
  {
   "cell_type": "code",
   "execution_count": 69,
   "metadata": {},
   "outputs": [
    {
     "name": "stdout",
     "output_type": "stream",
     "text": [
      "Model: \"functional_3\"\n",
      "_________________________________________________________________\n",
      "Layer (type)                 Output Shape              Param #   \n",
      "=================================================================\n",
      "input_2 (InputLayer)         [(256, 1, 3408)]          0         \n",
      "_________________________________________________________________\n",
      "GRU (GRU)                    [(256, 50), (256, 50)]    519000    \n",
      "_________________________________________________________________\n",
      "dropout_1 (Dropout)          (256, 50)                 0         \n",
      "_________________________________________________________________\n",
      "dense_1 (Dense)              (256, 3408)               173808    \n",
      "=================================================================\n",
      "Total params: 692,808\n",
      "Trainable params: 692,808\n",
      "Non-trainable params: 0\n",
      "_________________________________________________________________\n"
     ]
    }
   ],
   "source": [
    "model = create_model(args)"
   ]
  },
  {
   "cell_type": "markdown",
   "metadata": {},
   "source": [
    "### 모델 학습"
   ]
  },
  {
   "cell_type": "code",
   "execution_count": 70,
   "metadata": {},
   "outputs": [],
   "source": [
    "# SessionId -> UserId\n",
    "def train_model(model, args):\n",
    "    train_dataset = SessionDataset(args.tr)\n",
    "    train_loader = SessionDataLoader(train_dataset, batch_size=args.batch_size)\n",
    "\n",
    "    for epoch in range(1, args.epochs + 1):\n",
    "        total_step = len(args.tr) - args.tr['UserId'].nunique()\n",
    "        tr_loader = tqdm(train_loader, total=total_step // args.batch_size, desc='Train', mininterval=1)\n",
    "        for feat, target, mask in tr_loader:\n",
    "            reset_hidden_states(model, mask)  # 종료된 session은 hidden_state를 초기화합니다. 아래 메서드에서 확인해주세요.\n",
    "\n",
    "            input_ohe = to_categorical(feat, num_classes=args.num_items)\n",
    "            input_ohe = np.expand_dims(input_ohe, axis=1)\n",
    "            target_ohe = to_categorical(target, num_classes=args.num_items)\n",
    "\n",
    "            result = model.train_on_batch(input_ohe, target_ohe)\n",
    "            tr_loader.set_postfix(train_loss=result[0], accuracy = result[1])\n",
    "\n",
    "        val_recall, val_mrr = get_metrics(args.val, model, args, args.k)  # valid set에 대해 검증합니다.\n",
    "\n",
    "        print(f\"\\t - Recall@{args.k} epoch {epoch}: {val_recall:3f}\")\n",
    "        print(f\"\\t - MRR@{args.k}    epoch {epoch}: {val_mrr:3f}\\n\")\n",
    "\n",
    "\n",
    "def reset_hidden_states(model, mask):\n",
    "    gru_layer = model.get_layer(name='GRU')  # model에서 gru layer를 가져옵니다.\n",
    "    hidden_states = gru_layer.states[0].numpy()  # gru_layer의 parameter를 가져옵니다.\n",
    "    for elt in mask:  # mask된 인덱스 즉, 종료된 세션의 인덱스를 돌면서\n",
    "        hidden_states[elt, :] = 0  # parameter를 초기화 합니다.\n",
    "    gru_layer.reset_states(states=hidden_states)\n",
    "\n",
    "\n",
    "def get_metrics(data, model, args, k: int):  # valid셋과 test셋을 평가하는 코드입니다. \n",
    "                                             # train과 거의 같지만 mrr, recall을 구하는 라인이 있습니다.\n",
    "    dataset = SessionDataset(data)\n",
    "    loader = SessionDataLoader(dataset, batch_size=args.batch_size)\n",
    "    recall_list, mrr_list = [], []\n",
    "\n",
    "    total_step = len(data) - data['UserId'].nunique()\n",
    "    for inputs, label, mask in tqdm(loader, total=total_step // args.batch_size, desc='Evaluation', mininterval=1):\n",
    "        reset_hidden_states(model, mask)\n",
    "        input_ohe = to_categorical(inputs, num_classes=args.num_items)\n",
    "        input_ohe = np.expand_dims(input_ohe, axis=1)\n",
    "\n",
    "        pred = model.predict(input_ohe, batch_size=args.batch_size)\n",
    "        pred_arg = tf.argsort(pred, direction='DESCENDING')  # softmax 값이 큰 순서대로 sorting 합니다.\n",
    "\n",
    "        length = len(inputs)\n",
    "        recall_list.extend([recall_k(pred_arg[i], label[i], k) for i in range(length)])\n",
    "        mrr_list.extend([mrr_k(pred_arg[i], label[i], k) for i in range(length)])\n",
    "\n",
    "    recall, mrr = np.mean(recall_list), np.mean(mrr_list)\n",
    "    return recall, mrr"
   ]
  },
  {
   "cell_type": "code",
   "execution_count": 71,
   "metadata": {},
   "outputs": [
    {
     "name": "stderr",
     "output_type": "stream",
     "text": [
      "Train:  94%|█████████▎| 2544/2715 [00:28<00:01, 88.90it/s, accuracy=0, train_loss=7.28]      \n",
      "Evaluation:  74%|███████▍  | 432/580 [04:37<01:34,  1.56it/s]\n",
      "Train:   0%|          | 0/2715 [00:00<?, ?it/s, accuracy=0, train_loss=7.15]      "
     ]
    },
    {
     "name": "stdout",
     "output_type": "stream",
     "text": [
      "\t - Recall@20 epoch 1: 0.079753\n",
      "\t - MRR@20    epoch 1: 0.017511\n",
      "\n"
     ]
    },
    {
     "name": "stderr",
     "output_type": "stream",
     "text": [
      "Train:  94%|█████████▎| 2544/2715 [00:25<00:01, 98.99it/s, accuracy=0.00391, train_loss=7]    \n",
      "Evaluation:  74%|███████▍  | 432/580 [04:27<01:31,  1.61it/s]\n",
      "Train:   0%|          | 0/2715 [00:00<?, ?it/s, accuracy=0.0195, train_loss=6.63] "
     ]
    },
    {
     "name": "stdout",
     "output_type": "stream",
     "text": [
      "\t - Recall@20 epoch 2: 0.142180\n",
      "\t - MRR@20    epoch 2: 0.033702\n",
      "\n"
     ]
    },
    {
     "name": "stderr",
     "output_type": "stream",
     "text": [
      "Train:  94%|█████████▎| 2544/2715 [00:25<00:01, 99.94it/s, accuracy=0.0117, train_loss=6.87]  \n",
      "Evaluation:  74%|███████▍  | 432/580 [04:25<01:30,  1.63it/s]\n",
      "Train:   0%|          | 0/2715 [00:00<?, ?it/s, accuracy=0.00781, train_loss=6.58]"
     ]
    },
    {
     "name": "stdout",
     "output_type": "stream",
     "text": [
      "\t - Recall@20 epoch 3: 0.170555\n",
      "\t - MRR@20    epoch 3: 0.040239\n",
      "\n"
     ]
    },
    {
     "name": "stderr",
     "output_type": "stream",
     "text": [
      "Train:  94%|█████████▎| 2544/2715 [00:25<00:01, 99.73it/s, accuracy=0.0156, train_loss=6.78]  \n",
      "Evaluation:  74%|███████▍  | 432/580 [04:31<01:33,  1.59it/s]\n",
      "Train:   0%|          | 0/2715 [00:00<?, ?it/s, accuracy=0.00391, train_loss=6.41]"
     ]
    },
    {
     "name": "stdout",
     "output_type": "stream",
     "text": [
      "\t - Recall@20 epoch 4: 0.182337\n",
      "\t - MRR@20    epoch 4: 0.043015\n",
      "\n"
     ]
    },
    {
     "name": "stderr",
     "output_type": "stream",
     "text": [
      "Train:  94%|█████████▎| 2544/2715 [00:25<00:01, 100.10it/s, accuracy=0.0234, train_loss=6.72] \n",
      "Evaluation:  74%|███████▍  | 432/580 [04:28<01:31,  1.61it/s]"
     ]
    },
    {
     "name": "stdout",
     "output_type": "stream",
     "text": [
      "\t - Recall@20 epoch 5: 0.188142\n",
      "\t - MRR@20    epoch 5: 0.044950\n",
      "\n"
     ]
    },
    {
     "name": "stderr",
     "output_type": "stream",
     "text": [
      "\n"
     ]
    }
   ],
   "source": [
    "train_model(model, args)"
   ]
  },
  {
   "cell_type": "markdown",
   "metadata": {},
   "source": [
    "### 모델 테스트"
   ]
  },
  {
   "cell_type": "code",
   "execution_count": 73,
   "metadata": {},
   "outputs": [
    {
     "name": "stderr",
     "output_type": "stream",
     "text": [
      "Evaluation:  80%|████████  | 464/578 [04:45<01:10,  1.62it/s]"
     ]
    },
    {
     "name": "stdout",
     "output_type": "stream",
     "text": [
      "\t - Recall@20: 0.186835\n",
      "\t - MRR@20: 0.043374\n",
      "\n"
     ]
    },
    {
     "name": "stderr",
     "output_type": "stream",
     "text": [
      "\n"
     ]
    }
   ],
   "source": [
    "def test_model(model, args, test):\n",
    "    test_recall, test_mrr = get_metrics(test, model, args, 20)\n",
    "    print(f\"\\t - Recall@{args.k}: {test_recall:3f}\")\n",
    "    print(f\"\\t - MRR@{args.k}: {test_mrr:3f}\\n\")\n",
    "\n",
    "test_model(model, args, data_test)"
   ]
  },
  {
   "cell_type": "markdown",
   "metadata": {},
   "source": [
    "### 조건 1\n",
    "* learning rate를 높여본다. (0.01) https://bioinformaticsandme.tistory.com/130\n",
    "* recall이 줄어든다. train_loss는 줄어들다가 늘어난다. 위 블로그의 그래프에서 'very high learning rate' 에 가까운 패턴이다.\n",
    "* 테스트 결과도 기존 조건보다 좋지 않아 보인다."
   ]
  },
  {
   "cell_type": "code",
   "execution_count": 76,
   "metadata": {},
   "outputs": [
    {
     "name": "stdout",
     "output_type": "stream",
     "text": [
      "Model: \"functional_7\"\n",
      "_________________________________________________________________\n",
      "Layer (type)                 Output Shape              Param #   \n",
      "=================================================================\n",
      "input_4 (InputLayer)         [(256, 1, 3408)]          0         \n",
      "_________________________________________________________________\n",
      "GRU (GRU)                    [(256, 50), (256, 50)]    519000    \n",
      "_________________________________________________________________\n",
      "dropout_3 (Dropout)          (256, 50)                 0         \n",
      "_________________________________________________________________\n",
      "dense_3 (Dense)              (256, 3408)               173808    \n",
      "=================================================================\n",
      "Total params: 692,808\n",
      "Trainable params: 692,808\n",
      "Non-trainable params: 0\n",
      "_________________________________________________________________\n"
     ]
    }
   ],
   "source": [
    "args2 = Args(data_train, data_val, data_test, batch_size=256, hsz=50, drop_rate=0.1, lr=0.01, epochs=5, k=20)\n",
    "model2 = create_model(args2)"
   ]
  },
  {
   "cell_type": "code",
   "execution_count": 77,
   "metadata": {},
   "outputs": [
    {
     "name": "stderr",
     "output_type": "stream",
     "text": [
      "Train:  94%|█████████▎| 2544/2715 [00:26<00:01, 94.76it/s, accuracy=0, train_loss=6.91]      \n",
      "Evaluation:  74%|███████▍  | 432/580 [04:27<01:31,  1.61it/s]\n",
      "Train:   0%|          | 0/2715 [00:00<?, ?it/s, accuracy=0.00781, train_loss=6.65]"
     ]
    },
    {
     "name": "stdout",
     "output_type": "stream",
     "text": [
      "\t - Recall@20 epoch 1: 0.181668\n",
      "\t - MRR@20    epoch 1: 0.045276\n",
      "\n"
     ]
    },
    {
     "name": "stderr",
     "output_type": "stream",
     "text": [
      "Train:  94%|█████████▎| 2544/2715 [00:27<00:01, 94.21it/s, accuracy=0.0156, train_loss=6.79] \n",
      "Evaluation:  74%|███████▍  | 432/580 [04:26<01:31,  1.62it/s]\n",
      "Train:   0%|          | 0/2715 [00:00<?, ?it/s, accuracy=0.0156, train_loss=6.55] "
     ]
    },
    {
     "name": "stdout",
     "output_type": "stream",
     "text": [
      "\t - Recall@20 epoch 2: 0.180718\n",
      "\t - MRR@20    epoch 2: 0.046762\n",
      "\n"
     ]
    },
    {
     "name": "stderr",
     "output_type": "stream",
     "text": [
      "Train:  94%|█████████▎| 2544/2715 [00:25<00:01, 97.94it/s, accuracy=0.0273, train_loss=6.69] \n",
      "Evaluation:  74%|███████▍  | 432/580 [04:27<01:31,  1.62it/s]\n",
      "Train:   0%|          | 0/2715 [00:00<?, ?it/s, accuracy=0.0156, train_loss=6.4] "
     ]
    },
    {
     "name": "stdout",
     "output_type": "stream",
     "text": [
      "\t - Recall@20 epoch 3: 0.175781\n",
      "\t - MRR@20    epoch 3: 0.045588\n",
      "\n"
     ]
    },
    {
     "name": "stderr",
     "output_type": "stream",
     "text": [
      "Train:  94%|█████████▎| 2544/2715 [00:26<00:01, 94.31it/s, accuracy=0.043, train_loss=6.59]  \n",
      "Evaluation:  74%|███████▍  | 432/580 [04:36<01:34,  1.56it/s]\n",
      "Train:   0%|          | 0/2715 [00:00<?, ?it/s, accuracy=0.00391, train_loss=6.62]"
     ]
    },
    {
     "name": "stdout",
     "output_type": "stream",
     "text": [
      "\t - Recall@20 epoch 4: 0.172580\n",
      "\t - MRR@20    epoch 4: 0.045329\n",
      "\n"
     ]
    },
    {
     "name": "stderr",
     "output_type": "stream",
     "text": [
      "Train:  94%|█████████▎| 2544/2715 [00:25<00:01, 98.54it/s, accuracy=0.0273, train_loss=6.63]  \n",
      "Evaluation:  74%|███████▍  | 432/580 [04:35<01:34,  1.57it/s]"
     ]
    },
    {
     "name": "stdout",
     "output_type": "stream",
     "text": [
      "\t - Recall@20 epoch 5: 0.168439\n",
      "\t - MRR@20    epoch 5: 0.044387\n",
      "\n"
     ]
    },
    {
     "name": "stderr",
     "output_type": "stream",
     "text": [
      "\n"
     ]
    }
   ],
   "source": [
    "train_model(model2, args2)"
   ]
  },
  {
   "cell_type": "code",
   "execution_count": 78,
   "metadata": {},
   "outputs": [
    {
     "name": "stderr",
     "output_type": "stream",
     "text": [
      "Evaluation:  80%|████████  | 464/578 [04:55<01:12,  1.57it/s]"
     ]
    },
    {
     "name": "stdout",
     "output_type": "stream",
     "text": [
      "\t - Recall@20: 0.164172\n",
      "\t - MRR@20: 0.040634\n",
      "\n"
     ]
    },
    {
     "name": "stderr",
     "output_type": "stream",
     "text": [
      "\n"
     ]
    }
   ],
   "source": [
    "test_model(model2, args2, data_test)"
   ]
  },
  {
   "cell_type": "markdown",
   "metadata": {},
   "source": [
    "### 조건 2\n",
    "* learning rate를 낮춰본다. (0.0001)"
   ]
  },
  {
   "cell_type": "code",
   "execution_count": 85,
   "metadata": {},
   "outputs": [
    {
     "name": "stdout",
     "output_type": "stream",
     "text": [
      "Model: \"functional_13\"\n",
      "_________________________________________________________________\n",
      "Layer (type)                 Output Shape              Param #   \n",
      "=================================================================\n",
      "input_7 (InputLayer)         [(256, 1, 3408)]          0         \n",
      "_________________________________________________________________\n",
      "GRU (GRU)                    [(256, 50), (256, 50)]    519000    \n",
      "_________________________________________________________________\n",
      "dropout_6 (Dropout)          (256, 50)                 0         \n",
      "_________________________________________________________________\n",
      "dense_6 (Dense)              (256, 3408)               173808    \n",
      "=================================================================\n",
      "Total params: 692,808\n",
      "Trainable params: 692,808\n",
      "Non-trainable params: 0\n",
      "_________________________________________________________________\n"
     ]
    }
   ],
   "source": [
    "args3 = Args(data_train, data_val, data_test, batch_size=256, hsz=50, drop_rate=0.1, lr=0.0001, epochs=5, k=20)\n",
    "model3 = create_model(args3)"
   ]
  },
  {
   "cell_type": "code",
   "execution_count": 86,
   "metadata": {},
   "outputs": [
    {
     "name": "stderr",
     "output_type": "stream",
     "text": [
      "Train:  94%|█████████▎| 2544/2715 [00:26<00:01, 95.55it/s, accuracy=0, train_loss=7.51]      \n",
      "Evaluation:  74%|███████▍  | 432/580 [04:53<01:40,  1.47it/s]\n",
      "Train:   0%|          | 0/2715 [00:00<?, ?it/s, accuracy=0.00781, train_loss=7.42]"
     ]
    },
    {
     "name": "stdout",
     "output_type": "stream",
     "text": [
      "\t - Recall@20 epoch 1: 0.049470\n",
      "\t - MRR@20    epoch 1: 0.010113\n",
      "\n"
     ]
    },
    {
     "name": "stderr",
     "output_type": "stream",
     "text": [
      "Train:  94%|█████████▎| 2544/2715 [00:27<00:01, 93.31it/s, accuracy=0, train_loss=7.46]      \n",
      "Evaluation:  74%|███████▍  | 432/580 [04:50<01:39,  1.49it/s]\n",
      "Train:   0%|          | 0/2715 [00:00<?, ?it/s, accuracy=0.00781, train_loss=7.43]"
     ]
    },
    {
     "name": "stdout",
     "output_type": "stream",
     "text": [
      "\t - Recall@20 epoch 2: 0.049479\n",
      "\t - MRR@20    epoch 2: 0.010150\n",
      "\n"
     ]
    },
    {
     "name": "stderr",
     "output_type": "stream",
     "text": [
      "Train:  94%|█████████▎| 2544/2715 [00:26<00:01, 97.73it/s, accuracy=0, train_loss=7.43]       \n",
      "Evaluation:  74%|███████▍  | 432/580 [04:56<01:41,  1.46it/s]\n",
      "Train:   0%|          | 0/2715 [00:00<?, ?it/s, accuracy=0, train_loss=7.39]      "
     ]
    },
    {
     "name": "stdout",
     "output_type": "stream",
     "text": [
      "\t - Recall@20 epoch 3: 0.050076\n",
      "\t - MRR@20    epoch 3: 0.010246\n",
      "\n"
     ]
    },
    {
     "name": "stderr",
     "output_type": "stream",
     "text": [
      "Train:  94%|█████████▎| 2544/2715 [00:27<00:01, 93.04it/s, accuracy=0, train_loss=7.4]       \n",
      "Evaluation:  74%|███████▍  | 432/580 [04:54<01:40,  1.47it/s]\n",
      "Train:   0%|          | 0/2715 [00:00<?, ?it/s, accuracy=0.00781, train_loss=7.36]"
     ]
    },
    {
     "name": "stdout",
     "output_type": "stream",
     "text": [
      "\t - Recall@20 epoch 4: 0.051749\n",
      "\t - MRR@20    epoch 4: 0.010603\n",
      "\n"
     ]
    },
    {
     "name": "stderr",
     "output_type": "stream",
     "text": [
      "Train:  94%|█████████▎| 2544/2715 [00:26<00:01, 95.96it/s, accuracy=0, train_loss=7.4]       \n",
      "Evaluation:  74%|███████▍  | 432/580 [04:55<01:41,  1.46it/s]"
     ]
    },
    {
     "name": "stdout",
     "output_type": "stream",
     "text": [
      "\t - Recall@20 epoch 5: 0.053467\n",
      "\t - MRR@20    epoch 5: 0.010832\n",
      "\n"
     ]
    },
    {
     "name": "stderr",
     "output_type": "stream",
     "text": [
      "\n"
     ]
    }
   ],
   "source": [
    "train_model(model3, args3)"
   ]
  },
  {
   "cell_type": "code",
   "execution_count": 87,
   "metadata": {},
   "outputs": [
    {
     "name": "stderr",
     "output_type": "stream",
     "text": [
      "Evaluation:  80%|████████  | 464/578 [05:13<01:17,  1.48it/s]"
     ]
    },
    {
     "name": "stdout",
     "output_type": "stream",
     "text": [
      "\t - Recall@20: 0.043045\n",
      "\t - MRR@20: 0.008410\n",
      "\n"
     ]
    },
    {
     "name": "stderr",
     "output_type": "stream",
     "text": [
      "\n"
     ]
    }
   ],
   "source": [
    "test_model(model3, args3, data_test)"
   ]
  },
  {
   "cell_type": "markdown",
   "metadata": {},
   "source": [
    "### 조건 3\n",
    "* drop을 아예 하지 않아본다.\n",
    "* 학습 시 train_loss나 recall의 추이는 최초 조건과 크게 다르지 않았다.\n",
    "* 테스트 결과 recall도 최초 조건과 크게 다르지 않았다."
   ]
  },
  {
   "cell_type": "code",
   "execution_count": 79,
   "metadata": {},
   "outputs": [
    {
     "name": "stdout",
     "output_type": "stream",
     "text": [
      "Model: \"functional_9\"\n",
      "_________________________________________________________________\n",
      "Layer (type)                 Output Shape              Param #   \n",
      "=================================================================\n",
      "input_5 (InputLayer)         [(256, 1, 3408)]          0         \n",
      "_________________________________________________________________\n",
      "GRU (GRU)                    [(256, 50), (256, 50)]    519000    \n",
      "_________________________________________________________________\n",
      "dropout_4 (Dropout)          (256, 50)                 0         \n",
      "_________________________________________________________________\n",
      "dense_4 (Dense)              (256, 3408)               173808    \n",
      "=================================================================\n",
      "Total params: 692,808\n",
      "Trainable params: 692,808\n",
      "Non-trainable params: 0\n",
      "_________________________________________________________________\n"
     ]
    }
   ],
   "source": [
    "args4 = Args(data_train, data_val, data_test, batch_size=256, hsz=50, drop_rate=0.0, lr=0.001, epochs=5, k=20)\n",
    "model4 = create_model(args4)"
   ]
  },
  {
   "cell_type": "code",
   "execution_count": 80,
   "metadata": {},
   "outputs": [
    {
     "name": "stderr",
     "output_type": "stream",
     "text": [
      "Train:  94%|█████████▎| 2544/2715 [00:27<00:01, 93.94it/s, accuracy=0.00391, train_loss=7.25]\n",
      "Evaluation:  74%|███████▍  | 432/580 [04:48<01:38,  1.50it/s]\n",
      "Train:   0%|          | 0/2715 [00:00<?, ?it/s, accuracy=0.00781, train_loss=7.07]"
     ]
    },
    {
     "name": "stdout",
     "output_type": "stream",
     "text": [
      "\t - Recall@20 epoch 1: 0.089247\n",
      "\t - MRR@20    epoch 1: 0.019759\n",
      "\n"
     ]
    },
    {
     "name": "stderr",
     "output_type": "stream",
     "text": [
      "Train:  94%|█████████▎| 2544/2715 [00:27<00:01, 93.03it/s, accuracy=0.00781, train_loss=6.96]\n",
      "Evaluation:  74%|███████▍  | 432/580 [04:34<01:33,  1.58it/s]\n",
      "Train:   0%|          | 0/2715 [00:00<?, ?it/s, accuracy=0.00781, train_loss=6.69]"
     ]
    },
    {
     "name": "stdout",
     "output_type": "stream",
     "text": [
      "\t - Recall@20 epoch 2: 0.146430\n",
      "\t - MRR@20    epoch 2: 0.034982\n",
      "\n"
     ]
    },
    {
     "name": "stderr",
     "output_type": "stream",
     "text": [
      "Train:  94%|█████████▎| 2544/2715 [00:27<00:01, 93.97it/s, accuracy=0.0156, train_loss=6.82] \n",
      "Evaluation:  74%|███████▍  | 432/580 [04:44<01:37,  1.52it/s]\n",
      "Train:   0%|          | 0/2715 [00:00<?, ?it/s, accuracy=0.00781, train_loss=6.53]"
     ]
    },
    {
     "name": "stdout",
     "output_type": "stream",
     "text": [
      "\t - Recall@20 epoch 3: 0.172481\n",
      "\t - MRR@20    epoch 3: 0.040530\n",
      "\n"
     ]
    },
    {
     "name": "stderr",
     "output_type": "stream",
     "text": [
      "Train:  94%|█████████▎| 2544/2715 [00:26<00:01, 96.95it/s, accuracy=0.0195, train_loss=6.74] \n",
      "Evaluation:  74%|███████▍  | 432/580 [04:32<01:33,  1.58it/s]\n",
      "Train:   0%|          | 0/2715 [00:00<?, ?it/s, accuracy=0.0117, train_loss=6.48]"
     ]
    },
    {
     "name": "stdout",
     "output_type": "stream",
     "text": [
      "\t - Recall@20 epoch 4: 0.183268\n",
      "\t - MRR@20    epoch 4: 0.043173\n",
      "\n"
     ]
    },
    {
     "name": "stderr",
     "output_type": "stream",
     "text": [
      "Train:  94%|█████████▎| 2544/2715 [00:27<00:01, 93.37it/s, accuracy=0.0273, train_loss=6.69] \n",
      "Evaluation:  74%|███████▍  | 432/580 [04:38<01:35,  1.55it/s]"
     ]
    },
    {
     "name": "stdout",
     "output_type": "stream",
     "text": [
      "\t - Recall@20 epoch 5: 0.188422\n",
      "\t - MRR@20    epoch 5: 0.044767\n",
      "\n"
     ]
    },
    {
     "name": "stderr",
     "output_type": "stream",
     "text": [
      "\n"
     ]
    }
   ],
   "source": [
    "train_model(model4, args4)"
   ]
  },
  {
   "cell_type": "code",
   "execution_count": 81,
   "metadata": {},
   "outputs": [
    {
     "name": "stderr",
     "output_type": "stream",
     "text": [
      "Evaluation:  80%|████████  | 464/578 [04:53<01:12,  1.58it/s]"
     ]
    },
    {
     "name": "stdout",
     "output_type": "stream",
     "text": [
      "\t - Recall@20: 0.186591\n",
      "\t - MRR@20: 0.043538\n",
      "\n"
     ]
    },
    {
     "name": "stderr",
     "output_type": "stream",
     "text": [
      "\n"
     ]
    }
   ],
   "source": [
    "test_model(model4, args4, data_test)"
   ]
  },
  {
   "cell_type": "markdown",
   "metadata": {},
   "source": [
    "### 조건 4\n",
    "* drop을 아예 하지 않았을 때, 결과가 최초 조건과 별로 차이나지 않았으므로 drop 비율을 늘려본다. (0.3)"
   ]
  },
  {
   "cell_type": "code",
   "execution_count": 82,
   "metadata": {},
   "outputs": [
    {
     "name": "stdout",
     "output_type": "stream",
     "text": [
      "Model: \"functional_11\"\n",
      "_________________________________________________________________\n",
      "Layer (type)                 Output Shape              Param #   \n",
      "=================================================================\n",
      "input_6 (InputLayer)         [(256, 1, 3408)]          0         \n",
      "_________________________________________________________________\n",
      "GRU (GRU)                    [(256, 50), (256, 50)]    519000    \n",
      "_________________________________________________________________\n",
      "dropout_5 (Dropout)          (256, 50)                 0         \n",
      "_________________________________________________________________\n",
      "dense_5 (Dense)              (256, 3408)               173808    \n",
      "=================================================================\n",
      "Total params: 692,808\n",
      "Trainable params: 692,808\n",
      "Non-trainable params: 0\n",
      "_________________________________________________________________\n"
     ]
    }
   ],
   "source": [
    "args5 = Args(data_train, data_val, data_test, batch_size=256, hsz=50, drop_rate=0.3, lr=0.001, epochs=5, k=20)\n",
    "model5 = create_model(args5)"
   ]
  },
  {
   "cell_type": "code",
   "execution_count": 83,
   "metadata": {},
   "outputs": [
    {
     "name": "stderr",
     "output_type": "stream",
     "text": [
      "Train:  94%|█████████▎| 2544/2715 [00:28<00:01, 89.25it/s, accuracy=0, train_loss=7.34]      \n",
      "Evaluation:  74%|███████▍  | 432/580 [04:40<01:36,  1.54it/s]\n",
      "Train:   0%|          | 0/2715 [00:00<?, ?it/s, accuracy=0, train_loss=7.21]      "
     ]
    },
    {
     "name": "stdout",
     "output_type": "stream",
     "text": [
      "\t - Recall@20 epoch 1: 0.070927\n",
      "\t - MRR@20    epoch 1: 0.015583\n",
      "\n"
     ]
    },
    {
     "name": "stderr",
     "output_type": "stream",
     "text": [
      "Train:  94%|█████████▎| 2544/2715 [00:26<00:01, 95.02it/s, accuracy=0.00391, train_loss=7.09]\n",
      "Evaluation:  74%|███████▍  | 432/580 [04:32<01:33,  1.59it/s]\n",
      "Train:   0%|          | 0/2715 [00:00<?, ?it/s, accuracy=0.00781, train_loss=6.89]"
     ]
    },
    {
     "name": "stdout",
     "output_type": "stream",
     "text": [
      "\t - Recall@20 epoch 2: 0.127125\n",
      "\t - MRR@20    epoch 2: 0.030043\n",
      "\n"
     ]
    },
    {
     "name": "stderr",
     "output_type": "stream",
     "text": [
      "Train:  94%|█████████▎| 2544/2715 [00:27<00:01, 92.61it/s, accuracy=0.0117, train_loss=6.99] \n",
      "Evaluation:  74%|███████▍  | 432/580 [04:28<01:32,  1.61it/s]\n",
      "Train:   0%|          | 0/2715 [00:00<?, ?it/s, accuracy=0.00391, train_loss=6.6] "
     ]
    },
    {
     "name": "stdout",
     "output_type": "stream",
     "text": [
      "\t - Recall@20 epoch 3: 0.161929\n",
      "\t - MRR@20    epoch 3: 0.038242\n",
      "\n"
     ]
    },
    {
     "name": "stderr",
     "output_type": "stream",
     "text": [
      "Train:  94%|█████████▎| 2544/2715 [00:25<00:01, 98.78it/s, accuracy=0.00781, train_loss=6.94]\n",
      "Evaluation:  74%|███████▍  | 432/580 [04:29<01:32,  1.60it/s]\n",
      "Train:   0%|          | 0/2715 [00:00<?, ?it/s, accuracy=0.00781, train_loss=6.56]"
     ]
    },
    {
     "name": "stdout",
     "output_type": "stream",
     "text": [
      "\t - Recall@20 epoch 4: 0.175655\n",
      "\t - MRR@20    epoch 4: 0.041458\n",
      "\n"
     ]
    },
    {
     "name": "stderr",
     "output_type": "stream",
     "text": [
      "Train:  94%|█████████▎| 2544/2715 [00:25<00:01, 99.25it/s, accuracy=0.00781, train_loss=6.83] \n",
      "Evaluation:  74%|███████▍  | 432/580 [04:31<01:32,  1.59it/s]"
     ]
    },
    {
     "name": "stdout",
     "output_type": "stream",
     "text": [
      "\t - Recall@20 epoch 5: 0.182373\n",
      "\t - MRR@20    epoch 5: 0.043256\n",
      "\n"
     ]
    },
    {
     "name": "stderr",
     "output_type": "stream",
     "text": [
      "\n"
     ]
    }
   ],
   "source": [
    "train_model(model5, args5)"
   ]
  },
  {
   "cell_type": "code",
   "execution_count": 84,
   "metadata": {},
   "outputs": [
    {
     "name": "stderr",
     "output_type": "stream",
     "text": [
      "Evaluation:  80%|████████  | 464/578 [04:53<01:12,  1.58it/s]"
     ]
    },
    {
     "name": "stdout",
     "output_type": "stream",
     "text": [
      "\t - Recall@20: 0.181152\n",
      "\t - MRR@20: 0.041545\n",
      "\n"
     ]
    },
    {
     "name": "stderr",
     "output_type": "stream",
     "text": [
      "\n"
     ]
    }
   ],
   "source": [
    "test_model(model5, args5, data_test)"
   ]
  },
  {
   "cell_type": "code",
   "execution_count": null,
   "metadata": {},
   "outputs": [],
   "source": []
  }
 ],
 "metadata": {
  "kernelspec": {
   "display_name": "aiffel",
   "language": "python",
   "name": "aiffel"
  },
  "language_info": {
   "codemirror_mode": {
    "name": "ipython",
    "version": 3
   },
   "file_extension": ".py",
   "mimetype": "text/x-python",
   "name": "python",
   "nbconvert_exporter": "python",
   "pygments_lexer": "ipython3",
   "version": "3.7.6"
  }
 },
 "nbformat": 4,
 "nbformat_minor": 4
}
