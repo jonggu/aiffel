{
 "cells": [
  {
   "cell_type": "markdown",
   "metadata": {},
   "source": [
    "# 13-9. 프로젝트: Face2Emoji 모바일 웹앱"
   ]
  },
  {
   "cell_type": "markdown",
   "metadata": {},
   "source": [
    "## 필요한 모듈 import"
   ]
  },
  {
   "cell_type": "code",
   "execution_count": 1,
   "metadata": {},
   "outputs": [],
   "source": [
    "import numpy as np\n",
    "import tqdm\n",
    "import os\n",
    "\n",
    "import tensorflow as tf\n",
    "\n",
    "from matplotlib import pyplot as plt"
   ]
  },
  {
   "cell_type": "markdown",
   "metadata": {},
   "source": [
    "## 표정 데이터로 MobileNet 학습하기"
   ]
  },
  {
   "cell_type": "code",
   "execution_count": 2,
   "metadata": {},
   "outputs": [
    {
     "name": "stderr",
     "output_type": "stream",
     "text": [
      "100%|██████████| 35887/35887 [00:27<00:00, 1317.38it/s]"
     ]
    },
    {
     "name": "stdout",
     "output_type": "stream",
     "text": [
      "train : 32298, eval :3589\n"
     ]
    },
    {
     "name": "stderr",
     "output_type": "stream",
     "text": [
      "\n"
     ]
    }
   ],
   "source": [
    "train_x = []\n",
    "train_y = []\n",
    "eval_x = []\n",
    "eval_y = []\n",
    "\n",
    "csv_path = 'data/fer2013.csv'\n",
    "\n",
    "with open(csv_path) as f:\n",
    "    for line in tqdm.tqdm(f.read().splitlines()[1:]):\n",
    "        emotion, pixels, usage = line.split(',')\n",
    "\n",
    "        x = np.array(pixels.split(' ')).astype(float).reshape(48, 48, 1) / 255\n",
    "        y = int(emotion)\n",
    "\n",
    "        if usage == 'PrivateTest':\n",
    "            eval_x.append(x)\n",
    "            eval_y.append(y)\n",
    "        else:\n",
    "            train_x.append(x)\n",
    "            train_y.append(y)\n",
    "\n",
    "print('train : {}, eval :{}'.format(len(train_x), len(eval_x)))"
   ]
  },
  {
   "cell_type": "code",
   "execution_count": 3,
   "metadata": {},
   "outputs": [
    {
     "name": "stdout",
     "output_type": "stream",
     "text": [
      "Angry\n"
     ]
    },
    {
     "data": {
      "text/plain": [
       "<matplotlib.image.AxesImage at 0x7f73d9f992d0>"
      ]
     },
     "execution_count": 3,
     "metadata": {},
     "output_type": "execute_result"
    },
    {
     "data": {
      "image/png": "[encoded data removed]",
      "text/plain": [
       "<Figure size 432x288 with 1 Axes>"
      ]
     },
     "metadata": {
      "needs_background": "light"
     },
     "output_type": "display_data"
    }
   ],
   "source": [
    "# 첫번째 데이터 확인\n",
    "LABELS = ['Angry', 'Disgust', 'Fear', 'Happy', 'Sad', 'Surprise', 'Neutral']\n",
    "\n",
    "print(LABELS[train_y[0]])\n",
    "plt.imshow(train_x[0].reshape([48, 48]), cmap='gray')"
   ]
  },
  {
   "cell_type": "code",
   "execution_count": 4,
   "metadata": {
    "scrolled": false
   },
   "outputs": [
    {
     "name": "stdout",
     "output_type": "stream",
     "text": [
      "Epoch 1/100\n",
      " 2/64 [..............................] - ETA: 3s - loss: 2.3383 - categorical_accuracy: 0.1758WARNING:tensorflow:Callbacks method `on_train_batch_end` is slow compared to the batch time (batch time: 0.0409s vs `on_train_batch_end` time: 0.0801s). Check your callbacks.\n",
      "64/64 [==============================] - 36s 558ms/step - loss: 1.8365 - categorical_accuracy: 0.2442 - val_loss: 1.9309 - val_categorical_accuracy: 0.2449\n",
      "Epoch 2/100\n",
      "64/64 [==============================] - 6s 100ms/step - loss: 1.6822 - categorical_accuracy: 0.3214 - val_loss: 1.9203 - val_categorical_accuracy: 0.2449\n",
      "Epoch 3/100\n",
      "64/64 [==============================] - 6s 101ms/step - loss: 1.5882 - categorical_accuracy: 0.3726 - val_loss: 1.9129 - val_categorical_accuracy: 0.2449\n",
      "Epoch 4/100\n",
      "64/64 [==============================] - 6s 100ms/step - loss: 1.4853 - categorical_accuracy: 0.4234 - val_loss: 1.9145 - val_categorical_accuracy: 0.2449\n",
      "Epoch 5/100\n",
      "64/64 [==============================] - 6s 101ms/step - loss: 1.4066 - categorical_accuracy: 0.4612 - val_loss: 1.9192 - val_categorical_accuracy: 0.2449\n",
      "Epoch 6/100\n",
      "64/64 [==============================] - 6s 101ms/step - loss: 1.3216 - categorical_accuracy: 0.4923 - val_loss: 1.9206 - val_categorical_accuracy: 0.1655\n",
      "Epoch 7/100\n",
      "64/64 [==============================] - 6s 102ms/step - loss: 1.2641 - categorical_accuracy: 0.5198 - val_loss: 1.9255 - val_categorical_accuracy: 0.1655\n",
      "Epoch 8/100\n",
      "64/64 [==============================] - 6s 101ms/step - loss: 1.2054 - categorical_accuracy: 0.5468 - val_loss: 1.9301 - val_categorical_accuracy: 0.1655\n",
      "Epoch 9/100\n",
      "64/64 [==============================] - 7s 102ms/step - loss: 1.1325 - categorical_accuracy: 0.5784 - val_loss: 1.9271 - val_categorical_accuracy: 0.1655\n",
      "Epoch 10/100\n",
      "64/64 [==============================] - 7s 102ms/step - loss: 1.0879 - categorical_accuracy: 0.5967 - val_loss: 1.9307 - val_categorical_accuracy: 0.1655\n",
      "Epoch 11/100\n",
      "64/64 [==============================] - 7s 102ms/step - loss: 1.0103 - categorical_accuracy: 0.6267 - val_loss: 1.9399 - val_categorical_accuracy: 0.1655\n",
      "Epoch 12/100\n",
      "64/64 [==============================] - 7s 102ms/step - loss: 0.9485 - categorical_accuracy: 0.6505 - val_loss: 1.9410 - val_categorical_accuracy: 0.1655\n",
      "Epoch 13/100\n",
      "64/64 [==============================] - 7s 102ms/step - loss: 0.9161 - categorical_accuracy: 0.6607 - val_loss: 1.9427 - val_categorical_accuracy: 0.1655\n",
      "Epoch 14/100\n",
      "64/64 [==============================] - 7s 102ms/step - loss: 0.8745 - categorical_accuracy: 0.6785 - val_loss: 1.9559 - val_categorical_accuracy: 0.1744\n",
      "Epoch 15/100\n",
      "64/64 [==============================] - 7s 102ms/step - loss: 0.7912 - categorical_accuracy: 0.7094 - val_loss: 1.9611 - val_categorical_accuracy: 0.1744\n",
      "Epoch 16/100\n",
      "64/64 [==============================] - 7s 102ms/step - loss: 0.7322 - categorical_accuracy: 0.7344 - val_loss: 1.9745 - val_categorical_accuracy: 0.1744\n",
      "Epoch 17/100\n",
      "64/64 [==============================] - 7s 102ms/step - loss: 0.7357 - categorical_accuracy: 0.7324 - val_loss: 1.9748 - val_categorical_accuracy: 0.1655\n",
      "Epoch 18/100\n",
      "64/64 [==============================] - 7s 102ms/step - loss: 0.6746 - categorical_accuracy: 0.7570 - val_loss: 1.9887 - val_categorical_accuracy: 0.1655\n",
      "Epoch 19/100\n",
      "64/64 [==============================] - 7s 102ms/step - loss: 0.6326 - categorical_accuracy: 0.7714 - val_loss: 1.9982 - val_categorical_accuracy: 0.1655\n",
      "Epoch 20/100\n",
      "64/64 [==============================] - 7s 102ms/step - loss: 0.5928 - categorical_accuracy: 0.7845 - val_loss: 2.0287 - val_categorical_accuracy: 0.1744\n",
      "Epoch 21/100\n",
      "64/64 [==============================] - 7s 102ms/step - loss: 0.5736 - categorical_accuracy: 0.7912 - val_loss: 2.0360 - val_categorical_accuracy: 0.1744\n",
      "Epoch 22/100\n",
      "64/64 [==============================] - 7s 102ms/step - loss: 0.4882 - categorical_accuracy: 0.8248 - val_loss: 2.0566 - val_categorical_accuracy: 0.1744\n",
      "Epoch 23/100\n",
      "64/64 [==============================] - 7s 103ms/step - loss: 0.4765 - categorical_accuracy: 0.8284 - val_loss: 2.0768 - val_categorical_accuracy: 0.1655\n",
      "Epoch 24/100\n",
      "64/64 [==============================] - 7s 102ms/step - loss: 0.4273 - categorical_accuracy: 0.8460 - val_loss: 2.1054 - val_categorical_accuracy: 0.1744\n",
      "Epoch 25/100\n",
      "64/64 [==============================] - 7s 103ms/step - loss: 0.4405 - categorical_accuracy: 0.8432 - val_loss: 2.1446 - val_categorical_accuracy: 0.1471\n",
      "Epoch 26/100\n",
      "64/64 [==============================] - 7s 102ms/step - loss: 0.4025 - categorical_accuracy: 0.8569 - val_loss: 2.1646 - val_categorical_accuracy: 0.1655\n",
      "Epoch 27/100\n",
      "64/64 [==============================] - 7s 102ms/step - loss: 0.3233 - categorical_accuracy: 0.8853 - val_loss: 2.1745 - val_categorical_accuracy: 0.1655\n",
      "Epoch 28/100\n",
      "64/64 [==============================] - 7s 102ms/step - loss: 0.3546 - categorical_accuracy: 0.8736 - val_loss: 2.1705 - val_categorical_accuracy: 0.1655\n",
      "Epoch 29/100\n",
      "64/64 [==============================] - 7s 102ms/step - loss: 0.3126 - categorical_accuracy: 0.8892 - val_loss: 2.1834 - val_categorical_accuracy: 0.1471\n",
      "Epoch 30/100\n",
      "64/64 [==============================] - 7s 102ms/step - loss: 0.2886 - categorical_accuracy: 0.8966 - val_loss: 2.1984 - val_categorical_accuracy: 0.1655\n",
      "Epoch 31/100\n",
      "64/64 [==============================] - 7s 102ms/step - loss: 0.3010 - categorical_accuracy: 0.8930 - val_loss: 2.2571 - val_categorical_accuracy: 0.1655\n",
      "Epoch 32/100\n",
      "64/64 [==============================] - 7s 102ms/step - loss: 0.3198 - categorical_accuracy: 0.8850 - val_loss: 2.2998 - val_categorical_accuracy: 0.1655\n",
      "Epoch 33/100\n",
      "64/64 [==============================] - 7s 103ms/step - loss: 0.2878 - categorical_accuracy: 0.8984 - val_loss: 2.3073 - val_categorical_accuracy: 0.1655\n",
      "Epoch 34/100\n",
      "64/64 [==============================] - 7s 102ms/step - loss: 0.2367 - categorical_accuracy: 0.9166 - val_loss: 2.3077 - val_categorical_accuracy: 0.1655\n",
      "Epoch 35/100\n",
      "64/64 [==============================] - 7s 102ms/step - loss: 0.2244 - categorical_accuracy: 0.9228 - val_loss: 2.3345 - val_categorical_accuracy: 0.1744\n",
      "Epoch 36/100\n",
      "64/64 [==============================] - 7s 102ms/step - loss: 0.2327 - categorical_accuracy: 0.9191 - val_loss: 2.3495 - val_categorical_accuracy: 0.1744\n",
      "Epoch 37/100\n",
      "64/64 [==============================] - 7s 102ms/step - loss: 0.2870 - categorical_accuracy: 0.8989 - val_loss: 2.3497 - val_categorical_accuracy: 0.1744\n",
      "Epoch 38/100\n",
      "64/64 [==============================] - 7s 102ms/step - loss: 0.2182 - categorical_accuracy: 0.9227 - val_loss: 2.3787 - val_categorical_accuracy: 0.1655 - loss: 0.2167 - categorical_ac\n",
      "Epoch 39/100\n",
      "64/64 [==============================] - 7s 102ms/step - loss: 0.1507 - categorical_accuracy: 0.9475 - val_loss: 2.4018 - val_categorical_accuracy: 0.1655\n",
      "Epoch 40/100\n",
      "64/64 [==============================] - 7s 102ms/step - loss: 0.2719 - categorical_accuracy: 0.9042 - val_loss: 2.4037 - val_categorical_accuracy: 0.1744\n",
      "Epoch 41/100\n",
      "64/64 [==============================] - 7s 102ms/step - loss: 0.2190 - categorical_accuracy: 0.9236 - val_loss: 2.4202 - val_categorical_accuracy: 0.1655\n",
      "Epoch 42/100\n",
      "64/64 [==============================] - 7s 103ms/step - loss: 0.2080 - categorical_accuracy: 0.9285 - val_loss: 2.4133 - val_categorical_accuracy: 0.1744\n",
      "Epoch 43/100\n",
      "64/64 [==============================] - 7s 103ms/step - loss: 0.1643 - categorical_accuracy: 0.9428 - val_loss: 2.3978 - val_categorical_accuracy: 0.1655\n",
      "Epoch 44/100\n",
      "64/64 [==============================] - 7s 102ms/step - loss: 0.2251 - categorical_accuracy: 0.9211 - val_loss: 2.4444 - val_categorical_accuracy: 0.1655\n",
      "Epoch 45/100\n",
      "64/64 [==============================] - 7s 102ms/step - loss: 0.2159 - categorical_accuracy: 0.9229 - val_loss: 2.4456 - val_categorical_accuracy: 0.1655\n",
      "Epoch 46/100\n",
      "64/64 [==============================] - 7s 102ms/step - loss: 0.2011 - categorical_accuracy: 0.9294 - val_loss: 2.5219 - val_categorical_accuracy: 0.1655\n",
      "Epoch 47/100\n",
      "64/64 [==============================] - 7s 102ms/step - loss: 0.1281 - categorical_accuracy: 0.9546 - val_loss: 2.5507 - val_categorical_accuracy: 0.1655\n",
      "Epoch 48/100\n"
     ]
    },
    {
     "name": "stdout",
     "output_type": "stream",
     "text": [
      "64/64 [==============================] - 7s 103ms/step - loss: 0.1368 - categorical_accuracy: 0.9536 - val_loss: 2.5357 - val_categorical_accuracy: 0.1655\n",
      "Epoch 49/100\n",
      "64/64 [==============================] - 7s 103ms/step - loss: 0.2194 - categorical_accuracy: 0.9231 - val_loss: 2.4798 - val_categorical_accuracy: 0.1655\n",
      "Epoch 50/100\n",
      "64/64 [==============================] - 7s 102ms/step - loss: 0.1114 - categorical_accuracy: 0.9612 - val_loss: 2.6082 - val_categorical_accuracy: 0.1691\n",
      "Epoch 51/100\n",
      "64/64 [==============================] - 7s 102ms/step - loss: 0.1973 - categorical_accuracy: 0.9320 - val_loss: 2.5074 - val_categorical_accuracy: 0.1744\n",
      "Epoch 52/100\n",
      "64/64 [==============================] - 7s 103ms/step - loss: 0.1712 - categorical_accuracy: 0.9399 - val_loss: 2.5736 - val_categorical_accuracy: 0.1744\n",
      "Epoch 53/100\n",
      "64/64 [==============================] - 7s 102ms/step - loss: 0.1506 - categorical_accuracy: 0.9483 - val_loss: 2.5998 - val_categorical_accuracy: 0.1741\n",
      "Epoch 54/100\n",
      "64/64 [==============================] - 7s 102ms/step - loss: 0.1944 - categorical_accuracy: 0.9334 - val_loss: 2.5848 - val_categorical_accuracy: 0.1853\n",
      "Epoch 55/100\n",
      "64/64 [==============================] - 7s 103ms/step - loss: 0.1601 - categorical_accuracy: 0.9434 - val_loss: 2.7458 - val_categorical_accuracy: 0.1814\n",
      "Epoch 56/100\n",
      "64/64 [==============================] - 7s 102ms/step - loss: 0.1237 - categorical_accuracy: 0.9563 - val_loss: 2.7812 - val_categorical_accuracy: 0.1878\n",
      "Epoch 57/100\n",
      "64/64 [==============================] - 7s 102ms/step - loss: 0.1200 - categorical_accuracy: 0.9589 - val_loss: 2.8689 - val_categorical_accuracy: 0.1800\n",
      "Epoch 58/100\n",
      "64/64 [==============================] - 7s 103ms/step - loss: 0.1237 - categorical_accuracy: 0.9584 - val_loss: 2.8654 - val_categorical_accuracy: 0.1722\n",
      "Epoch 59/100\n",
      "64/64 [==============================] - 7s 102ms/step - loss: 0.1996 - categorical_accuracy: 0.9309 - val_loss: 3.0149 - val_categorical_accuracy: 0.1716\n",
      "Epoch 60/100\n",
      "64/64 [==============================] - 7s 102ms/step - loss: 0.1218 - categorical_accuracy: 0.9588 - val_loss: 2.8553 - val_categorical_accuracy: 0.1711\n",
      "Epoch 61/100\n",
      "64/64 [==============================] - 6s 100ms/step - loss: 0.2369 - categorical_accuracy: 0.9184 - val_loss: 2.9705 - val_categorical_accuracy: 0.1806\n",
      "Epoch 62/100\n",
      "64/64 [==============================] - 6s 101ms/step - loss: 0.1861 - categorical_accuracy: 0.9365 - val_loss: 2.7674 - val_categorical_accuracy: 0.1856\n",
      "Epoch 63/100\n",
      "64/64 [==============================] - 7s 102ms/step - loss: 0.1442 - categorical_accuracy: 0.9497 - val_loss: 2.9908 - val_categorical_accuracy: 0.1825\n",
      "Epoch 64/100\n",
      "64/64 [==============================] - 7s 102ms/step - loss: 0.1268 - categorical_accuracy: 0.9563 - val_loss: 3.0386 - val_categorical_accuracy: 0.1900\n",
      "Epoch 65/100\n",
      "64/64 [==============================] - 6s 101ms/step - loss: 0.1353 - categorical_accuracy: 0.9542 - val_loss: 3.1576 - val_categorical_accuracy: 0.1981\n",
      "Epoch 66/100\n",
      "64/64 [==============================] - 6s 101ms/step - loss: 0.1123 - categorical_accuracy: 0.9624 - val_loss: 3.5803 - val_categorical_accuracy: 0.1744\n",
      "Epoch 67/100\n",
      "64/64 [==============================] - 7s 103ms/step - loss: 0.1068 - categorical_accuracy: 0.9645 - val_loss: 3.2578 - val_categorical_accuracy: 0.19118 - cate\n",
      "Epoch 68/100\n",
      "64/64 [==============================] - 7s 102ms/step - loss: 0.2032 - categorical_accuracy: 0.9293 - val_loss: 3.3816 - val_categorical_accuracy: 0.19500.92\n",
      "Epoch 69/100\n",
      "64/64 [==============================] - 7s 102ms/step - loss: 0.1701 - categorical_accuracy: 0.9410 - val_loss: 3.3114 - val_categorical_accuracy: 0.1962\n",
      "Epoch 70/100\n",
      "64/64 [==============================] - 7s 102ms/step - loss: 0.1415 - categorical_accuracy: 0.9515 - val_loss: 3.2516 - val_categorical_accuracy: 0.2070\n",
      "Epoch 71/100\n",
      "64/64 [==============================] - 7s 102ms/step - loss: 0.1466 - categorical_accuracy: 0.9476 - val_loss: 4.0546 - val_categorical_accuracy: 0.2023\n",
      "Epoch 72/100\n",
      "64/64 [==============================] - 7s 102ms/step - loss: 0.1055 - categorical_accuracy: 0.9641 - val_loss: 3.9799 - val_categorical_accuracy: 0.2154\n",
      "Epoch 73/100\n",
      "64/64 [==============================] - 7s 102ms/step - loss: 0.0749 - categorical_accuracy: 0.9741 - val_loss: 3.9920 - val_categorical_accuracy: 0.2182\n",
      "Epoch 74/100\n",
      "64/64 [==============================] - 7s 102ms/step - loss: 0.1212 - categorical_accuracy: 0.9584 - val_loss: 3.7440 - val_categorical_accuracy: 0.2307\n",
      "Epoch 75/100\n",
      "64/64 [==============================] - 7s 102ms/step - loss: 0.1146 - categorical_accuracy: 0.9596 - val_loss: 3.9129 - val_categorical_accuracy: 0.2471\n",
      "Epoch 76/100\n",
      "64/64 [==============================] - 7s 102ms/step - loss: 0.0941 - categorical_accuracy: 0.9674 - val_loss: 3.5032 - val_categorical_accuracy: 0.2664\n",
      "Epoch 77/100\n",
      "64/64 [==============================] - 7s 102ms/step - loss: 0.1589 - categorical_accuracy: 0.9464 - val_loss: 3.3832 - val_categorical_accuracy: 0.2987\n",
      "Epoch 78/100\n",
      "64/64 [==============================] - 7s 102ms/step - loss: 0.1601 - categorical_accuracy: 0.9447 - val_loss: 3.4718 - val_categorical_accuracy: 0.3115\n",
      "Epoch 79/100\n",
      "64/64 [==============================] - 7s 102ms/step - loss: 0.0839 - categorical_accuracy: 0.9708 - val_loss: 3.5867 - val_categorical_accuracy: 0.3168\n",
      "Epoch 80/100\n",
      "64/64 [==============================] - 7s 102ms/step - loss: 0.1142 - categorical_accuracy: 0.9615 - val_loss: 3.6189 - val_categorical_accuracy: 0.3068\n",
      "Epoch 81/100\n",
      "64/64 [==============================] - 7s 102ms/step - loss: 0.1356 - categorical_accuracy: 0.9525 - val_loss: 3.3025 - val_categorical_accuracy: 0.3435\n",
      "Epoch 82/100\n",
      "64/64 [==============================] - 7s 102ms/step - loss: 0.0765 - categorical_accuracy: 0.9733 - val_loss: 3.5243 - val_categorical_accuracy: 0.3324\n",
      "Epoch 83/100\n",
      "64/64 [==============================] - 7s 102ms/step - loss: 0.1213 - categorical_accuracy: 0.9574 - val_loss: 3.8819 - val_categorical_accuracy: 0.3355\n",
      "Epoch 84/100\n",
      "64/64 [==============================] - 7s 102ms/step - loss: 0.1074 - categorical_accuracy: 0.9631 - val_loss: 3.6191 - val_categorical_accuracy: 0.3834\n",
      "Epoch 85/100\n",
      "64/64 [==============================] - 7s 102ms/step - loss: 0.0605 - categorical_accuracy: 0.9781 - val_loss: 3.9430 - val_categorical_accuracy: 0.3968\n",
      "Epoch 86/100\n",
      "64/64 [==============================] - 7s 103ms/step - loss: 0.0555 - categorical_accuracy: 0.9800 - val_loss: 3.7121 - val_categorical_accuracy: 0.4160\n",
      "Epoch 87/100\n",
      "64/64 [==============================] - 7s 104ms/step - loss: 0.1395 - categorical_accuracy: 0.9517 - val_loss: 3.8849 - val_categorical_accuracy: 0.4096\n",
      "Epoch 88/100\n",
      "64/64 [==============================] - 7s 102ms/step - loss: 0.1060 - categorical_accuracy: 0.9630 - val_loss: 3.8848 - val_categorical_accuracy: 0.4210\n",
      "Epoch 89/100\n",
      "64/64 [==============================] - 6s 102ms/step - loss: 0.1020 - categorical_accuracy: 0.9645 - val_loss: 4.1662 - val_categorical_accuracy: 0.3901\n",
      "Epoch 90/100\n",
      "64/64 [==============================] - 6s 101ms/step - loss: 0.1133 - categorical_accuracy: 0.9601 - val_loss: 4.2266 - val_categorical_accuracy: 0.4065\n",
      "Epoch 91/100\n",
      "64/64 [==============================] - 7s 102ms/step - loss: 0.1033 - categorical_accuracy: 0.9637 - val_loss: 4.2942 - val_categorical_accuracy: 0.4012\n",
      "Epoch 92/100\n",
      "64/64 [==============================] - 7s 102ms/step - loss: 0.0944 - categorical_accuracy: 0.9673 - val_loss: 4.3030 - val_categorical_accuracy: 0.4358\n",
      "Epoch 93/100\n",
      "64/64 [==============================] - 7s 102ms/step - loss: 0.1617 - categorical_accuracy: 0.9451 - val_loss: 4.9277 - val_categorical_accuracy: 0.4221\n",
      "Epoch 94/100\n",
      "64/64 [==============================] - 7s 102ms/step - loss: 0.0870 - categorical_accuracy: 0.9701 - val_loss: 4.5112 - val_categorical_accuracy: 0.4283\n",
      "Epoch 95/100\n",
      "64/64 [==============================] - 7s 114ms/step - loss: 0.0817 - categorical_accuracy: 0.9714 - val_loss: 5.0016 - val_categorical_accuracy: 0.4166\n",
      "Epoch 96/100\n",
      "64/64 [==============================] - 7s 104ms/step - loss: 0.1115 - categorical_accuracy: 0.9612 - val_loss: 4.8961 - val_categorical_accuracy: 0.4436\n"
     ]
    },
    {
     "name": "stdout",
     "output_type": "stream",
     "text": [
      "Epoch 97/100\n",
      "64/64 [==============================] - 7s 102ms/step - loss: 0.0810 - categorical_accuracy: 0.9714 - val_loss: 5.1683 - val_categorical_accuracy: 0.3965\n",
      "Epoch 98/100\n",
      "64/64 [==============================] - 7s 102ms/step - loss: 0.1713 - categorical_accuracy: 0.9418 - val_loss: 5.5765 - val_categorical_accuracy: 0.4324\n",
      "Epoch 99/100\n",
      "64/64 [==============================] - 6s 101ms/step - loss: 0.1171 - categorical_accuracy: 0.9591 - val_loss: 5.7202 - val_categorical_accuracy: 0.4079\n",
      "Epoch 100/100\n",
      "64/64 [==============================] - 7s 102ms/step - loss: 0.0723 - categorical_accuracy: 0.9742 - val_loss: 5.6126 - val_categorical_accuracy: 0.4324\n"
     ]
    },
    {
     "data": {
      "text/plain": [
       "<tensorflow.python.keras.callbacks.History at 0x7f7358580b90>"
      ]
     },
     "execution_count": 4,
     "metadata": {},
     "output_type": "execute_result"
    }
   ],
   "source": [
    "# MobileNet 모델 학습하기\n",
    "\n",
    "# model 선언 \n",
    "model = tf.keras.applications.MobileNetV2(input_shape=(48, 48, 1), weights=None, classes=7)\n",
    "\n",
    "# model.compile\n",
    "model.compile(optimizer=tf.keras.optimizers.Adam(), loss=tf.keras.losses.CategoricalCrossentropy(), metrics=[tf.keras.metrics.CategoricalAccuracy()])\n",
    "\n",
    "#model.fit\n",
    "model.fit(np.stack(train_x), tf.keras.utils.to_categorical(train_y), epochs=100, batch_size=512, validation_data=(np.stack(eval_x), tf.keras.utils.to_categorical(eval_y)))"
   ]
  },
  {
   "cell_type": "markdown",
   "metadata": {},
   "source": [
    "## 학습된 모델을 tensorflow.js 형식으로 변환하기"
   ]
  },
  {
   "cell_type": "code",
   "execution_count": 5,
   "metadata": {},
   "outputs": [
    {
     "data": {
      "text/plain": [
       "'\\n$ pip install tensorflowjs\\n$ tensorflowjs_converter --input_format=keras model.h5 model\\n'"
      ]
     },
     "execution_count": 5,
     "metadata": {},
     "output_type": "execute_result"
    }
   ],
   "source": [
    "model_path = 'model.h5'\n",
    "model.save(model_path)\n",
    "\n",
    "'''\n",
    "$ pip install tensorflowjs\n",
    "$ tensorflowjs_converter --input_format=keras model.h5 model\n",
    "'''"
   ]
  },
  {
   "cell_type": "markdown",
   "metadata": {},
   "source": [
    "## 카메라에서 가져온 영상 전처리하기"
   ]
  },
  {
   "cell_type": "code",
   "execution_count": null,
   "metadata": {},
   "outputs": [],
   "source": []
  }
 ],
 "metadata": {
  "kernelspec": {
   "display_name": "aiffel",
   "language": "python",
   "name": "aiffel"
  },
  "language_info": {
   "codemirror_mode": {
    "name": "ipython",
    "version": 3
   },
   "file_extension": ".py",
   "mimetype": "text/x-python",
   "name": "python",
   "nbconvert_exporter": "python",
   "pygments_lexer": "ipython3",
   "version": "3.7.6"
  }
 },
 "nbformat": 4,
 "nbformat_minor": 4
}
