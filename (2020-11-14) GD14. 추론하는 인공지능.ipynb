{
 "cells": [
  {
   "cell_type": "markdown",
   "metadata": {},
   "source": [
    "# GD14. 추론하는 인공지능"
   ]
  },
  {
   "cell_type": "code",
   "execution_count": 1,
   "metadata": {},
   "outputs": [],
   "source": [
    "from tensorflow.keras.utils import get_file\n",
    "from tensorflow.keras.preprocessing.sequence import pad_sequences\n",
    "from tensorflow.keras.utils import to_categorical\n",
    "import numpy as np\n",
    "import tarfile\n",
    "from nltk import FreqDist\n",
    "from functools import reduce\n",
    "import os\n",
    "import re\n",
    "\n",
    "from tensorflow.keras.models import Sequential, Model\n",
    "from tensorflow.keras.layers import Embedding\n",
    "from tensorflow.keras.layers import Permute, dot, add, concatenate\n",
    "from tensorflow.keras.layers import LSTM, Dense, Dropout, Input, Activation\n",
    "import matplotlib.pyplot as plt"
   ]
  },
  {
   "cell_type": "markdown",
   "metadata": {},
   "source": [
    "## 데이터 로드하기"
   ]
  },
  {
   "cell_type": "code",
   "execution_count": null,
   "metadata": {},
   "outputs": [],
   "source": [
    "# 환경에 맞게 경로 수정\n",
    "path = get_file('babi-tasks-v1-2.tar.gz', origin='https://s3.amazonaws.com/text-datasets/babi_tasks_1-20_v1-2.tar.gz')"
   ]
  },
  {
   "cell_type": "code",
   "execution_count": null,
   "metadata": {},
   "outputs": [],
   "source": [
    "with tarfile.open(path) as tar:\n",
    "    tar.extractall()\n",
    "    tar.close()"
   ]
  },
  {
   "cell_type": "code",
   "execution_count": null,
   "metadata": {},
   "outputs": [],
   "source": [
    "# 환경에 맞게 경로 수정\n",
    "DATA_DIR = 'tasks_1-20_v1-2/en-10k'\n",
    "TRAIN_FILE = os.path.join(DATA_DIR, \"qa1_single-supporting-fact_train.txt\")\n",
    "TEST_FILE = os.path.join(DATA_DIR, \"qa1_single-supporting-fact_test.txt\")"
   ]
  },
  {
   "cell_type": "code",
   "execution_count": null,
   "metadata": {},
   "outputs": [],
   "source": [
    "i = 0\n",
    "lines = open(TRAIN_FILE , \"rb\")\n",
    "for line in lines:\n",
    "    line = line.decode(\"utf-8\").strip()\n",
    "    # lno, text = line.split(\" \", 1) # ID와 TEXT 분리\n",
    "    i = i + 1\n",
    "    print(line)\n",
    "    if i == 20:\n",
    "        break"
   ]
  },
  {
   "cell_type": "markdown",
   "metadata": {},
   "source": [
    "## 데이터 전처리"
   ]
  },
  {
   "cell_type": "markdown",
   "metadata": {},
   "source": [
    "### 기본 전처리\n",
    "* 데이터를 읽는 과정에서 스토리, 질문, 답변을 각각 분리 (supporting fact는 저장 X)"
   ]
  },
  {
   "cell_type": "code",
   "execution_count": null,
   "metadata": {},
   "outputs": [],
   "source": [
    "def read_data(dir):\n",
    "    stories, questions, answers = [], [], [] # 각각 스토리, 질문, 답변을 저장할 예정\n",
    "    story_temp = [] # 현재 시점의 스토리 임시 저장\n",
    "    lines = open(dir, \"rb\")\n",
    "\n",
    "    for line in lines:\n",
    "        line = line.decode(\"utf-8\") # b' 제거\n",
    "        line = line.strip() # '\\n' 제거\n",
    "        idx, text = line.split(\" \", 1) # 맨 앞에 있는 id number 분리\n",
    "        # 여기까지는 모든 줄에 적용되는 전처리\n",
    "\n",
    "        if int(idx) == 1:\n",
    "            story_temp = []\n",
    "        \n",
    "        if \"\\t\" in text: # 현재 읽는 줄이 질문 (tab) 답변 (tab)인 경우\n",
    "            question, answer, _ = text.split(\"\\t\") # 질문과 답변을 각각 저장\n",
    "            stories.append([x for x in story_temp if x]) # 지금까지의 누적 스토리를 스토리에 저장\n",
    "            questions.append(question)\n",
    "            answers.append(answer)\n",
    "\n",
    "        else: # 현재 읽는 줄이 스토리인 경우\n",
    "            story_temp.append(text) # 임시 저장\n",
    "\n",
    "    lines.close()\n",
    "    return stories, questions, answers"
   ]
  },
  {
   "cell_type": "code",
   "execution_count": null,
   "metadata": {},
   "outputs": [],
   "source": [
    "train_data = read_data(TRAIN_FILE)\n",
    "test_data = read_data(TEST_FILE)"
   ]
  },
  {
   "cell_type": "code",
   "execution_count": null,
   "metadata": {},
   "outputs": [],
   "source": [
    "# 저장하고 출력해보기\n",
    "train_stories, train_questions, train_answers = read_data(TRAIN_FILE)\n",
    "test_stories, test_questions, test_answers = read_data(TEST_FILE)\n",
    "\n",
    "# train data: 10000개\n",
    "print(len(train_stories))\n",
    "print(len(train_questions))\n",
    "print(len(train_answers))\n",
    "\n",
    "# test data: 1000개\n",
    "print(len(test_stories))\n",
    "print(len(test_questions))\n",
    "print(len(test_answers))"
   ]
  },
  {
   "cell_type": "code",
   "execution_count": null,
   "metadata": {},
   "outputs": [],
   "source": [
    "# 임의의 스토리 출력해보기\n",
    "train_stories[3878]"
   ]
  },
  {
   "cell_type": "code",
   "execution_count": null,
   "metadata": {},
   "outputs": [],
   "source": [
    "# 상위 5개 질문 출력해보기\n",
    "train_questions[:5]"
   ]
  },
  {
   "cell_type": "code",
   "execution_count": null,
   "metadata": {},
   "outputs": [],
   "source": [
    "# 상위 5개 답변 출력해보기\n",
    "train_answers[:5]"
   ]
  },
  {
   "cell_type": "markdown",
   "metadata": {},
   "source": [
    "#### 토큰화\n",
    "* 파이썬 버전에 따라 다르게 사용: https://github.com/keras-team/keras/issues/13248"
   ]
  },
  {
   "cell_type": "code",
   "execution_count": null,
   "metadata": {},
   "outputs": [],
   "source": [
    "# 파이썬 버전에 따라 다르게 사용\n",
    "def tokenize(sent):\n",
    "    return [ x.strip() for x in re.sub(r\"\\s+|\\b\", '\\f', sent).split('\\f') if x.strip() ] # python 3.7의 경우 \n",
    "    # return [ x.strip() for x in re.split('(\\W+)?', sent) if x.strip()] # python 3.6의 경우"
   ]
  },
  {
   "cell_type": "markdown",
   "metadata": {},
   "source": [
    "* 주요 전처리 작업\n",
    "    - 단어장 생성\n",
    "    - 단어에서 정수로, 정수에서 단어로 맵핑하는 딕셔너리 생성\n",
    "    - 그 과정에서 스토리와 질문의 가장 긴 거리 구하기\n",
    "* 위 과정에서, 같은 스토리 내 여러 문장을 하나의 문장으로 통합"
   ]
  },
  {
   "cell_type": "code",
   "execution_count": null,
   "metadata": {},
   "outputs": [],
   "source": [
    "def preprocess_data(train_data, test_data):\n",
    "    counter = FreqDist()\n",
    "    \n",
    "    # 두 문장의 story를 하나의 문장으로 통합하는 함수\n",
    "    flatten = lambda data: reduce(lambda x, y: x + y, data)\n",
    "\n",
    "    # 각 샘플의 길이를 저장하는 리스트\n",
    "    story_len = []\n",
    "    question_len = []\n",
    "    \n",
    "    for stories, questions, answers in [train_data, test_data]:\n",
    "        for story in stories:\n",
    "            stories = tokenize(flatten(story)) # 스토리의 문장들을 펼친 후 토큰화\n",
    "            story_len.append(len(stories)) # 각 story의 길이 저장\n",
    "            for word in stories: # 단어 집합에 단어 추가\n",
    "                counter[word] += 1\n",
    "        for question in questions:\n",
    "            question = tokenize(question)\n",
    "            question_len.append(len(question))\n",
    "            for word in question:\n",
    "                counter[word] += 1\n",
    "        for answer in answers:\n",
    "            answer = tokenize(answer)\n",
    "            for word in answer:\n",
    "                counter[word] += 1\n",
    "\n",
    "    # 단어장 생성\n",
    "    word2idx = {word : (idx + 1) for idx, (word, _) in enumerate(counter.most_common())}\n",
    "    idx2word = {idx : word for word, idx in word2idx.items()}\n",
    "\n",
    "    # 가장 긴 샘플의 길이\n",
    "    story_max_len = np.max(story_len)\n",
    "    question_max_len = np.max(question_len)\n",
    "\n",
    "    return word2idx, idx2word, story_max_len, question_max_len"
   ]
  },
  {
   "cell_type": "code",
   "execution_count": null,
   "metadata": {},
   "outputs": [],
   "source": [
    "# 전처리 함수를 사용해 가장 긴 샘플의 길이 리턴\n",
    "word2idx, idx2word, story_max_len, question_max_len = preprocess_data(train_data, test_data)"
   ]
  },
  {
   "cell_type": "code",
   "execution_count": null,
   "metadata": {},
   "outputs": [],
   "source": [
    "# 단어장 출력해보기\n",
    "print(word2idx)"
   ]
  },
  {
   "cell_type": "code",
   "execution_count": null,
   "metadata": {},
   "outputs": [],
   "source": [
    "# 실제 변수로 사용할 단어장의 크기는 +1 (패딩 고려)\n",
    "vocab_size = len(word2idx) + 1"
   ]
  },
  {
   "cell_type": "code",
   "execution_count": null,
   "metadata": {},
   "outputs": [],
   "source": [
    "print('스토리의 최대 길이 :',story_max_len)\n",
    "print('질문의 최대 길이 :',question_max_len)"
   ]
  },
  {
   "cell_type": "markdown",
   "metadata": {},
   "source": [
    "### 패딩, 정수 인코딩, 벡터화\n",
    "* `vectorize()`\n",
    "    - 현재 각 데이터는 전부 텍스트 데이터입니다. 이를 단어와 맵핑되는 정수로 인코딩해줍니다. 이 과정은 앞서 만들어놓은 word2idx를 활용합니다.\n",
    "    - 스토리와 질문 데이터에 대해서 각각의 최대 길이로 패딩(padding)합니다. 이 과정은 앞서 계산해놓은 story_max_len과 question_max_len을 사용합니다.\n",
    "    - 레이블에 해당되는 정답 데이터를 원-핫 인코딩합니다."
   ]
  },
  {
   "cell_type": "code",
   "execution_count": null,
   "metadata": {},
   "outputs": [],
   "source": [
    "def vectorize(data, word2idx, story_maxlen, question_maxlen):\n",
    "    Xs, Xq, Y = [], [], []\n",
    "    flatten = lambda data: reduce(lambda x, y: x + y, data)\n",
    "\n",
    "    stories, questions, answers = data\n",
    "    for story, question, answer in zip(stories, questions, answers):\n",
    "        xs = [word2idx[w] for w in tokenize(flatten(story))]\n",
    "        xq = [word2idx[w] for w in tokenize(question)]\n",
    "        Xs.append(xs)\n",
    "        Xq.append(xq)\n",
    "        Y.append(word2idx[answer])\n",
    "\n",
    "    # 스토리와 질문은 각각의 최대 길이로 패딩\n",
    "    # 정답은 원-핫 인코딩\n",
    "    return pad_sequences(Xs, maxlen=story_maxlen),\\\n",
    "           pad_sequences(Xq, maxlen=question_maxlen),\\\n",
    "           to_categorical(Y, num_classes=len(word2idx) + 1)"
   ]
  },
  {
   "cell_type": "code",
   "execution_count": null,
   "metadata": {},
   "outputs": [],
   "source": [
    "# 훈련 데이터와 테스트 데이터에 벡터화 수행\n",
    "Xstrain, Xqtrain, Ytrain = vectorize(train_data, word2idx, story_max_len, question_max_len)\n",
    "Xstest, Xqtest, Ytest = vectorize(test_data, word2idx, story_max_len, question_max_len)"
   ]
  },
  {
   "cell_type": "code",
   "execution_count": null,
   "metadata": {},
   "outputs": [],
   "source": [
    "# 변환된 결과의 크기 (shape) 확인\n",
    "# (10000, 68) (10000, 4) (10000, 22) (1000, 68) (1000, 4) (1000, 22)\n",
    "print(Xstrain.shape, Xqtrain.shape, Ytrain.shape, Xstest.shape, Xqtest.shape, Ytest.shape)"
   ]
  },
  {
   "cell_type": "markdown",
   "metadata": {},
   "source": [
    "## 메모리 네트워크 구현"
   ]
  },
  {
   "cell_type": "code",
   "execution_count": null,
   "metadata": {},
   "outputs": [],
   "source": [
    "# 주요 하이퍼파라미터 정의\n",
    "\n",
    "train_epochs = 120 # 에포크 횟수\n",
    "batch_size = 32 # 배치 크기\n",
    "embed_size = 50 # 임베딩 크기\n",
    "lstm_size = 64 # LSTM의 크기\n",
    "dropout_rate = 0.30 # 과적합 방지 기법인 드롭아웃 적용 비율"
   ]
  },
  {
   "cell_type": "code",
   "execution_count": null,
   "metadata": {},
   "outputs": [],
   "source": [
    "# 입력을 담아두는 변수 정의\n",
    "input_sequence = Input((story_max_len,))\n",
    "question = Input((question_max_len,))\n",
    " \n",
    "print('Stories :', input_sequence)\n",
    "print('Question:', question)"
   ]
  },
  {
   "cell_type": "code",
   "execution_count": null,
   "metadata": {},
   "outputs": [],
   "source": [
    "# 스토리를 위한 첫번째 임베딩. 그림에서의 Embedding A\n",
    "input_encoder_m = Sequential()\n",
    "input_encoder_m.add(Embedding(input_dim=vocab_size,\n",
    "                              output_dim=embed_size))\n",
    "input_encoder_m.add(Dropout(dropout_rate))\n",
    "# 결과 : (samples, story_max_len, embed_size) / 샘플의 수, 문장의 최대 길이, 임베딩 벡터의 차원\n",
    " \n",
    "# 스토리를 위한 두번째 임베딩. 그림에서의 Embedding C\n",
    "# 임베딩 벡터의 차원을 question_max_len(질문의 최대 길이)로 한다.\n",
    "input_encoder_c = Sequential()\n",
    "input_encoder_c.add(Embedding(input_dim=vocab_size,\n",
    "                              output_dim=question_max_len))\n",
    "input_encoder_c.add(Dropout(dropout_rate))\n",
    "# 결과 : (samples, story_max_len, question_max_len) / 샘플의 수, 문장의 최대 길이, 질문의 최대 길이(임베딩 벡터의 차원)"
   ]
  },
  {
   "cell_type": "code",
   "execution_count": null,
   "metadata": {},
   "outputs": [],
   "source": [
    "# 질문을 위한 임베딩. 그림에서의 Embedding B\n",
    "question_encoder = Sequential()\n",
    "question_encoder.add(Embedding(input_dim=vocab_size,\n",
    "                               output_dim=embed_size,\n",
    "                               input_length=question_max_len))\n",
    "question_encoder.add(Dropout(dropout_rate))\n",
    "# 결과 : (samples, question_max_len, embed_size) / 샘플의 수, 질문의 최대 길이, 임베딩 벡터의 차원"
   ]
  },
  {
   "cell_type": "code",
   "execution_count": null,
   "metadata": {},
   "outputs": [],
   "source": [
    "# 실질적인 임베딩 과정\n",
    "input_encoded_m = input_encoder_m(input_sequence)\n",
    "input_encoded_c = input_encoder_c(input_sequence)\n",
    "question_encoded = question_encoder(question)\n",
    "\n",
    "print('Input encoded m', input_encoded_m)\n",
    "print('Input encoded c', input_encoded_c)\n",
    "print('Question encoded', question_encoded)"
   ]
  },
  {
   "cell_type": "code",
   "execution_count": null,
   "metadata": {},
   "outputs": [],
   "source": [
    "# 스토리 단어들과 질문 단어들 간의 유사도를 구하는 과정\n",
    "# 유사도는 내적을 사용한다.\n",
    "match = dot([input_encoded_m, question_encoded], axes=-1, normalize=False)\n",
    "match = Activation('softmax')(match)\n",
    "print('Match shape', match)\n",
    "# 결과 : (samples, story_max_len, question_max_len) / 샘플의 수, 문장의 최대 길이, 질문의 최대 길이"
   ]
  },
  {
   "cell_type": "code",
   "execution_count": null,
   "metadata": {},
   "outputs": [],
   "source": [
    "# 매칭 유사도 행렬과 질문에 대한 임베딩을 더한다.\n",
    "response = add([match, input_encoded_c])  # (samples, story_maxlen, question_max_len)\n",
    "response = Permute((2, 1))(response)  # (samples, question_max_len, story_maxlen)\n",
    "print('Response shape', response)"
   ]
  },
  {
   "cell_type": "code",
   "execution_count": null,
   "metadata": {},
   "outputs": [],
   "source": [
    "# concatenate the response vector with the question vector sequence\n",
    "answer = concatenate([response, question_encoded])\n",
    "print('Answer shape', answer)\n",
    " \n",
    "answer = LSTM(lstm_size)(answer)  # Generate tensors of shape 32\n",
    "answer = Dropout(dropout_rate)(answer)\n",
    "answer = Dense(vocab_size)(answer)  # (samples, vocab_size)\n",
    "# we output a probability distribution over the vocabulary\n",
    "answer = Activation('softmax')(answer)"
   ]
  },
  {
   "cell_type": "code",
   "execution_count": null,
   "metadata": {},
   "outputs": [],
   "source": [
    "# 모델 훈련\n",
    "\n",
    "# 모델 컴파일\n",
    "model = Model([input_sequence, question], answer)\n",
    "model.compile(optimizer='rmsprop', loss='categorical_crossentropy',\n",
    "              metrics=['acc'])\n",
    " \n",
    "# 테스트 데이터를 검증 데이터로 사용하면서 모델 훈련 시작\n",
    "history = model.fit([Xstrain, Xqtrain],\n",
    "         Ytrain, batch_size, train_epochs,\n",
    "         validation_data=([Xstest, Xqtest], Ytest))\n",
    " \n",
    "# 훈련 후에는 모델 저장\n",
    "model_path = 'babi_memory_net/model.h5'\n",
    "model.save(model_path)"
   ]
  },
  {
   "cell_type": "code",
   "execution_count": null,
   "metadata": {},
   "outputs": [],
   "source": [
    "# 테스트 정확도 출력\n",
    "print(\"\\n 테스트 정확도: %.4f\" % (model.evaluate([Xstest, Xqtest], Ytest)[1]))"
   ]
  },
  {
   "cell_type": "code",
   "execution_count": null,
   "metadata": {},
   "outputs": [],
   "source": [
    "# 훈련 과정에서 기록해두었던 훈련 데이터, 검증 데이터의 정확도와 loss를 그래프로 출력\n",
    "\n",
    "# plot accuracy and loss plot\n",
    "plt.subplot(211)\n",
    "plt.title(\"Accuracy\")\n",
    "plt.plot(history.history[\"acc\"], color=\"g\", label=\"train\")\n",
    "plt.plot(history.history[\"val_acc\"], color=\"b\", label=\"validation\")\n",
    "plt.legend(loc=\"best\")\n",
    "\n",
    "plt.subplot(212)\n",
    "plt.title(\"Loss\")\n",
    "plt.plot(history.history[\"loss\"], color=\"g\", label=\"train\")\n",
    "plt.plot(history.history[\"val_loss\"], color=\"b\", label=\"validation\")\n",
    "plt.legend(loc=\"best\")\n",
    "\n",
    "plt.tight_layout()\n",
    "plt.show()\n",
    "\n",
    "# labels\n",
    "ytest = np.argmax(Ytest, axis=1)\n",
    "\n",
    "# get predictions\n",
    "Ytest_ = model.predict([Xstest, Xqtest])\n",
    "ytest_ = np.argmax(Ytest_, axis=1)"
   ]
  },
  {
   "cell_type": "code",
   "execution_count": null,
   "metadata": {},
   "outputs": [],
   "source": [
    "# 실제로 문제를 잘 맞추고 있는지 임의로 30개의 예측 결과 출력해보기\n",
    "NUM_DISPLAY = 30\n",
    "\n",
    "print(\"{:18}|{:5}|{}\".format(\"질문\", \"실제값\", \"예측값\"))\n",
    "print(39 * \"-\")\n",
    "\n",
    "for i in range(NUM_DISPLAY):\n",
    "    question = \" \".join([idx2word[x] for x in Xqtest[i].tolist()])\n",
    "    label = idx2word[ytest[i]]\n",
    "    prediction = idx2word[ytest_[i]]\n",
    "    print(\"{:20}: {:7} {}\".format(question, label, prediction))"
   ]
  },
  {
   "cell_type": "markdown",
   "metadata": {},
   "source": [
    "## 프로젝트: 한국어 QA 모델 만들기\n",
    "* `e-28-korean.zip`: bAbI 데이터셋을 저자가 한국어로 변환한 한국어 버전의 bAbI 데이터셋 (https://wikidocs.net/85470)\n",
    "   \n",
    "> **주의** 기존 케라스 공식 문서의 babi_rnn, babi_memn 구현은 파이썬 3.6을 기준으로 하고 있으며, 파이썬 3.7에서는 정상동작 하지 않을 수 있습니다. 실습 시 참고하세요!"
   ]
  },
  {
   "cell_type": "code",
   "execution_count": 2,
   "metadata": {},
   "outputs": [],
   "source": [
    "DATA_DIR = 'e-28-korean'\n",
    "TRAIN_FILE = os.path.join(DATA_DIR, \"qa1_single-supporting-fact_train_kor.txt\")\n",
    "TEST_FILE = os.path.join(DATA_DIR, \"qa1_single-supporting-fact_test_kor.txt\")"
   ]
  },
  {
   "cell_type": "code",
   "execution_count": 3,
   "metadata": {},
   "outputs": [
    {
     "name": "stdout",
     "output_type": "stream",
     "text": [
      "1 필웅이는 화장실로 갔습니다.\n",
      "2 은경이는 복도로 이동했습니다.\n",
      "3 필웅이는 어디야? \t화장실\t1\n",
      "4 수종이는 복도로 복귀했습니다.\n",
      "5 경임이는 정원으로 갔습니다.\n",
      "6 수종이는 어디야? \t복도\t4\n",
      "7 은경이는 사무실로 갔습니다.\n",
      "8 경임이는 화장실로 뛰어갔습니다.\n",
      "9 수종이는 어디야? \t복도\t4\n",
      "10 필웅이는 복도로 갔습니다.\n",
      "11 수종이는 사무실로 가버렸습니다.\n",
      "12 수종이는 어디야? \t사무실\t11\n",
      "13 은경이는 정원으로 복귀했습니다.\n",
      "14 은경이는 침실로 갔습니다.\n",
      "15 경임이는 어디야? \t화장실\t8\n"
     ]
    }
   ],
   "source": [
    "i = 0\n",
    "lines = open(TRAIN_FILE , \"rb\")\n",
    "for line in lines:\n",
    "    line = line.decode(\"utf-8\").strip()\n",
    "    # lno, text = line.split(\" \", 1) # ID와 TEXT 분리\n",
    "    i = i + 1\n",
    "    print(line)\n",
    "    if i == 15:\n",
    "        break"
   ]
  },
  {
   "cell_type": "code",
   "execution_count": 4,
   "metadata": {},
   "outputs": [
    {
     "name": "stdout",
     "output_type": "stream",
     "text": [
      "29985\n"
     ]
    }
   ],
   "source": [
    "# 학습 데이터 전체 수 확인\n",
    "total_count = 0\n",
    "\n",
    "for line in lines:\n",
    "    total_count += 1\n",
    "    \n",
    "print(total_count)"
   ]
  },
  {
   "cell_type": "code",
   "execution_count": 5,
   "metadata": {},
   "outputs": [],
   "source": [
    "def read_data(dir):\n",
    "    stories, questions, answers = [], [], [] # 각각 스토리, 질문, 답변을 저장할 예정\n",
    "    story_temp = [] # 현재 시점의 스토리 임시 저장\n",
    "    lines = open(dir, \"rb\")\n",
    "\n",
    "    for line in lines:\n",
    "        line = line.decode(\"utf-8\") # b' 제거\n",
    "        line = line.strip() # '\\n' 제거\n",
    "        idx, text = line.split(\" \", 1) # 맨 앞에 있는 id number 분리\n",
    "        # 여기까지는 모든 줄에 적용되는 전처리\n",
    "\n",
    "        if int(idx) == 1:\n",
    "            story_temp = []\n",
    "        \n",
    "        if \"\\t\" in text: # 현재 읽는 줄이 질문 (tab) 답변 (tab)인 경우\n",
    "            question, answer, _ = text.split(\"\\t\") # 질문과 답변을 각각 저장\n",
    "            stories.append([x for x in story_temp if x]) # 지금까지의 누적 스토리를 스토리에 저장\n",
    "            questions.append(question)\n",
    "            answers.append(answer)\n",
    "\n",
    "        else: # 현재 읽는 줄이 스토리인 경우\n",
    "            story_temp.append(text) # 임시 저장\n",
    "\n",
    "    lines.close()\n",
    "    return stories, questions, answers"
   ]
  },
  {
   "cell_type": "code",
   "execution_count": 6,
   "metadata": {},
   "outputs": [
    {
     "name": "stdout",
     "output_type": "stream",
     "text": [
      "10000\n",
      "10000\n",
      "10000\n",
      "1000\n",
      "1000\n",
      "1000\n"
     ]
    }
   ],
   "source": [
    "train_data = read_data(TRAIN_FILE)\n",
    "test_data = read_data(TEST_FILE)\n",
    "\n",
    "# 저장하고 출력해보기\n",
    "train_stories, train_questions, train_answers = read_data(TRAIN_FILE)\n",
    "test_stories, test_questions, test_answers = read_data(TEST_FILE)\n",
    "\n",
    "# train data: 10000개\n",
    "print(len(train_stories))\n",
    "print(len(train_questions))\n",
    "print(len(train_answers))\n",
    "\n",
    "# test data: 1000개\n",
    "print(len(test_stories))\n",
    "print(len(test_questions))\n",
    "print(len(test_answers))"
   ]
  },
  {
   "cell_type": "code",
   "execution_count": 7,
   "metadata": {},
   "outputs": [
    {
     "data": {
      "text/plain": [
       "['필웅이는 어디야? ', '수종이는 어디야? ', '수종이는 어디야? ', '수종이는 어디야? ', '경임이는 어디야? ']"
      ]
     },
     "execution_count": 7,
     "metadata": {},
     "output_type": "execute_result"
    }
   ],
   "source": [
    "# 상위 5개 질문 출력해보기\n",
    "train_questions[:5]"
   ]
  },
  {
   "cell_type": "code",
   "execution_count": 8,
   "metadata": {},
   "outputs": [
    {
     "data": {
      "text/plain": [
       "['화장실', '복도', '복도', '사무실', '화장실']"
      ]
     },
     "execution_count": 8,
     "metadata": {},
     "output_type": "execute_result"
    }
   ],
   "source": [
    "# 상위 5개 답변 출력해보기\n",
    "train_answers[:5]"
   ]
  },
  {
   "cell_type": "code",
   "execution_count": 9,
   "metadata": {},
   "outputs": [
    {
     "data": {
      "text/plain": [
       "['수종이는 화장실로 뛰어갔습니다.',\n",
       " '경임이는 사무실로 갔습니다.',\n",
       " '은경이는 부엌으로 이동했습니다.',\n",
       " '경임이는 화장실로 갔습니다.',\n",
       " '수종이는 복도로 갔습니다.',\n",
       " '필웅이는 부엌으로 가버렸습니다.',\n",
       " '수종이는 부엌으로 이동했습니다.',\n",
       " '수종이는 화장실로 가버렸습니다.']"
      ]
     },
     "execution_count": 9,
     "metadata": {},
     "output_type": "execute_result"
    }
   ],
   "source": [
    "# 임의의 스토리 출력해보기\n",
    "train_stories[3878]"
   ]
  },
  {
   "cell_type": "markdown",
   "metadata": {},
   "source": [
    "### 토크나이저 변경하기 (중요)\n",
    "* 사람 이름 등을 위해 사용자 사전 추가: Customized Konlpy https://inspiringpeople.github.io/data%20analysis/ckonlpy/\n",
    "   \n",
    "```\n",
    "from ckonlpy.tag import Twitter\n",
    "twitter = Twitter()\n",
    "twitter.add_dictionary('은경이', 'Noun')\n",
    "twitter.morphs('은경이는 사무실로 갔습니다.')\n",
    "```"
   ]
  },
  {
   "cell_type": "code",
   "execution_count": 10,
   "metadata": {},
   "outputs": [
    {
     "name": "stderr",
     "output_type": "stream",
     "text": [
      "/home/aiffel0042/anaconda3/envs/aiffel/lib/python3.7/site-packages/konlpy/tag/_okt.py:16: UserWarning: \"Twitter\" has changed to \"Okt\" since KoNLPy v0.4.5.\n",
      "  warn('\"Twitter\" has changed to \"Okt\" since KoNLPy v0.4.5.')\n"
     ]
    }
   ],
   "source": [
    "from ckonlpy.tag import Twitter\n",
    "\n",
    "twitter = Twitter()\n",
    "twitter.add_dictionary('은경이', 'Noun')\n",
    "twitter.add_dictionary('필웅이', 'Noun')\n",
    "twitter.add_dictionary('수종이', 'Noun')\n",
    "twitter.add_dictionary('경임이', 'Noun')\n",
    "\n",
    "# twitter.morhps('은경이는 정원으로 복귀했습니다.')\n",
    "# twitter.morphs('수종이는 어디야?')"
   ]
  },
  {
   "cell_type": "code",
   "execution_count": 11,
   "metadata": {},
   "outputs": [],
   "source": [
    "def tokenize(sent):\n",
    "    return twitter.morphs(sent) # 형태소 분석기로 변경"
   ]
  },
  {
   "cell_type": "code",
   "execution_count": 12,
   "metadata": {},
   "outputs": [],
   "source": [
    "def preprocess_data(train_data, test_data):\n",
    "    counter = FreqDist()\n",
    "    \n",
    "    # 두 문장의 story를 하나의 문장으로 통합하는 함수\n",
    "    flatten = lambda data: reduce(lambda x, y: x + y, data)\n",
    "\n",
    "    # 각 샘플의 길이를 저장하는 리스트\n",
    "    story_len = []\n",
    "    question_len = []\n",
    "    \n",
    "    for stories, questions, answers in [train_data, test_data]:\n",
    "        for story in stories:\n",
    "            stories = tokenize(flatten(story)) # 스토리의 문장들을 펼친 후 토큰화\n",
    "            story_len.append(len(stories)) # 각 story의 길이 저장\n",
    "            for word in stories: # 단어 집합에 단어 추가\n",
    "                counter[word] += 1\n",
    "        for question in questions:\n",
    "            question = tokenize(question)\n",
    "            question_len.append(len(question))\n",
    "            for word in question:\n",
    "                counter[word] += 1\n",
    "        for answer in answers:\n",
    "            answer = tokenize(answer)\n",
    "            for word in answer:\n",
    "                counter[word] += 1\n",
    "\n",
    "    # 단어장 생성\n",
    "    word2idx = {word : (idx + 1) for idx, (word, _) in enumerate(counter.most_common())}\n",
    "    idx2word = {idx : word for word, idx in word2idx.items()}\n",
    "\n",
    "    # 가장 긴 샘플의 길이\n",
    "    story_max_len = np.max(story_len)\n",
    "    question_max_len = np.max(question_len)\n",
    "\n",
    "    return word2idx, idx2word, story_max_len, question_max_len"
   ]
  },
  {
   "cell_type": "markdown",
   "metadata": {},
   "source": [
    "### 형태소 분석 후 불용어 처리하기"
   ]
  },
  {
   "cell_type": "code",
   "execution_count": 13,
   "metadata": {},
   "outputs": [],
   "source": [
    "# 전처리 함수를 사용해 가장 긴 샘플의 길이 리턴\n",
    "word2idx, idx2word, story_max_len, question_max_len = preprocess_data(train_data, test_data)"
   ]
  },
  {
   "cell_type": "code",
   "execution_count": 14,
   "metadata": {},
   "outputs": [
    {
     "name": "stdout",
     "output_type": "stream",
     "text": [
      "{'는': 1, '.': 2, '로': 3, '했습니다': 4, '으로': 5, '경임이': 6, '은경이': 7, '수종이': 8, '필웅이': 9, '이동': 10, '가버렸습니다': 11, '뛰어갔습니다': 12, '복귀': 13, '화장실': 14, '정원': 15, '복도': 16, '갔습니다': 17, '사무실': 18, '부엌': 19, '침실': 20, '어디': 21, '야': 22, '?': 23}\n"
     ]
    }
   ],
   "source": [
    "# 단어장 출력해보기\n",
    "print(word2idx)"
   ]
  },
  {
   "cell_type": "code",
   "execution_count": 15,
   "metadata": {},
   "outputs": [],
   "source": [
    "# 실제 변수로 사용할 단어장의 크기는 +1 (패딩 고려)\n",
    "vocab_size = len(word2idx) + 1"
   ]
  },
  {
   "cell_type": "code",
   "execution_count": 16,
   "metadata": {},
   "outputs": [
    {
     "name": "stdout",
     "output_type": "stream",
     "text": [
      "스토리의 최대 길이 : 70\n",
      "질문의 최대 길이 : 5\n"
     ]
    }
   ],
   "source": [
    "print('스토리의 최대 길이 :',story_max_len)\n",
    "print('질문의 최대 길이 :',question_max_len)"
   ]
  },
  {
   "cell_type": "markdown",
   "metadata": {},
   "source": [
    "### 벡터화"
   ]
  },
  {
   "cell_type": "code",
   "execution_count": 17,
   "metadata": {},
   "outputs": [],
   "source": [
    "def vectorize(data, word2idx, story_maxlen, question_maxlen):\n",
    "    Xs, Xq, Y = [], [], []\n",
    "    flatten = lambda data: reduce(lambda x, y: x + y, data)\n",
    "\n",
    "    stories, questions, answers = data\n",
    "    for story, question, answer in zip(stories, questions, answers):\n",
    "        xs = [word2idx[w] for w in tokenize(flatten(story))]\n",
    "        xq = [word2idx[w] for w in tokenize(question)]\n",
    "        Xs.append(xs)\n",
    "        Xq.append(xq)\n",
    "        Y.append(word2idx[answer])\n",
    "\n",
    "    # 스토리와 질문은 각각의 최대 길이로 패딩\n",
    "    # 정답은 원-핫 인코딩\n",
    "    return pad_sequences(Xs, maxlen=story_maxlen),\\\n",
    "           pad_sequences(Xq, maxlen=question_maxlen),\\\n",
    "           to_categorical(Y, num_classes=len(word2idx) + 1)"
   ]
  },
  {
   "cell_type": "code",
   "execution_count": 18,
   "metadata": {},
   "outputs": [],
   "source": [
    "# 훈련 데이터와 테스트 데이터에 벡터화 수행\n",
    "Xstrain, Xqtrain, Ytrain = vectorize(train_data, word2idx, story_max_len, question_max_len)\n",
    "Xstest, Xqtest, Ytest = vectorize(test_data, word2idx, story_max_len, question_max_len)"
   ]
  },
  {
   "cell_type": "code",
   "execution_count": 19,
   "metadata": {},
   "outputs": [
    {
     "name": "stdout",
     "output_type": "stream",
     "text": [
      "(10000, 70) (10000, 5) (10000, 24) (1000, 70) (1000, 5) (1000, 24)\n"
     ]
    }
   ],
   "source": [
    "# 변환된 결과의 크기 (shape) 확인\n",
    "print(Xstrain.shape, Xqtrain.shape, Ytrain.shape, Xstest.shape, Xqtest.shape, Ytest.shape)"
   ]
  },
  {
   "cell_type": "markdown",
   "metadata": {},
   "source": [
    "### 한국어에서의 모델 정확도 확인해보기"
   ]
  },
  {
   "cell_type": "code",
   "execution_count": 20,
   "metadata": {},
   "outputs": [],
   "source": [
    "# 주요 하이퍼파라미터 정의\n",
    "\n",
    "train_epochs = 120 # 에포크 횟수\n",
    "batch_size = 32 # 배치 크기\n",
    "embed_size = 50 # 임베딩 크기\n",
    "lstm_size = 64 # LSTM의 크기\n",
    "dropout_rate = 0.30 # 과적합 방지 기법인 드롭아웃 적용 비율"
   ]
  },
  {
   "cell_type": "code",
   "execution_count": 21,
   "metadata": {},
   "outputs": [
    {
     "name": "stdout",
     "output_type": "stream",
     "text": [
      "Stories : Tensor(\"input_1:0\", shape=(None, 70), dtype=float32)\n",
      "Question: Tensor(\"input_2:0\", shape=(None, 5), dtype=float32)\n"
     ]
    }
   ],
   "source": [
    "# 입력을 담아두는 변수 정의\n",
    "input_sequence = Input((story_max_len,))\n",
    "question = Input((question_max_len,))\n",
    " \n",
    "print('Stories :', input_sequence)\n",
    "print('Question:', question)"
   ]
  },
  {
   "cell_type": "code",
   "execution_count": 22,
   "metadata": {},
   "outputs": [],
   "source": [
    "# 스토리를 위한 첫번째 임베딩. 그림에서의 Embedding A\n",
    "input_encoder_m = Sequential()\n",
    "input_encoder_m.add(Embedding(input_dim=vocab_size,\n",
    "                              output_dim=embed_size))\n",
    "input_encoder_m.add(Dropout(dropout_rate))\n",
    "# 결과 : (samples, story_max_len, embed_size) / 샘플의 수, 문장의 최대 길이, 임베딩 벡터의 차원\n",
    " \n",
    "# 스토리를 위한 두번째 임베딩. 그림에서의 Embedding C\n",
    "# 임베딩 벡터의 차원을 question_max_len(질문의 최대 길이)로 한다.\n",
    "input_encoder_c = Sequential()\n",
    "input_encoder_c.add(Embedding(input_dim=vocab_size,\n",
    "                              output_dim=question_max_len))\n",
    "input_encoder_c.add(Dropout(dropout_rate))\n",
    "# 결과 : (samples, story_max_len, question_max_len) / 샘플의 수, 문장의 최대 길이, 질문의 최대 길이(임베딩 벡터의 차원)"
   ]
  },
  {
   "cell_type": "code",
   "execution_count": 23,
   "metadata": {},
   "outputs": [],
   "source": [
    "# 질문을 위한 임베딩. 그림에서의 Embedding B\n",
    "question_encoder = Sequential()\n",
    "question_encoder.add(Embedding(input_dim=vocab_size,\n",
    "                               output_dim=embed_size,\n",
    "                               input_length=question_max_len))\n",
    "question_encoder.add(Dropout(dropout_rate))\n",
    "# 결과 : (samples, question_max_len, embed_size) / 샘플의 수, 질문의 최대 길이, 임베딩 벡터의 차원"
   ]
  },
  {
   "cell_type": "code",
   "execution_count": 24,
   "metadata": {},
   "outputs": [
    {
     "name": "stdout",
     "output_type": "stream",
     "text": [
      "Input encoded m Tensor(\"sequential/dropout/cond/Identity:0\", shape=(None, 70, 50), dtype=float32)\n",
      "Input encoded c Tensor(\"sequential_1/dropout_1/cond/Identity:0\", shape=(None, 70, 5), dtype=float32)\n",
      "Question encoded Tensor(\"sequential_2/dropout_2/cond/Identity:0\", shape=(None, 5, 50), dtype=float32)\n"
     ]
    }
   ],
   "source": [
    "# 실질적인 임베딩 과정\n",
    "input_encoded_m = input_encoder_m(input_sequence)\n",
    "input_encoded_c = input_encoder_c(input_sequence)\n",
    "question_encoded = question_encoder(question)\n",
    "\n",
    "print('Input encoded m', input_encoded_m)\n",
    "print('Input encoded c', input_encoded_c)\n",
    "print('Question encoded', question_encoded)"
   ]
  },
  {
   "cell_type": "code",
   "execution_count": 25,
   "metadata": {},
   "outputs": [
    {
     "name": "stdout",
     "output_type": "stream",
     "text": [
      "Match shape Tensor(\"activation/truediv:0\", shape=(None, 70, 5), dtype=float32)\n"
     ]
    }
   ],
   "source": [
    "# 스토리 단어들과 질문 단어들 간의 유사도를 구하는 과정\n",
    "# 유사도는 내적을 사용한다.\n",
    "match = dot([input_encoded_m, question_encoded], axes=-1, normalize=False)\n",
    "match = Activation('softmax')(match)\n",
    "print('Match shape', match)\n",
    "# 결과 : (samples, story_max_len, question_max_len) / 샘플의 수, 문장의 최대 길이, 질문의 최대 길이"
   ]
  },
  {
   "cell_type": "code",
   "execution_count": 26,
   "metadata": {},
   "outputs": [
    {
     "name": "stdout",
     "output_type": "stream",
     "text": [
      "Response shape Tensor(\"permute/transpose:0\", shape=(None, 5, 70), dtype=float32)\n"
     ]
    }
   ],
   "source": [
    "# 매칭 유사도 행렬과 질문에 대한 임베딩을 더한다.\n",
    "response = add([match, input_encoded_c])  # (samples, story_maxlen, question_max_len)\n",
    "response = Permute((2, 1))(response)  # (samples, question_max_len, story_maxlen)\n",
    "print('Response shape', response)"
   ]
  },
  {
   "cell_type": "code",
   "execution_count": 27,
   "metadata": {},
   "outputs": [
    {
     "name": "stdout",
     "output_type": "stream",
     "text": [
      "Answer shape Tensor(\"concatenate/concat:0\", shape=(None, 5, 120), dtype=float32)\n"
     ]
    }
   ],
   "source": [
    "# concatenate the response vector with the question vector sequence\n",
    "answer = concatenate([response, question_encoded])\n",
    "print('Answer shape', answer)\n",
    " \n",
    "answer = LSTM(lstm_size)(answer)  # Generate tensors of shape 32\n",
    "answer = Dropout(dropout_rate)(answer)\n",
    "answer = Dense(vocab_size)(answer)  # (samples, vocab_size)\n",
    "# we output a probability distribution over the vocabulary\n",
    "answer = Activation('softmax')(answer)"
   ]
  },
  {
   "cell_type": "code",
   "execution_count": 28,
   "metadata": {
    "scrolled": false
   },
   "outputs": [
    {
     "name": "stdout",
     "output_type": "stream",
     "text": [
      "Epoch 1/120\n",
      "313/313 [==============================] - 1s 4ms/step - loss: 1.8909 - acc: 0.1718 - val_loss: 1.7920 - val_acc: 0.1490\n",
      "Epoch 2/120\n",
      "313/313 [==============================] - 1s 2ms/step - loss: 1.7065 - acc: 0.2572 - val_loss: 1.6746 - val_acc: 0.2740\n",
      "Epoch 3/120\n",
      "313/313 [==============================] - 1s 2ms/step - loss: 1.6316 - acc: 0.3112 - val_loss: 1.5773 - val_acc: 0.3450\n",
      "Epoch 4/120\n",
      "313/313 [==============================] - 1s 2ms/step - loss: 1.5281 - acc: 0.4015 - val_loss: 1.4439 - val_acc: 0.4640\n",
      "Epoch 5/120\n",
      "313/313 [==============================] - 1s 2ms/step - loss: 1.4565 - acc: 0.4451 - val_loss: 1.4206 - val_acc: 0.4740\n",
      "Epoch 6/120\n",
      "313/313 [==============================] - 1s 2ms/step - loss: 1.4069 - acc: 0.4593 - val_loss: 1.3906 - val_acc: 0.4860\n",
      "Epoch 7/120\n",
      "313/313 [==============================] - 1s 2ms/step - loss: 1.3689 - acc: 0.4749 - val_loss: 1.3375 - val_acc: 0.4980\n",
      "Epoch 8/120\n",
      "313/313 [==============================] - 1s 2ms/step - loss: 1.3451 - acc: 0.4839 - val_loss: 1.3264 - val_acc: 0.5060\n",
      "Epoch 9/120\n",
      "313/313 [==============================] - 1s 2ms/step - loss: 1.3261 - acc: 0.4836 - val_loss: 1.3029 - val_acc: 0.5100\n",
      "Epoch 10/120\n",
      "313/313 [==============================] - 1s 3ms/step - loss: 1.3029 - acc: 0.4984 - val_loss: 1.2885 - val_acc: 0.5080\n",
      "Epoch 11/120\n",
      "313/313 [==============================] - 1s 2ms/step - loss: 1.2765 - acc: 0.5112 - val_loss: 1.2817 - val_acc: 0.5140\n",
      "Epoch 12/120\n",
      "313/313 [==============================] - 1s 2ms/step - loss: 1.2608 - acc: 0.5087 - val_loss: 1.2607 - val_acc: 0.5150\n",
      "Epoch 13/120\n",
      "313/313 [==============================] - 1s 3ms/step - loss: 1.2438 - acc: 0.5198 - val_loss: 1.2689 - val_acc: 0.5160\n",
      "Epoch 14/120\n",
      "313/313 [==============================] - 1s 2ms/step - loss: 1.2278 - acc: 0.5246 - val_loss: 1.2729 - val_acc: 0.5010\n",
      "Epoch 15/120\n",
      "313/313 [==============================] - 1s 2ms/step - loss: 1.2194 - acc: 0.5208 - val_loss: 1.2456 - val_acc: 0.5150\n",
      "Epoch 16/120\n",
      "313/313 [==============================] - 1s 2ms/step - loss: 1.2095 - acc: 0.5188 - val_loss: 1.2417 - val_acc: 0.5120\n",
      "Epoch 17/120\n",
      "313/313 [==============================] - 1s 2ms/step - loss: 1.1900 - acc: 0.5284 - val_loss: 1.2148 - val_acc: 0.5090\n",
      "Epoch 18/120\n",
      "313/313 [==============================] - 1s 2ms/step - loss: 1.1807 - acc: 0.5287 - val_loss: 1.2152 - val_acc: 0.5190\n",
      "Epoch 19/120\n",
      "313/313 [==============================] - 1s 3ms/step - loss: 1.1601 - acc: 0.5412 - val_loss: 1.2036 - val_acc: 0.5210\n",
      "Epoch 20/120\n",
      "313/313 [==============================] - 1s 2ms/step - loss: 1.1560 - acc: 0.5301 - val_loss: 1.1944 - val_acc: 0.5300\n",
      "Epoch 21/120\n",
      "313/313 [==============================] - 1s 2ms/step - loss: 1.1467 - acc: 0.5298 - val_loss: 1.1723 - val_acc: 0.5170\n",
      "Epoch 22/120\n",
      "313/313 [==============================] - 1s 2ms/step - loss: 1.1238 - acc: 0.5366 - val_loss: 1.1942 - val_acc: 0.5120\n",
      "Epoch 23/120\n",
      "313/313 [==============================] - 1s 2ms/step - loss: 1.1201 - acc: 0.5388 - val_loss: 1.1525 - val_acc: 0.5260\n",
      "Epoch 24/120\n",
      "313/313 [==============================] - 1s 2ms/step - loss: 1.1118 - acc: 0.5410 - val_loss: 1.1611 - val_acc: 0.5220\n",
      "Epoch 25/120\n",
      "313/313 [==============================] - 1s 2ms/step - loss: 1.1016 - acc: 0.5354 - val_loss: 1.1676 - val_acc: 0.5160\n",
      "Epoch 26/120\n",
      "313/313 [==============================] - 1s 2ms/step - loss: 1.0908 - acc: 0.5461 - val_loss: 1.1635 - val_acc: 0.5100\n",
      "Epoch 27/120\n",
      "313/313 [==============================] - 1s 2ms/step - loss: 1.0924 - acc: 0.5428 - val_loss: 1.2222 - val_acc: 0.5020\n",
      "Epoch 28/120\n",
      "313/313 [==============================] - 1s 2ms/step - loss: 1.0781 - acc: 0.5494 - val_loss: 1.1634 - val_acc: 0.4940\n",
      "Epoch 29/120\n",
      "313/313 [==============================] - 1s 2ms/step - loss: 1.0724 - acc: 0.5487 - val_loss: 1.1745 - val_acc: 0.5080\n",
      "Epoch 30/120\n",
      "313/313 [==============================] - 1s 2ms/step - loss: 1.0640 - acc: 0.5467 - val_loss: 1.1721 - val_acc: 0.5160\n",
      "Epoch 31/120\n",
      "313/313 [==============================] - 1s 2ms/step - loss: 1.0500 - acc: 0.5541 - val_loss: 1.1893 - val_acc: 0.4810\n",
      "Epoch 32/120\n",
      "313/313 [==============================] - 1s 2ms/step - loss: 1.0509 - acc: 0.5556 - val_loss: 1.1927 - val_acc: 0.5040\n",
      "Epoch 33/120\n",
      "313/313 [==============================] - 1s 2ms/step - loss: 1.0430 - acc: 0.5582 - val_loss: 1.1651 - val_acc: 0.5010\n",
      "Epoch 34/120\n",
      "313/313 [==============================] - 1s 2ms/step - loss: 1.0383 - acc: 0.5595 - val_loss: 1.1704 - val_acc: 0.4990\n",
      "Epoch 35/120\n",
      "313/313 [==============================] - 1s 2ms/step - loss: 1.0276 - acc: 0.5630 - val_loss: 1.1599 - val_acc: 0.4950\n",
      "Epoch 36/120\n",
      "313/313 [==============================] - 1s 2ms/step - loss: 1.0227 - acc: 0.5700 - val_loss: 1.1529 - val_acc: 0.5080\n",
      "Epoch 37/120\n",
      "313/313 [==============================] - 1s 2ms/step - loss: 1.0098 - acc: 0.5714 - val_loss: 1.1676 - val_acc: 0.5010\n",
      "Epoch 38/120\n",
      "313/313 [==============================] - 1s 2ms/step - loss: 1.0005 - acc: 0.5822 - val_loss: 1.1672 - val_acc: 0.5050\n",
      "Epoch 39/120\n",
      "313/313 [==============================] - 1s 2ms/step - loss: 0.9798 - acc: 0.5931 - val_loss: 1.1412 - val_acc: 0.5470\n",
      "Epoch 40/120\n",
      "313/313 [==============================] - 1s 2ms/step - loss: 0.9451 - acc: 0.6191 - val_loss: 1.0900 - val_acc: 0.5720\n",
      "Epoch 41/120\n",
      "313/313 [==============================] - 1s 2ms/step - loss: 0.9016 - acc: 0.6449 - val_loss: 1.0122 - val_acc: 0.6090\n",
      "Epoch 42/120\n",
      "313/313 [==============================] - 1s 2ms/step - loss: 0.7923 - acc: 0.6985 - val_loss: 0.8168 - val_acc: 0.6920\n",
      "Epoch 43/120\n",
      "313/313 [==============================] - 1s 2ms/step - loss: 0.6443 - acc: 0.7710 - val_loss: 0.6958 - val_acc: 0.7540\n",
      "Epoch 44/120\n",
      "313/313 [==============================] - 1s 3ms/step - loss: 0.5470 - acc: 0.8001 - val_loss: 0.5883 - val_acc: 0.7880\n",
      "Epoch 45/120\n",
      "313/313 [==============================] - 1s 2ms/step - loss: 0.4930 - acc: 0.8195 - val_loss: 0.5174 - val_acc: 0.8090\n",
      "Epoch 46/120\n",
      "313/313 [==============================] - 1s 2ms/step - loss: 0.4308 - acc: 0.8418 - val_loss: 0.4750 - val_acc: 0.8170\n",
      "Epoch 47/120\n",
      "313/313 [==============================] - 1s 2ms/step - loss: 0.3954 - acc: 0.8569 - val_loss: 0.4281 - val_acc: 0.8410\n",
      "Epoch 48/120\n",
      "313/313 [==============================] - 1s 2ms/step - loss: 0.3530 - acc: 0.8716 - val_loss: 0.3915 - val_acc: 0.8540\n",
      "Epoch 49/120\n",
      "313/313 [==============================] - 1s 3ms/step - loss: 0.3279 - acc: 0.8804 - val_loss: 0.3990 - val_acc: 0.8480\n",
      "Epoch 50/120\n",
      "313/313 [==============================] - 1s 2ms/step - loss: 0.3085 - acc: 0.8876 - val_loss: 0.3825 - val_acc: 0.8590\n",
      "Epoch 51/120\n",
      "313/313 [==============================] - 1s 2ms/step - loss: 0.2949 - acc: 0.8940 - val_loss: 0.3464 - val_acc: 0.8770\n",
      "Epoch 52/120\n",
      "313/313 [==============================] - 1s 2ms/step - loss: 0.2726 - acc: 0.8978 - val_loss: 0.3518 - val_acc: 0.8730\n",
      "Epoch 53/120\n",
      "313/313 [==============================] - 1s 3ms/step - loss: 0.2617 - acc: 0.9019 - val_loss: 0.3328 - val_acc: 0.8740\n",
      "Epoch 54/120\n",
      "313/313 [==============================] - 1s 2ms/step - loss: 0.2543 - acc: 0.9068 - val_loss: 0.3267 - val_acc: 0.8750\n",
      "Epoch 55/120\n",
      "313/313 [==============================] - 1s 2ms/step - loss: 0.2376 - acc: 0.9132 - val_loss: 0.3482 - val_acc: 0.8630\n",
      "Epoch 56/120\n",
      "313/313 [==============================] - 1s 3ms/step - loss: 0.2231 - acc: 0.9178 - val_loss: 0.3173 - val_acc: 0.8790\n",
      "Epoch 57/120\n",
      "313/313 [==============================] - 1s 2ms/step - loss: 0.2082 - acc: 0.9227 - val_loss: 0.3022 - val_acc: 0.8820\n",
      "Epoch 58/120\n",
      "313/313 [==============================] - 1s 2ms/step - loss: 0.1964 - acc: 0.9269 - val_loss: 0.2765 - val_acc: 0.8970\n",
      "Epoch 59/120\n",
      "313/313 [==============================] - 1s 2ms/step - loss: 0.1831 - acc: 0.9325 - val_loss: 0.2716 - val_acc: 0.9070\n",
      "Epoch 60/120\n",
      "313/313 [==============================] - 1s 2ms/step - loss: 0.1610 - acc: 0.9433 - val_loss: 0.2327 - val_acc: 0.9120\n",
      "Epoch 61/120\n",
      "313/313 [==============================] - 1s 2ms/step - loss: 0.1496 - acc: 0.9486 - val_loss: 0.2258 - val_acc: 0.9200\n",
      "Epoch 62/120\n"
     ]
    },
    {
     "name": "stdout",
     "output_type": "stream",
     "text": [
      "313/313 [==============================] - 1s 2ms/step - loss: 0.1384 - acc: 0.9494 - val_loss: 0.2187 - val_acc: 0.9210\n",
      "Epoch 63/120\n",
      "313/313 [==============================] - 1s 2ms/step - loss: 0.1257 - acc: 0.9554 - val_loss: 0.2883 - val_acc: 0.9130\n",
      "Epoch 64/120\n",
      "313/313 [==============================] - 1s 2ms/step - loss: 0.1161 - acc: 0.9580 - val_loss: 0.2076 - val_acc: 0.9170\n",
      "Epoch 65/120\n",
      "313/313 [==============================] - 1s 2ms/step - loss: 0.1141 - acc: 0.9600 - val_loss: 0.2171 - val_acc: 0.9220\n",
      "Epoch 66/120\n",
      "313/313 [==============================] - 1s 2ms/step - loss: 0.1107 - acc: 0.9611 - val_loss: 0.1897 - val_acc: 0.9320\n",
      "Epoch 67/120\n",
      "313/313 [==============================] - 1s 2ms/step - loss: 0.0954 - acc: 0.9661 - val_loss: 0.2189 - val_acc: 0.9340\n",
      "Epoch 68/120\n",
      "313/313 [==============================] - 1s 2ms/step - loss: 0.0887 - acc: 0.9704 - val_loss: 0.2031 - val_acc: 0.9330\n",
      "Epoch 69/120\n",
      "313/313 [==============================] - 1s 2ms/step - loss: 0.0911 - acc: 0.9682 - val_loss: 0.2110 - val_acc: 0.9250\n",
      "Epoch 70/120\n",
      "313/313 [==============================] - 1s 2ms/step - loss: 0.0901 - acc: 0.9692 - val_loss: 0.1851 - val_acc: 0.9360\n",
      "Epoch 71/120\n",
      "313/313 [==============================] - 1s 3ms/step - loss: 0.0783 - acc: 0.9739 - val_loss: 0.1911 - val_acc: 0.9340\n",
      "Epoch 72/120\n",
      "313/313 [==============================] - 1s 2ms/step - loss: 0.0754 - acc: 0.9725 - val_loss: 0.2210 - val_acc: 0.9270\n",
      "Epoch 73/120\n",
      "313/313 [==============================] - 1s 2ms/step - loss: 0.0717 - acc: 0.9748 - val_loss: 0.1936 - val_acc: 0.9370\n",
      "Epoch 74/120\n",
      "313/313 [==============================] - 1s 2ms/step - loss: 0.0632 - acc: 0.9781 - val_loss: 0.2337 - val_acc: 0.9320\n",
      "Epoch 75/120\n",
      "313/313 [==============================] - 1s 2ms/step - loss: 0.0619 - acc: 0.9794 - val_loss: 0.1974 - val_acc: 0.9410\n",
      "Epoch 76/120\n",
      "313/313 [==============================] - 1s 3ms/step - loss: 0.0578 - acc: 0.9802 - val_loss: 0.2269 - val_acc: 0.9420\n",
      "Epoch 77/120\n",
      "313/313 [==============================] - 1s 2ms/step - loss: 0.0597 - acc: 0.9802 - val_loss: 0.1969 - val_acc: 0.9390\n",
      "Epoch 78/120\n",
      "313/313 [==============================] - 1s 2ms/step - loss: 0.0536 - acc: 0.9821 - val_loss: 0.2095 - val_acc: 0.9410\n",
      "Epoch 79/120\n",
      "313/313 [==============================] - 1s 2ms/step - loss: 0.0565 - acc: 0.9813 - val_loss: 0.2005 - val_acc: 0.9390\n",
      "Epoch 80/120\n",
      "313/313 [==============================] - 1s 3ms/step - loss: 0.0526 - acc: 0.9840 - val_loss: 0.1955 - val_acc: 0.9370\n",
      "Epoch 81/120\n",
      "313/313 [==============================] - 1s 2ms/step - loss: 0.0486 - acc: 0.9832 - val_loss: 0.2121 - val_acc: 0.9440\n",
      "Epoch 82/120\n",
      "313/313 [==============================] - 1s 2ms/step - loss: 0.0456 - acc: 0.9848 - val_loss: 0.2203 - val_acc: 0.9390\n",
      "Epoch 83/120\n",
      "313/313 [==============================] - 1s 2ms/step - loss: 0.0403 - acc: 0.9869 - val_loss: 0.2304 - val_acc: 0.9350\n",
      "Epoch 84/120\n",
      "313/313 [==============================] - 1s 2ms/step - loss: 0.0417 - acc: 0.9858 - val_loss: 0.2175 - val_acc: 0.9390\n",
      "Epoch 85/120\n",
      "313/313 [==============================] - 1s 2ms/step - loss: 0.0435 - acc: 0.9856 - val_loss: 0.1882 - val_acc: 0.9470\n",
      "Epoch 86/120\n",
      "313/313 [==============================] - 1s 2ms/step - loss: 0.0426 - acc: 0.9868 - val_loss: 0.2102 - val_acc: 0.9440\n",
      "Epoch 87/120\n",
      "313/313 [==============================] - 1s 3ms/step - loss: 0.0398 - acc: 0.9873 - val_loss: 0.2119 - val_acc: 0.9430\n",
      "Epoch 88/120\n",
      "313/313 [==============================] - 1s 2ms/step - loss: 0.0362 - acc: 0.9879 - val_loss: 0.2156 - val_acc: 0.9400\n",
      "Epoch 89/120\n",
      "313/313 [==============================] - 1s 2ms/step - loss: 0.0361 - acc: 0.9893 - val_loss: 0.2305 - val_acc: 0.9420\n",
      "Epoch 90/120\n",
      "313/313 [==============================] - 1s 2ms/step - loss: 0.0418 - acc: 0.9873 - val_loss: 0.2180 - val_acc: 0.9450\n",
      "Epoch 91/120\n",
      "313/313 [==============================] - 1s 2ms/step - loss: 0.0361 - acc: 0.9876 - val_loss: 0.2050 - val_acc: 0.9430\n",
      "Epoch 92/120\n",
      "313/313 [==============================] - 1s 2ms/step - loss: 0.0319 - acc: 0.9907 - val_loss: 0.2000 - val_acc: 0.9430\n",
      "Epoch 93/120\n",
      "313/313 [==============================] - 1s 2ms/step - loss: 0.0338 - acc: 0.9902 - val_loss: 0.2104 - val_acc: 0.9440\n",
      "Epoch 94/120\n",
      "313/313 [==============================] - 1s 3ms/step - loss: 0.0346 - acc: 0.9882 - val_loss: 0.2070 - val_acc: 0.9420\n",
      "Epoch 95/120\n",
      "313/313 [==============================] - 1s 2ms/step - loss: 0.0335 - acc: 0.9894 - val_loss: 0.2193 - val_acc: 0.9450\n",
      "Epoch 96/120\n",
      "313/313 [==============================] - 1s 2ms/step - loss: 0.0318 - acc: 0.9900 - val_loss: 0.1953 - val_acc: 0.9470\n",
      "Epoch 97/120\n",
      "313/313 [==============================] - 1s 2ms/step - loss: 0.0298 - acc: 0.9906 - val_loss: 0.2184 - val_acc: 0.9460\n",
      "Epoch 98/120\n",
      "313/313 [==============================] - 1s 2ms/step - loss: 0.0267 - acc: 0.9914 - val_loss: 0.2182 - val_acc: 0.9480\n",
      "Epoch 99/120\n",
      "313/313 [==============================] - 1s 2ms/step - loss: 0.0264 - acc: 0.9918 - val_loss: 0.2270 - val_acc: 0.9420\n",
      "Epoch 100/120\n",
      "313/313 [==============================] - 1s 3ms/step - loss: 0.0297 - acc: 0.9906 - val_loss: 0.2244 - val_acc: 0.9430\n",
      "Epoch 101/120\n",
      "313/313 [==============================] - 1s 2ms/step - loss: 0.0268 - acc: 0.9913 - val_loss: 0.2123 - val_acc: 0.9510\n",
      "Epoch 102/120\n",
      "313/313 [==============================] - 1s 2ms/step - loss: 0.0328 - acc: 0.9905 - val_loss: 0.2070 - val_acc: 0.9500\n",
      "Epoch 103/120\n",
      "313/313 [==============================] - 1s 2ms/step - loss: 0.0235 - acc: 0.9928 - val_loss: 0.2081 - val_acc: 0.9530\n",
      "Epoch 104/120\n",
      "313/313 [==============================] - 1s 2ms/step - loss: 0.0243 - acc: 0.9915 - val_loss: 0.1934 - val_acc: 0.9500\n",
      "Epoch 105/120\n",
      "313/313 [==============================] - 1s 3ms/step - loss: 0.0251 - acc: 0.9926 - val_loss: 0.2214 - val_acc: 0.9470\n",
      "Epoch 106/120\n",
      "313/313 [==============================] - 1s 2ms/step - loss: 0.0210 - acc: 0.9935 - val_loss: 0.1975 - val_acc: 0.9580\n",
      "Epoch 107/120\n",
      "313/313 [==============================] - 1s 3ms/step - loss: 0.0307 - acc: 0.9918 - val_loss: 0.2008 - val_acc: 0.9550\n",
      "Epoch 108/120\n",
      "313/313 [==============================] - 1s 3ms/step - loss: 0.0277 - acc: 0.9920 - val_loss: 0.1855 - val_acc: 0.9520\n",
      "Epoch 109/120\n",
      "313/313 [==============================] - 1s 2ms/step - loss: 0.0225 - acc: 0.9929 - val_loss: 0.1902 - val_acc: 0.9530\n",
      "Epoch 110/120\n",
      "313/313 [==============================] - 1s 3ms/step - loss: 0.0265 - acc: 0.9924 - val_loss: 0.2195 - val_acc: 0.9530\n",
      "Epoch 111/120\n",
      "313/313 [==============================] - 1s 3ms/step - loss: 0.0323 - acc: 0.9915 - val_loss: 0.1861 - val_acc: 0.9550\n",
      "Epoch 112/120\n",
      "313/313 [==============================] - 1s 3ms/step - loss: 0.0172 - acc: 0.9950 - val_loss: 0.1753 - val_acc: 0.9530\n",
      "Epoch 113/120\n",
      "313/313 [==============================] - 1s 3ms/step - loss: 0.0194 - acc: 0.9941 - val_loss: 0.2021 - val_acc: 0.9510\n",
      "Epoch 114/120\n",
      "313/313 [==============================] - 1s 3ms/step - loss: 0.0191 - acc: 0.9946 - val_loss: 0.1873 - val_acc: 0.9510\n",
      "Epoch 115/120\n",
      "313/313 [==============================] - 1s 2ms/step - loss: 0.0209 - acc: 0.9929 - val_loss: 0.2239 - val_acc: 0.9500\n",
      "Epoch 116/120\n",
      "313/313 [==============================] - 1s 2ms/step - loss: 0.0186 - acc: 0.9935 - val_loss: 0.2178 - val_acc: 0.9510\n",
      "Epoch 117/120\n",
      "313/313 [==============================] - 1s 2ms/step - loss: 0.0194 - acc: 0.9939 - val_loss: 0.2106 - val_acc: 0.9520\n",
      "Epoch 118/120\n",
      "313/313 [==============================] - 1s 2ms/step - loss: 0.0193 - acc: 0.9938 - val_loss: 0.2069 - val_acc: 0.9570\n",
      "Epoch 119/120\n",
      "313/313 [==============================] - 1s 2ms/step - loss: 0.0187 - acc: 0.9936 - val_loss: 0.2088 - val_acc: 0.9530\n",
      "Epoch 120/120\n",
      "313/313 [==============================] - 1s 2ms/step - loss: 0.0209 - acc: 0.9935 - val_loss: 0.1819 - val_acc: 0.9560\n"
     ]
    }
   ],
   "source": [
    "# 모델 훈련\n",
    "\n",
    "# 모델 컴파일\n",
    "model = Model([input_sequence, question], answer)\n",
    "model.compile(optimizer='rmsprop', loss='categorical_crossentropy',\n",
    "              metrics=['acc'])\n",
    " \n",
    "# 테스트 데이터를 검증 데이터로 사용하면서 모델 훈련 시작\n",
    "history = model.fit([Xstrain, Xqtrain],\n",
    "         Ytrain, batch_size, train_epochs,\n",
    "         validation_data=([Xstest, Xqtest], Ytest))\n",
    " \n",
    "# 훈련 후에는 모델 저장\n",
    "model_path = 'babi_memory_net/model_ko.h5'\n",
    "model.save(model_path)"
   ]
  },
  {
   "cell_type": "code",
   "execution_count": 29,
   "metadata": {},
   "outputs": [
    {
     "name": "stdout",
     "output_type": "stream",
     "text": [
      "32/32 [==============================] - 0s 1ms/step - loss: 0.1819 - acc: 0.9560\n",
      "\n",
      " 테스트 정확도: 0.9560\n"
     ]
    }
   ],
   "source": [
    "# 테스트 정확도 출력\n",
    "print(\"\\n 테스트 정확도: %.4f\" % (model.evaluate([Xstest, Xqtest], Ytest)[1]))"
   ]
  },
  {
   "cell_type": "code",
   "execution_count": 30,
   "metadata": {},
   "outputs": [
    {
     "data": {
      "image/png": "[encoded data removed]",
      "text/plain": [
       "<Figure size 432x288 with 2 Axes>"
      ]
     },
     "metadata": {
      "needs_background": "light"
     },
     "output_type": "display_data"
    }
   ],
   "source": [
    "# 훈련 과정에서 기록해두었던 훈련 데이터, 검증 데이터의 정확도와 loss를 그래프로 출력\n",
    "\n",
    "# plot accuracy and loss plot\n",
    "plt.subplot(211)\n",
    "plt.title(\"Accuracy\")\n",
    "plt.plot(history.history[\"acc\"], color=\"g\", label=\"train\")\n",
    "plt.plot(history.history[\"val_acc\"], color=\"b\", label=\"validation\")\n",
    "plt.legend(loc=\"best\")\n",
    "\n",
    "plt.subplot(212)\n",
    "plt.title(\"Loss\")\n",
    "plt.plot(history.history[\"loss\"], color=\"g\", label=\"train\")\n",
    "plt.plot(history.history[\"val_loss\"], color=\"b\", label=\"validation\")\n",
    "plt.legend(loc=\"best\")\n",
    "\n",
    "plt.tight_layout()\n",
    "plt.show()\n",
    "\n",
    "# labels\n",
    "ytest = np.argmax(Ytest, axis=1)\n",
    "\n",
    "# get predictions\n",
    "Ytest_ = model.predict([Xstest, Xqtest])\n",
    "ytest_ = np.argmax(Ytest_, axis=1)"
   ]
  },
  {
   "cell_type": "code",
   "execution_count": 31,
   "metadata": {},
   "outputs": [
    {
     "name": "stdout",
     "output_type": "stream",
     "text": [
      "질문                |실제값  |예측값\n",
      "---------------------------------------\n",
      "은경이 는 어디 야 ?        : 복도      복도\n",
      "필웅이 는 어디 야 ?        : 화장실     화장실\n",
      "경임이 는 어디 야 ?        : 부엌      부엌\n",
      "경임이 는 어디 야 ?        : 복도      복도\n",
      "경임이 는 어디 야 ?        : 부엌      부엌\n",
      "경임이 는 어디 야 ?        : 복도      복도\n",
      "경임이 는 어디 야 ?        : 정원      정원\n",
      "수종이 는 어디 야 ?        : 복도      복도\n",
      "경임이 는 어디 야 ?        : 사무실     사무실\n",
      "수종이 는 어디 야 ?        : 사무실     사무실\n",
      "필웅이 는 어디 야 ?        : 부엌      부엌\n",
      "필웅이 는 어디 야 ?        : 정원      정원\n",
      "수종이 는 어디 야 ?        : 사무실     사무실\n",
      "필웅이 는 어디 야 ?        : 침실      침실\n",
      "필웅이 는 어디 야 ?        : 침실      침실\n",
      "은경이 는 어디 야 ?        : 부엌      부엌\n",
      "은경이 는 어디 야 ?        : 정원      정원\n",
      "은경이 는 어디 야 ?        : 부엌      부엌\n",
      "수종이 는 어디 야 ?        : 사무실     사무실\n",
      "은경이 는 어디 야 ?        : 부엌      복도\n",
      "필웅이 는 어디 야 ?        : 복도      복도\n",
      "은경이 는 어디 야 ?        : 사무실     사무실\n",
      "은경이 는 어디 야 ?        : 사무실     사무실\n",
      "경임이 는 어디 야 ?        : 복도      복도\n",
      "수종이 는 어디 야 ?        : 침실      침실\n",
      "경임이 는 어디 야 ?        : 침실      침실\n",
      "필웅이 는 어디 야 ?        : 침실      침실\n",
      "수종이 는 어디 야 ?        : 부엌      부엌\n",
      "수종이 는 어디 야 ?        : 부엌      부엌\n",
      "수종이 는 어디 야 ?        : 부엌      부엌\n"
     ]
    }
   ],
   "source": [
    "# 실제로 문제를 잘 맞추고 있는지 임의로 30개의 예측 결과 출력해보기\n",
    "NUM_DISPLAY = 30\n",
    "\n",
    "print(\"{:18}|{:5}|{}\".format(\"질문\", \"실제값\", \"예측값\"))\n",
    "print(39 * \"-\")\n",
    "\n",
    "for i in range(NUM_DISPLAY):\n",
    "    question = \" \".join([idx2word[x] for x in Xqtest[i].tolist()])\n",
    "    label = idx2word[ytest[i]]\n",
    "    prediction = idx2word[ytest_[i]]\n",
    "    print(\"{:20}: {:7} {}\".format(question, label, prediction))"
   ]
  },
  {
   "cell_type": "markdown",
   "metadata": {},
   "source": [
    "### 결론\n",
    "* 토큰화에는 konlpy의 Twitter 형태소 분석기를 사용하였다.\n",
    "* customized konlpy를 이용해, 데이터셋에서 잘못 인식할 만한 사람 이름 (필웅이, 은경이, 경임이, 수종이) 을 dictionary에 추가하였다.\n",
    "* 불용어는 따로 제거하지 않았다.\n",
    "* 하이퍼파라미터는 실습과 똑같이 진행하였다. (120 epochs, batch size 32, embedding size 50, lstm size 64, dropout rate 0.3)\n",
    "* 불용어 제거 없이도 정확도가 95.6% 나오고, 그래프도 안정적인 편이어서 프로젝트를 종료했다. 임의의 30개 질문에 대해 예측 결과와 실제 값을 비교해봐도 29개는 맞는 값을 도출하고 있다."
   ]
  },
  {
   "cell_type": "code",
   "execution_count": null,
   "metadata": {},
   "outputs": [],
   "source": []
  }
 ],
 "metadata": {
  "kernelspec": {
   "display_name": "aiffel",
   "language": "python",
   "name": "aiffel"
  },
  "language_info": {
   "codemirror_mode": {
    "name": "ipython",
    "version": 3
   },
   "file_extension": ".py",
   "mimetype": "text/x-python",
   "name": "python",
   "nbconvert_exporter": "python",
   "pygments_lexer": "ipython3",
   "version": "3.7.6"
  }
 },
 "nbformat": 4,
 "nbformat_minor": 4
}
