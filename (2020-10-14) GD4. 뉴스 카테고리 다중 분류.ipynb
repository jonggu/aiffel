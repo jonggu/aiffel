{
 "cells": [
  {
   "cell_type": "markdown",
   "metadata": {},
   "source": [
    "# GD4. 뉴스 카테고리 다중 분류"
   ]
  },
  {
   "cell_type": "markdown",
   "metadata": {},
   "source": [
    "## 필요한 모듈 import"
   ]
  },
  {
   "cell_type": "code",
   "execution_count": 1,
   "metadata": {},
   "outputs": [],
   "source": [
    "from tensorflow.keras.datasets import reuters\n",
    "import matplotlib.pyplot as plt\n",
    "import seaborn as sns\n",
    "import numpy as np\n",
    "import pandas as pd\n",
    "\n",
    "from sklearn.feature_extraction.text import CountVectorizer\n",
    "from sklearn.feature_extraction.text import TfidfTransformer\n",
    "\n",
    "from sklearn.naive_bayes import MultinomialNB # 다항분포 나이브 베이즈 모델\n",
    "from sklearn.linear_model import LogisticRegression, SGDClassifier\n",
    "from sklearn.naive_bayes import ComplementNB\n",
    "from sklearn.tree import DecisionTreeClassifier\n",
    "from sklearn.ensemble import RandomForestClassifier\n",
    "from sklearn.ensemble import GradientBoostingClassifier\n",
    "from sklearn.ensemble import VotingClassifier\n",
    "from sklearn.svm import LinearSVC\n",
    "from sklearn.metrics import accuracy_score, f1_score # 정확도 계산\n",
    "\n",
    "from sklearn.metrics import classification_report\n",
    "from sklearn.metrics import confusion_matrix"
   ]
  },
  {
   "cell_type": "markdown",
   "metadata": {},
   "source": [
    "## 데이터 로드\n",
    "* ```num_words```: 빈도수 기준 상위 몇 번째까지 사용할 것인지\n",
    "* ```test_split```: 데이터 중 어느 정도 비율을 테스트 셋으로 나눌 것인지"
   ]
  },
  {
   "cell_type": "code",
   "execution_count": 2,
   "metadata": {},
   "outputs": [
    {
     "name": "stdout",
     "output_type": "stream",
     "text": [
      "훈련 샘플의 수: 8982\n",
      "테스트 샘플의 수: 2246\n",
      "[1, 2, 2, 8, 43, 10, 447, 5, 25, 207, 270, 5, 3095, 111, 16, 369, 186, 90, 67, 7, 89, 5, 19, 102, 6, 19, 124, 15, 90, 67, 84, 22, 482, 26, 7, 48, 4, 49, 8, 864, 39, 209, 154, 6, 151, 6, 83, 11, 15, 22, 155, 11, 15, 7, 48, 9, 4579, 1005, 504, 6, 258, 6, 272, 11, 15, 22, 134, 44, 11, 15, 16, 8, 197, 1245, 90, 67, 52, 29, 209, 30, 32, 132, 6, 109, 15, 17, 12]\n",
      "[1, 4, 1378, 2025, 9, 697, 4622, 111, 8, 25, 109, 29, 3650, 11, 150, 244, 364, 33, 30, 30, 1398, 333, 6, 2, 159, 9, 1084, 363, 13, 2, 71, 9, 2, 71, 117, 4, 225, 78, 206, 10, 9, 1214, 8, 4, 270, 5, 2, 7, 748, 48, 9, 2, 7, 207, 1451, 966, 1864, 793, 97, 133, 336, 7, 4, 493, 98, 273, 104, 284, 25, 39, 338, 22, 905, 220, 3465, 644, 59, 20, 6, 119, 61, 11, 15, 58, 579, 26, 10, 67, 7, 4, 738, 98, 43, 88, 333, 722, 12, 20, 6, 19, 746, 35, 15, 10, 9, 1214, 855, 129, 783, 21, 4, 2280, 244, 364, 51, 16, 299, 452, 16, 515, 4, 99, 29, 5, 4, 364, 281, 48, 10, 9, 1214, 23, 644, 47, 20, 324, 27, 56, 2, 2, 5, 192, 510, 17, 12]\n",
      "3\n",
      "3\n",
      "클래스의 수 : 46\n"
     ]
    }
   ],
   "source": [
    "(x_train, y_train), (x_test, y_test) = reuters.load_data(num_words=10000, test_split=0.2)\n",
    "\n",
    "print('훈련 샘플의 수: {}'.format(len(x_train)))\n",
    "print('테스트 샘플의 수: {}'.format(len(x_test)))\n",
    "\n",
    "# 데이터 출력해보면 숫자 시퀀스가 출력됨 (텐서플로우에서 이미 전처리한 데이터 제공)\n",
    "print(x_train[0])\n",
    "print(x_test[0])\n",
    "\n",
    "# 각 뉴스는 정수로 된 레이블을 가지고 있음\n",
    "print(y_train[0])\n",
    "print(y_test[0])\n",
    "\n",
    "# 전체 클래스 수 (= 레이블 수) 확인\n",
    "num_classes = max(y_train) + 1\n",
    "print('클래스의 수 : {}'.format(num_classes))"
   ]
  },
  {
   "cell_type": "markdown",
   "metadata": {},
   "source": [
    "## 데이터 분포 확인\n",
    "* 3번 (3159개), 4번 (1949개) 클래스가 대부분이고 19번, 16번, 1번, 11번 등이 뒤를 이음 "
   ]
  },
  {
   "cell_type": "code",
   "execution_count": 3,
   "metadata": {},
   "outputs": [
    {
     "name": "stdout",
     "output_type": "stream",
     "text": [
      "훈련용 뉴스의 최대 길이: 2376\n",
      "훈련용 뉴스의 평균 길이: 145.5398574927633\n"
     ]
    },
    {
     "data": {
      "image/png": "[encoded data removed]",
      "text/plain": [
       "<Figure size 432x288 with 1 Axes>"
      ]
     },
     "metadata": {
      "needs_background": "light"
     },
     "output_type": "display_data"
    }
   ],
   "source": [
    "print('훈련용 뉴스의 최대 길이: {}'.format(max(len(l) for l in x_train)))\n",
    "print('훈련용 뉴스의 평균 길이: {}'.format(sum(map(len, x_train))/len(x_train)))\n",
    "\n",
    "plt.hist([len(s) for s in x_train], bins=50)\n",
    "plt.xlabel('length of samples')\n",
    "plt.ylabel('number of samples')\n",
    "plt.show()"
   ]
  },
  {
   "cell_type": "code",
   "execution_count": 4,
   "metadata": {},
   "outputs": [
    {
     "data": {
      "text/plain": [
       "<matplotlib.axes._subplots.AxesSubplot at 0x7f6b4132c050>"
      ]
     },
     "execution_count": 4,
     "metadata": {},
     "output_type": "execute_result"
    },
    {
     "data": {
      "image/png": "[encoded data removed]",
      "text/plain": [
       "<Figure size 864x360 with 1 Axes>"
      ]
     },
     "metadata": {
      "needs_background": "light"
     },
     "output_type": "display_data"
    }
   ],
   "source": [
    "fig, axe = plt.subplots(ncols=1)\n",
    "fig.set_size_inches(12,5)\n",
    "sns.countplot(y_train)"
   ]
  },
  {
   "cell_type": "markdown",
   "metadata": {},
   "source": [
    "## 원본 뉴스 데이터로 복원해보기\n",
    "* 단어를 key로, 정수 인덱스 값을 value로 제공하는 dict를 텍스트로 돌려보기"
   ]
  },
  {
   "cell_type": "code",
   "execution_count": 5,
   "metadata": {},
   "outputs": [],
   "source": [
    "word_index = reuters.get_word_index(path=\"reuters_word_index.json\")"
   ]
  },
  {
   "cell_type": "code",
   "execution_count": 6,
   "metadata": {},
   "outputs": [
    {
     "name": "stdout",
     "output_type": "stream",
     "text": [
      "1\n",
      "13\n"
     ]
    }
   ],
   "source": [
    "print(word_index['the']) # 'the' 의 인덱스는 1\n",
    "print(word_index['it']) # 'it' 의 인덱스는 13"
   ]
  },
  {
   "cell_type": "code",
   "execution_count": 7,
   "metadata": {},
   "outputs": [
    {
     "name": "stdout",
     "output_type": "stream",
     "text": [
      "the\n",
      "it\n"
     ]
    }
   ],
   "source": [
    "# index_to_word (정수 -> 단어) 만들기\n",
    "# 로이터 뉴스 데이터는 +3 이라는 규칙을 가지고 있음: 0, 1, 2번은 각각 <pad>, <sos>, <unk>\n",
    "\n",
    "index_to_word = {index + 3 : word for word, index in word_index.items()}\n",
    "print(index_to_word[4]) # 'the'\n",
    "print(index_to_word[16]) # 'it'"
   ]
  },
  {
   "cell_type": "code",
   "execution_count": 8,
   "metadata": {},
   "outputs": [],
   "source": [
    "# index_to_word에 숫자 0은 <pad>, 숫자 1은 <sos>, 숫자 2는 <unk>를 넣어줍니다.\n",
    "for index, token in enumerate((\"<pad>\", \"<sos>\", \"<unk>\")):\n",
    "    index_to_word[index] = token"
   ]
  },
  {
   "cell_type": "code",
   "execution_count": 9,
   "metadata": {},
   "outputs": [
    {
     "name": "stdout",
     "output_type": "stream",
     "text": [
      "<sos> <unk> <unk> said as a result of its december acquisition of space co it expects earnings per share in 1987 of 1 15 to 1 30 dlrs per share up from 70 cts in 1986 the company said pretax net should rise to nine to 10 mln dlrs from six mln dlrs in 1986 and rental operation revenues to 19 to 22 mln dlrs from 12 5 mln dlrs it said cash flow per share this year should be 2 50 to three dlrs reuter 3\n"
     ]
    }
   ],
   "source": [
    "# index_to_word 를 이용해 훈련용 뉴스 기사 하나를 원래 텍스트로 복원\n",
    "print(' '.join([index_to_word[index] for index in x_train[0]]))"
   ]
  },
  {
   "cell_type": "markdown",
   "metadata": {},
   "source": [
    "## OOV 문제와 UNK 토큰\n",
    "* ```load_data()```시 설정한 ```num_words=10000``` 은 정수 번호 10000번 이상의 단어들을 모두 \\<unk\\> 토큰으로 처리\n",
    "* OOV (out-of-vocabulary): 기계가 미처 배우지 못한 모르는 단어가 등장한 경우, 그 단어를 OOV라고 한다. 해당 단어는 모두 \\<unk\\> 로 표현된다"
   ]
  },
  {
   "cell_type": "code",
   "execution_count": 10,
   "metadata": {},
   "outputs": [
    {
     "name": "stdout",
     "output_type": "stream",
     "text": [
      "the transaction is expected to be completed\n",
      "the staffing is expected to be completed\n"
     ]
    }
   ],
   "source": [
    "# [4, 587, 23, 133, 6, 30, 515] 라는 정수 시퀀스가 있다면,\n",
    "print(' '.join([index_to_word[index] for index in [4, 587, 23, 133, 6, 30, 515]])) # the transaction is expected to be completed\n",
    "\n",
    "# 그렇다면, [4, 12000, 23, 133, 6, 30, 515] 라는 정수 시퀀스가 있다면?\n",
    "print(' '.join([index_to_word[index] for index in [4, 12000, 23, 133, 6, 30, 515]])) # 12000이 OOV에 해당하므로 [4, 1, 23, 133, 6, 30, 515] 로 변환되어 데이터가 로드됨"
   ]
  },
  {
   "cell_type": "code",
   "execution_count": 11,
   "metadata": {},
   "outputs": [
    {
     "name": "stdout",
     "output_type": "stream",
     "text": [
      "['<sos> <unk> <unk> said as a result of its december acquisition of space co it expects earnings per share in 1987 of 1 15 to 1 30 dlrs per share up from 70 cts in 1986 the company said pretax net should rise to nine to 10 mln dlrs from six mln dlrs in 1986 and rental operation revenues to 19 to 22 mln dlrs from 12 5 mln dlrs it said cash flow per share this year should be 2 50 to three dlrs reuter 3', '<sos> generale de banque sa lt <unk> br and lt heller overseas corp of chicago have each taken 50 pct stakes in <unk> company sa <unk> factors generale de banque said in a statement it gave no financial details of the transaction sa <unk> <unk> turnover in 1986 was 17 5 billion belgian francs reuter 3', '<sos> shr 3 28 dlrs vs 22 cts shr diluted 2 99 dlrs vs 22 cts net 46 0 mln vs 3 328 000 avg shrs 14 0 mln vs 15 2 mln year shr 5 41 dlrs vs 1 56 dlrs shr diluted 4 94 dlrs vs 1 50 dlrs net 78 2 mln vs 25 9 mln avg shrs 14 5 mln vs 15 1 mln note earnings per share reflect the two for one split effective january 6 1987 per share amounts are calculated after preferred stock dividends loss continuing operations for the qtr 1986 includes gains of sale of investments in <unk> corp of 14 mln dlrs and associated companies of 4 189 000 less writedowns of investments in national <unk> inc of 11 8 mln and <unk> corp of 15 6 mln reuter 3', \"<sos> the farmers home administration the u s agriculture department's farm lending arm could lose about seven billion dlrs in outstanding principal on its severely <unk> borrowers or about one fourth of its farm loan portfolio the general accounting office gao said in remarks prepared for delivery to the senate agriculture committee brian crowley senior associate director of gao also said that a preliminary analysis of proposed changes in <unk> financial eligibility standards indicated as many as one half of <unk> borrowers who received new loans from the agency in 1986 would be <unk> under the proposed system the agency has proposed evaluating <unk> credit using a variety of financial ratios instead of relying solely on <unk> ability senate agriculture committee chairman patrick leahy d vt <unk> the proposed eligibility changes telling <unk> administrator <unk> clark at a hearing that they would mark a dramatic shift in the agency's purpose away from being farmers' lender of last resort toward becoming a big city bank but clark defended the new regulations saying the agency had a responsibility to <unk> its 70 billion dlr loan portfolio in a <unk> yet <unk> manner crowley of gao <unk> <unk> arm said the proposed credit <unk> system attempted to ensure that <unk> would make loans only to borrowers who had a reasonable change of repaying their debt reuter 3\", '<sos> seton co said its board has received a proposal from chairman and chief executive officer philip d <unk> to acquire seton for 15 75 dlrs per share in cash seton said the acquisition bid is subject to <unk> arranging the necessary financing it said he intends to ask other members of senior management to participate the company said <unk> owns 30 pct of seton stock and other management members another 7 5 pct seton said it has formed an independent board committee to consider the offer and has deferred the annual meeting it had scheduled for march 31 reuter 3']\n",
      "['<sos> the great atlantic and pacific tea co said its three year 345 mln dlr capital program will be be substantially increased to <unk> growth and expansion plans for <unk> inc and <unk> inc over the next two years a and p said the acquisition of <unk> in august 1986 and <unk> in december helped us achieve better than expected results in the fourth quarter ended february 28 its net income from continuing operations jumped 52 6 pct to 20 7 mln dlrs or 55 cts a share in the latest quarter as sales increased 48 3 pct to 1 58 billion dlrs a and p gave no details on the expanded capital program but it did say it completed the first year of the program during 1986 a and p is 52 4 pct owned by lt <unk> <unk> of west germany reuter 3', \"<sos> philippine sugar production in the 1987 88 crop year ending august has been set at 1 6 mln tonnes up from a provisional 1 3 mln tonnes this year sugar regulatory administration <unk> chairman <unk> yulo said yulo told reuters a survey during the current milling season which ends next month showed the 1986 87 estimate would almost certainly be met he said at least 1 2 mln tonnes of the 1987 88 crop would be earmarked for domestic consumption yulo said about 130 000 tonnes would be set aside for the u s sugar quota 150 000 tonnes for strategic reserves and 50 000 tonnes would be sold on the world market he said if the government approved a long standing <unk> recommendation to manufacture ethanol the project would take up another 150 000 tonnes slightly raising the target the government for its own reasons has been delaying approval of the project but we expect it to come through by july yulo said ethanol could make up five pct of gasoline cutting the oil import bill by about 300 mln pesos yulo said three major philippine <unk> were ready to start manufacturing ethanol if the project was approved the ethanol project would result in employment for about 100 000 people sharply reducing those thrown out of work by depressed world sugar prices and a <unk> domestic industry production quotas set for the first time in 1987 88 had been submitted to president corazon aquino i think the president would rather wait <unk> the new congress <unk> after the may elections he said but there is really no need for such quotas we are right now producing just slightly over our own consumption level the producers have never enjoyed such high prices yulo said adding sugar was currently selling locally for 320 pesos per <unk> up from 190 pesos last august yulo said prices were driven up because of speculation following the <unk> bid to control production we are no longer concerned so much with the world market he said adding producers in the <unk> region had learned from their <unk> and diversified into corn and <unk> farming and <unk> production he said diversification into products other than ethanol was also possible within the sugar industry the <unk> long ago <unk> their <unk> yulo said they have 300 sugar mills compared with our 41 but they <unk> many of them and diversified production we want to call this a <unk> <unk> instead of the sugar industry he said sugarcane could be fed to pigs and livestock used for <unk> <unk> or used in room <unk> when you cut sugarcane you don't even have to produce sugar he said yulo said the philippines was lobbying for a renewal of the international sugar agreement which expired in 1984 as a major sugar producer we are urging them to write a new agreement which would revive world prices yulo said if there is no agreement world prices will always be depressed particularly because the european community is <unk> its producers and dumping sugar on the markets he said current world prices holding steady at about 7 60 cents per pound were <unk> for the philippines where production costs ranged from 12 to 14 cents a pound if the price holds steady for a while at 7 60 cents i expect the level to rise to about 11 cents a pound by the end of this year he said yulo said economists forecast a bullish sugar market by 1990 with world consumption <unk> production he said sugar markets were holding up despite <unk> from artificial sweeteners and high fructose corn syrup but we are not happy with the reagan administration he said since <unk> we have been regular suppliers of sugar to the u s in 1982 when they restored the quota system they cut <unk> in half without any justification manila was <unk> watching washington's moves to cut domestic support prices to 12 cents a pound from 18 cents the u s agriculture department last december slashed its 12 month 1987 sugar import quota from the philippines to 143 780 short tons from 231 660 short tons in 1986 yulo said despite next year's increased production target some philippine mills were expected to shut down at least four of the 41 mills were not working during the 1986 87 season he said we expect two or three more to follow suit during the next season reuter 3\", \"<sos> the agriculture department's widening of louisiana gulf differentials will affect county posted prices for number two yellow corn in ten states a usda official said all counties in iowa will be affected as will counties which use the gulf to price corn in illinois indiana tennessee kentucky missouri mississippi arkansas alabama and louisiana said <unk> <unk> deputy director of commodity operations division for the usda usda last night notified the grain industry that effective immediately all gulf differentials used to price interior corn would be widened on a sliding scale basis of four to eight cts depending on what the differential is usda's action was taken to lower excessively high posted county prices for corn caused by high gulf prices we've been following this louisiana gulf situation for a month and we don't think it's going to get back in line in any nearby time <unk> said <unk> said usda will probably narrow back the gulf differentials when and if gulf prices <unk> if we're off the mark now because we're too high wouldn't we be as much off the mark if we're too low he said while forecasting more adjustments if gulf prices fall <unk> said no other changes in usda's price system are being planned right now we don't tinker we don't make changes <unk> and we don't make changes often he said reuter 3\", '<sos> <unk> <unk> oil and gas partnership said it completed the sale of interests in two major oil and gas fields to lt energy assets international corp for 21 mln dlrs the company said it sold about one half of its 50 pct interest in the oak hill and north <unk> fields its two largest producing properties it said it used about 20 mln dlrs of the proceeds to <unk> principal on its senior secured notes semi annual principal payments on the remaining 40 mln dlrs of notes have been satisfied until december 1988 as a result it said the company said the note agreements were amended to reflect an easing of some financial covenants and an increase of interest to 13 5 pct from 13 0 pct until december 1990 it said the <unk> exercise price for 1 125 000 warrants was also reduced to 50 cts from 1 50 dlrs the company said energy assets agreed to share the costs of increasing production at the oak hill field reuter 3', '<sos> strong south <unk> winds were keeping many vessels trapped in the ice off the finnish and swedish coasts in one of the worst icy periods in the baltic for many years the finnish board of navigation said in finland and sweden up to 50 vessels were reported to be stuck in the ice and even the largest of the <unk> <unk> were having difficulties in breaking through to the <unk> ships <unk> officials said however icy conditions in the southern baltic at the soviet oil ports of <unk> and <unk> had eased they said weather officials in neighbouring sweden said the icy conditions in the baltic were the worst for 30 years with ships fighting a losing battle to keep moving in the coastal stretches of the gulf of <unk> which <unk> finland and sweden the ice is up to one <unk> thick with <unk> and <unk> packing it into almost <unk> walls three metres high swedish <unk> officials said weather forecasts say winds may ease during the weekend but a further drop in temperature could bring shipping to a standstill the officials said reuter 3']\n"
     ]
    }
   ],
   "source": [
    "# 훈련용 뉴스 데이터 전체, 테스트용 뉴스 데이터 전체를 텍스트로 변환\n",
    "decoded = []\n",
    "for i in range(len(x_train)):\n",
    "    t = ' '.join([index_to_word[index] for index in x_train[i]])\n",
    "    decoded.append(t)\n",
    "\n",
    "x_train = decoded\n",
    "\n",
    "decoded = []\n",
    "for i in range(len(x_test)):\n",
    "    t = ' '.join([index_to_word[index] for index in x_test[i]])\n",
    "    decoded.append(t)\n",
    "\n",
    "x_test = decoded\n",
    "\n",
    "print(x_train[:5])\n",
    "print(x_test[:5])"
   ]
  },
  {
   "cell_type": "markdown",
   "metadata": {},
   "source": [
    "## 벡터화하기\n",
    "* 텍스트 데이터를 모델의 입력으로 넣기 위해서는 벡터화가 필요\n",
    "* 다양한 벡터화 방법: Word Embedding, Document Embedding, Contextual Embedding 등\n",
    "* 이 실습에서는 Bag of Words 가설을 기반으로 하는 DTM, TF-IDF 행렬을 사용\n",
    "* DTM 기반 문서 군집/분류 https://wikidocs.net/24559\n",
    "    - DTM (document-term matrix): 열은 단어, 행은 문서\n",
    "    - 열의 개수는 단어 수에서 중복을 제외한 수\n",
    "    - 불용어가 성능 저하의 요인이 될 수 있음\n",
    "* TF-IDF: DTM의 단점을 보완 https://wikidocs.net/31698\n",
    "    - 모든 문서에 걸쳐 자주 등장하는 단어는 중요도가 낮은 단어 (불용어 등) 로 판단"
   ]
  },
  {
   "cell_type": "code",
   "execution_count": 12,
   "metadata": {},
   "outputs": [
    {
     "name": "stdout",
     "output_type": "stream",
     "text": [
      "(8982, 9670)\n"
     ]
    }
   ],
   "source": [
    "dtm_vector = CountVectorizer()\n",
    "x_train_dtm = dtm_vector.fit_transform(x_train)\n",
    "print(x_train_dtm.shape) # (8982, 9670)"
   ]
  },
  {
   "cell_type": "code",
   "execution_count": 13,
   "metadata": {},
   "outputs": [
    {
     "name": "stdout",
     "output_type": "stream",
     "text": [
      "(8982, 9670)\n"
     ]
    }
   ],
   "source": [
    "tfidf_transformer = TfidfTransformer()\n",
    "tfidfv = tfidf_transformer.fit_transform(x_train_dtm)\n",
    "print(tfidfv.shape) # (8982, 9670)"
   ]
  },
  {
   "cell_type": "markdown",
   "metadata": {},
   "source": [
    "## 나이브 베이즈 분류기\n",
    "* https://www.youtube.com/watch?v=3JWLIV3NaoQ\n",
    "    - 조건부 확률: 독립인 경우 P(A|B) = P(A), P(B|A) = P(B) / 독립이 아닌 경우 P(A∩B) = P(A)P(B|A)\n",
    "    - 베이즈 정리\n",
    "        - P(A|B) = P(A∩B) / P(B)\n",
    "        - P(A∩B) = P(A|B)P(B)\n",
    "        - P(B∩A) = P(B|A)P(A)\n",
    "        - P(B∩A) = P(A∩B)\n",
    "        - P(A∩B) = P(B|A)P(A) = P(A|B)P(B)\n",
    "        - P(B|A)P(A) = P(A|B)P(B)\n",
    "        - **P(B|A) = P(A|B)P(B) / P(A)**\n",
    "* scikit-learn의 ```MultinomialNB()```"
   ]
  },
  {
   "cell_type": "code",
   "execution_count": 14,
   "metadata": {},
   "outputs": [
    {
     "data": {
      "text/plain": [
       "MultinomialNB()"
      ]
     },
     "execution_count": 14,
     "metadata": {},
     "output_type": "execute_result"
    }
   ],
   "source": [
    "mod = MultinomialNB()\n",
    "mod.fit(tfidfv, y_train)"
   ]
  },
  {
   "cell_type": "code",
   "execution_count": 15,
   "metadata": {},
   "outputs": [
    {
     "name": "stdout",
     "output_type": "stream",
     "text": [
      "정확도: 0.6567230632235085\n"
     ]
    }
   ],
   "source": [
    "# 테스트 데이터도 TF-IDF 행렬로 변환 (정확도 측정을 위해 훈련 데이터와 동일한 전처리)\n",
    "x_test_dtm = dtm_vector.transform(x_test) # 테스트 데이터를 DTM으로 변환\n",
    "tfidfv_test = tfidf_transformer.transform(x_test_dtm) # DTM을 TF-IDF 행렬로 변환\n",
    "\n",
    "predicted = mod.predict(tfidfv_test) # 테스트 데이터에 대한 예측\n",
    "print(\"정확도:\", accuracy_score(y_test, predicted)) # 예측값과 실제값 비교 (정확도: 0.6567230632235085)"
   ]
  },
  {
   "cell_type": "code",
   "execution_count": 16,
   "metadata": {},
   "outputs": [
    {
     "name": "stdout",
     "output_type": "stream",
     "text": [
      "<sos> <unk> <unk> oil and gas partnership said it completed the sale of interests in two major oil and gas fields to lt energy assets international corp for 21 mln dlrs the company said it sold about one half of its 50 pct interest in the oak hill and north <unk> fields its two largest producing properties it said it used about 20 mln dlrs of the proceeds to <unk> principal on its senior secured notes semi annual principal payments on the remaining 40 mln dlrs of notes have been satisfied until december 1988 as a result it said the company said the note agreements were amended to reflect an easing of some financial covenants and an increase of interest to 13 5 pct from 13 0 pct until december 1990 it said the <unk> exercise price for 1 125 000 warrants was also reduced to 50 cts from 1 50 dlrs the company said energy assets agreed to share the costs of increasing production at the oak hill field reuter 3 \n",
      "\n",
      "4\n"
     ]
    }
   ],
   "source": [
    "# 테스트\n",
    "print(x_test[3], '\\n') # 원문\n",
    "print(y_test[3]) # 레이블"
   ]
  },
  {
   "cell_type": "code",
   "execution_count": 17,
   "metadata": {},
   "outputs": [
    {
     "data": {
      "image/png": "[encoded data removed]",
      "text/plain": [
       "<Figure size 432x288 with 1 Axes>"
      ]
     },
     "metadata": {
      "needs_background": "light"
     },
     "output_type": "display_data"
    }
   ],
   "source": [
    "# 위 3번 데이터를 정확하게 예측하는지 확인\n",
    "plt.subplot(211)\n",
    "plt.rcParams[\"figure.figsize\"] = (10,10)\n",
    "plt.bar(mod.classes_, mod.predict_proba(tfidfv_test[3])[0])\n",
    "plt.xlim(-1, 21)\n",
    "plt.xticks(mod.classes_)\n",
    "plt.xlabel(\"Class\")\n",
    "plt.ylabel(\"Probability\")\n",
    "plt.show() # 90% 확률로 4로 예측. 정확하게 예측함을 확인"
   ]
  },
  {
   "cell_type": "code",
   "execution_count": 18,
   "metadata": {},
   "outputs": [
    {
     "data": {
      "text/plain": [
       "array([4])"
      ]
     },
     "execution_count": 18,
     "metadata": {},
     "output_type": "execute_result"
    }
   ],
   "source": [
    "mod.predict(tfidfv_test[3])"
   ]
  },
  {
   "cell_type": "markdown",
   "metadata": {},
   "source": [
    "## F1-score, Confusion Matrix\n",
    "* 분류성능평가지표: https://sumniya.tistory.com/26\n",
    "    - Precision (정밀도): 모델이 True라고 분류한 것 중 실제 True인 것의 비율. *(Precision) = TP / (TP+FP)*\n",
    "    - Recall (재현율): 실제 True인 것 중 모델이 True라고 예측한 것의 비율. *(Recall) = TP / (TP+FN)*\n",
    "    - Accuracy (정확도): True인 것을 True라고 예측했거나, False인 것을 False라고 예측한 경우 *(Accuracy) = (TP+TN) / (TP+FN+FP+TN)*\n",
    "    - F1-score: Precision과 Recall의 조화평균. 레이블이 불균형 (편중 (bias) 되어 있는) 인 경우 정확도가 떨어지는 것을 보완하기 위한 지표\n",
    "* scikit-learn의 ```metrics``` 패키지에서 제공하는 ```classification_report()```\n",
    "    - macro avg: 단순평균\n",
    "    - weighted avg: 각 클래스에 속하는 표본의 수로 가중평균\n",
    "    - accuracy: 정확도. 전체 학습 데이터의 수에서 클래스를 정확하게 맞춘 수의 비율\n",
    "* Confusion Matrix: https://www.youtube.com/watch?v=M0GBAzFV9_A, https://mjdeeplearning.tistory.com/31\n",
    "\n",
    "<참고>\n",
    "* TP : True로 예측하고 실제 값도 True\n",
    "* TN : False로 예측하고 실제 값도 False\n",
    "* FP : True로 예측하고 실제는 False\n",
    "* FN : False로 예측하고 실제는 True"
   ]
  },
  {
   "cell_type": "code",
   "execution_count": 19,
   "metadata": {},
   "outputs": [
    {
     "name": "stdout",
     "output_type": "stream",
     "text": [
      "              precision    recall  f1-score   support\n",
      "\n",
      "           0       0.00      0.00      0.00        12\n",
      "           1       0.62      0.69      0.65       105\n",
      "           2       0.00      0.00      0.00        20\n",
      "           3       0.81      0.90      0.85       813\n",
      "           4       0.51      0.96      0.67       474\n",
      "           5       0.00      0.00      0.00         5\n",
      "           6       0.00      0.00      0.00        14\n",
      "           7       0.00      0.00      0.00         3\n",
      "           8       0.00      0.00      0.00        38\n",
      "           9       1.00      0.08      0.15        25\n",
      "          10       0.00      0.00      0.00        30\n",
      "          11       0.66      0.63      0.64        83\n",
      "          12       0.00      0.00      0.00        13\n",
      "          13       1.00      0.03      0.05        37\n",
      "          14       0.00      0.00      0.00         2\n",
      "          15       0.00      0.00      0.00         9\n",
      "          16       0.69      0.56      0.61        99\n",
      "          17       0.00      0.00      0.00        12\n",
      "          18       0.00      0.00      0.00        20\n",
      "          19       0.60      0.78      0.68       133\n",
      "          20       1.00      0.04      0.08        70\n",
      "          21       0.00      0.00      0.00        27\n",
      "          22       0.00      0.00      0.00         7\n",
      "          23       0.00      0.00      0.00        12\n",
      "          24       0.00      0.00      0.00        19\n",
      "          25       1.00      0.03      0.06        31\n",
      "          26       0.00      0.00      0.00         8\n",
      "          27       0.00      0.00      0.00         4\n",
      "          28       0.00      0.00      0.00        10\n",
      "          29       0.00      0.00      0.00         4\n",
      "          30       0.00      0.00      0.00        12\n",
      "          31       0.00      0.00      0.00        13\n",
      "          32       0.00      0.00      0.00        10\n",
      "          33       0.00      0.00      0.00         5\n",
      "          34       0.00      0.00      0.00         7\n",
      "          35       0.00      0.00      0.00         6\n",
      "          36       0.00      0.00      0.00        11\n",
      "          37       0.00      0.00      0.00         2\n",
      "          38       0.00      0.00      0.00         3\n",
      "          39       0.00      0.00      0.00         5\n",
      "          40       0.00      0.00      0.00        10\n",
      "          41       0.00      0.00      0.00         8\n",
      "          42       0.00      0.00      0.00         3\n",
      "          43       0.00      0.00      0.00         6\n",
      "          44       0.00      0.00      0.00         5\n",
      "          45       0.00      0.00      0.00         1\n",
      "\n",
      "    accuracy                           0.66      2246\n",
      "   macro avg       0.17      0.10      0.10      2246\n",
      "weighted avg       0.59      0.66      0.58      2246\n",
      "\n"
     ]
    },
    {
     "name": "stderr",
     "output_type": "stream",
     "text": [
      "/home/aiffel0042/anaconda3/envs/aiffel/lib/python3.7/site-packages/sklearn/metrics/_classification.py:1221: UndefinedMetricWarning: Precision and F-score are ill-defined and being set to 0.0 in labels with no predicted samples. Use `zero_division` parameter to control this behavior.\n",
      "  _warn_prf(average, modifier, msg_start, len(result))\n"
     ]
    }
   ],
   "source": [
    "print(classification_report(y_test, mod.predict(tfidfv_test)))"
   ]
  },
  {
   "cell_type": "code",
   "execution_count": 20,
   "metadata": {},
   "outputs": [
    {
     "data": {
      "image/png": "[encoded data removed]",
      "text/plain": [
       "<Figure size 1080x1080 with 2 Axes>"
      ]
     },
     "metadata": {
      "needs_background": "light"
     },
     "output_type": "display_data"
    }
   ],
   "source": [
    "# confusion matrix (혼동 행렬) 시각화\n",
    "def graph_confusion_matrix(model, x_test, y_test):#, classes_name):\n",
    "    df_cm = pd.DataFrame(confusion_matrix(y_test, model.predict(x_test)))#, index=classes_name, columns=classes_name)\n",
    "    fig = plt.figure(figsize=(15,15))\n",
    "    heatmap = sns.heatmap(df_cm, annot=True, fmt=\"d\")\n",
    "    heatmap.yaxis.set_ticklabels(heatmap.yaxis.get_ticklabels(), rotation=0, ha='right', fontsize=12)\n",
    "    heatmap.xaxis.set_ticklabels(heatmap.xaxis.get_ticklabels(), rotation=45, ha='right', fontsize=12)\n",
    "    plt.ylabel('label')\n",
    "    plt.xlabel('predicted value')\n",
    "    \n",
    "graph_confusion_matrix(mod, tfidfv_test, y_test)"
   ]
  },
  {
   "cell_type": "markdown",
   "metadata": {},
   "source": [
    "## 다양한 머신 러닝 모델 사용해보기"
   ]
  },
  {
   "cell_type": "markdown",
   "metadata": {},
   "source": [
    "### CNB (Complement Naive Bayes Classifier)\n",
    "* 컴플리먼트 나이브 베이즈 분류기: 나이브 베이즈 분류기의 단점 (샘플이 불균형할 경우 결정 경계의 가중치가 한쪽으로 치우쳐져 특정 클래스를 선호할 수 있음) 을 보완하기 위해 데이터의 불균형을 고려해 가중치를 부여하는 방식\n",
    "* MultinomialNB보다 성능이 일반적으로 더 좋다"
   ]
  },
  {
   "cell_type": "code",
   "execution_count": 21,
   "metadata": {},
   "outputs": [
    {
     "name": "stdout",
     "output_type": "stream",
     "text": [
      "정확도: 0.7707034728406055\n"
     ]
    }
   ],
   "source": [
    "cb = ComplementNB()\n",
    "cb.fit(tfidfv, y_train)\n",
    "\n",
    "predicted = cb.predict(tfidfv_test) # 테스트 데이터에 대한 예측\n",
    "print(\"정확도:\", accuracy_score(y_test, predicted)) # 예측값과 실제값 비교"
   ]
  },
  {
   "cell_type": "markdown",
   "metadata": {},
   "source": [
    "### 로지스틱 회귀 (Logistic Regression)\n",
    "* 소프트맥스 (softmax) 함수를 사용한 다중 클래스 분류 알고리즘 지원\n",
    "    - 소프트맥스 함수: 클래스가 N개일 때, N차원의 벡터가 각 클래스가 정답일 확률을 표현하도록 정규화해주는 함수\n",
    "    - scikit-learn의 ```LogisticRegression()```"
   ]
  },
  {
   "cell_type": "code",
   "execution_count": 22,
   "metadata": {},
   "outputs": [
    {
     "name": "stdout",
     "output_type": "stream",
     "text": [
      "정확도: 0.8076580587711487\n"
     ]
    },
    {
     "name": "stderr",
     "output_type": "stream",
     "text": [
      "/home/aiffel0042/anaconda3/envs/aiffel/lib/python3.7/site-packages/sklearn/linear_model/_logistic.py:764: ConvergenceWarning: lbfgs failed to converge (status=1):\n",
      "STOP: TOTAL NO. of ITERATIONS REACHED LIMIT.\n",
      "\n",
      "Increase the number of iterations (max_iter) or scale the data as shown in:\n",
      "    https://scikit-learn.org/stable/modules/preprocessing.html\n",
      "Please also refer to the documentation for alternative solver options:\n",
      "    https://scikit-learn.org/stable/modules/linear_model.html#logistic-regression\n",
      "  extra_warning_msg=_LOGISTIC_SOLVER_CONVERGENCE_MSG)\n"
     ]
    }
   ],
   "source": [
    "lr = LogisticRegression(C=10000, penalty='l2')\n",
    "lr.fit(tfidfv, y_train)\n",
    "\n",
    "predicted = lr.predict(tfidfv_test) # 테스트 데이터에 대한 예측\n",
    "print(\"정확도:\", accuracy_score(y_test, predicted)) # 예측값과 실제값 비교"
   ]
  },
  {
   "cell_type": "markdown",
   "metadata": {},
   "source": [
    "### 선형 서포트 벡터 머신\n",
    "* https://www.youtube.com/watch?v=y4CYcpRiNsw\n",
    "* desicion boundary 와 가장 가까이 있는 데이터의 거리 (margin) 가 너무 가까우면 분류가 잘못될 수 있다\n",
    "* Support Vector란 decision boundary와 가장 가까이 있는 각 클래스의 데이터를 뜻한다\n",
    "* scikit-learn의 ```LinearSVC()```\n",
    "* 기본적으로 이진 분류를 위한 모델이지만, 일대다 (one- vs. -rest 또는 one- vs. -all) 방식으로 다중 클래스 분류 알고리즘으로 사용 가능"
   ]
  },
  {
   "cell_type": "code",
   "execution_count": 23,
   "metadata": {},
   "outputs": [
    {
     "name": "stdout",
     "output_type": "stream",
     "text": [
      "정확도: 0.7707034728406055\n"
     ]
    },
    {
     "name": "stderr",
     "output_type": "stream",
     "text": [
      "/home/aiffel0042/anaconda3/envs/aiffel/lib/python3.7/site-packages/sklearn/svm/_base.py:977: ConvergenceWarning: Liblinear failed to converge, increase the number of iterations.\n",
      "  \"the number of iterations.\", ConvergenceWarning)\n"
     ]
    }
   ],
   "source": [
    "lsvc = LinearSVC(C=1000, penalty='l1', max_iter=500, dual=False)\n",
    "lsvc.fit(tfidfv, y_train)\n",
    "\n",
    "predicted = lsvc.predict(tfidfv_test) # 테스트 데이터에 대한 예측\n",
    "print(\"정확도:\", accuracy_score(y_test, predicted)) # 예측값과 실제값 비교"
   ]
  },
  {
   "cell_type": "markdown",
   "metadata": {},
   "source": [
    "### 결정 트리 (Decision Tree)\n",
    "* 결정에 다다르기 위해 예/아니오 질문을 이어나가면서 학습하는 방식 (스무고개와 같은 방식)\n",
    "* Supervised Learning Model 중 하나\n",
    "* https://www.youtube.com/watch?v=n0p0120Gxqk"
   ]
  },
  {
   "cell_type": "code",
   "execution_count": 24,
   "metadata": {},
   "outputs": [
    {
     "name": "stdout",
     "output_type": "stream",
     "text": [
      "정확도: 0.6202137132680321\n"
     ]
    }
   ],
   "source": [
    "tree = DecisionTreeClassifier(max_depth=10, random_state=0)\n",
    "tree.fit(tfidfv, y_train)\n",
    "\n",
    "predicted = tree.predict(tfidfv_test) # 테스트 데이터에 대한 예측\n",
    "print(\"정확도:\", accuracy_score(y_test, predicted)) # 예측값과 실제값 비교"
   ]
  },
  {
   "cell_type": "markdown",
   "metadata": {},
   "source": [
    "### 랜덤 포레스트 (Random Forest)\n",
    "* https://www.youtube.com/watch?v=nZB37IBCiSA\n",
    "    - 여러 개의 결정 트리로 구성된 분류기. 투표를 통해 하나의 결정을 내린다\n",
    "    - 결정 트리는 모든 데이터를 학습에 사용하는 반면 랜덤 포레스트는 트리 별로 일부 데이터만 사용해 학습\n",
    "    - boosing: 중복 데이터를 허용해 모델의 bias가 올라가게 됨 \n",
    "    - 결정 트리의 단점 (오버피팅 가능성 높음) -> 랜덤 포레스트는 이 문제를 앙상블로 해결. 가령, 서로 다른 방향으로 과적합된 트리들을 조합하면 오히려 모델 전체에서는 과적합을 피할 수 있다\n",
    "    - 가장 좋은 질문을 가장 먼저 하는 결정 트리와 다르게, 질문이 randomly seleted된 게 랜덤 포레스트의 특징"
   ]
  },
  {
   "cell_type": "code",
   "execution_count": 25,
   "metadata": {},
   "outputs": [
    {
     "name": "stdout",
     "output_type": "stream",
     "text": [
      "정확도: 0.674087266251113\n"
     ]
    }
   ],
   "source": [
    "forest = RandomForestClassifier(n_estimators=5, random_state=0)\n",
    "forest.fit(tfidfv, y_train)\n",
    "\n",
    "predicted = forest.predict(tfidfv_test) # 테스트 데이터에 대한 예측\n",
    "print(\"정확도:\", accuracy_score(y_test, predicted)) # 예측값과 실제값 비교"
   ]
  },
  {
   "cell_type": "markdown",
   "metadata": {},
   "source": [
    "### 그래디언트 부스팅 트리 (GradientBoostingClassifier)\n",
    "* 여러 개의 결정 트리를 묶어 만드는 앙상블 모델\n",
    "* 랜덤 포레스트와 다르게 이전 트리의 오차를 보완하는 방식으로 순차적으로 트리 만듬\n",
    "* 일부 특성을 무시하는 특징을 가지고 있음 -> 보통 랜덤 포레스트를 먼저 사용해보고, 성능이나 예측 시간 면에서 만족스럽지 않은 경우 시도해보는 것이 좋음\n",
    "* 1~5 정도의 깊지 않은 트리를 사용하기 때문에 메모리 사용량이 적고 예측도 빠름"
   ]
  },
  {
   "cell_type": "code",
   "execution_count": 26,
   "metadata": {},
   "outputs": [
    {
     "name": "stdout",
     "output_type": "stream",
     "text": [
      "정확도: 0.7666963490650045\n"
     ]
    }
   ],
   "source": [
    "grbt = GradientBoostingClassifier(random_state=0) # verbose=3\n",
    "grbt.fit(tfidfv, y_train)\n",
    "\n",
    "predicted = grbt.predict(tfidfv_test) # 테스트 데이터에 대한 예측\n",
    "print(\"정확도:\", accuracy_score(y_test, predicted)) # 예측값과 실제값 비교"
   ]
  },
  {
   "cell_type": "markdown",
   "metadata": {},
   "source": [
    "### 보팅 (Voting)\n",
    "* https://www.youtube.com/watch?v=y4Wh0E1d4oE\n",
    "    - 앙상블 기법 중 하나\n",
    "    - 앙상블: 모델들이 함께 결과를 도출하도록 하여, 개개 모델이 가진 성능보다 더 나은 성능을 발휘하도록 하는 방법\n",
    "    - 하드 보팅: 각 모델에게 투표권을 하나씩 주고, 최종 값을 다수결로 투표해 결정\n",
    "    - 소프트 보팅: confidence value를 사용해, 모든 confidence value의 평균으로 가장 높은 결과를 선정"
   ]
  },
  {
   "cell_type": "code",
   "execution_count": 27,
   "metadata": {},
   "outputs": [
    {
     "name": "stdout",
     "output_type": "stream",
     "text": [
      "정확도: 0.8116651825467498\n"
     ]
    }
   ],
   "source": [
    "voting_classifier = VotingClassifier(estimators=[\n",
    "         ('lr', LogisticRegression(C=10000, penalty='l2')),\n",
    "        ('cb', ComplementNB()),\n",
    "        ('grbt', GradientBoostingClassifier(random_state=0))\n",
    "], voting='soft', n_jobs=-1)\n",
    "voting_classifier.fit(tfidfv, y_train)\n",
    "\n",
    "predicted = voting_classifier.predict(tfidfv_test) # 테스트 데이터에 대한 예측\n",
    "print(\"정확도:\", accuracy_score(y_test, predicted)) # 예측값과 실제값 비교"
   ]
  },
  {
   "cell_type": "markdown",
   "metadata": {},
   "source": [
    "## 프로젝트: vocabulary size를 변경해서 시도해보기"
   ]
  },
  {
   "cell_type": "markdown",
   "metadata": {},
   "source": [
    "### 모든 단어 사용"
   ]
  },
  {
   "cell_type": "code",
   "execution_count": 28,
   "metadata": {},
   "outputs": [
    {
     "name": "stdout",
     "output_type": "stream",
     "text": [
      "(8982, 26506)\n",
      "(8982, 26506)\n"
     ]
    }
   ],
   "source": [
    "(x_train, y_train), (x_test, y_test) = reuters.load_data(num_words=None, test_split=0.2)\n",
    "\n",
    "index_to_word = {index + 3 : word for word, index in word_index.items()}\n",
    "\n",
    "for index, token in enumerate((\"<pad>\", \"<sos>\", \"<unk>\")):\n",
    "    index_to_word[index] = token\n",
    "    \n",
    "decoded = []\n",
    "for i in range(len(x_train)):\n",
    "    t = ' '.join([index_to_word[index] for index in x_train[i]])\n",
    "    decoded.append(t)\n",
    "\n",
    "x_train = decoded\n",
    "\n",
    "decoded = []\n",
    "for i in range(len(x_test)):\n",
    "    t = ' '.join([index_to_word[index] for index in x_test[i]])\n",
    "    decoded.append(t)\n",
    "\n",
    "x_test = decoded\n",
    "\n",
    "dtm_vector = CountVectorizer()\n",
    "x_train_dtm = dtm_vector.fit_transform(x_train)\n",
    "print(x_train_dtm.shape)\n",
    "\n",
    "tfidf_transformer = TfidfTransformer()\n",
    "tfidfv = tfidf_transformer.fit_transform(x_train_dtm)\n",
    "print(tfidfv.shape)"
   ]
  },
  {
   "cell_type": "code",
   "execution_count": 29,
   "metadata": {},
   "outputs": [
    {
     "name": "stdout",
     "output_type": "stream",
     "text": [
      "정확도: 0.5997328584149599 \n",
      "\n",
      "F1 score (macro): 0.06767886443611608\n",
      "F1 score (micro): 0.5997328584149599\n",
      "F1 score (weighted): 0.5045670886188423 \n",
      "\n",
      "F1 scores: [0.         0.33082707 0.         0.81189189 0.60869565 0.\n",
      " 0.         0.         0.         0.         0.         0.42477876\n",
      " 0.         0.         0.         0.         0.29268293 0.\n",
      " 0.         0.64435146 0.         0.         0.         0.\n",
      " 0.         0.         0.         0.         0.         0.\n",
      " 0.         0.         0.         0.         0.         0.\n",
      " 0.         0.         0.         0.         0.         0.\n",
      " 0.         0.         0.         0.        ]\n"
     ]
    }
   ],
   "source": [
    "# 나이브 베이즈 분류기\n",
    "\n",
    "mod = MultinomialNB()\n",
    "mod.fit(tfidfv, y_train)\n",
    "\n",
    "# 테스트 데이터도 TF-IDF 행렬로 변환 (정확도 측정을 위해 훈련 데이터와 동일한 전처리)\n",
    "x_test_dtm = dtm_vector.transform(x_test) # 테스트 데이터를 DTM으로 변환\n",
    "tfidfv_test = tfidf_transformer.transform(x_test_dtm) # DTM을 TF-IDF 행렬로 변환\n",
    "\n",
    "predicted = mod.predict(tfidfv_test) # 테스트 데이터에 대한 예측\n",
    "\n",
    "print(\"정확도:\", accuracy_score(y_test, predicted), '\\n') # 예측값과 실제값 비교\n",
    "print(\"F1 score (macro):\", f1_score(y_test, predicted, average='macro'))\n",
    "print(\"F1 score (micro):\", f1_score(y_test, predicted, average='micro'))\n",
    "print(\"F1 score (weighted):\", f1_score(y_test, predicted, average='weighted'), '\\n')\n",
    "print(\"F1 scores:\", f1_score(y_test, predicted, average=None))"
   ]
  },
  {
   "cell_type": "code",
   "execution_count": 30,
   "metadata": {},
   "outputs": [
    {
     "name": "stdout",
     "output_type": "stream",
     "text": [
      "정확도: 0.7649154051647373 \n",
      "\n",
      "F1 score (macro): 0.4639854358945848\n",
      "F1 score (micro): 0.7649154051647373\n",
      "F1 score (weighted): 0.7346534179503126 \n",
      "\n",
      "F1 scores: [0.63157895 0.73015873 0.64516129 0.89116055 0.82986767 0.\n",
      " 0.88888889 0.8        0.13333333 0.84615385 0.83018868 0.60540541\n",
      " 0.         0.57971014 0.         0.18181818 0.71361502 0.\n",
      " 0.59459459 0.65230769 0.36363636 0.69565217 0.         0.52631579\n",
      " 0.17391304 0.7037037  0.93333333 0.         0.15384615 0.\n",
      " 0.         0.47058824 0.88888889 0.88888889 0.83333333 0.28571429\n",
      " 0.         0.         0.5        0.33333333 0.         0.36363636\n",
      " 0.5        0.28571429 0.88888889 1.        ]\n"
     ]
    }
   ],
   "source": [
    "# CNB\n",
    "\n",
    "cb = ComplementNB()\n",
    "cb.fit(tfidfv, y_train)\n",
    "\n",
    "predicted = cb.predict(tfidfv_test) # 테스트 데이터에 대한 예측\n",
    "\n",
    "print(\"정확도:\", accuracy_score(y_test, predicted), '\\n') # 예측값과 실제값 비교\n",
    "print(\"F1 score (macro):\", f1_score(y_test, predicted, average='macro'))\n",
    "print(\"F1 score (micro):\", f1_score(y_test, predicted, average='micro'))\n",
    "print(\"F1 score (weighted):\", f1_score(y_test, predicted, average='weighted'), '\\n')\n",
    "print(\"F1 scores:\", f1_score(y_test, predicted, average=None))"
   ]
  },
  {
   "cell_type": "code",
   "execution_count": 31,
   "metadata": {},
   "outputs": [
    {
     "name": "stdout",
     "output_type": "stream",
     "text": [
      "정확도: 0.813446126447017 \n",
      "\n",
      "F1 score (macro): 0.669532685925375\n",
      "F1 score (micro): 0.813446126447017\n",
      "F1 score (weighted): 0.8079349566211766 \n",
      "\n",
      "F1 scores: [0.76190476 0.77419355 0.7        0.92892157 0.83890578 0.33333333\n",
      " 0.96551724 0.8        0.69230769 0.84615385 0.89655172 0.69714286\n",
      " 0.4        0.61333333 0.8        0.625      0.73786408 0.57142857\n",
      " 0.7027027  0.69402985 0.53543307 0.70967742 0.         0.72\n",
      " 0.57142857 0.82142857 0.93333333 0.4        0.42857143 0.72727273\n",
      " 0.76190476 0.57142857 0.88888889 0.8        0.44444444 0.5\n",
      " 0.43478261 0.5        0.4        0.44444444 0.46153846 0.71428571\n",
      " 1.         0.92307692 0.72727273 1.        ]\n"
     ]
    },
    {
     "name": "stderr",
     "output_type": "stream",
     "text": [
      "/home/aiffel0042/anaconda3/envs/aiffel/lib/python3.7/site-packages/sklearn/linear_model/_logistic.py:764: ConvergenceWarning: lbfgs failed to converge (status=1):\n",
      "STOP: TOTAL NO. of ITERATIONS REACHED LIMIT.\n",
      "\n",
      "Increase the number of iterations (max_iter) or scale the data as shown in:\n",
      "    https://scikit-learn.org/stable/modules/preprocessing.html\n",
      "Please also refer to the documentation for alternative solver options:\n",
      "    https://scikit-learn.org/stable/modules/linear_model.html#logistic-regression\n",
      "  extra_warning_msg=_LOGISTIC_SOLVER_CONVERGENCE_MSG)\n"
     ]
    }
   ],
   "source": [
    "# 로지스틱 회귀\n",
    "\n",
    "lr = LogisticRegression(C=10000, penalty='l2')\n",
    "lr.fit(tfidfv, y_train)\n",
    "\n",
    "predicted = lr.predict(tfidfv_test) # 테스트 데이터에 대한 예측\n",
    "\n",
    "print(\"정확도:\", accuracy_score(y_test, predicted), '\\n') # 예측값과 실제값 비교\n",
    "print(\"F1 score (macro):\", f1_score(y_test, predicted, average='macro'))\n",
    "print(\"F1 score (micro):\", f1_score(y_test, predicted, average='micro'))\n",
    "print(\"F1 score (weighted):\", f1_score(y_test, predicted, average='weighted'), '\\n')\n",
    "print(\"F1 scores:\", f1_score(y_test, predicted, average=None))"
   ]
  },
  {
   "cell_type": "code",
   "execution_count": 32,
   "metadata": {},
   "outputs": [
    {
     "name": "stdout",
     "output_type": "stream",
     "text": [
      "정확도: 0.7818343722172751 \n",
      "\n",
      "F1 score (macro): 0.607413602892518\n",
      "F1 score (micro): 0.7818343722172753\n",
      "F1 score (weighted): 0.776378152173332 \n",
      "\n",
      "F1 scores: [0.72727273 0.70588235 0.66666667 0.9170252  0.82976555 0.\n",
      " 0.92857143 0.5        0.63414634 0.875      0.81355932 0.65517241\n",
      " 0.3        0.52941176 0.5        0.66666667 0.66046512 0.26666667\n",
      " 0.66666667 0.63272727 0.51162791 0.66666667 0.22222222 0.69565217\n",
      " 0.48484848 0.71186441 0.875      0.66666667 0.42857143 0.54545455\n",
      " 0.47058824 0.6        0.88888889 0.8        0.72727273 0.5\n",
      " 0.31578947 0.8        0.5        0.54545455 0.28571429 0.42857143\n",
      " 0.57142857 0.92307692 0.8        0.5       ]\n"
     ]
    },
    {
     "name": "stderr",
     "output_type": "stream",
     "text": [
      "/home/aiffel0042/anaconda3/envs/aiffel/lib/python3.7/site-packages/sklearn/svm/_base.py:977: ConvergenceWarning: Liblinear failed to converge, increase the number of iterations.\n",
      "  \"the number of iterations.\", ConvergenceWarning)\n"
     ]
    }
   ],
   "source": [
    "# 서포트 벡터 머신\n",
    "\n",
    "lsvc = LinearSVC(C=1000, penalty='l1', max_iter=500, dual=False)\n",
    "lsvc.fit(tfidfv, y_train)\n",
    "\n",
    "predicted = lsvc.predict(tfidfv_test) # 테스트 데이터에 대한 예측\n",
    "\n",
    "print(\"정확도:\", accuracy_score(y_test, predicted), '\\n') # 예측값과 실제값 비교\n",
    "print(\"F1 score (macro):\", f1_score(y_test, predicted, average='macro'))\n",
    "print(\"F1 score (micro):\", f1_score(y_test, predicted, average='micro'))\n",
    "print(\"F1 score (weighted):\", f1_score(y_test, predicted, average='weighted'), '\\n')\n",
    "print(\"F1 scores:\", f1_score(y_test, predicted, average=None))"
   ]
  },
  {
   "cell_type": "code",
   "execution_count": 33,
   "metadata": {},
   "outputs": [
    {
     "name": "stdout",
     "output_type": "stream",
     "text": [
      "정확도: 0.6211041852181657 \n",
      "\n",
      "F1 score (macro): 0.15450055404800783\n",
      "F1 score (micro): 0.6211041852181657\n",
      "F1 score (weighted): 0.5769283128518846 \n",
      "\n",
      "F1 scores: [0.         0.52941176 0.5625     0.8896062  0.54866101 0.\n",
      " 0.         0.         0.         0.27586207 0.84210526 0.59171598\n",
      " 0.         0.         0.         0.         0.7008547  0.\n",
      " 0.         0.5046729  0.13157895 0.         0.         0.\n",
      " 0.18181818 0.29268293 0.         0.         0.16666667 0.\n",
      " 0.         0.         0.         0.88888889 0.         0.\n",
      " 0.         0.         0.         0.         0.         0.\n",
      " 0.         0.         0.         0.        ]\n"
     ]
    }
   ],
   "source": [
    "# 결정 트리\n",
    "\n",
    "tree = DecisionTreeClassifier(max_depth=10, random_state=0)\n",
    "tree.fit(tfidfv, y_train)\n",
    "\n",
    "predicted = tree.predict(tfidfv_test) #테스트 데이터에 대한 예측\n",
    "\n",
    "print(\"정확도:\", accuracy_score(y_test, predicted), '\\n') # 예측값과 실제값 비교\n",
    "print(\"F1 score (macro):\", f1_score(y_test, predicted, average='macro'))\n",
    "print(\"F1 score (micro):\", f1_score(y_test, predicted, average='micro'))\n",
    "print(\"F1 score (weighted):\", f1_score(y_test, predicted, average='weighted'), '\\n')\n",
    "print(\"F1 scores:\", f1_score(y_test, predicted, average=None))"
   ]
  },
  {
   "cell_type": "code",
   "execution_count": 34,
   "metadata": {},
   "outputs": [
    {
     "name": "stdout",
     "output_type": "stream",
     "text": [
      "정확도: 0.6544968833481746 \n",
      "\n",
      "F1 score (macro): 0.2794631711818573\n",
      "F1 score (micro): 0.6544968833481746\n",
      "F1 score (weighted): 0.6225909375608356 \n",
      "\n",
      "F1 scores: [0.35       0.44366197 0.35555556 0.85126396 0.70956211 0.\n",
      " 0.52173913 0.4        0.49315068 0.4375     0.27906977 0.59887006\n",
      " 0.22222222 0.21818182 0.         0.         0.51977401 0.\n",
      " 0.27586207 0.54771784 0.4        0.31578947 0.         0.13333333\n",
      " 0.09090909 0.36842105 0.         0.         0.         0.\n",
      " 0.         0.         0.18181818 0.57142857 0.         0.28571429\n",
      " 0.33333333 0.         0.         0.         0.46153846 0.\n",
      " 0.         0.6        0.88888889 1.        ]\n"
     ]
    }
   ],
   "source": [
    "# 랜덤 포레스트\n",
    "\n",
    "forest = RandomForestClassifier(n_estimators=5, random_state=0)\n",
    "forest.fit(tfidfv, y_train)\n",
    "\n",
    "predicted = forest.predict(tfidfv_test) # 테스트 데이터에 대한 예측\n",
    "\n",
    "print(\"정확도:\", accuracy_score(y_test, predicted), '\\n') # 예측값과 실제값 비교\n",
    "print(\"F1 score (macro):\", f1_score(y_test, predicted, average='macro'))\n",
    "print(\"F1 score (micro):\", f1_score(y_test, predicted, average='micro'))\n",
    "print(\"F1 score (weighted):\", f1_score(y_test, predicted, average='weighted'), '\\n')\n",
    "print(\"F1 scores:\", f1_score(y_test, predicted, average=None))"
   ]
  },
  {
   "cell_type": "code",
   "execution_count": 35,
   "metadata": {},
   "outputs": [
    {
     "name": "stdout",
     "output_type": "stream",
     "text": [
      "정확도: 0.7702582368655387 \n",
      "\n",
      "F1 score (macro): 0.572792648567258\n",
      "F1 score (micro): 0.7702582368655387\n",
      "F1 score (weighted): 0.7641672650539437 \n",
      "\n",
      "F1 scores: [0.54545455 0.75757576 0.63636364 0.89195678 0.82046138 0.33333333\n",
      " 0.74074074 0.5        0.61538462 0.85106383 0.77966102 0.62790698\n",
      " 0.48       0.38709677 0.         0.15384615 0.71428571 0.55555556\n",
      " 0.54054054 0.67460317 0.50434783 0.61818182 0.2        0.64\n",
      " 0.5625     0.72727273 1.         0.4        0.22222222 0.54545455\n",
      " 0.38461538 0.51851852 1.         0.90909091 0.5        0.22222222\n",
      " 0.56       0.66666667 0.33333333 0.25       0.625      0.625\n",
      " 0.8        0.46153846 0.8        0.66666667]\n"
     ]
    }
   ],
   "source": [
    "# 그래디언트 부스팅 트리\n",
    "\n",
    "grbt = GradientBoostingClassifier(random_state=0) # verbose=3\n",
    "grbt.fit(tfidfv, y_train)\n",
    "\n",
    "predicted = grbt.predict(tfidfv_test) # 테스트 데이터에 대한 예측\n",
    "\n",
    "print(\"정확도:\", accuracy_score(y_test, predicted), '\\n') # 예측값과 실제값 비교\n",
    "print(\"F1 score (macro):\", f1_score(y_test, predicted, average='macro'))\n",
    "print(\"F1 score (micro):\", f1_score(y_test, predicted, average='micro'))\n",
    "print(\"F1 score (weighted):\", f1_score(y_test, predicted, average='weighted'), '\\n')\n",
    "print(\"F1 scores:\", f1_score(y_test, predicted, average=None))"
   ]
  },
  {
   "cell_type": "code",
   "execution_count": 36,
   "metadata": {},
   "outputs": [
    {
     "name": "stdout",
     "output_type": "stream",
     "text": [
      "정확도: 0.8187889581478184 \n",
      "\n",
      "F1 score (macro): 0.6577141879659247\n",
      "F1 score (micro): 0.8187889581478184\n",
      "F1 score (weighted): 0.8147231278247327 \n",
      "\n",
      "F1 scores: [0.75       0.78640777 0.72727273 0.93154034 0.84928717 0.33333333\n",
      " 0.89655172 0.5        0.7012987  0.8        0.9        0.69005848\n",
      " 0.52173913 0.66666667 0.44444444 0.28571429 0.74257426 0.6\n",
      " 0.62857143 0.70943396 0.56910569 0.70967742 0.25       0.64\n",
      " 0.64705882 0.84210526 1.         0.57142857 0.31578947 0.66666667\n",
      " 0.56       0.75       1.         0.90909091 0.66666667 0.5\n",
      " 0.58333333 0.5        0.4        0.22222222 0.57142857 0.61538462\n",
      " 1.         0.83333333 0.8        0.66666667]\n"
     ]
    }
   ],
   "source": [
    "# 보팅\n",
    "\n",
    "voting_classifier = VotingClassifier(estimators=[\n",
    "         ('lr', LogisticRegression(C=10000, penalty='l2')),\n",
    "        ('cb', ComplementNB()),\n",
    "        ('grbt', GradientBoostingClassifier(random_state=0))\n",
    "], voting='soft', n_jobs=-1)\n",
    "voting_classifier.fit(tfidfv, y_train)\n",
    "\n",
    "predicted = voting_classifier.predict(tfidfv_test) # 테스트 데이터에 대한 예측\n",
    "\n",
    "print(\"정확도:\", accuracy_score(y_test, predicted), '\\n') # 예측값과 실제값 비교\n",
    "print(\"F1 score (macro):\", f1_score(y_test, predicted, average='macro'))\n",
    "print(\"F1 score (micro):\", f1_score(y_test, predicted, average='micro'))\n",
    "print(\"F1 score (weighted):\", f1_score(y_test, predicted, average='weighted'), '\\n')\n",
    "print(\"F1 scores:\", f1_score(y_test, predicted, average=None))"
   ]
  },
  {
   "cell_type": "markdown",
   "metadata": {},
   "source": [
    "### 상위 5000개만 사용"
   ]
  },
  {
   "cell_type": "code",
   "execution_count": 37,
   "metadata": {},
   "outputs": [
    {
     "name": "stdout",
     "output_type": "stream",
     "text": [
      "(8982, 4867)\n",
      "(8982, 4867)\n"
     ]
    }
   ],
   "source": [
    "(x_train, y_train), (x_test, y_test) = reuters.load_data(num_words=5000, test_split=0.2)\n",
    "\n",
    "index_to_word = {index + 3 : word for word, index in word_index.items()}\n",
    "\n",
    "for index, token in enumerate((\"<pad>\", \"<sos>\", \"<unk>\")):\n",
    "    index_to_word[index] = token\n",
    "    \n",
    "decoded = []\n",
    "for i in range(len(x_train)):\n",
    "    t = ' '.join([index_to_word[index] for index in x_train[i]])\n",
    "    decoded.append(t)\n",
    "\n",
    "x_train = decoded\n",
    "\n",
    "decoded = []\n",
    "for i in range(len(x_test)):\n",
    "    t = ' '.join([index_to_word[index] for index in x_test[i]])\n",
    "    decoded.append(t)\n",
    "\n",
    "x_test = decoded\n",
    "\n",
    "dtm_vector = CountVectorizer()\n",
    "x_train_dtm = dtm_vector.fit_transform(x_train)\n",
    "print(x_train_dtm.shape)\n",
    "\n",
    "tfidf_transformer = TfidfTransformer()\n",
    "tfidfv = tfidf_transformer.fit_transform(x_train_dtm)\n",
    "print(tfidfv.shape)"
   ]
  },
  {
   "cell_type": "code",
   "execution_count": 38,
   "metadata": {},
   "outputs": [
    {
     "name": "stdout",
     "output_type": "stream",
     "text": [
      "정확도: 0.6731967943009796 \n",
      "\n",
      "F1 score (macro): 0.11017286132336847\n",
      "F1 score (micro): 0.6731967943009796\n",
      "F1 score (weighted): 0.6012501291711391 \n",
      "\n",
      "F1 scores: [0.         0.61764706 0.         0.87061669 0.72859451 0.\n",
      " 0.         0.         0.         0.4375     0.         0.57819905\n",
      " 0.         0.23809524 0.         0.         0.625      0.\n",
      " 0.         0.62608696 0.225      0.         0.         0.\n",
      " 0.         0.12121212 0.         0.         0.         0.\n",
      " 0.         0.         0.         0.         0.         0.\n",
      " 0.         0.         0.         0.         0.         0.\n",
      " 0.         0.         0.         0.        ]\n"
     ]
    }
   ],
   "source": [
    "# 나이브 베이즈 분류기\n",
    "\n",
    "mod = MultinomialNB()\n",
    "mod.fit(tfidfv, y_train)\n",
    "\n",
    "# 테스트 데이터도 TF-IDF 행렬로 변환 (정확도 측정을 위해 훈련 데이터와 동일한 전처리)\n",
    "x_test_dtm = dtm_vector.transform(x_test) # 테스트 데이터를 DTM으로 변환\n",
    "tfidfv_test = tfidf_transformer.transform(x_test_dtm) # DTM을 TF-IDF 행렬로 변환\n",
    "\n",
    "predicted = mod.predict(tfidfv_test) # 테스트 데이터에 대한 예측\n",
    "\n",
    "print(\"정확도:\", accuracy_score(y_test, predicted), '\\n') # 예측값과 실제값 비교\n",
    "print(\"F1 score (macro):\", f1_score(y_test, predicted, average='macro'))\n",
    "print(\"F1 score (micro):\", f1_score(y_test, predicted, average='micro'))\n",
    "print(\"F1 score (weighted):\", f1_score(y_test, predicted, average='weighted'), '\\n')\n",
    "print(\"F1 scores:\", f1_score(y_test, predicted, average=None))"
   ]
  },
  {
   "cell_type": "code",
   "execution_count": 39,
   "metadata": {},
   "outputs": [
    {
     "name": "stdout",
     "output_type": "stream",
     "text": [
      "정확도: 0.7707034728406055 \n",
      "\n",
      "F1 score (macro): 0.48203488372044917\n",
      "F1 score (micro): 0.7707034728406055\n",
      "F1 score (weighted): 0.7458990404916549 \n",
      "\n",
      "F1 scores: [0.7        0.72580645 0.64516129 0.90230243 0.81945744 0.\n",
      " 0.85714286 0.8        0.30769231 0.86792453 0.87272727 0.63316583\n",
      " 0.         0.63768116 0.         0.         0.72222222 0.\n",
      " 0.57142857 0.65838509 0.46464646 0.72       0.         0.44444444\n",
      " 0.18181818 0.81355932 0.875      0.4        0.25       0.\n",
      " 0.         0.26666667 0.82352941 0.88888889 0.83333333 0.28571429\n",
      " 0.         0.66666667 0.5        0.         0.         0.36363636\n",
      " 0.5        0.28571429 0.88888889 1.        ]\n"
     ]
    }
   ],
   "source": [
    "# CNB\n",
    "\n",
    "cb = ComplementNB()\n",
    "cb.fit(tfidfv, y_train)\n",
    "\n",
    "predicted = cb.predict(tfidfv_test) # 테스트 데이터에 대한 예측\n",
    "\n",
    "print(\"정확도:\", accuracy_score(y_test, predicted), '\\n') # 예측값과 실제값 비교\n",
    "print(\"F1 score (macro):\", f1_score(y_test, predicted, average='macro'))\n",
    "print(\"F1 score (micro):\", f1_score(y_test, predicted, average='micro'))\n",
    "print(\"F1 score (weighted):\", f1_score(y_test, predicted, average='weighted'), '\\n')\n",
    "print(\"F1 scores:\", f1_score(y_test, predicted, average=None))"
   ]
  },
  {
   "cell_type": "code",
   "execution_count": 40,
   "metadata": {},
   "outputs": [
    {
     "name": "stdout",
     "output_type": "stream",
     "text": [
      "정확도: 0.8058771148708815 \n",
      "\n",
      "F1 score (macro): 0.6427529674429183\n",
      "F1 score (micro): 0.8058771148708815\n",
      "F1 score (weighted): 0.7994583667437475 \n",
      "\n",
      "F1 scores: [0.76190476 0.78504673 0.79069767 0.9223301  0.83877551 0.\n",
      " 0.88888889 0.8        0.68292683 0.84615385 0.89655172 0.68156425\n",
      " 0.4        0.63013699 0.5        0.66666667 0.69565217 0.7826087\n",
      " 0.68571429 0.67407407 0.53225806 0.68852459 0.         0.52173913\n",
      " 0.62857143 0.75471698 0.93333333 0.4        0.5        0.6\n",
      " 0.58823529 0.60869565 0.88888889 0.8        0.44444444 0.5\n",
      " 0.31578947 0.5        0.4        0.4        0.42857143 0.71428571\n",
      " 0.8        0.8        0.88888889 1.        ]\n"
     ]
    },
    {
     "name": "stderr",
     "output_type": "stream",
     "text": [
      "/home/aiffel0042/anaconda3/envs/aiffel/lib/python3.7/site-packages/sklearn/linear_model/_logistic.py:764: ConvergenceWarning: lbfgs failed to converge (status=1):\n",
      "STOP: TOTAL NO. of ITERATIONS REACHED LIMIT.\n",
      "\n",
      "Increase the number of iterations (max_iter) or scale the data as shown in:\n",
      "    https://scikit-learn.org/stable/modules/preprocessing.html\n",
      "Please also refer to the documentation for alternative solver options:\n",
      "    https://scikit-learn.org/stable/modules/linear_model.html#logistic-regression\n",
      "  extra_warning_msg=_LOGISTIC_SOLVER_CONVERGENCE_MSG)\n"
     ]
    }
   ],
   "source": [
    "# 로지스틱 회귀\n",
    "\n",
    "lr = LogisticRegression(C=10000, penalty='l2')\n",
    "lr.fit(tfidfv, y_train)\n",
    "\n",
    "predicted = lr.predict(tfidfv_test) # 테스트 데이터에 대한 예측\n",
    "\n",
    "print(\"정확도:\", accuracy_score(y_test, predicted), '\\n') # 예측값과 실제값 비교\n",
    "print(\"F1 score (macro):\", f1_score(y_test, predicted, average='macro'))\n",
    "print(\"F1 score (micro):\", f1_score(y_test, predicted, average='micro'))\n",
    "print(\"F1 score (weighted):\", f1_score(y_test, predicted, average='weighted'), '\\n')\n",
    "print(\"F1 scores:\", f1_score(y_test, predicted, average=None))"
   ]
  },
  {
   "cell_type": "code",
   "execution_count": 41,
   "metadata": {},
   "outputs": [
    {
     "name": "stdout",
     "output_type": "stream",
     "text": [
      "정확도: 0.7689225289403384 \n",
      "\n",
      "F1 score (macro): 0.5771871588089644\n",
      "F1 score (micro): 0.7689225289403384\n",
      "F1 score (weighted): 0.7646444225570777 \n",
      "\n",
      "F1 scores: [0.72727273 0.67592593 0.75555556 0.89798412 0.82045929 0.\n",
      " 0.85714286 0.5        0.64197531 0.80769231 0.74193548 0.67836257\n",
      " 0.48       0.58227848 0.4        0.47058824 0.6763285  0.47058824\n",
      " 0.62857143 0.6259542  0.5        0.67647059 0.         0.58333333\n",
      " 0.52941176 0.66666667 0.93333333 0.66666667 0.22222222 0.25\n",
      " 0.63636364 0.53846154 0.73684211 0.8        0.57142857 0.44444444\n",
      " 0.44444444 0.4        0.5        0.25       0.44444444 0.57142857\n",
      " 0.33333333 0.85714286 0.88888889 0.66666667]\n"
     ]
    },
    {
     "name": "stderr",
     "output_type": "stream",
     "text": [
      "/home/aiffel0042/anaconda3/envs/aiffel/lib/python3.7/site-packages/sklearn/svm/_base.py:977: ConvergenceWarning: Liblinear failed to converge, increase the number of iterations.\n",
      "  \"the number of iterations.\", ConvergenceWarning)\n"
     ]
    }
   ],
   "source": [
    "# 서포트 벡터 머신\n",
    "\n",
    "lsvc = LinearSVC(C=1000, penalty='l1', max_iter=500, dual=False)\n",
    "lsvc.fit(tfidfv, y_train)\n",
    "\n",
    "predicted = lsvc.predict(tfidfv_test) # 테스트 데이터에 대한 예측\n",
    "\n",
    "print(\"정확도:\", accuracy_score(y_test, predicted), '\\n') # 예측값과 실제값 비교\n",
    "print(\"F1 score (macro):\", f1_score(y_test, predicted, average='macro'))\n",
    "print(\"F1 score (micro):\", f1_score(y_test, predicted, average='micro'))\n",
    "print(\"F1 score (weighted):\", f1_score(y_test, predicted, average='weighted'), '\\n')\n",
    "print(\"F1 scores:\", f1_score(y_test, predicted, average=None))"
   ]
  },
  {
   "cell_type": "code",
   "execution_count": 42,
   "metadata": {},
   "outputs": [
    {
     "name": "stdout",
     "output_type": "stream",
     "text": [
      "정확도: 0.6179875333926982 \n",
      "\n",
      "F1 score (macro): 0.17794649395239356\n",
      "F1 score (micro): 0.6179875333926982\n",
      "F1 score (weighted): 0.5729970881280324 \n",
      "\n",
      "F1 scores: [0.         0.51533742 0.51428571 0.88541667 0.54684512 0.\n",
      " 0.72727273 0.         0.         0.88       0.86666667 0.54054054\n",
      " 0.10526316 0.         0.         0.         0.6893617  0.\n",
      " 0.         0.37037037 0.05263158 0.         0.         0.\n",
      " 0.1        0.31578947 0.         0.         0.16666667 0.\n",
      " 0.         0.         0.         0.90909091 0.         0.\n",
      " 0.         0.         0.         0.         0.         0.\n",
      " 0.         0.         0.         0.        ]\n"
     ]
    }
   ],
   "source": [
    "# 결정 트리\n",
    "\n",
    "tree = DecisionTreeClassifier(max_depth=10, random_state=0)\n",
    "tree.fit(tfidfv, y_train)\n",
    "\n",
    "predicted = tree.predict(tfidfv_test) #테스트 데이터에 대한 예측\n",
    "\n",
    "print(\"정확도:\", accuracy_score(y_test, predicted), '\\n') # 예측값과 실제값 비교\n",
    "print(\"F1 score (macro):\", f1_score(y_test, predicted, average='macro'))\n",
    "print(\"F1 score (micro):\", f1_score(y_test, predicted, average='micro'))\n",
    "print(\"F1 score (weighted):\", f1_score(y_test, predicted, average='weighted'), '\\n')\n",
    "print(\"F1 scores:\", f1_score(y_test, predicted, average=None))"
   ]
  },
  {
   "cell_type": "code",
   "execution_count": 43,
   "metadata": {},
   "outputs": [
    {
     "name": "stdout",
     "output_type": "stream",
     "text": [
      "정확도: 0.701246660730187 \n",
      "\n",
      "F1 score (macro): 0.35960899933378104\n",
      "F1 score (micro): 0.701246660730187\n",
      "F1 score (weighted): 0.6770217603524399 \n",
      "\n",
      "F1 scores: [0.33333333 0.54849498 0.38888889 0.86925373 0.75189394 0.\n",
      " 0.57142857 0.5        0.55555556 0.51282051 0.66666667 0.62295082\n",
      " 0.21052632 0.38095238 0.         0.2        0.68393782 0.\n",
      " 0.51428571 0.62962963 0.38333333 0.5        0.         0.375\n",
      " 0.09090909 0.56521739 0.22222222 0.4        0.         0.28571429\n",
      " 0.         0.         0.46153846 0.33333333 0.         0.28571429\n",
      " 0.14285714 0.66666667 0.         0.         0.33333333 0.16666667\n",
      " 0.         0.5        0.88888889 1.        ]\n"
     ]
    }
   ],
   "source": [
    "# 랜덤 포레스트\n",
    "\n",
    "forest = RandomForestClassifier(n_estimators=5, random_state=0)\n",
    "forest.fit(tfidfv, y_train)\n",
    "\n",
    "predicted = forest.predict(tfidfv_test) # 테스트 데이터에 대한 예측\n",
    "\n",
    "print(\"정확도:\", accuracy_score(y_test, predicted), '\\n') # 예측값과 실제값 비교\n",
    "print(\"F1 score (macro):\", f1_score(y_test, predicted, average='macro'))\n",
    "print(\"F1 score (micro):\", f1_score(y_test, predicted, average='micro'))\n",
    "print(\"F1 score (weighted):\", f1_score(y_test, predicted, average='weighted'), '\\n')\n",
    "print(\"F1 scores:\", f1_score(y_test, predicted, average=None))"
   ]
  },
  {
   "cell_type": "code",
   "execution_count": 44,
   "metadata": {},
   "outputs": [
    {
     "name": "stdout",
     "output_type": "stream",
     "text": [
      "정확도: 0.767586821015138 \n",
      "\n",
      "F1 score (macro): 0.5791898381470704\n",
      "F1 score (micro): 0.767586821015138\n",
      "F1 score (weighted): 0.7662475269931749 \n",
      "\n",
      "F1 scores: [0.76190476 0.73195876 0.7        0.89895897 0.79074447 0.16666667\n",
      " 0.92857143 0.4        0.64935065 0.875      0.86666667 0.63953488\n",
      " 0.46153846 0.48484848 0.14285714 0.26666667 0.74509804 0.33333333\n",
      " 0.57894737 0.6796875  0.496      0.66666667 0.22222222 0.38461538\n",
      " 0.66666667 0.75471698 0.75       0.44444444 0.33333333 0.30769231\n",
      " 0.4        0.52173913 0.77777778 0.83333333 0.36363636 0.66666667\n",
      " 0.6        0.8        0.28571429 0.22222222 0.58823529 0.47058824\n",
      " 0.85714286 0.57142857 0.88888889 0.66666667]\n"
     ]
    }
   ],
   "source": [
    "# 그래디언트 부스팅 트리\n",
    "\n",
    "grbt = GradientBoostingClassifier(random_state=0) # verbose=3\n",
    "grbt.fit(tfidfv, y_train)\n",
    "\n",
    "predicted = grbt.predict(tfidfv_test) # 테스트 데이터에 대한 예측\n",
    "\n",
    "print(\"정확도:\", accuracy_score(y_test, predicted), '\\n') # 예측값과 실제값 비교\n",
    "print(\"F1 score (macro):\", f1_score(y_test, predicted, average='macro'))\n",
    "print(\"F1 score (micro):\", f1_score(y_test, predicted, average='micro'))\n",
    "print(\"F1 score (weighted):\", f1_score(y_test, predicted, average='weighted'), '\\n')\n",
    "print(\"F1 scores:\", f1_score(y_test, predicted, average=None))"
   ]
  },
  {
   "cell_type": "code",
   "execution_count": 45,
   "metadata": {},
   "outputs": [
    {
     "name": "stdout",
     "output_type": "stream",
     "text": [
      "정확도: 0.8161175422974176 \n",
      "\n",
      "F1 score (macro): 0.6642429726937643\n",
      "F1 score (micro): 0.8161175422974176\n",
      "F1 score (weighted): 0.8126712904613167 \n",
      "\n",
      "F1 scores: [0.81818182 0.78640777 0.77272727 0.92848485 0.84780388 0.25\n",
      " 0.92857143 0.66666667 0.7027027  0.82352941 0.91525424 0.68235294\n",
      " 0.52173913 0.64788732 0.2        0.53333333 0.73737374 0.61538462\n",
      " 0.68421053 0.70817121 0.53968254 0.71186441 0.22222222 0.61538462\n",
      " 0.68571429 0.83636364 0.875      0.57142857 0.42105263 0.6\n",
      " 0.5        0.72       0.88888889 0.83333333 0.6        0.66666667\n",
      " 0.45454545 0.8        0.4        0.22222222 0.53333333 0.57142857\n",
      " 0.85714286 0.76923077 0.88888889 1.        ]\n"
     ]
    }
   ],
   "source": [
    "# 보팅\n",
    "\n",
    "voting_classifier = VotingClassifier(estimators=[\n",
    "         ('lr', LogisticRegression(C=10000, penalty='l2')),\n",
    "        ('cb', ComplementNB()),\n",
    "        ('grbt', GradientBoostingClassifier(random_state=0))\n",
    "], voting='soft', n_jobs=-1)\n",
    "voting_classifier.fit(tfidfv, y_train)\n",
    "\n",
    "predicted = voting_classifier.predict(tfidfv_test) # 테스트 데이터에 대한 예측\n",
    "\n",
    "print(\"정확도:\", accuracy_score(y_test, predicted), '\\n') # 예측값과 실제값 비교\n",
    "print(\"F1 score (macro):\", f1_score(y_test, predicted, average='macro'))\n",
    "print(\"F1 score (micro):\", f1_score(y_test, predicted, average='micro'))\n",
    "print(\"F1 score (weighted):\", f1_score(y_test, predicted, average='weighted'), '\\n')\n",
    "print(\"F1 scores:\", f1_score(y_test, predicted, average=None))"
   ]
  },
  {
   "cell_type": "markdown",
   "metadata": {},
   "source": [
    "### 최적 모델과 딥러닝 모델 비교"
   ]
  },
  {
   "cell_type": "code",
   "execution_count": 46,
   "metadata": {
    "scrolled": false
   },
   "outputs": [
    {
     "name": "stdout",
     "output_type": "stream",
     "text": [
      "문장길이 평균:  145.96419665122906\n",
      "문장길이 최대:  2376\n",
      "문장길이 표준편차:  145.8784764459447\n",
      "maxlen of pad_sequences:  437\n",
      "전체 문장의 0.9438902743142145%가 maxlen 설정값 이내에 포함됩니다. \n",
      "\n",
      "Model: \"sequential\"\n",
      "_________________________________________________________________\n",
      "Layer (type)                 Output Shape              Param #   \n",
      "=================================================================\n",
      "embedding (Embedding)        (None, None, 200)         10000000  \n",
      "_________________________________________________________________\n",
      "lstm (LSTM)                  (None, 100)               120400    \n",
      "_________________________________________________________________\n",
      "dense (Dense)                (None, 46)                4646      \n",
      "=================================================================\n",
      "Total params: 10,125,046\n",
      "Trainable params: 10,125,046\n",
      "Non-trainable params: 0\n",
      "_________________________________________________________________\n"
     ]
    }
   ],
   "source": [
    "from tensorflow import keras\n",
    "\n",
    "(x_train_compare, y_train_compare), (x_test_compare, y_test_compare) = reuters.load_data()\n",
    "\n",
    "total_data_text = list(x_train_compare) + list(x_test_compare)\n",
    "num_tokens = [len(tokens) for tokens in total_data_text]\n",
    "num_tokens = np.array(num_tokens)\n",
    "# 문장길이의 평균값, 최대값, 표준편차를 계산해 본다. \n",
    "print('문장길이 평균: ', np.mean(num_tokens))\n",
    "print('문장길이 최대: ', np.max(num_tokens))\n",
    "print('문장길이 표준편차: ', np.std(num_tokens))\n",
    "\n",
    "# 예를들어, 최대 길이를 (평균 + 2*표준편차)로 한다면,  \n",
    "max_tokens = np.mean(num_tokens) + 2 * np.std(num_tokens)\n",
    "maxlen = int(max_tokens)\n",
    "print('maxlen of pad_sequences: ', maxlen)\n",
    "print('전체 문장의 {}%가 maxlen 설정값 이내에 포함됩니다. \\n'.format(np.sum(num_tokens < max_tokens) / len(num_tokens)))\n",
    "\n",
    "x_train_compare = keras.preprocessing.sequence.pad_sequences(x_train_compare, padding='pre', maxlen=maxlen) # value=0 (default)\n",
    "x_test_compare = keras.preprocessing.sequence.pad_sequences(x_test_compare, padding='pre', maxlen=maxlen) # value=0 (default)\n",
    "\n",
    "vocab_size = 50000  # 어휘 사전의 크기입니다\n",
    "word_vector_dim = 200  # 워드 벡터의 차원 수 (변경 가능한 하이퍼파라미터)\n",
    "\n",
    "model = keras.Sequential()\n",
    "model.add(keras.layers.Embedding(vocab_size, word_vector_dim)) # , input_shape=(None,)))\n",
    "model.add(keras.layers.LSTM(100))\n",
    "model.add(keras.layers.Dense(46, activation='softmax'))\n",
    "\n",
    "model.summary()"
   ]
  },
  {
   "cell_type": "code",
   "execution_count": 47,
   "metadata": {},
   "outputs": [],
   "source": [
    "# https://blog.naver.com/PostView.nhn?blogId=wideeyed&logNo=221226716255\n",
    "from tensorflow.keras import backend as K\n",
    "\n",
    "def recall(y_target, y_pred):\n",
    "    # clip(t, clip_value_min, clip_value_max) : clip_value_min~clip_value_max 이외 가장자리를 깎아 낸다\n",
    "    # round : 반올림한다\n",
    "    y_target_yn = K.round(K.clip(y_target, 0, 1)) # 실제값을 0(Negative) 또는 1(Positive)로 설정한다\n",
    "    y_pred_yn = K.round(K.clip(y_pred, 0, 1)) # 예측값을 0(Negative) 또는 1(Positive)로 설정한다\n",
    "\n",
    "    # True Positive는 실제 값과 예측 값이 모두 1(Positive)인 경우이다\n",
    "    count_true_positive = K.sum(y_target_yn * y_pred_yn) \n",
    "\n",
    "    # (True Positive + False Negative) = 실제 값이 1(Positive) 전체\n",
    "    count_true_positive_false_negative = K.sum(y_target_yn)\n",
    "\n",
    "    # Recall =  (True Positive) / (True Positive + False Negative)\n",
    "    # K.epsilon()는 'divide by zero error' 예방차원에서 작은 수를 더한다\n",
    "    recall = count_true_positive / (count_true_positive_false_negative + K.epsilon())\n",
    "\n",
    "    # return a single tensor value\n",
    "    return recall\n",
    "\n",
    "\n",
    "def precision(y_target, y_pred):\n",
    "    # clip(t, clip_value_min, clip_value_max) : clip_value_min~clip_value_max 이외 가장자리를 깎아 낸다\n",
    "    # round : 반올림한다\n",
    "    y_pred_yn = K.round(K.clip(y_pred, 0, 1)) # 예측값을 0(Negative) 또는 1(Positive)로 설정한다\n",
    "    y_target_yn = K.round(K.clip(y_target, 0, 1)) # 실제값을 0(Negative) 또는 1(Positive)로 설정한다\n",
    "\n",
    "    # True Positive는 실제 값과 예측 값이 모두 1(Positive)인 경우이다\n",
    "    count_true_positive = K.sum(y_target_yn * y_pred_yn) \n",
    "\n",
    "    # (True Positive + False Positive) = 예측 값이 1(Positive) 전체\n",
    "    count_true_positive_false_positive = K.sum(y_pred_yn)\n",
    "\n",
    "    # Precision = (True Positive) / (True Positive + False Positive)\n",
    "    # K.epsilon()는 'divide by zero error' 예방차원에서 작은 수를 더한다\n",
    "    precision = count_true_positive / (count_true_positive_false_positive + K.epsilon())\n",
    "\n",
    "    # return a single tensor value\n",
    "    return precision\n",
    "\n",
    "\n",
    "def f1score(y_target, y_pred):\n",
    "    _recall = recall(y_target, y_pred)\n",
    "    _precision = precision(y_target, y_pred)\n",
    "    # K.epsilon()는 'divide by zero error' 예방차원에서 작은 수를 더한다\n",
    "    _f1score = ( 2 * _recall * _precision) / (_recall + _precision+ K.epsilon())\n",
    "    \n",
    "    # return a single tensor value\n",
    "    return _f1score"
   ]
  },
  {
   "cell_type": "code",
   "execution_count": 48,
   "metadata": {},
   "outputs": [
    {
     "name": "stdout",
     "output_type": "stream",
     "text": [
      "Epoch 1/20\n",
      "187/187 [==============================] - 17s 89ms/step - loss: 2.2994 - accuracy: 0.4254 - precision: 0.5693 - recall: 0.1667 - f1score: 0.2518 - val_loss: 2.0431 - val_accuracy: 0.4970 - val_precision: 0.9451 - val_recall: 0.2778 - val_f1score: 0.4238\n",
      "Epoch 2/20\n",
      "187/187 [==============================] - 16s 87ms/step - loss: 1.8418 - accuracy: 0.5264 - precision: 0.9022 - recall: 0.3913 - f1score: 0.5348 - val_loss: 1.7773 - val_accuracy: 0.5543 - val_precision: 0.8131 - val_recall: 0.4921 - val_f1score: 0.6102\n",
      "Epoch 3/20\n",
      "187/187 [==============================] - 17s 88ms/step - loss: 1.6526 - accuracy: 0.5794 - precision: 0.8904 - recall: 0.5052 - f1score: 0.6396 - val_loss: 1.8320 - val_accuracy: 0.5630 - val_precision: 0.8160 - val_recall: 0.4955 - val_f1score: 0.6136\n",
      "Epoch 4/20\n",
      "187/187 [==============================] - 17s 89ms/step - loss: 1.4790 - accuracy: 0.6301 - precision: 0.9147 - recall: 0.5271 - f1score: 0.6653 - val_loss: 1.6078 - val_accuracy: 0.6097 - val_precision: 0.8418 - val_recall: 0.5247 - val_f1score: 0.6437\n",
      "Epoch 5/20\n",
      "187/187 [==============================] - 17s 90ms/step - loss: 1.1496 - accuracy: 0.7116 - precision: 0.9299 - recall: 0.6224 - f1score: 0.7425 - val_loss: 1.4708 - val_accuracy: 0.6430 - val_precision: 0.8329 - val_recall: 0.5744 - val_f1score: 0.6775\n",
      "Epoch 6/20\n",
      "187/187 [==============================] - 16s 87ms/step - loss: 0.8837 - accuracy: 0.7842 - precision: 0.9317 - recall: 0.7113 - f1score: 0.8049 - val_loss: 1.5042 - val_accuracy: 0.6540 - val_precision: 0.7771 - val_recall: 0.6020 - val_f1score: 0.6771\n",
      "Epoch 7/20\n",
      "187/187 [==============================] - 16s 87ms/step - loss: 0.6824 - accuracy: 0.8348 - precision: 0.9422 - recall: 0.7675 - f1score: 0.8445 - val_loss: 1.4998 - val_accuracy: 0.6587 - val_precision: 0.8149 - val_recall: 0.5873 - val_f1score: 0.6804\n",
      "Epoch 00007: early stopping\n"
     ]
    }
   ],
   "source": [
    "x_val = x_train_compare[:3000]\n",
    "y_val = y_train_compare[:3000]\n",
    "\n",
    "partial_x_train_compare = x_train_compare[3000:]\n",
    "partial_y_train_compare = y_train_compare[3000:]\n",
    "\n",
    "partial_y_train_compare = keras.utils.to_categorical(partial_y_train_compare)\n",
    "y_val = keras.utils.to_categorical(y_val)\n",
    "y_test_compare = keras.utils.to_categorical(y_test_compare)\n",
    "\n",
    "'''\n",
    "print(partial_x_train_compare.shape)\n",
    "print(partial_y_train_compare.shape)\n",
    "print(x_val.shape)\n",
    "print(y_val.shape)\n",
    "\n",
    "print(partial_x_train_compare[0])\n",
    "print(partial_y_train_compare[0])\n",
    "print(x_val[0])\n",
    "print(y_val[0])\n",
    "'''\n",
    "\n",
    "es = keras.callbacks.EarlyStopping(monitor='val_loss', mode='min', verbose=1, patience=2)\n",
    "\n",
    "# 학습 시작\n",
    "model.compile(optimizer='adam', loss='categorical_crossentropy', metrics=['accuracy', precision, recall, f1score])\n",
    "\n",
    "\n",
    "epochs = 20\n",
    "\n",
    "history = model.fit(partial_x_train_compare, partial_y_train_compare, epochs=epochs, batch_size=32, validation_data=(x_val, y_val), verbose=1, callbacks=[es])"
   ]
  },
  {
   "cell_type": "code",
   "execution_count": 49,
   "metadata": {},
   "outputs": [
    {
     "name": "stdout",
     "output_type": "stream",
     "text": [
      "71/71 - 1s - loss: 1.5673 - accuracy: 0.6434 - precision: 0.8151 - recall: 0.5767 - f1score: 0.6733\n",
      "loss: 1.567, accuracy: 0.643, precision: 0.815, recall: 0.577, f1score: 0.673\n"
     ]
    }
   ],
   "source": [
    "# 테스트 셋으로 평가\n",
    "_loss, _acc, _precision, _recall, _f1score = model.evaluate(x_test_compare, y_test_compare, verbose=2)\n",
    "print('loss: {:.3f}, accuracy: {:.3f}, precision: {:.3f}, recall: {:.3f}, f1score: {:.3f}'.format(_loss, _acc, _precision, _recall, _f1score))"
   ]
  },
  {
   "cell_type": "code",
   "execution_count": 50,
   "metadata": {},
   "outputs": [
    {
     "name": "stdout",
     "output_type": "stream",
     "text": [
      "dict_keys(['loss', 'accuracy', 'precision', 'recall', 'f1score', 'val_loss', 'val_accuracy', 'val_precision', 'val_recall', 'val_f1score'])\n"
     ]
    },
    {
     "data": {
      "image/png": "[encoded data removed]",
      "text/plain": [
       "<Figure size 720x720 with 1 Axes>"
      ]
     },
     "metadata": {
      "needs_background": "light"
     },
     "output_type": "display_data"
    }
   ],
   "source": [
    "history_dict = history.history\n",
    "print(history_dict.keys()) # epoch에 따른 그래프를 그려볼 수 있는 항목들\n",
    "\n",
    "acc = history_dict['accuracy']\n",
    "val_acc = history_dict['val_accuracy']\n",
    "loss = history_dict['loss']\n",
    "val_loss = history_dict['val_loss']\n",
    "\n",
    "# training and validation loss\n",
    "\n",
    "epochs = range(1, len(acc) + 1)\n",
    "\n",
    "# \"bo\"는 \"파란색 점\"입니다\n",
    "plt.plot(epochs, loss, 'bo', label='Training loss')\n",
    "# b는 \"파란 실선\"입니다\n",
    "plt.plot(epochs, val_loss, 'b', label='Validation loss')\n",
    "plt.title('Training and validation loss')\n",
    "plt.xlabel('Epochs')\n",
    "plt.ylabel('Loss')\n",
    "plt.legend()\n",
    "\n",
    "plt.show()"
   ]
  },
  {
   "cell_type": "code",
   "execution_count": 51,
   "metadata": {},
   "outputs": [
    {
     "data": {
      "image/png": "[encoded data removed]",
      "text/plain": [
       "<Figure size 720x720 with 1 Axes>"
      ]
     },
     "metadata": {
      "needs_background": "light"
     },
     "output_type": "display_data"
    }
   ],
   "source": [
    "plt.clf() # 그림을 초기화합니다\n",
    "\n",
    "# training and validation accuracy\n",
    "\n",
    "plt.plot(epochs, acc, 'bo', label='Training acc')\n",
    "plt.plot(epochs, val_acc, 'b', label='Validation acc')\n",
    "plt.title('Training and validation accuracy')\n",
    "plt.xlabel('Epochs')\n",
    "plt.ylabel('Accuracy')\n",
    "plt.legend()\n",
    "\n",
    "plt.show()"
   ]
  },
  {
   "cell_type": "code",
   "execution_count": 52,
   "metadata": {},
   "outputs": [
    {
     "data": {
      "image/png": "[encoded data removed]",
      "text/plain": [
       "<Figure size 720x720 with 1 Axes>"
      ]
     },
     "metadata": {
      "needs_background": "light"
     },
     "output_type": "display_data"
    }
   ],
   "source": [
    "epochs = range(1, len(history.history['accuracy']) + 1)\n",
    "plt.plot(epochs, history.history['loss'])\n",
    "plt.plot(epochs, history.history['val_loss'])\n",
    "plt.title('Training and validation loss')\n",
    "plt.ylabel('Loss')\n",
    "plt.xlabel('Epochs')\n",
    "plt.legend(['Train', 'Test'], loc='upper left')\n",
    "plt.show()"
   ]
  },
  {
   "cell_type": "code",
   "execution_count": null,
   "metadata": {},
   "outputs": [],
   "source": []
  }
 ],
 "metadata": {
  "kernelspec": {
   "display_name": "aiffel",
   "language": "python",
   "name": "aiffel"
  },
  "language_info": {
   "codemirror_mode": {
    "name": "ipython",
    "version": 3
   },
   "file_extension": ".py",
   "mimetype": "text/x-python",
   "name": "python",
   "nbconvert_exporter": "python",
   "pygments_lexer": "ipython3",
   "version": "3.7.6"
  }
 },
 "nbformat": 4,
 "nbformat_minor": 4
}
