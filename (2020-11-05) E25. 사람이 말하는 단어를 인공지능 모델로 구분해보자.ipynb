{
 "cells": [
  {
   "cell_type": "markdown",
   "metadata": {},
   "source": [
    "# E25. 사람이 말하는 단어를 인공지능 모델로 구분해보자"
   ]
  },
  {
   "cell_type": "code",
   "execution_count": 1,
   "metadata": {},
   "outputs": [],
   "source": [
    "import numpy as np\n",
    "import matplotlib.pyplot as plt\n",
    "import os\n",
    "\n",
    "import IPython.display as ipd\n",
    "import random\n",
    "\n",
    "from sklearn.model_selection import train_test_split\n",
    "import tensorflow as tf\n",
    "from tensorflow.keras import layers\n",
    "\n",
    "import librosa\n",
    "import librosa.display"
   ]
  },
  {
   "cell_type": "markdown",
   "metadata": {},
   "source": [
    "## 음성과 오디오 데이터\n",
    "* 소리에서 얻을 수 있는 물리량\n",
    "    - 진폭 (amplitude) (소리의 세기)\n",
    "    - 주파수 (frequency) (소리의 높이)\n",
    "    - 위상 (phase)\n",
    "* 주파수 (the number of compressed)\n",
    "    - 단위: Hz (1초에 진동하는 횟수)\n",
    "    - 주파수가 높으면 높은 소리, 낮으면 낮은 소리가 남\n",
    "* 주기 (period): 파동이 한 번 진동하는 데 걸리는 시간\n",
    "    - sin함수의 주기는 2π/ω\n",
    "* 복합파 (complex wave): 서로 다른 주파수를 가진 수많은 소리가 뒤섞여 만들어진 파형. 서로 다른 정현파 (sine wave) 들의 합으로 이루어짐\n",
    "    - $x(n)\\approx \\sum_{k=0}^{K}a_k(n)cos(\\phi _k(n))+e(n)$\n",
    "        - where, $a_k$ = instantaneous amplitude\n",
    "        - $\\phi_k$ = instantaneous phase\n",
    "        - $e(n)$ = residual (noise)"
   ]
  },
  {
   "cell_type": "markdown",
   "metadata": {},
   "source": [
    "### 오디오 데이터의 디지털화\n",
    "* 사인 함수 (sine function, 아날로그 신호 중 가장 단순한 형태): $Asin(2\\pi ft - \\phi)$\n",
    "    - $A$: 진폭 (amplitude, 위아래로 움직이는 소리의 크기)\n",
    "    - $f$: 주파수 (frequency, 초당 진동 횟수 or 소리의 세기) 주파수가 높으면 빠르게 진동해 소리의 세기가 커짐\n",
    "    - $\\phi$: 위상\n",
    "    - $t$: 시간\n",
    "   \n",
    "#### 아날로그 신호의 표본화 (sampling)\n",
    "* ```sampling_rate```: 초당 샘플링의 횟수\n",
    "    - 나이키스트-섀넌 표본화에 따라 결정. 일반적으로는 16kHz (speech), 44.1kHz (music) 영역대가 많이 사용됨 https://linecard.tistory.com/20\n",
    "    - 아날로그를 디지털로 거친 후 디지털을 아날로그로 왜곡없이 복원하기 위해서는, sampling rate는 입력 신호의 최고 주파수의 2배 이상 크게\n",
    "    - 인간의 최대 가청 주파수가 20kHz이기 때문에, 음악의 sampling frequency는 나이키스트-섀넌 표본화에 따르면 40kHz가 기준이다. 다만 추가적인 이유를 더해 오디오 레코드에선 44.1kHz를 사용한다\n",
    "* ```duration```: 지속시간 (단위: 초)"
   ]
  },
  {
   "cell_type": "code",
   "execution_count": null,
   "metadata": {},
   "outputs": [],
   "source": [
    "def single_tone(frequecy, sampling_rate=16000, duration=1):\n",
    "    t = np.linspace(0, duration, int(sampling_rate))\n",
    "    y = np.sin(2 * np.pi * frequecy * t)\n",
    "    return y\n",
    "\n",
    "y = single_tone(400)"
   ]
  },
  {
   "cell_type": "code",
   "execution_count": null,
   "metadata": {},
   "outputs": [],
   "source": [
    "# 1사이클 동안 나타나는 연속시간 연속크기 아날로그 신호 (사인함수)\n",
    "\n",
    "plt.plot(y[:41])\n",
    "plt.show()"
   ]
  },
  {
   "cell_type": "code",
   "execution_count": null,
   "metadata": {},
   "outputs": [],
   "source": [
    "# 표본화 (sampling): 시간축 방향에서 일정 간격으로 샘플을 추출하여 이산 신호로 변환시키는 과정\n",
    "# 1사이클 동안 나타나는 이산시간 연속크기 신호 \n",
    "\n",
    "plt.stem(y[:41])\n",
    "plt.show()"
   ]
  },
  {
   "cell_type": "markdown",
   "metadata": {},
   "source": [
    "#### 표본화, 양자화, 부호화\n",
    "* 표본화 (sampling): 아날로그 데이터에서 일정 간격으로 표본을 채취하는 방식으로 이산적 데이터를 구함\n",
    "* 양자화 (quantizing): 디지털화를 위해서는 이산적 데이터의 값 자체가 소수점 아래로 무한히 정밀해질 수 없고, 일정 간격으로 값을 근사하여 구할 수밖에 없기 때문에 근사하는 과정\n",
    "* 부호화 (encoding): 표본화 -> 양자화를 거친 원본 아날로그 수치를 0과 1로만 이루어진 디지털 표현으로 변환하는 과정"
   ]
  },
  {
   "cell_type": "markdown",
   "metadata": {},
   "source": [
    "### wave data 분석\n",
    "```\n",
    "$ mkdir -p ~/aiffel/speech_recognition/data\n",
    "$ mkdir -p ~/aiffel/speech_recognition/models\n",
    "$ wget http://bigfile.mail.naver.com/bigfileupload/download?fid=8QbZaAIq1NKXFoMjK3YXaxbwF3YZKAUmKxgwaxulFAMqFCYwFog9FquwFxvlHrMrpxg9KAtwFAt9K6K9F4udpx0oKxFvKxCoFq+vpo+0 -O speech_wav_8000.npz\n",
    "$ mv speech_wav_8000.npz ~/aiffel/speech_recognition/data\n",
    "```\n",
    "   \n",
    "#### wave 데이터 형식\n",
    "* 오디오 데이터는 이미지 데이터보다 낮은 차원의 데이터를 다룬다\n",
    "* 1개의 wav 파일은 1차원으로 이루어진 시계열 데이터이다\n",
    "* 실제로는 여러 소리 파형이 합쳐진 복합파이다\n",
    "\n",
    "#### 간단한 단어 인식을 위한 훈련 데이터셋\n",
    "* 짧은 단어의 라벨이 달려 있어, 음성을 텍스트로 구분하는 모델 혹은 간단한 명령어를 구별하는 모델로도 학습이 가능하다\n",
    "\n",
    "#### bits per sample\n",
    "* 샘플 하나마다 소리의 세기를 몇 비트로 저장했는지를 나타낸다\n",
    "* 값이 커질수록 세기를 정확하게 저장할 수 있다 (예: Bits rate가 16 bits 라면, 소리의 세기를 $2^{16}$, 즉 65536단계로 표현할 수 있다\n",
    "* 4 bits / 8 bits unsigned int / 16 bits int / 24 bits / 32 bits float 등의 자료형으로 표현된다\n",
    "\n",
    "#### sampling frequency\n",
    "* 소리로부터 초당 샘플링 횟수를 의미한다\n",
    "* 원래 신호를 다시 복원할 수 있는 나이키스트 샘플링 룰에 따라, 복원해야 할 신호 주파수의 2배 이상으로 샘플링해야 한다\n",
    "* 가청 주파수 20~24kHz를 복원하기 위해 사용하며, 음원에서 많이 쓰이는 값은 44.1kHz이다\n",
    "\n",
    "#### channel\n",
    "* 각 채널별로 샘플링된 데이터가 따로 저장되어 있다\n",
    "* 2채널 (stereo) 음원을 재생하면 왼쪽과 오른쪽 스피커에 다른 값이 출력된다\n",
    "* 1채널 (mono) 음원의 경우 왼쪽 데이터만 있으며, 재생 시에는 왼쪽과 오른쪽 스피커에 같은 값이 출력된다"
   ]
  },
  {
   "cell_type": "code",
   "execution_count": null,
   "metadata": {},
   "outputs": [],
   "source": [
    "data_path = 'speech_recognition/data/speech_wav_8000.npz'\n",
    "speech_data = np.load(data_path)\n",
    "\n",
    "# 데이터셋 살펴보기\n",
    "print(\"Wave data shape : \", speech_data[\"wav_vals\"].shape)\n",
    "print(\"Label data shape : \", speech_data[\"label_vals\"].shape)\n",
    "print(\"✅\")"
   ]
  },
  {
   "cell_type": "markdown",
   "metadata": {},
   "source": [
    "* https://www.kaggle.com/c/tensorflow-speech-recognition-challenge\n",
    "* 데이터셋은 1초 길이의 음성 데이터 50620개로 이뤄져 있다\n",
    "* 1초의 길이를 가지는 각각의 음성 데이터는 8000개의 sample data를 가지고 있다\n",
    "* 주어진 데이터의 원래 sampling rate는 16000이지만, 8000으로 re-sampling해 사용한다"
   ]
  },
  {
   "cell_type": "code",
   "execution_count": null,
   "metadata": {},
   "outputs": [],
   "source": [
    "# 데이터 선택\n",
    "rand = random.randint(0, len(speech_data[\"wav_vals\"]))\n",
    "print(\"rand num : \", rand)\n",
    "\n",
    "sr = 8000 # 1초동안 재생되는 샘플의 갯수\n",
    "data = speech_data[\"wav_vals\"][rand]\n",
    "print(\"Wave data shape : \", data.shape)\n",
    "print(\"label : \", speech_data[\"label_vals\"][rand])\n",
    "\n",
    "ipd.Audio(data, rate=sr)"
   ]
  },
  {
   "cell_type": "markdown",
   "metadata": {},
   "source": [
    "## train/test 데이터셋 구성\n",
    "* 단어의 정답 형태는 현재 텍스트. 학습을 위해 학습 가능한 형태로 만들어줘야 함\n",
    "* 현재 라벨은 ```['yes', 'no', 'up', 'down', 'left', 'right', 'on', 'off', 'stop', 'go']``` (+ unknown, silience)"
   ]
  },
  {
   "cell_type": "code",
   "execution_count": null,
   "metadata": {},
   "outputs": [],
   "source": [
    "target_list = ['yes', 'no', 'up', 'down', 'left', 'right', 'on', 'off', 'stop', 'go']\n",
    "\n",
    "label_value = target_list\n",
    "label_value.append('unknown')\n",
    "label_value.append('silence')\n",
    "\n",
    "new_label_value = dict()\n",
    "for i, l in enumerate(label_value):\n",
    "    new_label_value[l] = i\n",
    "label_value = new_label_value\n",
    "print(\"✅\")"
   ]
  },
  {
   "cell_type": "code",
   "execution_count": null,
   "metadata": {},
   "outputs": [],
   "source": [
    "# text -> index\n",
    "temp = []\n",
    "for v in speech_data[\"label_vals\"]:\n",
    "    temp.append(label_value[v[0]])\n",
    "label_data = np.array(temp)\n",
    "print(\"✅\")"
   ]
  },
  {
   "cell_type": "markdown",
   "metadata": {},
   "source": [
    "### 학습을 위한 데이터 분리"
   ]
  },
  {
   "cell_type": "code",
   "execution_count": null,
   "metadata": {},
   "outputs": [],
   "source": [
    "sr = 8000\n",
    "train_wav, test_wav, train_label, test_label = train_test_split(speech_data[\"wav_vals\"], \n",
    "                                                                label_data, \n",
    "                                                                test_size=0.1,\n",
    "                                                                shuffle=True)\n",
    "print(train_wav)\n",
    "\n",
    "train_wav = train_wav.reshape([-1, sr, 1]) # add channel for CNN\n",
    "test_wav = test_wav.reshape([-1, sr, 1])\n",
    "print(\"✅\")"
   ]
  },
  {
   "cell_type": "code",
   "execution_count": null,
   "metadata": {},
   "outputs": [],
   "source": [
    "# 데이터셋 확인\n",
    "print(\"train data : \", train_wav.shape)\n",
    "print(\"train labels : \", train_label.shape)\n",
    "print(\"test data : \", test_wav.shape)\n",
    "print(\"test labels : \", test_label.shape)\n",
    "print(\"✅\")"
   ]
  },
  {
   "cell_type": "markdown",
   "metadata": {},
   "source": [
    "### hyperparameters setting\n",
    "* 학습을 위한 하이퍼파라미터 설정 (```batch_size```, ```max_epochs```)\n",
    "* 모델 체크포인트 저장을 위한 체크포인트 경로 설정 (모델 체크포인트 Callback 함수를 설정하거나, 모델을 불러올때 사용할 예정)"
   ]
  },
  {
   "cell_type": "code",
   "execution_count": null,
   "metadata": {},
   "outputs": [],
   "source": [
    "batch_size = 128\n",
    "max_epochs = 10\n",
    "\n",
    "# the save point\n",
    "checkpoint_dir = 'speech_recognition/models/wav'\n",
    "checkpoint_dir"
   ]
  },
  {
   "cell_type": "markdown",
   "metadata": {},
   "source": [
    "### data setting"
   ]
  },
  {
   "cell_type": "code",
   "execution_count": null,
   "metadata": {},
   "outputs": [],
   "source": [
    "def one_hot_label(wav, label):\n",
    "    label = tf.one_hot(label, depth=12)\n",
    "    return wav, label\n",
    "print(\"✅\")"
   ]
  },
  {
   "cell_type": "code",
   "execution_count": null,
   "metadata": {},
   "outputs": [],
   "source": [
    "# tf.data.Dataset 함수 구성\n",
    "# OOM?\n",
    "\n",
    "# for train\n",
    "train_dataset = tf.data.Dataset.from_tensor_slices((train_wav, train_label))\n",
    "train_dataset = train_dataset.map(one_hot_label)\n",
    "train_dataset = train_dataset.repeat().batch(batch_size=batch_size)\n",
    "print(train_dataset)\n",
    "\n",
    "# for test\n",
    "test_dataset = tf.data.Dataset.from_tensor_slices((test_wav, test_label))\n",
    "test_dataset = test_dataset.map(one_hot_label)\n",
    "test_dataset = test_dataset.batch(batch_size=batch_size)\n",
    "print(test_dataset)\n",
    "print(\"✅\")"
   ]
  },
  {
   "cell_type": "markdown",
   "metadata": {},
   "source": [
    "## wave classification 모델 구현\n",
    "### Model\n",
    "* 오디오 데이터는 1차원이기 때문에 Conv1D 레이어 이용\n",
    "* Conv, Batch Norm, Dropout, Dense 등을 이용해 모델 구성"
   ]
  },
  {
   "cell_type": "code",
   "execution_count": null,
   "metadata": {},
   "outputs": [],
   "source": [
    "input_tensor = layers.Input(shape=(sr, 1))\n",
    "\n",
    "x = layers.Conv1D(32, 9, padding='same', activation='relu')(input_tensor)\n",
    "x = layers.Conv1D(32, 9, padding='same', activation='relu')(x)\n",
    "x = layers.MaxPool1D()(x)\n",
    "\n",
    "x = layers.Conv1D(64, 9, padding='same', activation='relu')(x)\n",
    "x = layers.Conv1D(64, 9, padding='same', activation='relu')(x)\n",
    "x = layers.MaxPool1D()(x)\n",
    "\n",
    "x = layers.Conv1D(128, 9, padding='same', activation='relu')(x)\n",
    "x = layers.Conv1D(128, 9, padding='same', activation='relu')(x)\n",
    "x = layers.Conv1D(128, 9, padding='same', activation='relu')(x)\n",
    "x = layers.MaxPool1D()(x)\n",
    "\n",
    "x = layers.Conv1D(256, 9, padding='same', activation='relu')(x)\n",
    "x = layers.Conv1D(256, 9, padding='same', activation='relu')(x)\n",
    "x = layers.Conv1D(256, 9, padding='same', activation='relu')(x)\n",
    "x = layers.MaxPool1D()(x)\n",
    "x = layers.Dropout(0.3)(x)\n",
    "\n",
    "x = layers.Flatten()(x)\n",
    "x = layers.Dense(256)(x)\n",
    "x = layers.BatchNormalization()(x)\n",
    "x = layers.Activation('relu')(x)\n",
    "\n",
    "output_tensor = layers.Dense(12)(x)\n",
    "\n",
    "model_wav = tf.keras.Model(input_tensor, output_tensor)\n",
    "\n",
    "model_wav.summary()"
   ]
  },
  {
   "cell_type": "markdown",
   "metadata": {},
   "source": [
    "### Loss\n",
    "* 라벨이 될 수 있는 단어 클래스 12개\n",
    "* 클래스 구분 위해서는 multi-class classification 필요\n",
    "* 이를 수행하기 위해 Loss로 Categorical Cross-Entropy loss를 사용"
   ]
  },
  {
   "cell_type": "code",
   "execution_count": null,
   "metadata": {},
   "outputs": [],
   "source": [
    "optimizer=tf.keras.optimizers.Adam(1e-4)\n",
    "model_wav.compile(loss=tf.keras.losses.CategoricalCrossentropy(from_logits=True),\n",
    "             optimizer=optimizer,\n",
    "             metrics=['accuracy'])\n",
    "print(\"✅\")"
   ]
  },
  {
   "cell_type": "markdown",
   "metadata": {},
   "source": [
    "### Training\n",
    "#### Callback\n",
    "* 모델을 재사용하기 위해, 가중치를 저장하는 callback 함수 추가: model.fit 함수 이용할 때, callback 함수를 이용하면 학습 중간중간 원하는 동작 하도록 설정 가능\n",
    "* ```ModelCheckpointCallback```: 학습을 진행하며 fit 함수 내 다양한 인자를 지정해 모니터하며 동작하게 설정\n",
    "* 아래 모델은 validation loss를 모니터하며, loss가 낮아지면 모델 파라미터를 저장하도록 구성되어 있음"
   ]
  },
  {
   "cell_type": "code",
   "execution_count": null,
   "metadata": {},
   "outputs": [],
   "source": [
    "cp_callback = tf.keras.callbacks.ModelCheckpoint(checkpoint_dir,\n",
    "                                                 save_weights_only=True,\n",
    "                                                 monitor='val_loss',\n",
    "                                                 mode='auto',\n",
    "                                                 save_best_only=True,\n",
    "                                                 verbose=1)\n",
    "print(\"✅\")"
   ]
  },
  {
   "cell_type": "code",
   "execution_count": null,
   "metadata": {},
   "outputs": [],
   "source": [
    "# 30분 내외 소요\n",
    "history_wav = model_wav.fit(train_dataset, epochs=max_epochs,\n",
    "                    steps_per_epoch=len(train_wav) // batch_size,\n",
    "                    validation_data=test_dataset,\n",
    "                    validation_steps=len(test_wav) // batch_size,\n",
    "                    callbacks=[cp_callback]\n",
    "                    )\n",
    "print(\"✅\")"
   ]
  },
  {
   "cell_type": "code",
   "execution_count": null,
   "metadata": {},
   "outputs": [],
   "source": [
    "acc = history_wav.history['accuracy']\n",
    "val_acc = history_wav.history['val_accuracy']\n",
    "\n",
    "loss=history_wav.history['loss']\n",
    "val_loss=history_wav.history['val_loss']\n",
    "\n",
    "epochs_range = range(len(acc))\n",
    "\n",
    "plt.figure(figsize=(8, 8))\n",
    "plt.subplot(1, 2, 1)\n",
    "plt.plot(epochs_range, acc, label='Training Accuracy')\n",
    "plt.plot(epochs_range, val_acc, label='Validation Accuracy')\n",
    "plt.legend(loc='lower right')\n",
    "plt.title('Training and Validation Accuracy')\n",
    "\n",
    "plt.subplot(1, 2, 2)\n",
    "plt.plot(epochs_range, loss, label='Training Loss')\n",
    "plt.plot(epochs_range, val_loss, label='Validation Loss')\n",
    "plt.legend(loc='upper right')\n",
    "plt.title('Training and Validation Loss')\n",
    "plt.show()\n",
    "print(\"✅\")"
   ]
  },
  {
   "cell_type": "code",
   "execution_count": null,
   "metadata": {},
   "outputs": [],
   "source": [
    "model_wav.load_weights(checkpoint_dir)\n",
    "print(\"✅\")"
   ]
  },
  {
   "cell_type": "code",
   "execution_count": null,
   "metadata": {},
   "outputs": [],
   "source": [
    "results = model_wav.evaluate(test_dataset)\n",
    "print(\"✅\")"
   ]
  },
  {
   "cell_type": "code",
   "execution_count": null,
   "metadata": {},
   "outputs": [],
   "source": [
    "# loss\n",
    "print(\"loss value: {:.3f}\".format(results[0]))\n",
    "# accuracy\n",
    "print(\"accuracy value: {:.4f}%\".format(results[1]*100))\n",
    "print(\"✅\")"
   ]
  },
  {
   "cell_type": "code",
   "execution_count": null,
   "metadata": {},
   "outputs": [],
   "source": [
    "inv_label_value = {v: k for k, v in label_value.items()}\n",
    "batch_index = np.random.choice(len(test_wav), size=1, replace=False)\n",
    "\n",
    "batch_xs = test_wav[batch_index]\n",
    "batch_ys = test_label[batch_index]\n",
    "y_pred_ = model_wav(batch_xs, training=False)\n",
    "\n",
    "print(\"label : \", str(inv_label_value[batch_ys[0]]))\n",
    "\n",
    "ipd.Audio(batch_xs.reshape(8000,), rate=8000)"
   ]
  },
  {
   "cell_type": "code",
   "execution_count": null,
   "metadata": {},
   "outputs": [],
   "source": [
    "if np.argmax(y_pred_) == test_label[i]:\n",
    "    print(\"y_pred: \" + str(inv_label_value[np.argmax(y_pred_)]))\n",
    "else:\n",
    "    print(\"y_pred: \" + str(inv_label_value[np.argmax(y_pred_)]))\n",
    "print(\"✅\")"
   ]
  },
  {
   "cell_type": "markdown",
   "metadata": {},
   "source": [
    "## skip-connection model 추가\n",
    "* 이미지 처리에서 안정적으로 높은 성능을 냈던 ResNet 등 skip-connection 을 활용한 모델 추가"
   ]
  },
  {
   "cell_type": "code",
   "execution_count": null,
   "metadata": {},
   "outputs": [],
   "source": [
    "input_tensor = layers.Input(shape=(sr, 1))\n",
    "\n",
    "x = layers.Conv1D(32, 9, padding='same', activation='relu')(input_tensor)\n",
    "x = layers.Conv1D(32, 9, padding='same', activation='relu')(x)\n",
    "skip_1 = layers.MaxPool1D()(x)\n",
    "\n",
    "x = layers.Conv1D(64, 9, padding='same', activation='relu')(skip_1)\n",
    "x = layers.Conv1D(64, 9, padding='same', activation='relu')(x)\n",
    "x = tf.concat([x, skip_1], -1)\n",
    "skip_2 = layers.MaxPool1D()(x)\n",
    "\n",
    "x = layers.Conv1D(128, 9, padding='same', activation='relu')(skip_2)\n",
    "x = layers.Conv1D(128, 9, padding='same', activation='relu')(x)\n",
    "x = layers.Conv1D(128, 9, padding='same', activation='relu')(x)\n",
    "x = tf.concat([x, skip_2], -1)\n",
    "skip_3 = layers.MaxPool1D()(x)\n",
    "\n",
    "x = layers.Conv1D(256, 9, padding='same', activation='relu')(skip_3)\n",
    "x = layers.Conv1D(256, 9, padding='same', activation='relu')(x)\n",
    "x = layers.Conv1D(256, 9, padding='same', activation='relu')(x)\n",
    "x = tf.concat([x, skip_3], -1)\n",
    "x = layers.MaxPool1D()(x)\n",
    "x = layers.Dropout(0.3)(x)\n",
    "\n",
    "x = layers.Flatten()(x)\n",
    "x = layers.Dense(256)(x)\n",
    "x = layers.BatchNormalization()(x)\n",
    "x = layers.Activation('relu')(x)\n",
    "\n",
    "output_tensor = layers.Dense(12)(x)\n",
    "\n",
    "model_wav_skip = tf.keras.Model(input_tensor, output_tensor)\n",
    "\n",
    "model_wav_skip.summary()"
   ]
  },
  {
   "cell_type": "code",
   "execution_count": null,
   "metadata": {},
   "outputs": [],
   "source": [
    "optimizer=tf.keras.optimizers.Adam(1e-4)\n",
    "model_wav_skip.compile(loss=tf.keras.losses.CategoricalCrossentropy(from_logits=True),\n",
    "             optimizer=optimizer,\n",
    "             metrics=['accuracy'])\n",
    "print(\"✅\")"
   ]
  },
  {
   "cell_type": "code",
   "execution_count": null,
   "metadata": {},
   "outputs": [],
   "source": [
    "# the save point\n",
    "checkpoint_dir = 'speech_recognition/models/wav_skip'\n",
    "\n",
    "cp_callback = tf.keras.callbacks.ModelCheckpoint(checkpoint_dir,\n",
    "                                                 save_weights_only=True,\n",
    "                                                 monitor='val_loss',\n",
    "                                                 mode='auto',\n",
    "                                                 save_best_only=True,\n",
    "                                                 verbose=1)\n",
    "print(\"✅\")"
   ]
  },
  {
   "cell_type": "code",
   "execution_count": null,
   "metadata": {},
   "outputs": [],
   "source": [
    "# 30분 내외 소요\n",
    "history_wav_skip = model_wav_skip.fit(train_dataset, epochs=max_epochs,\n",
    "                    steps_per_epoch=len(train_wav) // batch_size,\n",
    "                    validation_data=test_dataset,\n",
    "                    validation_steps=len(test_wav) // batch_size,\n",
    "                    callbacks=[cp_callback]\n",
    "                    )\n",
    "print(\"✅\")"
   ]
  },
  {
   "cell_type": "code",
   "execution_count": null,
   "metadata": {},
   "outputs": [],
   "source": [
    "acc = history_wav_skip.history['accuracy']\n",
    "val_acc = history_wav_skip.history['val_accuracy']\n",
    "\n",
    "loss=history_wav_skip.history['loss']\n",
    "val_loss=history_wav_skip.history['val_loss']\n",
    "\n",
    "epochs_range = range(len(acc))\n",
    "\n",
    "plt.figure(figsize=(8, 8))\n",
    "plt.subplot(1, 2, 1)\n",
    "plt.plot(epochs_range, acc, label='Training Accuracy')\n",
    "plt.plot(epochs_range, val_acc, label='Validation Accuracy')\n",
    "plt.legend(loc='lower right')\n",
    "plt.title('Training and Validation Accuracy')\n",
    "\n",
    "plt.subplot(1, 2, 2)\n",
    "plt.plot(epochs_range, loss, label='Training Loss')\n",
    "plt.plot(epochs_range, val_loss, label='Validation Loss')\n",
    "plt.legend(loc='upper right')\n",
    "plt.title('Training and Validation Loss')\n",
    "plt.show()\n",
    "print(\"✅\")"
   ]
  },
  {
   "cell_type": "code",
   "execution_count": null,
   "metadata": {},
   "outputs": [],
   "source": [
    "# Evaluation \n",
    "\n",
    "model_wav_skip.load_weights(checkpoint_dir)\n",
    "results = model_wav_skip.evaluate(test_dataset)\n",
    "\n",
    "# loss\n",
    "print(\"loss value: {:.3f}\".format(results[0]))\n",
    "# accuracy\n",
    "print(\"accuracy value: {:.4f}%\".format(results[1]*100))\n",
    "print(\"✅\")"
   ]
  },
  {
   "cell_type": "code",
   "execution_count": null,
   "metadata": {},
   "outputs": [],
   "source": [
    "# Test \n",
    "\n",
    "inv_label_value = {v: k for k, v in label_value.items()}\n",
    "batch_index = np.random.choice(len(test_wav), size=1, replace=False)\n",
    "\n",
    "batch_xs = test_wav[batch_index]\n",
    "batch_ys = test_label[batch_index]\n",
    "y_pred_ = model_wav_skip(batch_xs, training=False)\n",
    "\n",
    "print(\"label : \", str(inv_label_value[batch_ys[0]]))\n",
    "\n",
    "ipd.Audio(batch_xs.reshape(8000,), rate=8000)"
   ]
  },
  {
   "cell_type": "code",
   "execution_count": null,
   "metadata": {},
   "outputs": [],
   "source": [
    "if np.argmax(y_pred_) == test_label[i]:\n",
    "    print(\"y_pred: \" + str(inv_label_value[np.argmax(y_pred_)]))\n",
    "else:\n",
    "    print(\"y_pred: \" + str(inv_label_value[np.argmax(y_pred_)]))\n",
    "print(\"✅\")"
   ]
  },
  {
   "cell_type": "markdown",
   "metadata": {},
   "source": [
    "## Spectrogram\n",
    "* 많은 음원의 파형이 합성된 복합파인 waveform 보다 뚜렷하게 주파수 대역별로 나누어 별도로 해석해볼 수 없을까?"
   ]
  },
  {
   "cell_type": "markdown",
   "metadata": {},
   "source": [
    "### Fourier Transform\n",
    "* 푸리에 변환 (Fourier Transform): 임의의 입력 신호를 다양한 주파수를 갖는 주기함수 (복수 지수함수) 들의 합으로 분해하여 표현하는 방법\n",
    "* $A_k = \\frac{1}{T}\\int_{-\\frac{T}{2}}^{\\frac{T}{2}}f(t)exp(-i\\cdot 2\\pi\\frac{k}{T}t)dt$   \n",
    "\n",
    "#### 오일러 공식 (지수함수와 주기함수의 관계)   \n",
    "* $e^{i\\theta} = cos\\theta + isin\\theta$  \n",
    "$exp(i \\cdot 2\\pi\\frac{k}{T}t) = cos(2\\pi\\frac{k}{T}) + jsin(2\\pi\\frac{k}{T})$\n",
    "    - $cos2\\pi kT$, $jsin2\\pi kT$ 는 주기와 주파수를 가지는 주기함수\n",
    "    - 푸리에 변환은 입력 시그널이 어떤 것인지와 상관 없이 sin, cos 같은 주기함수들의 합으로 항상 분해가 가능하다는 뜻\n",
    "    - 푸리에 변환의 결과는 실수부와 허수부를 가지는 복소수 (= spectrum magnitude)\n",
    "    - 복소수가 가지는 phase는 phase spectrum (주파수의 위상)   \n",
    "   \n",
    "#### STFT (Short Time Fourier Transform)\n",
    "* 시간의 길이를 나눠서 푸리에 변환. FFT의 한계 (시간의 흐름에 따라 신호의 주파수가 변했을 때, 어느 시간대에 주파수가 변하는지 모르는 것) 를 극복하기 위한 방법\n",
    "* $X(l,k)=\\sum_{n=0}^{N-1}\\omega (n)x(n+lH)exp^{\\frac{-2\\pi kn}{N}}$\n",
    "    - N: FFT size (window를 얼마나 많은 주파수 밴드로 나누는가)\n",
    "    - Duration: sampling rate를 window로 나눈 값 (T = window / sampling rate). duration은 신호 주기보다 5배 이상 길게 잡아야 한다 (T(window) = 5T(signal)\n",
    "    - $\\omega(n)$: window 함수. 일반적으로는 hann window가 많이 쓰임\n",
    "    - n: window size (window 함수에 들어가는 sample의 양). n이 작을수록 low-frequency resolution, high-time resolution을 가지게 된다. n이 길수록 high-frequency, low-time resolution을 가진다\n",
    "    - H: hop size (window가 겹치는 사이즈). 일반적으로는 1/4 정도를 겹치게 한다\n",
    "* STFT의 결과는 시간의 흐름에 따른 frequency 영역별 amplitude 를 반환"
   ]
  },
  {
   "cell_type": "markdown",
   "metadata": {},
   "source": [
    "### Spectrogram \n",
    "```\n",
    "$ pip install librosa\n",
    "```\n",
    "   \n",
    "* 1차원 waveform 데이터 -> 2차원 spectrogram 데이터로 변환"
   ]
  },
  {
   "cell_type": "code",
   "execution_count": 2,
   "metadata": {},
   "outputs": [
    {
     "name": "stdout",
     "output_type": "stream",
     "text": [
      "✅\n"
     ]
    }
   ],
   "source": [
    "def wav2spec(wav, fft_size=258): # spectrogram shape을 맞추기위해서 size 변형\n",
    "    D = np.abs(librosa.stft(wav, n_fft=fft_size))\n",
    "    return D\n",
    "print(\"✅\")"
   ]
  },
  {
   "cell_type": "code",
   "execution_count": null,
   "metadata": {},
   "outputs": [],
   "source": [
    "# 위에서 뽑았던 sample data\n",
    "spec = wav2spec(data)\n",
    "print(\"Waveform shape : \",data.shape)\n",
    "print(\"Spectrogram shape : \",spec.shape)"
   ]
  },
  {
   "cell_type": "code",
   "execution_count": null,
   "metadata": {},
   "outputs": [],
   "source": [
    "librosa.display.specshow(librosa.amplitude_to_db(spec, ref=np.max), x_axis='time')\n",
    "plt.title('Power spectrogram')\n",
    "plt.colorbar(format='%+2.0f dB')\n",
    "plt.xticks(range(0, 1))\n",
    "plt.tight_layout()\n",
    "plt.show()"
   ]
  },
  {
   "cell_type": "markdown",
   "metadata": {},
   "source": [
    "## 프로젝트: Spectrogram Classification 모델 구현"
   ]
  },
  {
   "cell_type": "markdown",
   "metadata": {},
   "source": [
    "### 데이터 처리와 분류"
   ]
  },
  {
   "cell_type": "code",
   "execution_count": 3,
   "metadata": {},
   "outputs": [
    {
     "name": "stdout",
     "output_type": "stream",
     "text": [
      "Wave data shape :  (50620, 8000)\n",
      "Label data shape :  (50620, 1)\n",
      "✅\n"
     ]
    }
   ],
   "source": [
    "data_path = 'speech_recognition/data/speech_wav_8000.npz'\n",
    "speech_data = np.load(data_path)\n",
    "\n",
    "# 데이터셋 살펴보기\n",
    "print(\"Wave data shape : \", speech_data[\"wav_vals\"].shape)\n",
    "print(\"Label data shape : \", speech_data[\"label_vals\"].shape)\n",
    "print(\"✅\")"
   ]
  },
  {
   "cell_type": "code",
   "execution_count": 4,
   "metadata": {},
   "outputs": [
    {
     "name": "stdout",
     "output_type": "stream",
     "text": [
      "rand num :  36407\n",
      "Wave data shape :  (8000,)\n",
      "label :  ['stop']\n"
     ]
    },
    {
     "data": {
      "text/html": [
       "\n",
       "                <audio  controls=\"controls\" >\n",
       "                    <source src=\"data:audio/wav;base64,UklGRqQ+AABXQVZFZm10IBAAAAABAAEAQB8AAIA+AAACABAAZGF0YYA+AAC7ABkBEQAC/10AcwBiAKv/hv9//1b/hACq/yz/bQDmAOL/wv+bAZQAiwD4/wAA//4N//4Aof/w/r//sgAD/zwAiQGtAW0AaABH/w7/AAB4AC0BP/9V/2n/9P8k/1YBYQCO/y3/3P9eAGn/dgHQ/vX+Lf/yAHMAdv8WAPv/sABiAG8Al/7p/38BfQAX/1r/u//K/wcAcv+n/8v/NAB1AHMAfQATAF//cv+hABEAIQC+/+H/GAAIAJsARf8TABwABQBtAE0AJgCT/zwAqACp/7z/UwDo/2r/UQAaAG7+F/+DAD4BkQBE/5n/KwGFAFEAawCy/63/GwD8/2X/of/z/9QADgDm/4X/fP+nAKkAlf8y/1AAVwAdABgAPQBs/83+Hf9CAZYASP7p/g4ApgGlAScBN/+H//z/3v/6AM8A2f8e/kf/CQBpABAAKQCEAGwAAQAg//3/JABq/2b/sAC6AA4Ay/+D/9/+yv+TAB7/kP+eALoArgB0AAEB/QCB/3v/GACN/xoAEQAx/0H/jP9wAJ0AUgAiAMf/QgC7/zMAxwBWABf/2f5zADUAkgCjACQAv/4v/8H/Kv8eAAAA6f/b/wwBFgGa/yv/dQD8/zn/QwAYALT/0/8AALn/eP/C/2MBegDR/wUApgCjAM7/NwBE/2b/2/+k/yj/CgAHAZUAm//m/xYAxv80ACgBuQDn/uP/pwD8/zr/1/9XAXEARf86AJ8AHADj/kf/BgCKAEYB5v/B/icAtAHAALD/If99/0j/sP/Q/vv+jQBJACEAXAA+AN4AnwFPACAAWv9N/y3/xP/x/sD/ZQD+/0gBWQAPAN/+aQAiALX/vwCJAGkAbv9GAAYAmP+k/8f+3/4n/0kAt/+N/yEAxf9UAUgBHAGGAd0A5v68/XH+l/+5AL//if5Q/8YBFQKAAIAAVgBIAKoAQgCr/qr+pQCR/8D+oACO/+n+QwDkAY4BkP+jAOcAo/9T/0wAhgBEAFoAm/+h/0T/Ef+R/vX/CgEMAKL/Vv9AAOwAXQFqAAQAVP+x/sD/EAAe/+z+dABzAJwA0ACSALj/NwBRARwA+v4f/6P/zP6c/zAAYADh/4EAOgH2/xEAyADeAAgAKwBB/4n+mv4CABUAhQCnABEBMgHv/9n/v//5AFn/VP+3/j7+qv4UADgCIgGdALn/iQARAZQATP9P/sT/f/+S/wAAbP+KABUBTQB4/18AxwBg//v+1f8yAY0AGABV/1b/JgD1/+3/Jv+X/yUAAv8C/9YAMAHNAKf/zwByAHv/ef/C/p3/jP9xADz/qf+1AFsAmgBuAGEAqQDGAOj/nf9TAJUABwCX/uz+5f8u/5QAhgAgAEEAEgEgAd0AFQGrACr/QP0a/zQAOAAkAFr/7/7k/jwA9wFTASUAN/9d/2sB6wCT//D+kP64/8UAbQD6/6sA//8e/53/RwD7ALIA+/+G/+L/HwHcAAH/zP2OAB4BD//F/x8Afv+i/zMAVv9p/7UA3ADm/kAA5AFjAMD/YP+E/yr/xf91AMv+zP/HAEkAggA2AB0AmABTAAL//v4d/3wBQADB/pr/1QCNAa3/HgBn/ln/JwBI/1D/Xv8GATYBegAxAJIAbgDtAF8APP9M/6L/nQAnAer+0/6hACUA5P/TACkBLP9A/4wAmf+OABcBgf/a/rf/agCe/xcACgDr/u3+ywCAAMb/agG2AQUA0P8GAZj/bf8o/wn/l/1r/vMBIgGz/9H/bgFIAc8Aqv8W/3j/mQCoAMn+TP7e/lMArf/7/10BVgELAJL/oQCEAOP//f5x/43/aP9xAc0Azv/G/zz/XP/bAP0Acf8TAIwATAAWAOn/nf4f/3n/EABnAMb/zv+q/z7/CP9YAQQBywBpAAAAZgA/AH8AR//f/qb/4gAwAM3/igDyAKIBRABm/y8AbwAS/yf+3f+fAOX/+v6f/nsARwEWAo4Btf99/3n+g/5b/1f/Tv/b/1oAWQGZASwAhP8qAewAb/8g/zv/Nf5G/nMAVgDxAPL/pAAWAKv/9gApABEAMv7h/8D/LP/v/4//RwCLAFgBpAAX/wAA4wAoAEb/IP9EAJj/+v8uAPT/AgECArEBVP9J/1j/if6i/ov/DAFIAGoAHwEBAVQA5f+QAdD/v/8R/+79Uf60/jABBQAFANABlAF2AHwAsABrABj/hf70/X/+FQDa/yQAx//GAKMBEQFPAPcAUwCr/iL/YAA//4z+XgDz/of+7v+PAfkAef+WAC4AOQCXAa4A9f7X/hUASQDK/1oA+//z/1r/U/9yAIcAOQA/AG7/rv6AAFMBBAH8/y//9v/+/4AAXQBj/7f+Nv9eAH4ADgApAAIB8QAXAOb/ywCyABf/3/1r/8D/cACPAHz+Cv8jAcIB0P+p/zsAigDM//L/MQCR/zkAkf5x/sIAdAF0AOn+OwCZAEYAUAHNADYAuP5//7T/9P4f/w0AmQGtAMQAaQEIAV4ALf+c/rz+AAD4/zb/jf/E/9EA5v/KADkB0AAz/yH+mv8RAFwAv/7J/5f/FQBHASYBQwCM/8EAKP+H/rv/NQAh/w7/ngBdACIA4wBqAPT/zwChAan/nv/CAMD+uv54/4L/tQAyAP7+BADPAKsAmwCLAZ7/Kf/W/0T/f/9C/6UAW//z/8kBoAG//4n/NgDT/yIBqf9z/oT+NwDPAH8A4ADo/33/if9r/7L/xP9V//3/pQA6AE0AAADF/0QAqP+s/wQABQCU/wgA9f/y/2kAwP9hADoB5QB4AGL/5f6i/0AAagBj/zEAFAF2AO//AQB7AOYA2f8b/0r/3f4JAOX/1v+oAAAAVv8u//X/pQEnAUr/HP+p/3EATwAMAPr/s/8KAR4BLgCi/y3/bf9S/1//mf+uAEkAX/9eAJ0Anf+T/wsAgf+O/0AAUQCI/9//jQBN/4L/VAEpAPT+Dv8vAL4AKQBcANv/jP8qAJkBIAGo/xIA0P8U/5v/Zv/QAGkAVwACADD/UQCWAHsAVP+1ACUAzf9V/44AkQBr//H/Cf8hALYAzwBbABYBPAAu/woAogDu/7j/P//t/hv/cf8JANP/DwFrAFn/ov/7ANgAFQAcAGP/Gf9X/4n/HQABAeb/8f4sADIA2P+RAPX+DP+AACoB+f9G/4wAJQHvAAz/OP+O/woBcQAdAND/6v5cAOkAKQFa/8L/ZAB4AFT/Z/+2/zj/7v9L/3j+9/6UAf4AKv+rAMUBngDl/zgAAgFHAEv/XP/J/iL/9f9w/xr/iQDGAfwARAA4AAIAjQAMAOH++v4/ABIBmf92/v3/+P9ZAIUAqf/eAK4AuQBU/0YARwG3/zD/lP4p/4j/egBH/+L+AADWAJQBXgAyACEAZP95ACUBZgGq/y7+qv6G/zIBFABa/wT+sP/YAf8AmQBjAMYAeQBnAIf/Lv5j/woAQv5M/vn/vgDY/58AJwF0ANwA0QGSAQIAYf91/lP+zv/3/93/Qv8w/xsBSwH7/wYAbwHpAOn/HgCC/3f++/8jAQP/9P6TAHkAZAAYAcr/Df/C/7P/af/l/4YAPQBUAGr/2P/lAMsAlP+w/4AAaf/f/nr/OwBj/3UAiwCi/+P/5gBiAFn/EQA4ACYAfv+0AIgAd/+K/4v/H/9F/+f/GwA7ADgBlAFa/yb/VwGQAHf+E/+bAAcBeP/E/7n/Jv81ADwAyP+L/zgAqAAXAKMAngBK/xwA6wBTAW7/e/9AAHv/+f5n//v/7f6VAOkAoAAZAJ8ApwBFALf/lf9i//z+/P5B/8H/sP/1ABz/cgDbANsAoQAaAC4B5/+l/5P+fv+6/7v/4wDTAHv/wf4CAKMABgC7/xf/of8aANkAyADq/9r/sv9zALj/qQDU/zT/LwAWAcT/Nf9DAe0AIgCj/+cAtv9M/wcATQD8/v3+NgH2/43/BwDe/64A+QDu//n/i//W/9z/Fv+B//AA5wD8/9D/1//3/+IAPAFj/yj/7P5o/5X/V/8dAGgBrADu/3wADACNAN8ANwBN/ov/XACR/0MAHwAv/7r/EAGfAPL/t/9eAE3/1v5OADwAvv9ZANX/9P9IAGT/BABCAG//u/5P/3X/MQBBALn/5v4UADgBlwBFAXQA9v+j/jEAHQEWAAz/Av52//n/2gDNACcA/f+//77/pQBsAEcAhgBz/9z/IQBp/1n/XwAwAF//XwDiABkB4gAIAPf/OwCLAC8Azf8k/x//FQAyAccAu/9w/1v/jgCAAPz/7f/z/gv/lv+0/+kAtgAxAE8Ay//S/0QADADb/vn+sf9iAD0A5AALASb/av94ADYASv/h/k//Sv8oAZ0BCwH5AF8ARQBd/0YAj/9v/p/+Y/+O/47/VAB9AKgARQEmAuYAFACR/5n/ov+b/yD/3/6r/wr/uf+iAJMBCgHYACEAfwDt/7H/ogCo/iMAE/9y/58AawDR//L/QAH9/7n/6v+o/2f//v8hAFAAwwCCAFkAWQAD/7L+iv4qAC8A+/7c/6z/RQA1AFQBGQG0/73/+v9/AP7/CP97/wEAsv+M/wAAVAAXALEAFADj/4cAq/9U/kr/zwCg/6r/8v+eAAEAKgBHAXb/JP92AK4Ahv9RAC0BTAA2/9j/Yv+k/vf/4ABL//n+gQDN/0oAcAEjAdn/tf+E/9L/8v9+AIIAyP7X/q0AUwIZAU//1/81ADb/RP/S/y0APAC9ACUAmf/eAHcBKQBx/o7+wv99AK8Arv9c/q//KwI2AY7/cgAoAMz/kv+HAAYAi/7//s3+ZwBOAYIAbf/5/ocAkAEjAKH/V//p/9QAZP8C///+BwDjANQAhgAvAJUAhwA2AFn/vf7C/2QAvP8ZADAARACeAP7/Rv/0/pAALACo/kEAuQGgACH/vf+c/7//RwF/AJn/ff9s/37/X//ZAWsBdgBBAIX+qf9FAYYAxf4M/+j+Hv9zAHcAHgBDAAkAlv8DAAwB5P9i/z0AQACd/14A+QBf/zL/+P65/1UAPwAs/2D+QQFXATb/iQC5ANb/7v8s/8L+mP+TAPP+y/8CAgcBaQAjAK///v8IATUAaP50/iIA2QBQAG//XQB+AaT/Hf8jAHcBvgBh/zb/d/9mANQA5QBF/0L/jP8cAOgAIAE6/0L+af9H/8cANgGvAF3/P/9MAJoBMwFw/4X+aQCJAGn/BgATAEYAKgApAQ3/yf9KAQ0AKv+K//kAiv66/qsAtQAJABUAev8h/wwB8ABUAET+Of/5AEIAhP9X/2YA8//m/7IALwG3/wMAkwBm/3L/9QCI/7T+HwDK/uf+mABrAaL/6wDVAC4ABQG5/2r/0/5+/xYAtv/u/vn/ogBXAK3/sv9YAGb/KADEAJX/cv+DAHIArv/6/ykAkv8fAEYAaP+g/wQApf8KAPYAigBi/+//MQDtAE4Blv6n/rr/3f+0/5X/pv+Z/zwAPgBMAS4BJADP/+r/hwCl//T+1P+6ABcAsP8kAEsAswCcATABIwBjAHr/7f6+/n//NADg/8r/4v6I/7QAlAHhANn/5v+iAMT/o/63/+r/z/+I/wgA2wC4AJkAVwBHAHIAQ/8H/3b/DAF8AHr+i/9wAPn/gv/SAPT/6f///xIA+QCo/wr/6P7R/7IAjgHuAOn+Xf/dAN8Am/9j/0n/Wv8G/83/nABcAPv/Qf8s/9b/+gD5ABgBnP+uAKIAjP9C/+r/1gAMAIn/YP7n//T/hgCU/8f+9//IANAA9//h/18AXwErAIf/nf/t/yIA7P87/8D+3f/rAMj/sf93AZwBXwGR/83+RgBhADb/8f16/1YAtv/i/8IAugD0/04AtgAcAegA0f8V/9r/vv89/5f/fwA6ANj/ggAtADIAyADO/8L+dP8vANL/QABIAFf///7k/10Aef/g/+8ALwHO/03/nf/m/yUA8QCP/9v+SQBFAOb/VACLAQ3/ff6cAKcAcf9y/rX/QQD9AOcAGQBDAAYBGgBa/8YAev/dAPf/c/4G/wQBRgEU/l3/UgBGAeIAswDs/9X/2v+9/xEANf9qACsAzf4d/3cAl/8W/9n/5AA+ALv/mAD8AF0B+/9k/wT/vf/zAGX/bv41/lwAtwFnAJcANAB8/0z/8ABpAPn/aAAm/1X/4v+eAPX/hv+v/yv/If9fAPEBIgHy//0AfgB9AJX/j/4gAAn+1v6eAGcArwCCADv/vv7vAXQCoACp/5L/3f6//l7/Wf/c/l7/IgBTAHcBuQEIARwAW/8QAJ4BHwB9/k7+zf4J/2v/JwGAAGQADwD1AN4BLgE3AZ7+fP4JADEAZP8y/4AAXP9j/3cBzgBy/28AuABs/zYAWwAA//H+l/9JACD/U/+zAJAANAC5/7L/dP8qAU4B9P9KACsABABc/6X/p//u/zv/Iv+CAMMAdQGGABQAKv/T/3sASP9D/4f+bP9iANH/Rv/lAMMAawGOAXf//v/P/zAAGv9YAID/tf4tABAASwBh/7UA/ACcADr/JQAGAFz/YP+//0UAEv8/ALQAJgBG/wkA5f8lAP3/fAB6AAL/7P/fAFkByAC9ALz+4/0F/wUAfgCM/wv/7v7BANoBBgFSAOAAiwDbAGoAkv6y/9z/Xv8G/23/CgCn/9P/vgGAAVP/+wAiART/FP///7r/DP8g//P/lABcAF4AGACZ/2r/pwAkAff/IwC8AEsAXf4f/ygAQv/b/8P/+f/F/g8A8gEmAFn/uP97AGkA+ADeAID/zP69/80An/9L/+T/EAB+AAkA0f8dANz/MgAvAMMAQQHD/3n/vf9JAKD/XP8e/wj/eABzANMBbQEsAMv/8P/o/xIAk/9g/qf+2f4cAN7/d/6c/5gB+QAiAQ8CFQFZ/zT/4/4p/7oAv/4z/9//h/9KALEAsQBcAG0Bz/8ZAMQAsv8E/8z+jv9I/xIA1ACl/8z/GgGJAAYAjwCG/0T/GAHf//L+ZQDSAeYAxf7B/pL/HwAEAMb/5/7R/8QB5QBe/6X/egA6ATYA2f6H/58AcwAb/9P/+f/g/1EAqf/w/wEAXwA0/57/2QAzABgAyf5iAHwArP94AO7/gP9v/3P/c/8CANr/qv89AO8A9AChAKX/nf8SACAB4ABd/4D+d//A/7f/0wBkAFgALQAyAB8BwgAuAMv/6f76/6T/sv/k/uP/xwA//8YAfgFgAOb+CgDnAHL/5f/uABsA9/5N/3sAUwB6AJb/Hf9K/6sADQEh/77//f9XAKT/IgDhANH/aP+O/+IAPABx/6//8/5f/zQA/QATALT//gCSAH0BaAAo/7P+mf4AAG7/p/+O/6b/4v9vAIIBFQI9ARoAj//n/7//If/H/9P+Bf8P/24BJwLIAKH/hv8QALP/s/9C/5sA8P9N/9T+RAAGAX7/fv+KAHcAigC2/0T/ewANAaP/5v1SALkAigCGAGsAbv8o/xYA9v4m/yIAYP/+/u0A+gH3AAAAPP+A/5MAtAD0/57/qv/0/b/+CgDX/xgAOAAlAdsB/gAxANYA1gBDAOf+h//I/4X/OP8q/y4AtgDpAEb/HgDYADoB1QBvAPX/bf/L/rD+DACO/8f/sP9pAP7/dwDyANf/GQBlAFEAIQBZAGD/G/9d/9n/uf+l/xoA2/8HAW0Ax/5N/w8BigGP/2D+Df81AD8A9/+l/7f/iADBAM3/xf4oAJABEQEvABYAn/+F/yL/twCXAOz+1P/r/6EAQQBIADH/AwBNAg0Bpf5m//gAJgDe/1X/hf+9/y0AAf8J/9YAcgEBAbv/TP8i/8X/n/+g/3gA0gBj/5v/dgBoANMAKf+w/5X/XgC5ARP/Ff8C/3P/wwBJAQgANf5G//z/AQEMAEIAUABTANgBZACX//n+Mv+h/xr/bQAx/wv/pAGYAYYAhP/h/3EAigAZAMH/9v6T/vT/sgCn/93/ogCDAMX/CQCcAH4AXAAN/9MAHgCB/ib/XgCZAOn+tv+O/8D/MwHJAVIBvAA2ADj/Wv7O/sYAkgBE/wz/IgAZAKv/pABHAUcBmgD//7/+Dv91AAkBJP9m/h0ASABo/+7/1wD//1QAw//F/2IAxgAQAXMAFQCF/wj/zv5h/3v/mv/t/yAAswBIAGwB+f8q/zYABQB5AOP+NgBcAB4Ah/+4/xX/Lf9ZAWcARwASAN0AjABfAAAAJAARAGf/Ff8e/4P/MQBk/x3+EwCVAk0Dk/85/7IArQBM/1b/RP+5/VkAuwBp/yT/lwCzAJz/wQDgAE4AFgBu/wb/4v/xAK7/AACG/1f/OACC/2L/OgB/AcsAkQBuACMAXP73/6YBDwCt/pr+jgCwAFkAY/8K/77/BgFKAFn/AAD5AE4BUgC0/x7/t/9m/4H/rP6E/zEBnwD7/wQABgHCAMYAv//Y/8v/Bv5x/vf+Zv9dAAoAyAAQACcBTQJmAY0AJP+r/8b/mP9O/kD+Uf83AMYARwAxAFUBNAEoAbwAIwB1/2P+C//R/kv/sv9cAcIAaP81AJUAHgCh/1gBuQC0/8P/7P/j/2//3f/X/jL/pwGAAS3/hP52AJEA7v9dAHsAZP/g/5EB5wBl/+L+///u/0P/0/+QAOT/gf95AJoAXf9KAGIBKACQ/0n/Xv7K/gEBvgCY/83/lADXANz/UwDr/wT/sv84AJb/1P7J/7//0P9KAAkAMgGXAYwAOQDq/hH/3gBQAHb+vv4z/xT/rgAPAb0ARAHUAF0AOwAqAJAAfQBuABT/Ov7Z/kz/3P7L/6EBUgF4AIcA3gASANQAVAD2/k//4P9jAG7/C/61/g0BzADz/8D/3v+XALkBEgFD/73/uv8nAE//Mf/SAOX/C/8v/2r/NADoAIwA7P/Q/xYB7wFp/9r+KgA3/zv+Uv/CADIAxf8HAKf/x//sACQAi/93/1cBtAEI/4T/RQAVABn/EACL/23+Nv/i/xIB+f9EAPYARQHuANEAVgCb/uQAmwAr/rf9nP+tAYwAw/8BAAkB7wCWATcBCv+y/tr/k/9Y/+T/3f/F/wH/xgBGAPX/r//o/ysAUgD7AMf/tP+4/moAw//n/6wAWf8AALT/wQAmAA//OAD6AMv/Uv9+AAYAHQCF/5n/o/8xAMcAiv8LAP//jADC/77+j/6R/1UB1AC0//P+q//dAEEBwv8l/ygAdgBZAEwAGQGSAEz/8/60/7T/6v9dAI7/dAA+AakBcADj/wkA9//M/9r/6v/Z/qX/awD2/3H+LwDWARwBm/8HAOsAtP+Z/zT//v7i/s8A2/+7/gP/ZwATAYT/JQEfAPz+J//l/90A2wBr/1//sQBcAPn/+P/QAP3/NP+a/g7/yv9dAGoAZQAXAcYApQEyAcD/Y/5o/5z/sP6e/4v/PP9o/7gBEAJSAeMAHACAAFIAH//d/s7/6v53/8UAHgBt/z4A/gBzAVUAHP8P/1//JwESAO3+jf9iAA0AQgDr/7j/5P+c/+3/gP9vAGAA7v+H/+4ARwHu/xz/h//yAAsAWP5z/mj/sP+lAI//C/9P/7gBUAHE/00B8//P/2D//P+e///+S/+pAHIBsf/2/1AA5v+CADoAjf+Y/4EAcgHK/zf/zP4nAfv/Tf4q/73/1gAGAYcBxwDpAHIAcAFOAJr/C//d/rn++f5B/0X/bAB2AL8AEAC8AR4CaABz/jn/LAAw/2b/xv6D/t//EAGuAB0AIQBfAdIB5v92/yP/UwCS/7j+Mv/W/wUBUv8LAH3/AABeAJ4A1QAq/0//7P8JAED/v/+aAIoATgBDAHr/5P5MANUArf8dANf/OwBFABwA4gCGAHwAf//9/qn/NwCXAAgAKwCX//7+kACeAFMBUwB0/3oApP///gj/WgBEAO7/5P9JABkACAFuAQb+zf6KACIBhADi/8H/7f5RABwAr/9F/7L/HwD2/1MAvf40AH0BfgDo/2b/YP/e/+//T//+/tv/VgDc/wEBmAHFACb/PACaAK3/vP4l/p7+MgAOAisAdP/VAOQBvACu/9//lv+7/7j/Ff9c/30ANwDl/ngAtwE6AZAAcQD//xT/nv9ZAND/BP+1/y7/UgDoAHQA9f9VAI4Bpf+J/2v/h//p/+f+CgA+AD4ABACb/1IBsQAA/8T/uf+I/+7/m/+f/63/AwCrAOP+KQB4AdX/eP9M//v/OAD8/0//Kf89ADMBywF9AaH/c/5j/jUBhgCP/6r/WgB9Ad3/Xf98/wsCjABI/779jP9gAAsA1gCZ/2oAgwAmAej+gwCcAJoAq//4//P/bP9mAfH+oP75/78CBADV/TP/RAAqAVcAmgCp/wEBSgAH/7b+5v69AJP/SADi/lH/z/8+AaUAmgDWABn/twCT/uP/BQAQAdT+lP5x/1v/SQB3AHABCAEcAXj+JQB+AC8AX/5yAJH/Jv+a/7f/8ADt/3oBn/5ZALv/2QADAMQApgAmAHAAEv9fAAoAPACf/zMAQf/IABwAMgBP/5f/Yv6AAGgBvQAEAI7+aQDE/9cAhABaAFz9xf64/jUBNgGSAHQAT//zAAQAcAD7AMwALP47/g3/vwCCAOX/hP4LAGYBxABWAFcAwP+t/pQAJgDu/zcAagBCAE/+eQCsATYA+v/u/gwAkgAGAJj/ZP+MAKMBf/7j/gz/7wHeAZn/jgCj/+X+2P99ALn9x/87AMYB5f98AOH/9f+TAIQA5ACp/kcARP9hARUAuP7a/tf+pv99/7f/lQDb/6cA/wC1ALcAEQAfAGL+oABD/2r/a//7/t3/+/+kAD0BHwIzABYALv/u/07/m/8AAPX/tv9u/x8Bsv9NAFgAeQB4ADEA9f9N/wAALwHI/9//JACn/pAAQ///AL7/7P9p/yP/lQBT/4QA/v5LAr8B2P8A/8v+bQCq/73/kAAF/ykA/P55APUBHv+cANf/kAK2Ahv/A/5NAKIBiP6B/ZAABwMV/6j+7f51/hv+2f3UAOv/if+t+6n5swBdBMsAGP6c/SIDiwSYAwIEqwOKAnQA8f+PAhkHPgAH/ib+1f5P+wP2oPknACMAIP94AKz7KfywAXIIBwQd/CQAqQhxBL/8CP99AzT/IP8vBbX+8/6DAOUBNf3D9IQAQwSX/xP/Fv7N/wsA4wCNBEIGPgIc//T5VPib/HD9SwICBG0Au/9M/f/6Tv2sAs4F7P94/boBA/1U/mMAhf9wBFAFGAMtAuwAaAPFBXr6Nv2VAA7/bfwN+ZT+ZgD/AC0DoQGB/bT+WPrN/i4B7QPhAnf8JAFeBLkDjgAe/7cAPgGMAtAEWf6c/AL+cgC4/9D+PgA0/07+EvwdAOoBnvyP/IsAuwSnA0//r/51/bz+SP9q/xUANAA2/qL+0P33AvYDNwEtAowAtgLr/+P/y/w5/M/9IQNOBfAASP9n/usBQATo/8z+sAAC/MoADv9FANL+Q/w8AHf+lQAr/WgA2f9t/f3/SQD4AK0Ag/+3AXMAgAM9Bo4AjgBk/o7/uv2g/7EB1wE7ALP8xP8Z/8L/uv3j/4gCCwPBAh7+bvsO/pkBwv0b/QT+Rf+h/oUAJgHr/0cA9QDDBUIC5P+y/jgASAGH/wsAvQAXACf+6f8HAQkBJgCbAXsBfQDL/WT9jf4n/w8AAf5K/rcAhQCC/+j/dQCWAUwBYP85/+3+nv96AbgAigAx/8oACQHSAHn/cQB/AKEAiP/8/wACJQAAANP98AFN/sb/Tv8W/xUARf4zATgAdQDz/7b/NAClAM3+v//n/SoAW//4/hEApgDVAPb/JAH/AN8BGAEHAZ/+HABdAR8AYv4H/2EAX/8/ADQAev9h/RoBMAMy/xH/df7J/gD9+/4ZAcsAhwA+AZ//KP5a/z0AaAFhAIoCUP+E/2P/sABKACX/2QG5ASQBSf/T/rr+NgCbAWIB6/7p/mz/mwD6/0ABoAGW/3D/qgCOALz9Nv0I/h3/hP+0APEBtAA0/zcBkQKvAGP+LADn/x0A+/+q/+f///9RAQABIwEwALn/6P9aAnABef/6/NH8wf0iAJoB+ACOAar/wv8sAPQBwv8Q/tn+R//5/wQAwP8z/hH/WQAgAGkA0gFpAL/+5v5h/5YAeP83ACsB4//h/+8AvAGrAAUBjgG4AMv+EAD7/yn8zf13AWoBx/4A/5j/6P+AASQBHf+s/Z7/mgDhAGkAdP4W/xYBewJ1AoEB6f2Z/sEAnwBRAK//pABy/zv/Hv72/az/xwAGAar/kP/8//v/AAAOADcARwEJAGn/UwAgAL3+Xv9lAaH/DQCLAesAJgGJAQAAGv95APX+7/39/0EB6f8A/gz+HACcAcYAuP93AKoASP9p/4v/pP/C/0AAyv4W/+IABgE5/xf+/QCQATgBlgDf/vj+FQEAAjoBIwCi/6P/LgFFABT/zP64/9wAkgC8Acr/KP7F/tn/oP9iAC4Azf44/4f/OgCYAFj//f9zASIBZgGy/xj+s/+wAngCVf/7/ZX/QQGC/xv/LwBf/ykANAAIAT4A2P+QAGf/jgB+/yMAl//I/ib/5/5o/4T+BQBVAM7/u/9MAKUB9gDw/4X/g/8OALb/Bv8v/rL+IQE0AfAAh//LAPsBQABEAFIAggD2/qoAWQB//oT+aP/tAHYA6/8L/pL/7AAlAX8BDgAs/xf/9v/I//X/MABZ/7H+uAAwAQcAdQEYAcX/1//eAF8B4AC3/pH+3/8gALkAWgCt/23+DwB8Ac7/2/71/jkA9P7v/hUA4P+rAE0BsAFZAFH/ef/l/27/KABJAfL/YP42AN0BMQCC/hD/MQBG//T/3v+iAPUAcP+8/x0AJwEdAZcAEP8W/on/cv+L/zAAIAGBAAAAeAFbAZQAUgCM/yH+7v5Z/+L/Zv++/pP/EgDHAGMB/wEgAUQA6f/1/9H+w//kAAX/xP35/gEAtAFUAeX+qv8AAf0A+/2X/6L/5wBCAvwBIvvk/kz///9GAUH61xC0+Tz7j/3zA7cRD/KE/Sz7MwdpAX75e/19A/gErve4/PQC6g4hAm/2RvojBEIGf/lb9SkB/wJD/Aj52AkxCAUElfxy9/UMLQHk/i39oPqWB0j4zPcZBvQFXv949Z4BNgVtB/L6D/3RBfb8A/4T+rQAgQPGAt75V/50Ax0FxwKeAMsDZAO3+bn4KQEyAOYEO/w8+h3/+AM9BgkB7P6JADIACQE2/4H+J//R/ur8O/1oAND/lAGsAa0BRwEx//D+UgCy/6kCcwGX/gL8sPxiAMsCz/6t/vIBuQHs/+z9ywD0AfQB3f2i/zT/yv/C/6MANQMSAM3+w/4tAYMA1ADm/r7+fAG7/iv+yv1P/5oCO/52/SQB1wb2BfsA+v5rACQFsADA+Zj5yf4n/0n60/fp+4IBWwCJ/YT+/QLGBskB0P6B/TMEWQRCAg/9TgqSHNkMmQb6+p4EkgtL75Td1+UW9Ir9vPSa8EkKlBnPFOADOf1tBL8JJvV056ztPvSD/Lv2yfWYBZkU3xj0FagPnijTNQYTofB04vXzufUQ0be/5N0yCbgVRwmfAwoi9yvxD1P1/+jA/Df7P+dF2qDsIAIYCMADgv7mEPcYFRBBA7gDJAdrA6HlCuWL7JgvzUViAIzxbPbfKacNmcqnwcfnRRyPGB/o5+suKK0uxBVa46bYYgbFFtXxBcxa22P/Pwyv8yXovADQJOUfzAdcB/sPzgOO3arYFuZdTGVYOfxw6OcBjTYvDQvGw63O6GkoUhop49npdifnMVYOvOfO24T2nRse85rKTs5E7H8HXgqc/rsGrSZnK1YZXv6d8jnoLtXo3tPvwEMZe2wlmO4A84gYKgFXvvymnsZ7H6Y7qAe19zMWpSH8CszrQuCR4LIIFAcP8SXj4NqP+MQSARQC/AYBpA8uHIEYDP/A6rTf8eVu+MMTYGKnXCgBFtyW4DkKfO/CwfC+fvH1QT5Dfw5w7UT1TfWb9MvsMOWuCckaewW58zjdOcxH3+QQCxhMCCgPXg7MGlEnXwN+2cPPLuCb/QMw/3+PVi/z/MZn1pAIWe35w+zCxv9ZSslI4ApI3g/cbujGBdcC7fYhDTISwvZp37XKQMXx8uAqGCvEES4IwQLQFcQcpvoT0ZrOj+osEyEl+UYQdVwxONFrpvXfVQ1G69/dEdf3CrZTwEew9km/y8OX6bQa/BYwBxEJEPtn64PU18zX4vUV2SyrEAsBbgLcEDoc6hNX+wPVw9P48ioTKh+2WLR3ORKstdetAPUyEr/0m9Rdz0QdwmFxO3Lf9qyEvDvyTiV1Ic8NwBAm81/bktWn3/H3xQtiF0wKYgNWCnEUdRAqDIX/j9Xv1mf5LBqEI/BUDHLlDI+yb6Wj6oMVagXI6KLYjxJgUWs9YOdNqpaq+eMEL1pCVx9+/vTgCtQw4Izn0vHDAJwW3xVPBO8J9Q50EOQRygQ11VLWuABNGfojniikVPA3EOenqTXDFg5kEVr8MOKr7vgot0N9CXe+dqtn0NATZEWbPAgPCdofw6nYcPOb/5r8DgEGCigS8BhMEO0EmQxVCYjtpN1/8jUFHBrsGjIrG1SGJkLP0afT5pAT9gQ0+ZHi6PIILCk1GfMJwYXBit6tH4BSaTZ07ZPBd8kY6q0H4QTh90AAexHVGfARdgSYBt4Lif6l6ZfobPuXBogY7BUeO/lZTxLRuBur8/ZvES8AU+1s3xYGlD5BK9fdT74RwxbsXS7zUiMmGd+6xmLPnfUJCNgDOPf5+X8PfBkNGMsJggKWAQwAlvFZ7gLvXgHcFqAloFdHQqzuTK4lxU4E6gZi+H/qGup8FRs7bRWG3cC/A8WN+5JLbU/UBOHOicXl4qb5CAVt/ez6Gg0tFEoMcwcrCoANkQ5M92LgWusd+lMGfBKBIaVWCEc+9Dywxr3X+E4DfwfV9a3wwhOGMW4YNuRLwETAz/cFR4dRYAxb0jm/xNWb9+4Q7AZQ9SYE8w++DB8JdAvBCs4Hw/1l6jzppu11/pkPiTRGa9lBF+TWpOHFjQKdC5oHj+5k6O0V9jlTFkvaNLjQxK4Hz0SDPHoHBN3IzRnVo+30B5MMugLR/GUBXQo5E84ZoBSEBUzy4uEy5mfrlQiyJoFSSm1RIkTDepte1BUEUgyVBsLoTfHRIzg68Axn0NOtSshtEvtPcjtU+wLPz79M12n+FReKEFIJawArA5MK0RJ0E4UNHAQI5+fhYPBZ+2sNch/tNrdavDd63kCpj8eh+WYHPgzY7ozpoBkyMHoJi9oLxQ3JcQFmQPEwiALX5P3ID8nM9S0edxjzBen4AvtUB/oUhxZTEeEIgvix65znVO3RCD0oCEHvXy4v49V1qIvFRPvfDUUOjen74qkR/yxOEmHkh8ZKxQr82Tt5L4cEJeO0y+XWlfpiF8ITdAuY/Eb2FwEgEPAbdRv9EIv1aeJ34gbr2AlGKX5ENlt7JQvRUan3zUwAwwpjBB7pwe6SFaso7wyU5dTOZ88K/j0tQykuC2XoN87e07D4ABktFcAEZvgJ+VQFBxO5GToXBQsU9M7g8t3B6xsVeDIpS8xWXxe/0ESvl9GW/8MOuwq+7cPteQxpINsI1uhAzl7SPQJHKZEkIAZ56B7M99GW+3Aerx2DCQjzS+8rATsXKB/xGmUL5u7B41zolvQmGPUwbkHSSO4Vm9eDunDXi/jZAAn+FOpl7+sOgh6BCTTu4dWA1Pv6/SKBHK4DFOuT0VrfGAfTIAEZ5QOD9PX2xwl8H0YhZBhEAjXn4OLt51nylA3UJ5k1zEgvIO7dpb4V0SD0X/t6/kXwyvTdDiQetQ6X8Bva9NfL+ZofNh+eCNPwjNVI3AsBxhvVFoYEqfJE80cJShvPHIYUbAgx8/nkxuXP7mQKWyenLRFBFC318rDNG8oG5AH2iQHz+cn1DwblFfINW/xC6dLXQ+oCEaIaGQ/nA2LmB99K9mULkgr8/3jyK/OGCAAXyhu6FAAH6/DH5Xbi7+luB6MqGD5LSdMpTedYxjHOM/DVAeoHG/kv61n+RhS+FDABDeoO2ozq3A3rFjkKsPv846fj9vYOChsNegPN+Oz0xQeQGAkfQRsTDqzyc+T75gHuLwYmJm0shTnVNRL+ntYIy2jgPfQrAn4Ap/Gn/JUM6w3G/nLsl9Vr3s8Crxg1GKsM0vWN4i3tDP3yBi8GCv9f/vsIgxNHGjQdaQ2Y90PocOWq6kT/viBALig+DjQX//7TeMXw3Pb00gGY/c/uGfWfDSkaQg1o847WaNpS+8EaTB3iDNX5uOfa6In6zAbECq4GK/vb/zAM5BmMHxAUsvj540DiIPH7AZYTuxqjEyQvBipDAo3e4cwB2kTrM/+A/df6bgqaF+sLDvt26GjWJ+izCd0Zgh2VEFj0UujK6tPzePzJBxAHzgLwCGkItRP7FYAKz/U74/rdrvJhDh4d+x6/CS0eUiX8E9HyHtMb3UPn7/mz//UFJQ3jEbYHt/mH5jDXk+moAh4bBiFbEvPxM+gz7MzwQABnCQcGPP4PAtgFABSfGV0Odf5/6jTjXfAeDOsW6xlRBV4E9yUbH1cHbOCd1kvgEO/RAmsEmwuIDdQLiwGl9Jzfwt0D9n4QLxwcGEH9IeZv7dTyjPzlAiv8fvdHBJUN4BbfG58QhQJS803kyuiRA5wdHB/WETru8uzNIs4toRuq7JTQVtJ+5+kDjA4KEUwFtv6C+fL7UPMA7rrxs/0wDrUZLQ0k9sfqseL77H37RQWVBuoHugbSDHoRtRCZEFn9Ged46lsAcxWJIiMTa/PD5rnwzhXxPD0qI/eQzjrH6eL0CKcYEgqG+VbzTPk5Ay4E8fMF7QDydP7JEBIcigvP9Wvqnt5r7BUC/AoFCBIPaQ4IDpMaKRGR/tnx9uf07XMHdRSMEqkMwgDo9ub2EQcTFs4MFfqV4w/gG/P3B+oRigjD/UP1s/II+WwAxv6i+vj8v/2aA9URswqC+D3nqNug7bEKoR3bHy8X6Aeg/0MARf1Z+zb6w/6SBTEOzA4BBZf6MPE4888Gexa8ECsAHOk85uDwiPrxAt8D9/8R+Bn7UgHOBW8FZv/F9fX6RgcqArf9b/YC9NX59AMlCfkJQQ1kCPgBP/3gAeoExAfWAt76EPgi+pT9igKKEFcKxALE+KP3c/ul/DP+zPg1+Ub8BgaCCFsLMgI99/j2ePwpA74H3AEV8LLx2/dJApoLgwudA+v7vPkj+CL/UgOBBGYB7QHwAZYCjwG0Ac4PzhIhDfX8mfGM8ZTzS/uk/mf/VgFUBp0Hawl4BZz4vfH+8k74OAFBCIEDTPwN+CT4kv2UAhgF4wO9AsIDiAQNBdsGFwMI+xH5+/xiBW4LlwvaAgj5mvfj+WUCCAX6/0n6OfXu+TEGaQvrBzn/8vLd7JnwNfveB0Yaghy/Ee8AkO848ELy5fhJ+uX5fvsfAAAJyQxZDLcD2vy09uP2xPrf/BT/IQEyAOj76f4sAl8FfAZwA9MA8ADABcQGlAWCARv9xPty+sD9OgSDCjUIkwD7+kT47fgL+hb9Bv6nAFME0QRRA4v/ufpB+Ir6OPt8+nT8rv8sBMcJ3Qu9CoUEnvw/97L0VPYv+cb9KQQBCuoMNAxhCQ8EOP6R+3D5PfcR9c71bPm3AP0JCg79C4MF4v9U/PT68fo4+OX2JPpL/zUDmgWzBrwFMATS/+7+8wBkAfX/H/0e+l75J/0jAKMBEQOXAyoBbQAQAKT/0f4zAaIC6v/f/W35n/mX/A8B5QSdBkYGLQTHAiMA8v8TAOr9r/xB/4UBUwCH/+X+/f2o/b/+bf+p/+sAWv8N/RH9gf5IAAICbQLrAeIAxgDDAIQAsgDU/qX/2v9wAZ4DlgMNAZ/9Nv4z/uX/x/93/p79oP5V/3X+2v6M/l3/0QD6ARgBkwBd/9b+7QAsAnYAHgEfA2MCKACZ/qb+Cv+QANn/M/+j/+z/if/y/ln/AQCS/kj+ov4aANUBhQDr/tf9Vf8UAAUCfQJfAVsBEAFgAOf/0gCCADf/hf80AM//xf/F/98ASgCrAIMA4v5O/h3/DAFyAHX/lv6JAGcAFgBFAED/fABVAOkAPAC+/yIAjv9E/6b/2gDa/8f+ggB6AGv/fv+XAGsBQgDD/2z/pv8ZAMj/MP97/2gA8QBu/23/QQHD/wb/sP87ANgAaQBpAEP/vP7F/6cAdAHR//z/CgAq/sP/WwEhAWIAAf/5/qf/2QC8ALP/Nf8MAWEB8P+VACkANv/r/mH/u/+lAHIA5/9//28AmQBVAGD/Hf7e/y0AUQDX/6r/zv80AFkA3P95AJD/Zv9Q/8oAcgE//wb/Kv9fABsB8gAgAZP/uv5aABIB1/+y/jz/2f7F/gYARwD3APcAXQAtAK4A5QBT/6X+0//GAAwA2P9EAJn/kP98/wYBRwFsAOD+Yf6p//gAQAL5/tv+qgAbADL/lf9YAK3/kQCLAL7/BgH9APD/xv9c/14AwgBC//f+tf9cAEsAyv+1/97/+AA9AdoASwCeAGgAEP+D/qr/xf8p/8X/3P5iAEMCfQE7/2MAVgGk/4b/7v4HAK3/oP+1/8X+UP+vAGIBR/97/+T/ewDjAAb/n/4FACwBTAEeAL/+GgDx/67/IwBpAJD/bf9dAHAAdgDJ/38Azf9qABEA0f8C/yT/UgCP/14AGwBPAMX/vQDIAesAUv/l/hD/pv9C/2//ZwDl/88AqgBhAL4AgABI/wf/NP/t/xkAMv/c/jr/NABDAM7/5/8+AM4AdwFxAG//lf9EAEwAkwAIAdj/BgDw/+L/CwAj/zX/TP+UALoAJwDO/2gAGAKDAE//EP7E/nYA7f+KADX/R/9YABQBagC//nH/0P+TAFcALf9Q/xcAsAAPAMAA3wC4/zz/vP/YANn/Uv9W/8wASAG5AGL/s/+MAcsAo//G/6n/x/8MAML+Tv8VAAwAZv+TAFQAJ/8G/wYAoACd/xUAkQCsAPf/qQBrADwA3f/8/lH/wQAqAJ7/SgC6AMEAJgD4AFEAhgDs/iz+6v4xAFAAD/+a/44AhADO/70ACgFcABkAc/5M/gsAr//D/7L/UQAyAF8Awv9DAHMBSP8u/+v/nwCaAC8AbQCk/+j/KAGVAKz/bP9bAHsAOQA2AMn/Pf8i/zgAoP9kAA8Alf6J/9P/8gBRADT/fwCMAEz/mP//AB//VP/3AJYA//+Y/+z/wP+n/xsAxQAwAIIAaf+p/rr/+gBiARQAoP+g/87+w/4tATwBu//p/g0ArgBk/3sAFwAbABgB3ABhAOH/qADW/sD+nQAiAMf/7P+pALQASQD5/+//DQBAAKn/FQCz/z3/wAD5/7H+BgD5ADMAlADr/0z/ZACVAJv/MP9d/3H/lP+r/yn/gAAzAckB0P8f/9QAhv8SAJb/of+Y/gT/SgAGADD/oAD1AAgBXQEyALz/K/8jAWr/gf5F/hcAlQBUAP0AHgAWAI//ZAB9APkAVwDn/+z+F//EAPEAhwBa/1L+bP+jALgA+/8j/9H/XADaAJgAtgDuABMAfv9f/4/+u/6y/9kA6P/8/5sAXABXARwBmwA5/5UAYQCd/hP/BQFLABL/of+gAIcA9v+1AMX/DwFlAPUAkP1v/p0A4f+c/17+VAHr/3f/kvvt/UIBVANCALv6Xf2cAqYEBwAP/yX+mgKfBKMEVQJb/zoAvf9K/TX7Qf5M/lb+G//e/k7//AB8A5IETwMbAdP/l/wy/fj/eQDQ/cz7D/0m/wUCzwLqA+gBXAHcAWEAT/6s/R3/FP+J/47+9v7uADoCUgF+/4H/ywAKAaz/zP7z/wMBewCDAFEBPALwAdH/jv47/mb+lP61/e/+c/9j/9/+LQCnAbcC9wG8AHwA+f6q/zL/N//6/c7+XP9w//z/YQAIAg8CJQL0AGAAw/6H/u3/Jv+C/oL+Zf9dABsB8f8m/0QAJABlAWYBHQGJAL7/kf8V/z8Arf/S/+T/RQDZACUADgCP/9b/jwB2/xn/CQCuAPH/T/8YANT/+wBxAH3/gP8JAJMAyf+e/xX/of89AEsB2gACALz/DACcAN/+Qv9AAC4A0P+e/wEAGwC4AOoAtP84/0P/Gf+P/0gAMQGwAKv/6P+PAHMA4P9yAH7/LP9xAF//W//G/7P/H//k/zgBHQAq/1YAUwFxAHcArf8Y/zn/XABrAB7/MP9xAIcBV/8vACIBZgA3ADEAgAAn/5T/zv4H/5EA5AHmAGj+NQC3AZwA3f+//1wAEACM/z4Aqf+IAKYAaQDt/nz/GAEeAEr/Yv4iAFsA8f+0/9b/awB6AM7/NP8A/zn/6P84/+/+AgC0AAkAWACjACIAEgAoAEsAAwDO/rL/RgA//5L/ggDK/3z/+//MAPMAxf/vANMAMACV/9D/EwCj/wUAVP9e/9D/VQAMAdf/XgDOASYCIAFU/qv/tv8t/3b/Qv+X/1EAIgGH/pz/8wHwAPL+awC8ArwA5P8c/8j+8v7T/6n/ef5i/6b/pABGACAATgBMAFIBWwGVAND+6/68/3r/Kv/3/+//hv+Y/4QAvABlASYBbf9u/6X/rgAWAKEAf/90/1sAn/+R/4j+Yf9XAOMA9P/c/5YA3v8AAPr/rv8i/0YATwH3/6r/p//J/6r/sQBTAGz/uv+T/rr/EQGxAD8AogBEANwA8QAiADP/Df9tAEUAP/9B/1IBjwDU//n/6/4K/un+DQBrAOD/uv/T/0P/6wG6ATIA/P6l/8UA1/+F/8/+C/+g/zMBPwF2AfAAswCGASwBVQAE/9b+2f5//8j+zv6EABcBTwD5/2MBxwB0/zMApv/I/sL+0P43/pL+5f+UAEQBKAHGAPb+sv5u/wcAzgBYAJ3/5f84AdsBEwGW/5YA0wCN/+f+c//WABACsgBU/34APwCpACQAXgDCAFgAo/+O/v3+NgCjAKD+i/5QACsBaQBC/gj+H/+P/yoA4f74/f398/7V/wAAYAAx/wz/VQDMAaYApQC6AJEA5QDn/4T/GwDsAUoCRwIrAugAmgBLAecAVQHbAJAARv/6/1kBlQB9AMH+t/6s/k0A+v/V/mT/a/5m/rD+GP9w/lb/Tv8w/tX+LP/8/p/91f4yAPf/IAB3/6T/0wA3ArAAef+uAPsADAHRAIMATgBvAJYAdgAeAAEBIAFLAQUB9P+EACAAQQDB/yD/Fv8YADUANP6u/gQAFAF1AK//qACRABQBHAAZ/9X/Kv97/yX/MP+j/6IBLwHM/hUAxgCOAND/RwA//xr/o/9P/yEAqwBqAMD/jf/u/0IARACt/x//OQDp/1QAjP+QAKEBef9N/97+8v8vAHMAAgA8ACcBOv8BADkAPgA9AWUAJ/+0/q8ADQHG/77+AP9mAH4AFwDQ/3kAjADN/zf/w//B/4b/9f8h/+3+ZwC8AaoBpwBk/87/ZgDKACz/Fv+m/1f+X//D/3oA8gBZAR4AMQB0AdsAlv+v/vv/DABi/6D/pP+M/wYAtAAQAUoBwwCI/i7/UwC2AA4ApP7f/qP+XABRAKf/\" type=\"audio/wav\" />\n",
       "                    Your browser does not support the audio element.\n",
       "                </audio>\n",
       "              "
      ],
      "text/plain": [
       "<IPython.lib.display.Audio object>"
      ]
     },
     "execution_count": 4,
     "metadata": {},
     "output_type": "execute_result"
    }
   ],
   "source": [
    "# 데이터 선택\n",
    "rand = random.randint(0, len(speech_data[\"wav_vals\"]))\n",
    "print(\"rand num : \", rand)\n",
    "\n",
    "sr = 8000 # 1초동안 재생되는 샘플의 갯수\n",
    "data = speech_data[\"wav_vals\"][rand]\n",
    "print(\"Wave data shape : \", data.shape)\n",
    "print(\"label : \", speech_data[\"label_vals\"][rand])\n",
    "\n",
    "ipd.Audio(data, rate=sr)"
   ]
  },
  {
   "cell_type": "code",
   "execution_count": 5,
   "metadata": {},
   "outputs": [
    {
     "name": "stdout",
     "output_type": "stream",
     "text": [
      "✅\n"
     ]
    }
   ],
   "source": [
    "target_list = ['yes', 'no', 'up', 'down', 'left', 'right', 'on', 'off', 'stop', 'go']\n",
    "\n",
    "label_value = target_list\n",
    "label_value.append('unknown')\n",
    "label_value.append('silence')\n",
    "\n",
    "new_label_value = dict()\n",
    "for i, l in enumerate(label_value):\n",
    "    new_label_value[l] = i\n",
    "label_value = new_label_value\n",
    "print(\"✅\")"
   ]
  },
  {
   "cell_type": "code",
   "execution_count": 6,
   "metadata": {},
   "outputs": [
    {
     "name": "stdout",
     "output_type": "stream",
     "text": [
      "✅\n"
     ]
    }
   ],
   "source": [
    "# text -> index\n",
    "temp = []\n",
    "for v in speech_data[\"label_vals\"]:\n",
    "    temp.append(label_value[v[0]])\n",
    "label_data = np.array(temp)\n",
    "print(\"✅\")"
   ]
  },
  {
   "cell_type": "code",
   "execution_count": 7,
   "metadata": {},
   "outputs": [
    {
     "name": "stdout",
     "output_type": "stream",
     "text": [
      "(50620, 130, 126)\n"
     ]
    }
   ],
   "source": [
    "spec_data = []\n",
    "\n",
    "for w in speech_data[\"wav_vals\"]:\n",
    "    spec_data.append(wav2spec(w))\n",
    "    \n",
    "spec_data = np.array(spec_data)\n",
    "print(spec_data.shape)"
   ]
  },
  {
   "cell_type": "code",
   "execution_count": 8,
   "metadata": {},
   "outputs": [
    {
     "name": "stdout",
     "output_type": "stream",
     "text": [
      "[[[5.08931339e-01 2.01986894e-01 1.32217512e-01 ... 2.21156135e-01\n",
      "   5.25393367e-01 8.75150263e-01]\n",
      "  [8.07675719e-01 4.92411911e-01 5.12466908e-01 ... 7.48297513e-01\n",
      "   5.94863594e-01 1.26033401e+00]\n",
      "  [7.75464416e-01 8.36454630e-01 8.88581693e-01 ... 1.29680812e+00\n",
      "   1.28772008e+00 1.35152495e+00]\n",
      "  ...\n",
      "  [7.89303705e-03 4.00979910e-03 3.32690615e-05 ... 3.58254110e-05\n",
      "   6.26447087e-04 1.10462273e-03]\n",
      "  [7.85328727e-03 3.96507699e-03 6.58431918e-06 ... 3.60897575e-05\n",
      "   7.49636209e-04 1.38862699e-03]\n",
      "  [7.82783516e-03 3.95877287e-03 1.98068096e-06 ... 3.11955228e-05\n",
      "   7.84916512e-04 1.47676584e-03]]\n",
      "\n",
      " [[1.54194329e-02 1.12961456e-02 3.54966731e-04 ... 2.48937914e-03\n",
      "   7.15553900e-03 5.09624952e-04]\n",
      "  [9.10431799e-03 7.98935816e-03 6.72457973e-03 ... 1.65408552e-02\n",
      "   1.12899998e-02 1.03259729e-02]\n",
      "  [3.25554429e-04 2.36154557e-03 2.62165139e-03 ... 9.90008339e-02\n",
      "   4.22796868e-02 9.02250409e-03]\n",
      "  ...\n",
      "  [8.59413049e-05 6.28370399e-05 3.25575093e-05 ... 2.02741885e-05\n",
      "   5.94700978e-04 1.16232876e-03]\n",
      "  [6.99699303e-05 3.17675076e-05 8.20311834e-06 ... 2.01231287e-05\n",
      "   5.94462152e-04 1.14313711e-03]\n",
      "  [5.26918120e-05 2.43158465e-05 5.22757864e-06 ... 9.02522879e-06\n",
      "   5.81865315e-04 1.13240536e-03]]\n",
      "\n",
      " [[9.74434149e-03 4.97236056e-03 1.16518582e-04 ... 3.72009563e-05\n",
      "   4.53647785e-03 9.27038491e-03]\n",
      "  [1.00701721e-02 4.97190980e-03 2.38955108e-04 ... 9.18060425e-04\n",
      "   4.89082187e-03 9.88039095e-03]\n",
      "  [9.62553918e-03 5.20529039e-03 6.92821981e-04 ... 1.68056041e-02\n",
      "   1.67944822e-02 2.44269911e-02]\n",
      "  ...\n",
      "  [1.96431720e-04 9.83371428e-05 1.38517669e-06 ... 1.06812531e-05\n",
      "   1.51602973e-04 2.83899484e-04]\n",
      "  [1.93280241e-04 9.82012061e-05 1.04807282e-06 ... 8.81967208e-06\n",
      "   1.51752625e-04 2.94743688e-04]\n",
      "  [1.91822794e-04 9.61179321e-05 9.29225052e-07 ... 4.72921147e-06\n",
      "   1.59213465e-04 2.99866573e-04]]\n",
      "\n",
      " ...\n",
      "\n",
      " [[1.32916844e-03 7.12593610e-04 3.17039012e-05 ... 2.43619332e-04\n",
      "   1.07452683e-02 2.15213597e-02]\n",
      "  [1.46516366e-03 5.79149346e-04 2.49091099e-04 ... 2.07282323e-03\n",
      "   1.04023134e-02 1.97440851e-02]\n",
      "  [1.39573705e-03 1.16395077e-03 8.62782181e-04 ... 5.77529287e-03\n",
      "   1.21838553e-02 2.58661937e-02]\n",
      "  ...\n",
      "  [1.43952947e-02 7.34687923e-03 2.40339956e-04 ... 1.31215302e-05\n",
      "   4.71065665e-04 9.12135642e-04]\n",
      "  [1.28178354e-02 6.35695271e-03 2.26410863e-04 ... 7.51387415e-06\n",
      "   4.80309653e-04 9.23543121e-04]\n",
      "  [1.21935615e-02 6.01979950e-03 1.32964036e-04 ... 2.11717293e-06\n",
      "   4.84385237e-04 9.31558083e-04]]\n",
      "\n",
      " [[1.04122853e-04 2.60324905e-05 9.14192569e-05 ... 1.34655871e-04\n",
      "   5.22605376e-04 8.73096928e-04]\n",
      "  [1.61158561e-04 9.90841436e-05 4.62508979e-05 ... 4.94456443e-04\n",
      "   3.86151165e-04 7.88642908e-04]\n",
      "  [2.39942732e-04 1.47380444e-04 1.35052775e-04 ... 8.41340981e-04\n",
      "   4.00086486e-04 6.73076138e-04]\n",
      "  ...\n",
      "  [2.70047640e-05 1.79866529e-05 5.55537963e-06 ... 3.47936452e-06\n",
      "   2.93922403e-05 5.21035108e-05]\n",
      "  [2.84718080e-05 1.35948558e-05 2.34241739e-07 ... 1.63692266e-06\n",
      "   2.67448086e-05 5.39311950e-05]\n",
      "  [2.62062294e-05 1.29449163e-05 5.34453534e-07 ... 4.16358517e-07\n",
      "   2.88013143e-05 5.35277759e-05]]\n",
      "\n",
      " [[1.07895471e-02 5.82085038e-03 4.35669848e-04 ... 3.79057899e-02\n",
      "   1.88717972e-02 4.12517935e-02]\n",
      "  [1.68065540e-02 6.93051098e-03 5.00281481e-03 ... 3.95403057e-02\n",
      "   2.57969312e-02 2.24823821e-02]\n",
      "  [2.49672271e-02 1.92773566e-02 8.39571003e-03 ... 2.49348078e-02\n",
      "   1.22592198e-02 9.77833755e-03]\n",
      "  ...\n",
      "  [4.57701832e-03 2.02044472e-03 5.60004904e-04 ... 6.25533925e-04\n",
      "   2.12948327e-03 3.91422445e-03]\n",
      "  [4.52071475e-03 2.41756462e-03 7.37919472e-05 ... 2.05766439e-04\n",
      "   2.25422881e-03 4.17428091e-03]\n",
      "  [4.59145708e-03 2.26661097e-03 5.14374151e-05 ... 5.77234168e-05\n",
      "   1.99120096e-03 4.03545192e-03]]]\n",
      "✅\n"
     ]
    }
   ],
   "source": [
    "sr = 8000\n",
    "train_wav, test_wav, train_label, test_label = train_test_split(spec_data[:25000], \n",
    "                                                                label_data[:25000], \n",
    "                                                                test_size=0.1,\n",
    "                                                                shuffle=True)\n",
    "print(train_wav)\n",
    "\n",
    "# train_wav = train_wav.reshape([-1, sr, 1]) # add channel for CNN\n",
    "# test_wav = test_wav.reshape([-1, sr, 1])\n",
    "\n",
    "print(\"✅\")"
   ]
  },
  {
   "cell_type": "code",
   "execution_count": 9,
   "metadata": {},
   "outputs": [
    {
     "name": "stdout",
     "output_type": "stream",
     "text": [
      "train data :  (22500, 130, 126)\n",
      "train labels :  (22500,)\n",
      "test data :  (2500, 130, 126)\n",
      "test labels :  (2500,)\n",
      "✅\n"
     ]
    }
   ],
   "source": [
    "# 데이터셋 확인\n",
    "print(\"train data : \", train_wav.shape)\n",
    "print(\"train labels : \", train_label.shape)\n",
    "print(\"test data : \", test_wav.shape)\n",
    "print(\"test labels : \", test_label.shape)\n",
    "print(\"✅\")"
   ]
  },
  {
   "cell_type": "markdown",
   "metadata": {},
   "source": [
    "### 학습을 위한 하이퍼파라미터 설정"
   ]
  },
  {
   "cell_type": "code",
   "execution_count": 10,
   "metadata": {},
   "outputs": [
    {
     "data": {
      "text/plain": [
       "'speech_recognition/models/wav/prj'"
      ]
     },
     "execution_count": 10,
     "metadata": {},
     "output_type": "execute_result"
    }
   ],
   "source": [
    "batch_size = 128\n",
    "max_epochs = 10\n",
    "\n",
    "# the save point\n",
    "checkpoint_dir = 'speech_recognition/models/wav/prj'\n",
    "checkpoint_dir"
   ]
  },
  {
   "cell_type": "code",
   "execution_count": 11,
   "metadata": {},
   "outputs": [
    {
     "name": "stdout",
     "output_type": "stream",
     "text": [
      "✅\n"
     ]
    }
   ],
   "source": [
    "def one_hot_label(wav, label):\n",
    "    label = tf.one_hot(label, depth=12)\n",
    "    return wav, label\n",
    "print(\"✅\")"
   ]
  },
  {
   "cell_type": "markdown",
   "metadata": {},
   "source": [
    "### 데이터셋 구성\n",
    "* tf.data.Dataset을 이용\n",
    "* from_tensor_slices 함수에 return 받길 원하는 데이터를 튜플 (data, label) 형태로 넣어서 사용\n",
    "* map과 batch를 이용한 데이터 전처리"
   ]
  },
  {
   "cell_type": "code",
   "execution_count": 12,
   "metadata": {},
   "outputs": [
    {
     "name": "stdout",
     "output_type": "stream",
     "text": [
      "<BatchDataset shapes: ((None, 130, 126), (None, 12)), types: (tf.float32, tf.float32)>\n",
      "<BatchDataset shapes: ((None, 130, 126), (None, 12)), types: (tf.float32, tf.float32)>\n",
      "✅\n"
     ]
    }
   ],
   "source": [
    "# tf.data.Dataset 함수 구성\n",
    "# OOM?\n",
    "\n",
    "# for train\n",
    "train_dataset = tf.data.Dataset.from_tensor_slices((train_wav, train_label))\n",
    "train_dataset = train_dataset.map(one_hot_label)\n",
    "train_dataset = train_dataset.repeat().batch(batch_size=batch_size)\n",
    "print(train_dataset)\n",
    "\n",
    "# for test\n",
    "test_dataset = tf.data.Dataset.from_tensor_slices((test_wav, test_label))\n",
    "test_dataset = test_dataset.map(one_hot_label)\n",
    "test_dataset = test_dataset.batch(batch_size=batch_size)\n",
    "print(test_dataset)\n",
    "print(\"✅\")"
   ]
  },
  {
   "cell_type": "markdown",
   "metadata": {},
   "source": [
    "### 2차원 spectrogram 데이터를 처리하는 모델 구성\n",
    "* 2차원 Spectrogram 데이터의 시간축 방향으로 Conv1D layer를 적용, 혹은 Conv2D layer를 적용 가능\n",
    "    - batchnorm, dropout, dense layer 등을 이용\n",
    "    - 12개의 단어 class를 구분하는 loss를 사용하고 Adam optimizer를 사용\n",
    "    - 모델 가중치를 저장하는 checkpoint callback 함수 추가"
   ]
  },
  {
   "cell_type": "code",
   "execution_count": 13,
   "metadata": {},
   "outputs": [
    {
     "name": "stdout",
     "output_type": "stream",
     "text": [
      "Model: \"functional_1\"\n",
      "_________________________________________________________________\n",
      "Layer (type)                 Output Shape              Param #   \n",
      "=================================================================\n",
      "input_1 (InputLayer)         [(None, 130, 126)]        0         \n",
      "_________________________________________________________________\n",
      "conv1d (Conv1D)              (None, 130, 32)           36320     \n",
      "_________________________________________________________________\n",
      "conv1d_1 (Conv1D)            (None, 130, 32)           9248      \n",
      "_________________________________________________________________\n",
      "max_pooling1d (MaxPooling1D) (None, 65, 32)            0         \n",
      "_________________________________________________________________\n",
      "conv1d_2 (Conv1D)            (None, 65, 64)            18496     \n",
      "_________________________________________________________________\n",
      "conv1d_3 (Conv1D)            (None, 65, 64)            36928     \n",
      "_________________________________________________________________\n",
      "max_pooling1d_1 (MaxPooling1 (None, 32, 64)            0         \n",
      "_________________________________________________________________\n",
      "conv1d_4 (Conv1D)            (None, 32, 128)           73856     \n",
      "_________________________________________________________________\n",
      "conv1d_5 (Conv1D)            (None, 32, 128)           147584    \n",
      "_________________________________________________________________\n",
      "conv1d_6 (Conv1D)            (None, 32, 128)           147584    \n",
      "_________________________________________________________________\n",
      "max_pooling1d_2 (MaxPooling1 (None, 16, 128)           0         \n",
      "_________________________________________________________________\n",
      "conv1d_7 (Conv1D)            (None, 16, 256)           295168    \n",
      "_________________________________________________________________\n",
      "conv1d_8 (Conv1D)            (None, 16, 256)           590080    \n",
      "_________________________________________________________________\n",
      "conv1d_9 (Conv1D)            (None, 16, 256)           590080    \n",
      "_________________________________________________________________\n",
      "max_pooling1d_3 (MaxPooling1 (None, 8, 256)            0         \n",
      "_________________________________________________________________\n",
      "dropout (Dropout)            (None, 8, 256)            0         \n",
      "_________________________________________________________________\n",
      "flatten (Flatten)            (None, 2048)              0         \n",
      "_________________________________________________________________\n",
      "dense (Dense)                (None, 256)               524544    \n",
      "_________________________________________________________________\n",
      "batch_normalization (BatchNo (None, 256)               1024      \n",
      "_________________________________________________________________\n",
      "activation (Activation)      (None, 256)               0         \n",
      "_________________________________________________________________\n",
      "dense_1 (Dense)              (None, 12)                3084      \n",
      "=================================================================\n",
      "Total params: 2,473,996\n",
      "Trainable params: 2,473,484\n",
      "Non-trainable params: 512\n",
      "_________________________________________________________________\n"
     ]
    }
   ],
   "source": [
    "input_tensor = layers.Input(shape=(130, 126))\n",
    "\n",
    "x = layers.Conv1D(32, 9, padding='same', activation='relu')(input_tensor)\n",
    "x = layers.Conv1D(32, 9, padding='same', activation='relu')(x)\n",
    "x = layers.MaxPool1D()(x)\n",
    "\n",
    "x = layers.Conv1D(64, 9, padding='same', activation='relu')(x)\n",
    "x = layers.Conv1D(64, 9, padding='same', activation='relu')(x)\n",
    "x = layers.MaxPool1D()(x)\n",
    "\n",
    "x = layers.Conv1D(128, 9, padding='same', activation='relu')(x)\n",
    "x = layers.Conv1D(128, 9, padding='same', activation='relu')(x)\n",
    "x = layers.Conv1D(128, 9, padding='same', activation='relu')(x)\n",
    "x = layers.MaxPool1D()(x)\n",
    "\n",
    "x = layers.Conv1D(256, 9, padding='same', activation='relu')(x)\n",
    "x = layers.Conv1D(256, 9, padding='same', activation='relu')(x)\n",
    "x = layers.Conv1D(256, 9, padding='same', activation='relu')(x)\n",
    "x = layers.MaxPool1D()(x)\n",
    "x = layers.Dropout(0.3)(x)\n",
    "\n",
    "x = layers.Flatten()(x)\n",
    "x = layers.Dense(256)(x)\n",
    "x = layers.BatchNormalization()(x)\n",
    "x = layers.Activation('relu')(x)\n",
    "\n",
    "output_tensor = layers.Dense(12)(x)\n",
    "\n",
    "model_wav = tf.keras.Model(input_tensor, output_tensor)\n",
    "\n",
    "model_wav.summary()"
   ]
  },
  {
   "cell_type": "code",
   "execution_count": 14,
   "metadata": {},
   "outputs": [
    {
     "name": "stdout",
     "output_type": "stream",
     "text": [
      "✅\n"
     ]
    }
   ],
   "source": [
    "optimizer=tf.keras.optimizers.Adam(1e-4)\n",
    "model_wav.compile(loss=tf.keras.losses.CategoricalCrossentropy(from_logits=True),\n",
    "             optimizer=optimizer,\n",
    "             metrics=['accuracy'])\n",
    "print(\"✅\")"
   ]
  },
  {
   "cell_type": "code",
   "execution_count": 15,
   "metadata": {},
   "outputs": [
    {
     "name": "stdout",
     "output_type": "stream",
     "text": [
      "✅\n"
     ]
    }
   ],
   "source": [
    "cp_callback = tf.keras.callbacks.ModelCheckpoint(checkpoint_dir,\n",
    "                                                 save_weights_only=True,\n",
    "                                                 monitor='val_loss',\n",
    "                                                 mode='auto',\n",
    "                                                 save_best_only=True,\n",
    "                                                 verbose=1)\n",
    "print(\"✅\")"
   ]
  },
  {
   "cell_type": "markdown",
   "metadata": {},
   "source": [
    "### 학습 후, 학습이 어떻게 진행됐는지 그래프로 출력\n",
    "* loss, accuracy를 그래프로 표현"
   ]
  },
  {
   "cell_type": "code",
   "execution_count": 16,
   "metadata": {},
   "outputs": [
    {
     "name": "stdout",
     "output_type": "stream",
     "text": [
      "Epoch 1/10\n",
      "174/175 [============================>.] - ETA: 0s - loss: 1.8428 - accuracy: 0.3768\n",
      "Epoch 00001: val_loss improved from inf to 2.24931, saving model to speech_recognition/models/wav/prj\n",
      "175/175 [==============================] - 3s 17ms/step - loss: 1.8394 - accuracy: 0.3779 - val_loss: 2.2493 - val_accuracy: 0.4885\n",
      "Epoch 2/10\n",
      "173/175 [============================>.] - ETA: 0s - loss: 1.1761 - accuracy: 0.5954\n",
      "Epoch 00002: val_loss improved from 2.24931 to 1.59118, saving model to speech_recognition/models/wav/prj\n",
      "175/175 [==============================] - 3s 16ms/step - loss: 1.1739 - accuracy: 0.5962 - val_loss: 1.5912 - val_accuracy: 0.6357\n",
      "Epoch 3/10\n",
      "173/175 [============================>.] - ETA: 0s - loss: 0.8843 - accuracy: 0.6962\n",
      "Epoch 00003: val_loss improved from 1.59118 to 0.95906, saving model to speech_recognition/models/wav/prj\n",
      "175/175 [==============================] - 3s 16ms/step - loss: 0.8819 - accuracy: 0.6969 - val_loss: 0.9591 - val_accuracy: 0.7056\n",
      "Epoch 4/10\n",
      "173/175 [============================>.] - ETA: 0s - loss: 0.6868 - accuracy: 0.7650\n",
      "Epoch 00004: val_loss improved from 0.95906 to 0.69123, saving model to speech_recognition/models/wav/prj\n",
      "175/175 [==============================] - 3s 16ms/step - loss: 0.6856 - accuracy: 0.7657 - val_loss: 0.6912 - val_accuracy: 0.7640\n",
      "Epoch 5/10\n",
      "175/175 [==============================] - ETA: 0s - loss: 0.5380 - accuracy: 0.8199\n",
      "Epoch 00005: val_loss improved from 0.69123 to 0.59342, saving model to speech_recognition/models/wav/prj\n",
      "175/175 [==============================] - 3s 16ms/step - loss: 0.5380 - accuracy: 0.8199 - val_loss: 0.5934 - val_accuracy: 0.8026\n",
      "Epoch 6/10\n",
      "173/175 [============================>.] - ETA: 0s - loss: 0.4320 - accuracy: 0.8566\n",
      "Epoch 00006: val_loss improved from 0.59342 to 0.51715, saving model to speech_recognition/models/wav/prj\n",
      "175/175 [==============================] - 3s 16ms/step - loss: 0.4316 - accuracy: 0.8565 - val_loss: 0.5172 - val_accuracy: 0.8257\n",
      "Epoch 7/10\n",
      "172/175 [============================>.] - ETA: 0s - loss: 0.3495 - accuracy: 0.8862\n",
      "Epoch 00007: val_loss improved from 0.51715 to 0.50895, saving model to speech_recognition/models/wav/prj\n",
      "175/175 [==============================] - 3s 16ms/step - loss: 0.3486 - accuracy: 0.8865 - val_loss: 0.5089 - val_accuracy: 0.8331\n",
      "Epoch 8/10\n",
      "173/175 [============================>.] - ETA: 0s - loss: 0.2853 - accuracy: 0.9104\n",
      "Epoch 00008: val_loss improved from 0.50895 to 0.45537, saving model to speech_recognition/models/wav/prj\n",
      "175/175 [==============================] - 3s 16ms/step - loss: 0.2853 - accuracy: 0.9103 - val_loss: 0.4554 - val_accuracy: 0.8487\n",
      "Epoch 9/10\n",
      "172/175 [============================>.] - ETA: 0s - loss: 0.2412 - accuracy: 0.9237\n",
      "Epoch 00009: val_loss did not improve from 0.45537\n",
      "175/175 [==============================] - 3s 16ms/step - loss: 0.2402 - accuracy: 0.9241 - val_loss: 0.4755 - val_accuracy: 0.8425\n",
      "Epoch 10/10\n",
      "173/175 [============================>.] - ETA: 0s - loss: 0.2051 - accuracy: 0.9352\n",
      "Epoch 00010: val_loss did not improve from 0.45537\n",
      "175/175 [==============================] - 3s 16ms/step - loss: 0.2042 - accuracy: 0.9355 - val_loss: 0.4708 - val_accuracy: 0.8470\n",
      "✅\n"
     ]
    }
   ],
   "source": [
    "# 30분 내외 소요\n",
    "history_wav = model_wav.fit(train_dataset, epochs=max_epochs,\n",
    "                    steps_per_epoch=len(train_wav) // batch_size,\n",
    "                    validation_data=test_dataset,\n",
    "                    validation_steps=len(test_wav) // batch_size,\n",
    "                    callbacks=[cp_callback]\n",
    "                    )\n",
    "print(\"✅\")"
   ]
  },
  {
   "cell_type": "code",
   "execution_count": 17,
   "metadata": {},
   "outputs": [
    {
     "data": {
      "image/png": "[encoded data removed]",
      "text/plain": [
       "<Figure size 576x576 with 2 Axes>"
      ]
     },
     "metadata": {
      "needs_background": "light"
     },
     "output_type": "display_data"
    },
    {
     "name": "stdout",
     "output_type": "stream",
     "text": [
      "✅\n"
     ]
    }
   ],
   "source": [
    "acc = history_wav.history['accuracy']\n",
    "val_acc = history_wav.history['val_accuracy']\n",
    "\n",
    "loss=history_wav.history['loss']\n",
    "val_loss=history_wav.history['val_loss']\n",
    "\n",
    "epochs_range = range(len(acc))\n",
    "\n",
    "plt.figure(figsize=(8, 8))\n",
    "plt.subplot(1, 2, 1)\n",
    "plt.plot(epochs_range, acc, label='Training Accuracy')\n",
    "plt.plot(epochs_range, val_acc, label='Validation Accuracy')\n",
    "plt.legend(loc='lower right')\n",
    "plt.title('Training and Validation Accuracy')\n",
    "\n",
    "plt.subplot(1, 2, 2)\n",
    "plt.plot(epochs_range, loss, label='Training Loss')\n",
    "plt.plot(epochs_range, val_loss, label='Validation Loss')\n",
    "plt.legend(loc='upper right')\n",
    "plt.title('Training and Validation Loss')\n",
    "plt.show()\n",
    "print(\"✅\")"
   ]
  },
  {
   "cell_type": "code",
   "execution_count": 18,
   "metadata": {},
   "outputs": [
    {
     "name": "stdout",
     "output_type": "stream",
     "text": [
      "✅\n"
     ]
    }
   ],
   "source": [
    "model_wav.load_weights(checkpoint_dir)\n",
    "print(\"✅\")"
   ]
  },
  {
   "cell_type": "code",
   "execution_count": 19,
   "metadata": {},
   "outputs": [
    {
     "name": "stdout",
     "output_type": "stream",
     "text": [
      "20/20 [==============================] - 6s 303ms/step - loss: 0.4543 - accuracy: 0.8488\n",
      "✅\n"
     ]
    }
   ],
   "source": [
    "results = model_wav.evaluate(test_dataset)\n",
    "print(\"✅\")"
   ]
  },
  {
   "cell_type": "code",
   "execution_count": 20,
   "metadata": {},
   "outputs": [
    {
     "name": "stdout",
     "output_type": "stream",
     "text": [
      "loss value: 0.454\n",
      "accuracy value: 84.8800%\n",
      "✅\n"
     ]
    }
   ],
   "source": [
    "# loss\n",
    "print(\"loss value: {:.3f}\".format(results[0]))\n",
    "# accuracy\n",
    "print(\"accuracy value: {:.4f}%\".format(results[1]*100))\n",
    "print(\"✅\")"
   ]
  },
  {
   "cell_type": "code",
   "execution_count": 23,
   "metadata": {},
   "outputs": [
    {
     "name": "stdout",
     "output_type": "stream",
     "text": [
      "label :  up\n"
     ]
    }
   ],
   "source": [
    "inv_label_value = {v: k for k, v in label_value.items()}\n",
    "batch_index = np.random.choice(len(test_wav), size=1, replace=False)\n",
    "\n",
    "batch_xs = test_wav[batch_index]\n",
    "batch_ys = test_label[batch_index]\n",
    "y_pred_ = model_wav(batch_xs, training=False)\n",
    "\n",
    "print(\"label : \", str(inv_label_value[batch_ys[0]]))"
   ]
  },
  {
   "cell_type": "code",
   "execution_count": 24,
   "metadata": {},
   "outputs": [
    {
     "name": "stdout",
     "output_type": "stream",
     "text": [
      "y_pred: up\n",
      "✅\n"
     ]
    }
   ],
   "source": [
    "if np.argmax(y_pred_) == test_label[i]:\n",
    "    print(\"y_pred: \" + str(inv_label_value[np.argmax(y_pred_)]))\n",
    "else:\n",
    "    print(\"y_pred: \" + str(inv_label_value[np.argmax(y_pred_)]))\n",
    "print(\"✅\")"
   ]
  },
  {
   "cell_type": "code",
   "execution_count": null,
   "metadata": {},
   "outputs": [],
   "source": []
  }
 ],
 "metadata": {
  "kernelspec": {
   "display_name": "aiffel",
   "language": "python",
   "name": "aiffel"
  },
  "language_info": {
   "codemirror_mode": {
    "name": "ipython",
    "version": 3
   },
   "file_extension": ".py",
   "mimetype": "text/x-python",
   "name": "python",
   "nbconvert_exporter": "python",
   "pygments_lexer": "ipython3",
   "version": "3.7.6"
  }
 },
 "nbformat": 4,
 "nbformat_minor": 4
}
