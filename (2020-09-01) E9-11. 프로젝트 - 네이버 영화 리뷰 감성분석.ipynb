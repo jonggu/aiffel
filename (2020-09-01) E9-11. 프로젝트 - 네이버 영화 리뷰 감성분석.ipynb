{
 "cells": [
  {
   "cell_type": "markdown",
   "metadata": {},
   "source": [
    "# 9-11. 프로젝트: 네이버 영화 리뷰 감성분석"
   ]
  },
  {
   "cell_type": "markdown",
   "metadata": {},
   "source": [
    "## 1) 데이터 준비와 확인"
   ]
  },
  {
   "cell_type": "code",
   "execution_count": 1,
   "metadata": {},
   "outputs": [
    {
     "data": {
      "text/html": [
       "<div>\n",
       "<style scoped>\n",
       "    .dataframe tbody tr th:only-of-type {\n",
       "        vertical-align: middle;\n",
       "    }\n",
       "\n",
       "    .dataframe tbody tr th {\n",
       "        vertical-align: top;\n",
       "    }\n",
       "\n",
       "    .dataframe thead th {\n",
       "        text-align: right;\n",
       "    }\n",
       "</style>\n",
       "<table border=\"1\" class=\"dataframe\">\n",
       "  <thead>\n",
       "    <tr style=\"text-align: right;\">\n",
       "      <th></th>\n",
       "      <th>id</th>\n",
       "      <th>document</th>\n",
       "      <th>label</th>\n",
       "    </tr>\n",
       "  </thead>\n",
       "  <tbody>\n",
       "    <tr>\n",
       "      <th>0</th>\n",
       "      <td>9976970</td>\n",
       "      <td>아 더빙.. 진짜 짜증나네요 목소리</td>\n",
       "      <td>0</td>\n",
       "    </tr>\n",
       "    <tr>\n",
       "      <th>1</th>\n",
       "      <td>3819312</td>\n",
       "      <td>흠...포스터보고 초딩영화줄....오버연기조차 가볍지 않구나</td>\n",
       "      <td>1</td>\n",
       "    </tr>\n",
       "    <tr>\n",
       "      <th>2</th>\n",
       "      <td>10265843</td>\n",
       "      <td>너무재밓었다그래서보는것을추천한다</td>\n",
       "      <td>0</td>\n",
       "    </tr>\n",
       "    <tr>\n",
       "      <th>3</th>\n",
       "      <td>9045019</td>\n",
       "      <td>교도소 이야기구먼 ..솔직히 재미는 없다..평점 조정</td>\n",
       "      <td>0</td>\n",
       "    </tr>\n",
       "    <tr>\n",
       "      <th>4</th>\n",
       "      <td>6483659</td>\n",
       "      <td>사이몬페그의 익살스런 연기가 돋보였던 영화!스파이더맨에서 늙어보이기만 했던 커스틴 ...</td>\n",
       "      <td>1</td>\n",
       "    </tr>\n",
       "  </tbody>\n",
       "</table>\n",
       "</div>"
      ],
      "text/plain": [
       "         id                                           document  label\n",
       "0   9976970                                아 더빙.. 진짜 짜증나네요 목소리      0\n",
       "1   3819312                  흠...포스터보고 초딩영화줄....오버연기조차 가볍지 않구나      1\n",
       "2  10265843                                  너무재밓었다그래서보는것을추천한다      0\n",
       "3   9045019                      교도소 이야기구먼 ..솔직히 재미는 없다..평점 조정      0\n",
       "4   6483659  사이몬페그의 익살스런 연기가 돋보였던 영화!스파이더맨에서 늙어보이기만 했던 커스틴 ...      1"
      ]
     },
     "execution_count": 1,
     "metadata": {},
     "output_type": "execute_result"
    }
   ],
   "source": [
    "import pandas as pd\n",
    "import urllib.request\n",
    "%matplotlib inline\n",
    "import matplotlib.pyplot as plt\n",
    "import re\n",
    "from konlpy.tag import Okt\n",
    "from tensorflow import keras\n",
    "from tensorflow.keras.preprocessing.text import Tokenizer\n",
    "import numpy as np\n",
    "from tensorflow.keras.preprocessing.sequence import pad_sequences\n",
    "from collections import Counter\n",
    "\n",
    "# 데이터를 읽어봅시다. \n",
    "train_data = pd.read_table('ratings_train.txt')\n",
    "test_data = pd.read_table('ratings_test.txt')\n",
    "\n",
    "train_data.head()"
   ]
  },
  {
   "cell_type": "markdown",
   "metadata": {},
   "source": [
    "## 2) 데이터로더 구성"
   ]
  },
  {
   "cell_type": "code",
   "execution_count": 2,
   "metadata": {},
   "outputs": [
    {
     "name": "stdout",
     "output_type": "stream",
     "text": [
      "[2, 4, 39, 229, 6, 535]\n"
     ]
    }
   ],
   "source": [
    "from konlpy.tag import Mecab\n",
    "\n",
    "def tokenize_and_remove_stopwords(data, stopwords, tokenizer):\n",
    "    result = []\n",
    "    \n",
    "    for sentence in data:\n",
    "        curr_data = []\n",
    "        curr_data = tokenizer.morphs(sentence) # 토큰화\n",
    "        curr_data = [word for word in curr_data if not word in stopwords]\n",
    "        \n",
    "        result.append(curr_data)\n",
    "        \n",
    "    # result = list(map(' '.join, result))\n",
    "    return result\n",
    "\n",
    "tokenizer = Mecab()\n",
    "stopwords = ['의','가','이','은','들','는','좀','잘','걍','과','도','를','으로','자','에','와','한','하다']\n",
    "# https://www.ranks.nl/stopwords/korean \n",
    "# stopwords_extra = ['아', '휴', '아이구', '아이쿠', '아이고', '어', '나', '우리', '저희', '따라', '의해', '을', '를', '에', '의', '가', '으로', '로', '에게', '뿐이다', '의거하여', '근거하여', '입각하여', '기준으로', '예하면', '예를 들면', '예를 들자면', '저', '소인', '소생', '저희', '지말고', '하지마', '하지마라', '다른', '물론', '또한', '그리고', '비길수 없다', '해서는 안된다', '뿐만 아니라', '만이 아니다', '만은 아니다', '막론하고', '관계없이', '그치지 않다', '그러나', '그런데', '하지만', '든간에', '논하지 않다', '따지지 않다', '설사', '비록', '더라도', '아니면', '만 못하다', '하는 편이 낫다', '불문하고', '향하여', '향해서', '향하다', '쪽으로', '틈타', '이용하여', '타다', '오르다', '제외하고', '이 외에', '이 밖에', '하여야', '비로소', '한다면 몰라도', '외에도', '이곳', '여기', '부터', '기점으로', '따라서', '할 생각이다', '하려고하다', '이리하여', '그리하여', '그렇게 함으로써', '하지만', '일때', '할때', '앞에서', '중에서', '보는데서', '으로써', '로써', '까지', '해야한다', '일것이다', '반드시', '할줄알다', '할수있다', '할수있어', '임에 틀림없다', '한다면', '등', '등등', '제', '겨우', '단지', '다만', '할뿐', '딩동', '댕그', '대해서', '대하여', '대하면', '훨씬', '얼마나', '얼마만큼', '얼마큼', '남짓', '여', '얼마간', '약간', '다소', '좀', '조금', '다수', '몇', '얼마', '지만', '하물며', '또한', '그러나', '그렇지만', '하지만', '이외에도', '대해 말하자면', '뿐이다', '다음에', '반대로', '반대로 말하자면', '이와 반대로', '바꾸어서 말하면', '바꾸어서 한다면', '만약', '그렇지않으면', '까악', '툭', '딱', '삐걱거리다', '보드득', '비걱거리다', '꽈당', '응당', '해야한다', '에 가서', '각', '각각', '여러분', '각종', '각자', '제각기', '하도록하다', '와', '과', '그러므로', '그래서', '고로', '한 까닭에', '하기 때문에', '거니와', '이지만', '대하여', '관하여', '관한', '과연', '실로', '아니나다를가', '생각한대로', '진짜로', '한적이있다', '하곤하였다', '하', '하하', '허허', '아하', '거바', '와', '오', '왜', '어째서', '무엇때문에', '어찌', '하겠는가', '무슨', '어디', '어느곳', '더군다나', '하물며', '더욱이는', '어느때', '언제', '야', '이봐', '어이', '여보시오', '흐흐', '흥', '휴', '헉헉', '헐떡헐떡', '영차', '여차', '어기여차', '끙끙', '아야', '앗', '아야', '콸콸', '졸졸', '좍좍', '뚝뚝', '주룩주룩', '솨', '우르르', '그래도', '또', '그리고', '바꾸어말하면', '바꾸어말하자면', '혹은', '혹시', '답다', '및', '그에 따르는', '때가 되어', '즉', '지든지', '설령', '가령', '하더라도', '할지라도', '일지라도', '지든지', '몇', '거의', '하마터면', '인젠', '이젠', '된바에야', '된이상', '만큼 \t어찌됏든', '그위에', '게다가', '점에서 보아', '비추어 보아', '고려하면', '하게될것이다', '일것이다', '비교적', '좀', '보다더', '비하면', '시키다', '하게하다', '할만하다', '의해서', '연이서', '이어서', '잇따라', '뒤따라', '뒤이어', '결국', '의지하여', '기대여', '통하여', '자마자', '더욱더', '불구하고', '얼마든지', '마음대로', '주저하지 않고', '곧', '즉시', '바로', '당장', '하자마자', '밖에 안된다', '하면된다', '그래', '그렇지', '요컨대', '다시 말하자면', '바꿔 말하면', '즉', '구체적으로', '말하자면', '시작하여', '시초에', '이상', '허', '헉', '허걱', '바와같이', '해도좋다', '해도된다', '게다가', '더구나', '하물며', '와르르', '팍', '퍽', '펄렁', '동안', '이래', '하고있었다', '이었다', '에서', '로부터', '까지', '예하면', '했어요', '해요', '함께', '같이', '더불어', '마저', '마저도', '양자', '모두', '습니다', '가까스로', '하려고하다', '즈음하여', '다른', '다른 방면으로', '해봐요', '습니까', '했어요', '말할것도 없고', '무릎쓰고', '개의치않고', '하는것만 못하다', '하는것이 낫다', '매', '매번', '들', '모', '어느것', '어느', '로써', '갖고말하자면', '어디', '어느쪽', '어느것', '어느해', '어느 년도', '라 해도', '언젠가', '어떤것', '어느것', '저기', '저쪽', '저것', '그때', '그럼', '그러면', '요만한걸', '그래', '그때', '저것만큼', '그저', '이르기까지', '할 줄 안다', '할 힘이 있다', '너', '너희', '당신', '어찌', '설마', '차라리', '할지언정', '할지라도', '할망정', '할지언정', '구토하다', '게우다', '토하다', '메쓰겁다', '옆사람', '퉤', '쳇', '의거하여', '근거하여', '의해', '따라', '힘입어', '그', '다음', '버금', '두번째로', '기타', '첫번째로', '나머지는', '그중에서', '견지에서', '형식으로 쓰여', '입장에서', '위해서', '단지', '의해되다', '하도록시키다', '뿐만아니라', '반대로', '전후', '전자', '앞의것', '잠시', '잠깐', '하면서', '그렇지만', '다음에', '그러한즉', '그런즉', '남들', '아무거나', '어찌하든지', '같다', '비슷하다', '예컨대', '이럴정도로', '어떻게', '만약', '만일', '위에서 서술한바와같이', '인 듯하다', '하지 않는다면', '만약에', '무엇', '무슨', '어느', '어떤', '아래윗', '조차', '한데', '그럼에도 불구하고', '여전히', '심지어', '까지도', '조차도', '하지 않도록', '않기 위하여', '때', '시각', '무렵', '시간', '동안', '어때', '어떠한', '하여금', '네', '예', '우선', '누구', '누가 알겠는가', '아무도', '줄은모른다', '줄은 몰랏다', '하는 김에', '겸사겸사', '하는바', '그런 까닭에', '한 이유는', '그러니', '그러니까', '때문에', '그', '너희', '그들', '너희들', '타인', '것', '것들', '너', '위하여', '공동으로', '동시에', '하기 위하여', '어찌하여', '무엇때문에', '붕붕', '윙윙', '나', '우리', '엉엉', '휘익', '윙윙', '오호', '아하', '어쨋든', '만 못하다 \t하기보다는', '차라리', '하는 편이 낫다', '흐흐', '놀라다', '상대적으로 말하자면', '마치', '아니라면', '쉿', '그렇지 않으면', '그렇지 않다면', '안 그러면', '아니었다면', '하든지', '아니면', '이라면', '좋아', '알았어', '하는것도', '그만이다', '어쩔수 없다', '하나', '일', '일반적으로', '일단', '한켠으로는', '오자마자', '이렇게되면', '이와같다면', '전부', '한마디', '한항목', '근거로', '하기에', '아울러', '하지 않도록', '않기 위해서', '이르기까지', '이 되다', '로 인하여', '까닭으로', '이유만으로', '이로 인하여', '그래서', '이 때문에', '그러므로', '그런 까닭에', '알 수 있다', '결론을 낼 수 있다', '으로 인하여', '있다', '어떤것', '관계가 있다', '관련이 있다', '연관되다', '어떤것들', '에 대해', '이리하여', '그리하여', '여부', '하기보다는', '하느니', '하면 할수록', '운운', '이러이러하다', '하구나', '하도다', '다시말하면', '다음으로', '에 있다', '에 달려 있다', '우리', '우리들', '오히려', '하기는한데', '어떻게', '어떻해', '어찌됏어', '어때', '어째서', '본대로', '자', '이', '이쪽', '여기', '이것', '이번', '이렇게말하자면', '이런', '이러한', '이와 같은', '요만큼', '요만한 것', '얼마 안 되는 것', '이만큼', '이 정도의', '이렇게 많은 것', '이와 같다', '이때', '이렇구나', '것과 같이', '끼익', '삐걱', '따위', '와 같은 사람들', '부류의 사람들', '왜냐하면', '중의하나', '오직', '오로지', '에 한하다', '하기만 하면', '도착하다', '까지 미치다', '도달하다', '정도에 이르다', '할 지경이다', '결과에 이르다', '관해서는', '여러분', '하고 있다', '한 후', '혼자', '자기', '자기집', '자신', '우에 종합한것과같이', '총적으로 보면', '총적으로 말하면', '총적으로', '대로 하다', '으로서', '참', '그만이다', '할 따름이다', '쿵', '탕탕', '쾅쾅', '둥둥', '봐', '봐라', '아이야', '아니', '와아', '응', '아이', '참나', '년', '월', '일', '령', '영', '일', '이', '삼', '사', '오', '육', '륙', '칠', '팔', '구', '이천육', '이천칠', '이천팔', '이천구', '하나', '둘', '셋', '넷', '다섯', '여섯', '일곱', '여덟', '아홉', '령', '영']\n",
    "\n",
    "# stopwords = stopwords + stopwords_extra\n",
    "\n",
    "def load_data(train_data, test_data, num_words=10000):\n",
    "    # 중복 제거\n",
    "    train_data.drop_duplicates(subset=['document'], inplace=True)\n",
    "    test_data.drop_duplicates(subset=['document'], inplace=True)\n",
    "    \n",
    "    # NaN 결측치 제거\n",
    "    train_data = train_data.dropna(how='any')\n",
    "    test_data = test_data.dropna(how='any')\n",
    "    \n",
    "    # 토큰화 및 불용어 제거\n",
    "    X_train = tokenize_and_remove_stopwords(train_data['document'], stopwords, tokenizer)\n",
    "    X_test = tokenize_and_remove_stopwords(test_data['document'], stopwords, tokenizer)\n",
    "    \n",
    "    words = np.concatenate(X_train).tolist()\n",
    "    counter = Counter(words)\n",
    "    counter = counter.most_common(10000-4)\n",
    "    vocab = ['<PAD>', '<BOS>', '<UNK>', '<UNUSED>'] + [key for key, _ in counter]\n",
    "    word_to_index = {word:index for index, word in enumerate(vocab)}\n",
    "    \n",
    "    def wordlist_to_indexlist(wordlist):\n",
    "        return [word_to_index[word] if word in word_to_index else word_to_index['<UNK>'] for word in wordlist]\n",
    "    \n",
    "    X_train = list(map(wordlist_to_indexlist, X_train))\n",
    "    X_test = list(map(wordlist_to_indexlist, X_test))\n",
    "    \n",
    "    return X_train, np.array(list(train_data['label'])), X_test, np.array(list(test_data['label'])), word_to_index\n",
    "\n",
    "X_train, y_train, X_test, y_test, word_to_index = load_data(train_data, test_data) \n",
    "\n",
    "print(X_train[10]) # 확인"
   ]
  },
  {
   "cell_type": "code",
   "execution_count": 3,
   "metadata": {},
   "outputs": [
    {
     "data": {
      "text/plain": [
       "'. 진짜 짱 다 ♥'"
      ]
     },
     "execution_count": 3,
     "metadata": {},
     "output_type": "execute_result"
    }
   ],
   "source": [
    "index_to_word = {index:word for word, index in word_to_index.items()}\n",
    "\n",
    "# 문장 1개를 활용할 딕셔너리와 함께 주면, 단어 인덱스 리스트 벡터로 변환해 주는 함수입니다. \n",
    "# 단, 모든 문장은 <BOS>로 시작하는 것으로 합니다. \n",
    "def get_encoded_sentence(sentence, word_to_index):\n",
    "    return [word_to_index['<BOS>']]+[word_to_index[word] if word in word_to_index else word_to_index['<UNK>'] for word in sentence.split()]\n",
    "\n",
    "# 여러 개의 문장 리스트를 한꺼번에 단어 인덱스 리스트 벡터로 encode해 주는 함수입니다. \n",
    "def get_encoded_sentences(sentences, word_to_index):\n",
    "    return [get_encoded_sentence(sentence, word_to_index) for sentence in sentences]\n",
    "\n",
    "# 숫자 벡터로 encode된 문장을 원래대로 decode하는 함수입니다. \n",
    "def get_decoded_sentence(encoded_sentence, index_to_word):\n",
    "    return ' '.join(index_to_word[index] if index in index_to_word else '<UNK>' for index in encoded_sentence[1:])  #[1:]를 통해 <BOS>를 제외\n",
    "\n",
    "# 여러개의 숫자 벡터로 encode된 문장을 한꺼번에 원래대로 decode하는 함수입니다. \n",
    "def get_decoded_sentences(encoded_sentences, index_to_word):\n",
    "    return [get_decoded_sentence(encoded_sentence, index_to_word) for encoded_sentence in encoded_sentences]\n",
    "\n",
    "get_decoded_sentence(X_train[10], index_to_word) # 확인"
   ]
  },
  {
   "cell_type": "markdown",
   "metadata": {},
   "source": [
    "## 3) 모델 구성을 위한 데이터 분석 및 가공"
   ]
  },
  {
   "cell_type": "code",
   "execution_count": 4,
   "metadata": {},
   "outputs": [
    {
     "name": "stdout",
     "output_type": "stream",
     "text": [
      "문장길이 평균:  15.969376315021577\n",
      "문장길이 최대:  116\n",
      "문장길이 표준편차:  12.843535456326455\n",
      "pad_sequences maxlen:  41\n",
      "전체 문장의 0.9342988343341575%가 maxlen 설정값 이내에 포함됩니다. \n"
     ]
    }
   ],
   "source": [
    "# 데이터셋 내 문장 길이 분포\n",
    "total_data_text = list(X_train) + list(X_test)\n",
    "# 텍스트데이터 문장길이의 리스트를 생성한 후\n",
    "num_tokens = [len(tokens) for tokens in total_data_text]\n",
    "num_tokens = np.array(num_tokens)\n",
    "# 문장길이의 평균값, 최대값, 표준편차를 계산해 본다. \n",
    "print('문장길이 평균: ', np.mean(num_tokens))\n",
    "print('문장길이 최대: ', np.max(num_tokens))\n",
    "print('문장길이 표준편차: ', np.std(num_tokens))\n",
    "\n",
    "# 예를들어, 최대 길이를 (평균 + 2*표준편차)로 한다면,  \n",
    "max_tokens = np.mean(num_tokens) + 2 * np.std(num_tokens)\n",
    "maxlen = int(max_tokens)\n",
    "print('pad_sequences maxlen: ', maxlen)\n",
    "print('전체 문장의 {}%가 maxlen 설정값 이내에 포함됩니다. '.format(np.sum(num_tokens < max_tokens) / len(num_tokens)))\n",
    "\n",
    "# 적절한 최대 문장 길이 (pad_sequences_maxlen): 41"
   ]
  },
  {
   "cell_type": "code",
   "execution_count": 5,
   "metadata": {},
   "outputs": [
    {
     "name": "stdout",
     "output_type": "stream",
     "text": [
      "(146182, 41)\n",
      "(49157, 41)\n"
     ]
    }
   ],
   "source": [
    "# keras.preprocessing.sequence.pad_sequences 을 활용한 패딩 추가\n",
    "X_train = keras.preprocessing.sequence.pad_sequences(X_train, value=word_to_index['<PAD>'], padding='pre', maxlen=maxlen)\n",
    "X_test = keras.preprocessing.sequence.pad_sequences(X_test, value=word_to_index['<PAD>'], padding='pre', maxlen=maxlen)\n",
    "\n",
    "print(X_train.shape)\n",
    "print(X_test.shape)"
   ]
  },
  {
   "cell_type": "markdown",
   "metadata": {},
   "source": [
    "## 4) 모델 구성 및 validation set 구성"
   ]
  },
  {
   "cell_type": "code",
   "execution_count": 6,
   "metadata": {},
   "outputs": [
    {
     "name": "stdout",
     "output_type": "stream",
     "text": [
      "Model: \"sequential\"\n",
      "_________________________________________________________________\n",
      "Layer (type)                 Output Shape              Param #   \n",
      "=================================================================\n",
      "embedding (Embedding)        (None, None, 200)         2000000   \n",
      "_________________________________________________________________\n",
      "global_max_pooling1d (Global (None, 200)               0         \n",
      "_________________________________________________________________\n",
      "dense (Dense)                (None, 8)                 1608      \n",
      "_________________________________________________________________\n",
      "dense_1 (Dense)              (None, 1)                 9         \n",
      "=================================================================\n",
      "Total params: 2,001,617\n",
      "Trainable params: 2,001,617\n",
      "Non-trainable params: 0\n",
      "_________________________________________________________________\n"
     ]
    }
   ],
   "source": [
    "vocab_size = 10000  # 어휘 사전의 크기입니다\n",
    "word_vector_dim = 200  # 워드 벡터의 차원 수 (변경 가능한 하이퍼파라미터)\n",
    "\n",
    "# 모델 1: RNN\n",
    "'''\n",
    "model = keras.Sequential()\n",
    "model.add(keras.layers.Embedding(vocab_size, word_vector_dim, input_shape=(None,)))\n",
    "model.add(keras.layers.LSTM(8))   # 가장 널리 쓰이는 RNN인 LSTM 레이어를 사용하였습니다. 이때 LSTM state 벡터의 차원수는 8로 하였습니다. (변경가능)\n",
    "model.add(keras.layers.Dense(8, activation='relu'))\n",
    "model.add(keras.layers.Dense(1, activation='sigmoid'))  # 최종 출력은 긍정/부정을 나타내는 1dim 입니다.\n",
    "\n",
    "model.summary()\n",
    "'''\n",
    "\n",
    "# 모델 2: 1-D CNN (1)\n",
    "'''\n",
    "model = keras.Sequential()\n",
    "model.add(keras.layers.Embedding(vocab_size, word_vector_dim, input_shape=(None,)))\n",
    "model.add(keras.layers.Conv1D(16, 7, activation='relu'))\n",
    "model.add(keras.layers.MaxPooling1D(5))\n",
    "model.add(keras.layers.Conv1D(16, 7, activation='relu'))\n",
    "model.add(keras.layers.GlobalMaxPooling1D())\n",
    "model.add(keras.layers.Dense(8, activation='relu'))\n",
    "model.add(keras.layers.Dense(1, activation='sigmoid'))  # 최종 출력은 긍정/부정을 나타내는 1dim 입니다.\n",
    "\n",
    "model.summary()\n",
    "'''\n",
    "\n",
    "# 모델 3: 1-D CNN (2)\n",
    "model = keras.Sequential()\n",
    "model.add(keras.layers.Embedding(vocab_size, word_vector_dim, input_shape=(None,)))\n",
    "model.add(keras.layers.GlobalMaxPooling1D())\n",
    "model.add(keras.layers.Dense(8, activation='relu'))\n",
    "model.add(keras.layers.Dense(1, activation='sigmoid'))  # 최종 출력은 긍정/부정을 나타내는 1dim 입니다.\n",
    "\n",
    "model.summary()"
   ]
  },
  {
   "cell_type": "markdown",
   "metadata": {},
   "source": [
    "## 5) 모델 훈련"
   ]
  },
  {
   "cell_type": "code",
   "execution_count": 7,
   "metadata": {},
   "outputs": [
    {
     "name": "stdout",
     "output_type": "stream",
     "text": [
      "Epoch 1/15\n",
      "188/188 [==============================] - 4s 21ms/step - loss: 0.4976 - accuracy: 0.7940 - val_loss: 0.3588 - val_accuracy: 0.8429\n",
      "Epoch 2/15\n",
      "188/188 [==============================] - 4s 20ms/step - loss: 0.3223 - accuracy: 0.8633 - val_loss: 0.3386 - val_accuracy: 0.8522\n",
      "Epoch 3/15\n",
      "188/188 [==============================] - 4s 20ms/step - loss: 0.2700 - accuracy: 0.8897 - val_loss: 0.3418 - val_accuracy: 0.8532\n",
      "Epoch 4/15\n",
      "188/188 [==============================] - 4s 20ms/step - loss: 0.2285 - accuracy: 0.9103 - val_loss: 0.3555 - val_accuracy: 0.8525\n",
      "Epoch 5/15\n",
      "188/188 [==============================] - 4s 20ms/step - loss: 0.1878 - accuracy: 0.9311 - val_loss: 0.3753 - val_accuracy: 0.8519\n",
      "Epoch 6/15\n",
      "188/188 [==============================] - 4s 20ms/step - loss: 0.1485 - accuracy: 0.9493 - val_loss: 0.4054 - val_accuracy: 0.8483\n",
      "Epoch 7/15\n",
      "188/188 [==============================] - 4s 20ms/step - loss: 0.1113 - accuracy: 0.9656 - val_loss: 0.4368 - val_accuracy: 0.8446\n",
      "Epoch 8/15\n",
      "188/188 [==============================] - 4s 20ms/step - loss: 0.0797 - accuracy: 0.9787 - val_loss: 0.4760 - val_accuracy: 0.8434\n",
      "Epoch 9/15\n",
      "188/188 [==============================] - 4s 20ms/step - loss: 0.0561 - accuracy: 0.9866 - val_loss: 0.5112 - val_accuracy: 0.8426\n",
      "Epoch 10/15\n",
      "188/188 [==============================] - 4s 20ms/step - loss: 0.0395 - accuracy: 0.9913 - val_loss: 0.5509 - val_accuracy: 0.8399\n",
      "Epoch 11/15\n",
      "188/188 [==============================] - 4s 20ms/step - loss: 0.0286 - accuracy: 0.9939 - val_loss: 0.5841 - val_accuracy: 0.8409\n",
      "Epoch 12/15\n",
      "188/188 [==============================] - 4s 20ms/step - loss: 0.0213 - accuracy: 0.9950 - val_loss: 0.6147 - val_accuracy: 0.8391\n",
      "Epoch 13/15\n",
      "188/188 [==============================] - 4s 20ms/step - loss: 0.0163 - accuracy: 0.9960 - val_loss: 0.6433 - val_accuracy: 0.8385\n",
      "Epoch 14/15\n",
      "188/188 [==============================] - 4s 20ms/step - loss: 0.0135 - accuracy: 0.9964 - val_loss: 0.6719 - val_accuracy: 0.8379\n",
      "Epoch 15/15\n",
      "188/188 [==============================] - 4s 20ms/step - loss: 0.0113 - accuracy: 0.9967 - val_loss: 0.6959 - val_accuracy: 0.8383\n"
     ]
    }
   ],
   "source": [
    "# validation set 분리 (임의로 50000건 설정)\n",
    "X_val = X_train[:50000]\n",
    "y_val = y_train[:50000]\n",
    "\n",
    "partial_X_train = X_train[50000:]\n",
    "partial_y_train = y_train[50000:]\n",
    "\n",
    "# print(partial_X_train.shape)\n",
    "# print(partial_y_train.shape)\n",
    "\n",
    "# 학습 시작\n",
    "model.compile(optimizer='adam', loss='binary_crossentropy', metrics=['accuracy'])\n",
    "\n",
    "# epochs = 20\n",
    "epochs = 15\n",
    "\n",
    "history = model.fit(partial_X_train, partial_y_train, epochs=epochs, batch_size=512, validation_data=(X_val, y_val), verbose=1)"
   ]
  },
  {
   "cell_type": "code",
   "execution_count": 8,
   "metadata": {},
   "outputs": [
    {
     "name": "stdout",
     "output_type": "stream",
     "text": [
      "1537/1537 - 2s - loss: 0.7119 - accuracy: 0.8315\n",
      "[0.7119163274765015, 0.8315397500991821]\n"
     ]
    }
   ],
   "source": [
    "# 테스트 셋으로 평가\n",
    "results = model.evaluate(X_test, y_test, verbose=2)\n",
    "print(results)"
   ]
  },
  {
   "cell_type": "markdown",
   "metadata": {},
   "source": [
    "## 6) loss, accuracy 그래프 시각화"
   ]
  },
  {
   "cell_type": "code",
   "execution_count": 9,
   "metadata": {},
   "outputs": [
    {
     "name": "stdout",
     "output_type": "stream",
     "text": [
      "dict_keys(['loss', 'accuracy', 'val_loss', 'val_accuracy'])\n"
     ]
    },
    {
     "data": {
      "image/png": "[encoded data removed]",
      "text/plain": [
       "<Figure size 432x288 with 1 Axes>"
      ]
     },
     "metadata": {
      "needs_background": "light"
     },
     "output_type": "display_data"
    }
   ],
   "source": [
    "history_dict = history.history\n",
    "print(history_dict.keys()) # epoch에 따른 그래프를 그려볼 수 있는 항목들\n",
    "\n",
    "acc = history_dict['accuracy']\n",
    "val_acc = history_dict['val_accuracy']\n",
    "loss = history_dict['loss']\n",
    "val_loss = history_dict['val_loss']\n",
    "\n",
    "# training and validation loss\n",
    "\n",
    "epochs = range(1, len(acc) + 1)\n",
    "\n",
    "# \"bo\"는 \"파란색 점\"입니다\n",
    "plt.plot(epochs, loss, 'bo', label='Training loss')\n",
    "# b는 \"파란 실선\"입니다\n",
    "plt.plot(epochs, val_loss, 'b', label='Validation loss')\n",
    "plt.title('Training and validation loss')\n",
    "plt.xlabel('Epochs')\n",
    "plt.ylabel('Loss')\n",
    "plt.legend()\n",
    "\n",
    "plt.show()"
   ]
  },
  {
   "cell_type": "code",
   "execution_count": 10,
   "metadata": {},
   "outputs": [
    {
     "data": {
      "image/png": "[encoded data removed]",
      "text/plain": [
       "<Figure size 432x288 with 1 Axes>"
      ]
     },
     "metadata": {
      "needs_background": "light"
     },
     "output_type": "display_data"
    }
   ],
   "source": [
    "plt.clf() # 그림을 초기화합니다\n",
    "\n",
    "# training and validation accuracy\n",
    "\n",
    "plt.plot(epochs, acc, 'bo', label='Training acc')\n",
    "plt.plot(epochs, val_acc, 'b', label='Validation acc')\n",
    "plt.title('Training and validation accuracy')\n",
    "plt.xlabel('Epochs')\n",
    "plt.ylabel('Accuracy')\n",
    "plt.legend()\n",
    "\n",
    "plt.show()"
   ]
  },
  {
   "cell_type": "markdown",
   "metadata": {},
   "source": [
    "## 7) 학습된 embedding 레이어 분석"
   ]
  },
  {
   "cell_type": "code",
   "execution_count": 11,
   "metadata": {},
   "outputs": [],
   "source": [
    "# gensim의 유사단어 찾기를 활용하여 자체학습한 임베딩과 사전학습 임베딩을 적절히 분석함\n",
    "\n",
    "import os\n",
    "\n",
    "# 학습한 Embedding 파라미터를 파일에 써서 저장합니다. \n",
    "word2vec_file_path = 'word2vec.txt'\n",
    "f = open(word2vec_file_path, 'w')\n",
    "f.write('{} {}\\n'.format(vocab_size-4, word_vector_dim))  # 몇개의 벡터를 얼마 사이즈로 기재할지 타이틀을 씁니다.\n",
    "\n",
    "# 단어 개수(에서 특수문자 4개는 제외하고)만큼의 워드 벡터를 파일에 기록합니다. \n",
    "vectors = model.get_weights()[0]\n",
    "for i in range(4,vocab_size):\n",
    "    f.write('{} {}\\n'.format(index_to_word[i], ' '.join(map(str, list(vectors[i, :])))))\n",
    "f.close()"
   ]
  },
  {
   "cell_type": "code",
   "execution_count": 12,
   "metadata": {},
   "outputs": [
    {
     "data": {
      "text/plain": [
       "array([-0.03251353, -0.06839322, -0.1138526 ,  0.16364762, -0.03628816,\n",
       "       -0.09643628, -0.07076682, -0.02264139,  0.02602107, -0.09654023,\n",
       "       -0.08085547, -0.04342678, -0.08712085,  0.0793348 , -0.08976958,\n",
       "       -0.06020071, -0.08390563, -0.11545346, -0.01924392, -0.08215418,\n",
       "        0.09143356, -0.10518647,  0.05347978, -0.00900192, -0.06414169,\n",
       "       -0.10518866, -0.03868299, -0.10546599, -0.05536991, -0.02806398,\n",
       "        0.12632693,  0.020235  , -0.04583343, -0.07198749,  0.0624716 ,\n",
       "       -0.03850498, -0.01944011,  0.00525736, -0.06203613, -0.10280845,\n",
       "       -0.06672879, -0.11551769, -0.04043263, -0.05127222, -0.0919462 ,\n",
       "        0.11128458, -0.0129028 , -0.02589302,  0.16054915, -0.00637201,\n",
       "       -0.09207883, -0.07779438, -0.10118309, -0.00761801, -0.10751953,\n",
       "       -0.08793128,  0.05143717, -0.10981461,  0.08854376, -0.03801231,\n",
       "       -0.05985857, -0.05480541, -0.08275139, -0.13054222,  0.04893341,\n",
       "        0.12453657, -0.04815783,  0.15660359,  0.05786481, -0.10238133,\n",
       "       -0.04287203, -0.03016188,  0.08828507, -0.04962137,  0.12305299,\n",
       "        0.07833897, -0.11403716,  0.04522921,  0.10391387, -0.08325488,\n",
       "       -0.0813237 , -0.04554842,  0.04004478, -0.01754022, -0.11560104,\n",
       "        0.08928855,  0.14297795,  0.08771885, -0.04553559, -0.05386141,\n",
       "       -0.06572211, -0.01020784, -0.04511619, -0.07887994,  0.13376069,\n",
       "       -0.03054095,  0.10284033, -0.09068013,  0.09668503,  0.14340025,\n",
       "        0.07763052,  0.03033309, -0.03868532, -0.04383545,  0.07134124,\n",
       "       -0.08383448, -0.03286317, -0.08828538, -0.13242505, -0.11551455,\n",
       "       -0.05425334,  0.04031273, -0.07077706, -0.0746655 , -0.01968302,\n",
       "        0.08408347, -0.09560063, -0.10586786, -0.06484331,  0.12336376,\n",
       "        0.16061108,  0.21119517, -0.06220066, -0.10233851, -0.01391737,\n",
       "        0.00567906,  0.10270456, -0.05956984, -0.07050715, -0.05764698,\n",
       "       -0.06858584, -0.03433083, -0.11485632, -0.06823738, -0.10911416,\n",
       "       -0.12422834, -0.03352347, -0.08372921, -0.07501289, -0.06485388,\n",
       "       -0.1242487 , -0.08144622,  0.08497726, -0.0753468 , -0.03492347,\n",
       "       -0.06636202, -0.08663578,  0.17933702,  0.08415835, -0.06645549,\n",
       "        0.06500785, -0.08966143, -0.09117347,  0.01446179, -0.07878381,\n",
       "       -0.11685241, -0.11380296, -0.06080496,  0.12936291, -0.08278216,\n",
       "       -0.05192459,  0.06411255, -0.07695628, -0.07293561, -0.09088621,\n",
       "       -0.08799425, -0.02718903, -0.03230849,  0.15896556, -0.06922247,\n",
       "        0.12789287, -0.02430811,  0.08270871, -0.08923797, -0.11624943,\n",
       "        0.09686404, -0.06743308, -0.07788939, -0.07125486,  0.00610324,\n",
       "       -0.10573884,  0.11313569, -0.0923596 , -0.05485066, -0.0985397 ,\n",
       "       -0.05178115, -0.10236425, -0.02470093, -0.0556175 ,  0.00065584,\n",
       "       -0.08128384, -0.04765213, -0.02866465,  0.18193616, -0.07692057,\n",
       "       -0.07692625,  0.00188419, -0.02003596, -0.09545113,  0.11797283],\n",
       "      dtype=float32)"
      ]
     },
     "execution_count": 12,
     "metadata": {},
     "output_type": "execute_result"
    }
   ],
   "source": [
    "from gensim.models.keyedvectors import Word2VecKeyedVectors\n",
    "\n",
    "word_vectors = Word2VecKeyedVectors.load_word2vec_format(word2vec_file_path, binary=False)\n",
    "vector = word_vectors['짜증']\n",
    "vector"
   ]
  },
  {
   "cell_type": "code",
   "execution_count": 13,
   "metadata": {},
   "outputs": [
    {
     "data": {
      "text/plain": [
       "[('하', 0.4809167981147766),\n",
       " ('신경', 0.47514617443084717),\n",
       " ('진짜', 0.4645177721977234),\n",
       " ('했', 0.45241010189056396),\n",
       " ('영화', 0.45089179277420044),\n",
       " ('고', 0.44470852613449097),\n",
       " ('다', 0.43090760707855225),\n",
       " ('.', 0.4217946231365204),\n",
       " ('까지', 0.4203965663909912),\n",
       " ('시리즈', 0.4203202426433563)]"
      ]
     },
     "execution_count": 13,
     "metadata": {},
     "output_type": "execute_result"
    }
   ],
   "source": [
    "word_vectors.similar_by_word(\"재미\")"
   ]
  },
  {
   "cell_type": "markdown",
   "metadata": {},
   "source": [
    "## 8) 한국어 word2vec 임베딩 활용해 성능 개선"
   ]
  },
  {
   "cell_type": "code",
   "execution_count": 14,
   "metadata": {},
   "outputs": [
    {
     "name": "stderr",
     "output_type": "stream",
     "text": [
      "/home/aiffel0042/anaconda3/envs/aiffel/lib/python3.7/site-packages/ipykernel_launcher.py:7: DeprecationWarning: Call to deprecated `__getitem__` (Method will be removed in 4.0.0, use self.wv.__getitem__() instead).\n",
      "  import sys\n"
     ]
    },
    {
     "data": {
      "text/plain": [
       "array([-1.4411083 , -0.78142536,  2.453768  , -0.86445606,  0.24195324,\n",
       "        0.36006922, -1.0639709 ,  0.85037315, -1.0184479 ,  0.21196692,\n",
       "       -0.6679936 ,  0.6389819 , -0.26964295,  0.66028535,  0.39613017,\n",
       "        0.6428288 ,  0.6648245 ,  0.08363932, -0.2540794 ,  0.55310047,\n",
       "        0.63392764,  0.19311981, -0.4648248 ,  0.1490374 ,  2.0762694 ,\n",
       "        0.7872764 , -0.21711552, -0.59049505, -1.3264338 , -0.06233318,\n",
       "        1.2550159 , -0.05334642, -0.5453753 , -0.8736315 ,  0.5253877 ,\n",
       "        0.03122815,  0.8280226 ,  0.23597455,  0.06136359,  1.5114233 ,\n",
       "       -0.340495  ,  0.912277  ,  0.5899006 , -1.3025732 , -0.87596595,\n",
       "        0.21738248,  1.0366931 , -0.55709684, -0.9039502 ,  0.28133616,\n",
       "       -1.7572548 , -0.29769212, -0.14536098,  0.5850025 , -0.6111547 ,\n",
       "       -0.29829553,  1.4106004 , -0.38685524,  0.4801454 ,  0.40166005,\n",
       "        0.28174093,  1.6133646 , -0.8590998 ,  0.49886975,  0.38605362,\n",
       "       -0.1607663 , -0.87983316,  0.21996935,  0.68561727, -0.8434425 ,\n",
       "        0.02520839, -0.8017276 , -0.4882501 ,  0.5937627 , -0.22273438,\n",
       "       -2.1169198 ,  0.11167947,  1.2840736 ,  0.37050653, -0.49218208,\n",
       "       -0.38447312, -0.04923964,  0.818749  ,  0.14430618,  0.12984185,\n",
       "        1.3372396 , -0.27832717, -0.4163464 , -1.2846806 ,  0.22243507,\n",
       "        1.4398693 , -0.62261546,  0.85881597,  0.35206348, -0.7983542 ,\n",
       "       -0.5648404 , -0.80835617,  1.0770288 ,  0.9198583 ,  0.24598446,\n",
       "       -0.339867  , -0.20509662, -0.68669695, -0.00623814, -0.6275429 ,\n",
       "        2.329253  ,  0.33655322, -0.1590611 , -0.4120386 , -1.5890588 ,\n",
       "        0.37837315,  0.846773  , -0.3125741 , -0.748276  ,  1.5007688 ,\n",
       "       -1.5616585 , -0.33911368, -0.9860547 ,  0.27350205, -0.17658691,\n",
       "        1.2938571 , -0.04034536,  0.80943936, -2.320362  ,  0.49740836,\n",
       "        0.4615926 , -0.31530836, -1.782714  ,  0.25635827,  0.02759444,\n",
       "        1.0618365 ,  1.3092015 ,  1.1857753 ,  0.01812731,  0.9814533 ,\n",
       "        0.14263195,  0.899134  , -0.8500094 , -1.7148823 , -0.43185592,\n",
       "        0.415446  ,  1.6975207 , -0.3643097 , -0.6528986 , -0.18492346,\n",
       "        0.31824046,  0.12755737,  0.92763597, -0.00657997,  0.3986357 ,\n",
       "       -0.07185496,  0.26286292,  0.39870608,  0.20413135,  0.99198246,\n",
       "        1.4120847 , -0.756356  ,  1.3712298 , -0.81753194, -0.44601068,\n",
       "        0.05893052, -0.21582486, -0.8041302 ,  0.9012229 ,  0.02169448,\n",
       "       -2.1358564 ,  0.63579637,  1.9117936 , -0.6807319 ,  1.4326098 ,\n",
       "       -1.156477  , -0.41411826,  1.0657284 , -1.3112395 ,  0.4747043 ,\n",
       "        0.5321504 ,  0.0543594 , -0.41400573, -0.96152973, -0.06286933,\n",
       "       -0.9848911 , -0.96814924,  0.05603024, -0.3239202 ,  0.7511623 ,\n",
       "        1.127266  ,  0.09363312, -0.14667176,  0.19069506,  0.23503011,\n",
       "        0.42607984, -0.36619186,  0.74711823,  0.47436306, -0.6458395 ,\n",
       "        0.9339805 ,  0.5576014 ,  0.41820145, -0.01330989, -0.36533296],\n",
       "      dtype=float32)"
      ]
     },
     "execution_count": 14,
     "metadata": {},
     "output_type": "execute_result"
    }
   ],
   "source": [
    "# from gensim.models import KeyedVectors\n",
    "import gensim\n",
    "\n",
    "word2vec_path = 'ko.bin'\n",
    "# word2vec = KeyedVectors.load_word2vec_format(word2vec_path, binary=False)\n",
    "word2vec = gensim.models.Word2Vec.load(word2vec_path)\n",
    "vector = word2vec['감동']\n",
    "vector"
   ]
  },
  {
   "cell_type": "code",
   "execution_count": 15,
   "metadata": {},
   "outputs": [
    {
     "name": "stderr",
     "output_type": "stream",
     "text": [
      "/home/aiffel0042/anaconda3/envs/aiffel/lib/python3.7/site-packages/ipykernel_launcher.py:1: DeprecationWarning: Call to deprecated `similar_by_word` (Method will be removed in 4.0.0, use self.wv.similar_by_word() instead).\n",
      "  \"\"\"Entry point for launching an IPython kernel.\n"
     ]
    },
    {
     "data": {
      "text/plain": [
       "[('코미디', 0.7576364874839783),\n",
       " ('로맨스', 0.7021660804748535),\n",
       " ('스릴러', 0.6693053841590881),\n",
       " ('개그', 0.6552960872650146),\n",
       " ('주제곡', 0.6495761871337891),\n",
       " ('뮤지컬', 0.6382304430007935),\n",
       " ('시트콤', 0.6167846322059631),\n",
       " ('서부극', 0.6151247620582581),\n",
       " ('연극과', 0.6083630323410034),\n",
       " ('서정적', 0.5965933799743652)]"
      ]
     },
     "execution_count": 15,
     "metadata": {},
     "output_type": "execute_result"
    }
   ],
   "source": [
    "word2vec.similar_by_word(\"로맨틱\")"
   ]
  },
  {
   "cell_type": "code",
   "execution_count": 16,
   "metadata": {},
   "outputs": [
    {
     "name": "stderr",
     "output_type": "stream",
     "text": [
      "/home/aiffel0042/anaconda3/envs/aiffel/lib/python3.7/site-packages/ipykernel_launcher.py:11: DeprecationWarning: Call to deprecated `__contains__` (Method will be removed in 4.0.0, use self.wv.__contains__() instead).\n",
      "  # This is added back by InteractiveShellApp.init_path()\n",
      "/home/aiffel0042/anaconda3/envs/aiffel/lib/python3.7/site-packages/ipykernel_launcher.py:12: DeprecationWarning: Call to deprecated `__getitem__` (Method will be removed in 4.0.0, use self.wv.__getitem__() instead).\n",
      "  if sys.path[0] == '':\n"
     ]
    }
   ],
   "source": [
    "from tensorflow import keras\n",
    "\n",
    "vocab_size = 10000    # 어휘 사전의 크기입니다(10,000개의 단어)\n",
    "word_vector_dim = 200  # 워드 벡터의 차원수 (변경가능한 하이퍼파라미터) \n",
    "# could not broadcast input array from shape (200) into shape (300)\n",
    "\n",
    "embedding_matrix = np.random.rand(vocab_size, word_vector_dim)\n",
    "\n",
    "# embedding_matrix에 Word2Vec 워드벡터를 단어 하나씩마다 차례차례 카피한다.\n",
    "for i in range(4,vocab_size):\n",
    "    if index_to_word[i] in word2vec:\n",
    "        embedding_matrix[i] = word2vec[index_to_word[i]]"
   ]
  },
  {
   "cell_type": "code",
   "execution_count": 17,
   "metadata": {},
   "outputs": [
    {
     "name": "stdout",
     "output_type": "stream",
     "text": [
      "Model: \"sequential_1\"\n",
      "_________________________________________________________________\n",
      "Layer (type)                 Output Shape              Param #   \n",
      "=================================================================\n",
      "embedding_1 (Embedding)      (None, None, 200)         2000000   \n",
      "_________________________________________________________________\n",
      "global_max_pooling1d_1 (Glob (None, 200)               0         \n",
      "_________________________________________________________________\n",
      "dense_2 (Dense)              (None, 8)                 1608      \n",
      "_________________________________________________________________\n",
      "dense_3 (Dense)              (None, 1)                 9         \n",
      "=================================================================\n",
      "Total params: 2,001,617\n",
      "Trainable params: 2,001,617\n",
      "Non-trainable params: 0\n",
      "_________________________________________________________________\n"
     ]
    }
   ],
   "source": [
    "from tensorflow.keras.initializers import Constant\n",
    "\n",
    "vocab_size = 10000    # 어휘 사전의 크기입니다(10,000개의 단어)\n",
    "word_vector_dim = 200  # 워드 벡터의 차원수 (변경가능한 하이퍼파라미터)\n",
    "\n",
    "# 모델 구성\n",
    "\n",
    "# 모델 1: RNN\n",
    "'''\n",
    "model = keras.Sequential()\n",
    "model.add(keras.layers.Embedding(vocab_size, word_vector_dim, input_shape=(None,)))\n",
    "model.add(keras.layers.LSTM(8))   # 가장 널리 쓰이는 RNN인 LSTM 레이어를 사용하였습니다. 이때 LSTM state 벡터의 차원수는 8로 하였습니다. (변경가능)\n",
    "model.add(keras.layers.Dense(8, activation='relu'))\n",
    "model.add(keras.layers.Dense(1, activation='sigmoid'))  # 최종 출력은 긍정/부정을 나타내는 1dim 입니다.\n",
    "\n",
    "model.summary()\n",
    "'''\n",
    "\n",
    "# 모델 2: 1-D CNN (1)\n",
    "'''\n",
    "model = keras.Sequential()\n",
    "model.add(keras.layers.Embedding(vocab_size, word_vector_dim, input_shape=(None,)))\n",
    "model.add(keras.layers.Conv1D(16, 7, activation='relu'))\n",
    "model.add(keras.layers.MaxPooling1D(5))\n",
    "model.add(keras.layers.Conv1D(16, 7, activation='relu'))\n",
    "model.add(keras.layers.GlobalMaxPooling1D())\n",
    "model.add(keras.layers.Dense(8, activation='relu'))\n",
    "model.add(keras.layers.Dense(1, activation='sigmoid'))  # 최종 출력은 긍정/부정을 나타내는 1dim 입니다.\n",
    "\n",
    "model.summary()\n",
    "'''\n",
    "\n",
    "# 모델 3: 1-D CNN (2)\n",
    "model = keras.Sequential()\n",
    "model.add(keras.layers.Embedding(vocab_size, word_vector_dim, input_shape=(None,)))\n",
    "model.add(keras.layers.GlobalMaxPooling1D())\n",
    "model.add(keras.layers.Dense(8, activation='relu'))\n",
    "model.add(keras.layers.Dense(1, activation='sigmoid'))  # 최종 출력은 긍정/부정을 나타내는 1dim 입니다.\n",
    "\n",
    "model.summary()"
   ]
  },
  {
   "cell_type": "code",
   "execution_count": 18,
   "metadata": {},
   "outputs": [
    {
     "name": "stdout",
     "output_type": "stream",
     "text": [
      "Epoch 1/15\n",
      "188/188 [==============================] - 4s 20ms/step - loss: 0.5119 - accuracy: 0.7651 - val_loss: 0.3643 - val_accuracy: 0.8424\n",
      "Epoch 2/15\n",
      "188/188 [==============================] - 4s 20ms/step - loss: 0.3251 - accuracy: 0.8632 - val_loss: 0.3404 - val_accuracy: 0.8526\n",
      "Epoch 3/15\n",
      "188/188 [==============================] - 4s 20ms/step - loss: 0.2722 - accuracy: 0.8904 - val_loss: 0.3430 - val_accuracy: 0.8533\n",
      "Epoch 4/15\n",
      "188/188 [==============================] - 4s 21ms/step - loss: 0.2297 - accuracy: 0.9112 - val_loss: 0.3555 - val_accuracy: 0.8531\n",
      "Epoch 5/15\n",
      "188/188 [==============================] - 4s 20ms/step - loss: 0.1890 - accuracy: 0.9308 - val_loss: 0.3768 - val_accuracy: 0.8505\n",
      "Epoch 6/15\n",
      "188/188 [==============================] - 4s 20ms/step - loss: 0.1494 - accuracy: 0.9491 - val_loss: 0.4020 - val_accuracy: 0.8491\n",
      "Epoch 7/15\n",
      "188/188 [==============================] - 4s 20ms/step - loss: 0.1131 - accuracy: 0.9657 - val_loss: 0.4379 - val_accuracy: 0.8445\n",
      "Epoch 8/15\n",
      "188/188 [==============================] - 4s 20ms/step - loss: 0.0830 - accuracy: 0.9778 - val_loss: 0.4714 - val_accuracy: 0.8435\n",
      "Epoch 9/15\n",
      "188/188 [==============================] - 4s 20ms/step - loss: 0.0593 - accuracy: 0.9855 - val_loss: 0.5065 - val_accuracy: 0.8413\n",
      "Epoch 10/15\n",
      "188/188 [==============================] - 4s 20ms/step - loss: 0.0428 - accuracy: 0.9904 - val_loss: 0.5455 - val_accuracy: 0.8408\n",
      "Epoch 11/15\n",
      "188/188 [==============================] - 4s 20ms/step - loss: 0.0314 - accuracy: 0.9931 - val_loss: 0.5774 - val_accuracy: 0.8406\n",
      "Epoch 12/15\n",
      "188/188 [==============================] - 4s 20ms/step - loss: 0.0234 - accuracy: 0.9947 - val_loss: 0.6080 - val_accuracy: 0.8380\n",
      "Epoch 13/15\n",
      "188/188 [==============================] - 4s 20ms/step - loss: 0.0185 - accuracy: 0.9958 - val_loss: 0.6380 - val_accuracy: 0.8395\n",
      "Epoch 14/15\n",
      "188/188 [==============================] - 4s 20ms/step - loss: 0.0153 - accuracy: 0.9961 - val_loss: 0.6621 - val_accuracy: 0.8381\n",
      "Epoch 15/15\n",
      "188/188 [==============================] - 4s 20ms/step - loss: 0.0131 - accuracy: 0.9964 - val_loss: 0.6866 - val_accuracy: 0.8383\n"
     ]
    }
   ],
   "source": [
    "# 학습의 진행\n",
    "model.compile(optimizer='adam',\n",
    "              loss='binary_crossentropy',\n",
    "              metrics=['accuracy'])\n",
    "              \n",
    "# epochs = 20  # 몇 epoch를 훈련하면 좋을지 결과를 보면서 바꾸어 봅시다. \n",
    "epochs = 15\n",
    "\n",
    "history = model.fit(partial_X_train,\n",
    "                    partial_y_train,\n",
    "                    epochs=epochs,\n",
    "                    batch_size=512,\n",
    "                    validation_data=(X_val, y_val),\n",
    "                    verbose=1)"
   ]
  },
  {
   "cell_type": "code",
   "execution_count": 19,
   "metadata": {},
   "outputs": [
    {
     "name": "stdout",
     "output_type": "stream",
     "text": [
      "1537/1537 - 2s - loss: 0.7090 - accuracy: 0.8315\n",
      "[0.7090493440628052, 0.8315397500991821]\n"
     ]
    }
   ],
   "source": [
    "# 테스트셋을 통한 모델 평가\n",
    "results = model.evaluate(X_test, y_test, verbose=2)\n",
    "print(results)"
   ]
  }
 ],
 "metadata": {
  "kernelspec": {
   "display_name": "aiffel",
   "language": "python",
   "name": "aiffel"
  },
  "language_info": {
   "codemirror_mode": {
    "name": "ipython",
    "version": 3
   },
   "file_extension": ".py",
   "mimetype": "text/x-python",
   "name": "python",
   "nbconvert_exporter": "python",
   "pygments_lexer": "ipython3",
   "version": "3.7.6"
  }
 },
 "nbformat": 4,
 "nbformat_minor": 4
}
