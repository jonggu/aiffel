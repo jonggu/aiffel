{
 "cells": [
  {
   "cell_type": "markdown",
   "metadata": {},
   "source": [
    "# 1-7. 프로젝트: 가위바위보 분류기 만들기   \n",
    "   \n",
    "* training set(총 2341장): 김윤경님 + 강종구(2차) + 이영빈님(2차) + 홍진표님(2차) + 이영빈님(3차) \n",
    "* test set(총 300장): 홍진표님(1차) \n",
    "* epochs: 10\n",
    "\n",
    "첫 번째 Exploration Stage에서는 가위바위보 분류기를 만들었다.\n",
    "\n",
    "실습에서 해본 0~9 숫자 분류 모델의 input_shape 중 3번째 파라미터를 흑백(1)을 RGB(3)로 변경했다. 마지막 Dense의 첫 파라미터가 최종 분류기의 클래스 수임을 알게 되어 3(가위, 바위, 보)으로 변경했다. 아직 Sequential Model의 내용을 정확히 이해할 수는 없지만, 파라미터 값을 바꿀 때마다 accuracy가 달라짐을 확인했다.   \n",
    "   \n",
    "트레이닝 시에는 영향을 끼치는 몇 가지 요인이 있었다. 첫째, 데이터가 되는 손 사진을 말끔한 벽을 뒤에 두고 찍어 손과 배경이 명확히 구분되도록 하면 정확도가 올라갔다. 둘째, 조원들의 사진과 슬랙에 공유된 사진을 모아 training data의 양이 많아질수록 정확도가 올라갔다. 테스트 데이터 역시 트레이닝 데이터와 비슷한 환경에서 찍힌 것이어야 모델이 인식을 잘 하는 것으로 보인다.\n",
    "\n",
    "---\n",
    "\n",
    "<테스트 결과>\n",
    "* 1차 테스트\n",
    "```\n",
    "10/10 - 2s - loss: 2.7910 - accuracy: 0.6900\n",
    "test_loss: 2.790980339050293 \n",
    "test_accuracy: 0.6899999976158142\n",
    "```\n",
    "* 2차 테스트\n",
    "```\n",
    "10/10 - 2s - loss: 2.2659 - accuracy: 0.6667\n",
    "test_loss: 2.265941619873047 \n",
    "test_accuracy: 0.6666666865348816\n",
    "```"
   ]
  },
  {
   "cell_type": "code",
   "execution_count": 1,
   "metadata": {},
   "outputs": [],
   "source": [
    "# initialize\n",
    "import numpy as np\n",
    "\n",
    "training_filetype = \"JPEG\"\n",
    "training_endswith = \".jpg\"\n",
    "\n",
    "test_filetype = \"JPEG\"\n",
    "test_endswith = \".jpg\""
   ]
  },
  {
   "cell_type": "markdown",
   "metadata": {},
   "source": [
    "## 데이터를 준비하자"
   ]
  },
  {
   "cell_type": "markdown",
   "metadata": {},
   "source": [
    "### 데이터 불러오기 + resize 하기"
   ]
  },
  {
   "cell_type": "code",
   "execution_count": 2,
   "metadata": {},
   "outputs": [
    {
     "name": "stdout",
     "output_type": "stream",
     "text": [
      "Requirement already satisfied: pillow in /home/aiffel0042/anaconda3/envs/aiffel/lib/python3.7/site-packages (7.2.0)\n",
      "PIL 라이브러리 import 완료!\n"
     ]
    }
   ],
   "source": [
    "# PIL 라이브러리가 설치되어 있지 않다면 설치\n",
    "!pip install pillow\n",
    "\n",
    "from PIL import Image\n",
    "import os, glob\n",
    "\n",
    "print(\"PIL 라이브러리 import 완료!\")"
   ]
  },
  {
   "cell_type": "code",
   "execution_count": null,
   "metadata": {},
   "outputs": [],
   "source": [
    "# 이미지 크기 변환 (이미 되어있으므로 생략)\n",
    "'''\n",
    "img_dirs = [{'name': \"scissor\", 'path': \"/aiffel/rock_scissor_paper/scissor\"},\n",
    "        {'name': \"rock\", 'path': \"/aiffel/rock_scissor_paper/rock\"},\n",
    "        {'name': \"paper\", 'path': \"/aiffel/rock_scissor_paper/paper\"}]\n",
    "\n",
    "for img_dir in img_dirs:\n",
    "    print(\"현재 이미지 종류: \" + img_dir['name'])\n",
    "    curr_path = os.getenv(\"HOME\") + img_dir['path']\n",
    "    print(\">> 이미지 디렉토리 경로: \", img_dir['path'])\n",
    "\n",
    "    images = glob.glob(curr_path + \"/*\" + training_endswith)\n",
    "    \n",
    "    # 파일마다 모두 28x28 사이즈로 바꾸어 저장합니다.\n",
    "    target_size = (28, 28)\n",
    "    for img in images:\n",
    "        old_img = Image.open(img)\n",
    "        new_img = old_img.resize(target_size, Image.ANTIALIAS)\n",
    "        new_img.save(img, training_filetype)\n",
    "    \n",
    "    print(\"* resize completed: \" + img_dir['name'] + \" (\" str(len(images)) + \")\")\n",
    "'''"
   ]
  },
  {
   "cell_type": "code",
   "execution_count": 3,
   "metadata": {},
   "outputs": [
    {
     "name": "stdout",
     "output_type": "stream",
     "text": [
      "학습데이터(x_train)의 이미지 개수는 2341 입니다.\n",
      "x_train shape: (2341, 28, 28, 3)\n",
      "y_train shape: (2341,)\n"
     ]
    }
   ],
   "source": [
    "def load_training_data(img_path, file_endswith):\n",
    "    # 가위: 0 / 바위: 1 / 보: 2\n",
    "    number_of_data = 2341\n",
    "    img_size = 28\n",
    "    color = 3\n",
    "    \n",
    "    # 이미지 데이터와 라벨 데이터를 담을 행렬(matrix) 영역 생성\n",
    "    imgs = np.zeros(number_of_data * img_size * img_size * color, dtype=np.int32).reshape(number_of_data, img_size, img_size, color)\n",
    "    labels = np.zeros(number_of_data, dtype=np.int32)\n",
    "    \n",
    "    idx = 0\n",
    "    for file in glob.iglob(img_path + '/scissor/*' + file_endswith):\n",
    "        img = np.array(Image.open(file), dtype=np.int32)\n",
    "        imgs[idx,:,:,:] = img    # 데이터 영역에 이미지 행렬을 복사\n",
    "        labels[idx] = 0   # 가위 : 0\n",
    "        idx = idx + 1\n",
    "        \n",
    "    for file in glob.iglob(img_path + '/rock/*' + file_endswith):\n",
    "        img = np.array(Image.open(file), dtype=np.int32)\n",
    "        imgs[idx,:,:,:] = img    # 데이터 영역에 이미지 행렬을 복사\n",
    "        labels[idx] = 1   # 바위 : 1\n",
    "        idx = idx + 1\n",
    "        \n",
    "    for file in glob.iglob(img_path + '/paper/*' + file_endswith):\n",
    "        img = np.array(Image.open(file), dtype=np.int32)\n",
    "        imgs[idx,:,:,:] = img    # 데이터 영역에 이미지 행렬을 복사\n",
    "        labels[idx] = 2   # 보 : 2\n",
    "        idx = idx + 1\n",
    "        \n",
    "    print(\"학습데이터(x_train)의 이미지 개수는\", idx, \"입니다.\")\n",
    "    return imgs, labels\n",
    "\n",
    "image_dir_path_training = os.getenv(\"HOME\") + \"/aiffel/rock_scissor_paper/train_retake_combined\"\n",
    "(x_train, y_train)=load_training_data(image_dir_path_training, training_endswith)\n",
    "x_train_norm = x_train/255.0   # 입력은 0~1 사이의 값으로 정규화\n",
    "\n",
    "print(\"x_train shape: {}\".format(x_train.shape))\n",
    "print(\"y_train shape: {}\".format(y_train.shape))"
   ]
  },
  {
   "cell_type": "code",
   "execution_count": 4,
   "metadata": {},
   "outputs": [
    {
     "name": "stdout",
     "output_type": "stream",
     "text": [
      "라벨:  0\n"
     ]
    },
    {
     "data": {
      "image/png": "[encoded data removed]",
      "text/plain": [
       "<Figure size 432x288 with 1 Axes>"
      ]
     },
     "metadata": {
      "needs_background": "light"
     },
     "output_type": "display_data"
    }
   ],
   "source": [
    "# 이미지 불러졌는지 확인\n",
    "import matplotlib.pyplot as plt\n",
    "plt.imshow(x_train[0])\n",
    "print('라벨: ', y_train[0])"
   ]
  },
  {
   "cell_type": "markdown",
   "metadata": {},
   "source": [
    "### 딥러닝 네트워크 설계하기"
   ]
  },
  {
   "cell_type": "code",
   "execution_count": 5,
   "metadata": {},
   "outputs": [
    {
     "name": "stdout",
     "output_type": "stream",
     "text": [
      "Model에 추가된 Layer 개수:  7\n",
      "Model: \"sequential\"\n",
      "_________________________________________________________________\n",
      "Layer (type)                 Output Shape              Param #   \n",
      "=================================================================\n",
      "conv2d (Conv2D)              (None, 26, 26, 16)        448       \n",
      "_________________________________________________________________\n",
      "max_pooling2d (MaxPooling2D) (None, 13, 13, 16)        0         \n",
      "_________________________________________________________________\n",
      "conv2d_1 (Conv2D)            (None, 11, 11, 32)        4640      \n",
      "_________________________________________________________________\n",
      "max_pooling2d_1 (MaxPooling2 (None, 5, 5, 32)          0         \n",
      "_________________________________________________________________\n",
      "flatten (Flatten)            (None, 800)               0         \n",
      "_________________________________________________________________\n",
      "dense (Dense)                (None, 16)                12816     \n",
      "_________________________________________________________________\n",
      "dense_1 (Dense)              (None, 3)                 51        \n",
      "=================================================================\n",
      "Total params: 17,955\n",
      "Trainable params: 17,955\n",
      "Non-trainable params: 0\n",
      "_________________________________________________________________\n"
     ]
    }
   ],
   "source": [
    "import tensorflow as tf\n",
    "from tensorflow import keras\n",
    "# import numpy as np\n",
    "\n",
    "# model을 직접 만들어 보세요.\n",
    "# Hint! model의 입력/출력부에 특히 유의해 주세요. 가위바위보 데이터셋은 MNIST 데이터셋과 어떤 점이 달라졌나요?\n",
    "model=keras.models.Sequential()\n",
    "model.add(keras.layers.Conv2D(16, (3,3), activation='relu', input_shape=(28,28,3)))\n",
    "model.add(keras.layers.MaxPool2D(2,2))\n",
    "model.add(keras.layers.Conv2D(32, (3,3), activation='relu'))\n",
    "model.add(keras.layers.MaxPooling2D((2,2)))\n",
    "model.add(keras.layers.Flatten())\n",
    "model.add(keras.layers.Dense(16, activation='relu'))\n",
    "model.add(keras.layers.Dense(3, activation='softmax'))\n",
    "\n",
    "\n",
    "print('Model에 추가된 Layer 개수: ', len(model.layers))\n",
    "\n",
    "model.summary()"
   ]
  },
  {
   "cell_type": "markdown",
   "metadata": {},
   "source": [
    "### 딥러닝 네트워크 학습시키기"
   ]
  },
  {
   "cell_type": "code",
   "execution_count": 6,
   "metadata": {},
   "outputs": [
    {
     "name": "stdout",
     "output_type": "stream",
     "text": [
      "Epoch 1/10\n",
      "74/74 [==============================] - 4s 51ms/step - loss: 2.4004 - accuracy: 0.4648\n",
      "Epoch 2/10\n",
      "74/74 [==============================] - 0s 1ms/step - loss: 0.6749 - accuracy: 0.7206\n",
      "Epoch 3/10\n",
      "74/74 [==============================] - 0s 1ms/step - loss: 0.4855 - accuracy: 0.8120\n",
      "Epoch 4/10\n",
      "74/74 [==============================] - 0s 1ms/step - loss: 0.3580 - accuracy: 0.8676\n",
      "Epoch 5/10\n",
      "74/74 [==============================] - 0s 1ms/step - loss: 0.2615 - accuracy: 0.9052\n",
      "Epoch 6/10\n",
      "74/74 [==============================] - 0s 1ms/step - loss: 0.2423 - accuracy: 0.9158\n",
      "Epoch 7/10\n",
      "74/74 [==============================] - 0s 1ms/step - loss: 0.1807 - accuracy: 0.9398\n",
      "Epoch 8/10\n",
      "74/74 [==============================] - 0s 1ms/step - loss: 0.1523 - accuracy: 0.9522\n",
      "Epoch 9/10\n",
      "74/74 [==============================] - 0s 1ms/step - loss: 0.1324 - accuracy: 0.9569\n",
      "Epoch 10/10\n",
      "74/74 [==============================] - 0s 1ms/step - loss: 0.1074 - accuracy: 0.9688\n"
     ]
    },
    {
     "data": {
      "text/plain": [
       "<tensorflow.python.keras.callbacks.History at 0x7fb44810f810>"
      ]
     },
     "execution_count": 6,
     "metadata": {},
     "output_type": "execute_result"
    }
   ],
   "source": [
    "# model을 학습시키는 코드를 직접 작성해 보세요.\n",
    "# Hint! model.compile()과 model.fit()을 사용해 봅시다.\n",
    "model.compile(optimizer='adam',\n",
    "             loss='sparse_categorical_crossentropy',\n",
    "             metrics=['accuracy'])\n",
    "\n",
    "model.fit(x_train, y_train, epochs=10)"
   ]
  },
  {
   "cell_type": "markdown",
   "metadata": {},
   "source": [
    "### 얼마나 잘 만들었는지 확인하기 (테스트)"
   ]
  },
  {
   "cell_type": "code",
   "execution_count": null,
   "metadata": {},
   "outputs": [],
   "source": [
    "# 이미지 크기 변환 (이미 되어있으므로 생략)\n",
    "'''\n",
    "img_dirs = [{'name': \"scissor\", 'path': \"/aiffel/rock_scissor_paper/test/scissor\"},\n",
    "        {'name': \"rock\", 'path': \"/aiffel/rock_scissor_paper/test/rock\"},\n",
    "        {'name': \"paper\", 'path': \"/aiffel/rock_scissor_paper/test/paper\"}]\n",
    "\n",
    "for img_dir in img_dirs:\n",
    "    print(\"현재 이미지 종류: \" + img_dir['name'])\n",
    "    curr_path = os.getenv(\"HOME\") + img_dir['path']\n",
    "    print(\">> 이미지 디렉토리 경로: \", img_dir['path'])\n",
    "\n",
    "    images = glob.glob(curr_path + \"/*\" + test_endswith)\n",
    "    \n",
    "    # 파일마다 모두 28x28 사이즈로 바꾸어 저장합니다.\n",
    "    target_size = (28, 28)\n",
    "    for img in images:\n",
    "        old_img = Image.open(img)\n",
    "        new_img = old_img.resize(target_size, Image.ANTIALIAS)\n",
    "        new_img.save(img, test_filetype)\n",
    "    \n",
    "    print(\"* resize completed: \" + img_dir['name'])\n",
    "'''"
   ]
  },
  {
   "cell_type": "code",
   "execution_count": 7,
   "metadata": {},
   "outputs": [
    {
     "name": "stdout",
     "output_type": "stream",
     "text": [
      "학습데이터(x_train)의 이미지 개수는 300 입니다.\n",
      "x_test shape: (300, 28, 28, 3)\n",
      "y_test shape: (300,)\n"
     ]
    }
   ],
   "source": [
    "def load_test_data(img_path, file_endswith):\n",
    "    number_of_data = 300\n",
    "    img_size = 28\n",
    "    color = 3\n",
    "    \n",
    "    # 이미지 데이터와 라벨 데이터를 담을 행렬(matrix) 영역 생성\n",
    "    imgs = np.zeros(number_of_data * img_size * img_size * color, dtype=np.int32).reshape(number_of_data, img_size, img_size, color)\n",
    "    labels = np.zeros(number_of_data, dtype=np.int32)\n",
    "    \n",
    "    idx = 0\n",
    "    for file in glob.iglob(img_path + '/scissor/*' + file_endswith):\n",
    "        img = np.array(Image.open(file), dtype=np.int32)\n",
    "        imgs[idx,:,:,:] = img    # 데이터 영역에 이미지 행렬을 복사\n",
    "        labels[idx] = 0   # 가위 : 0\n",
    "        idx = idx + 1\n",
    "        \n",
    "    for file in glob.iglob(img_path + '/rock/*' + file_endswith):\n",
    "        img = np.array(Image.open(file), dtype=np.int32)\n",
    "        imgs[idx,:,:,:] = img    # 데이터 영역에 이미지 행렬을 복사\n",
    "        labels[idx] = 1   # 바위 : 1\n",
    "        idx = idx + 1\n",
    "        \n",
    "    for file in glob.iglob(img_path + '/paper/*' + file_endswith):\n",
    "        img = np.array(Image.open(file), dtype=np.int32)\n",
    "        imgs[idx,:,:,:] = img    # 데이터 영역에 이미지 행렬을 복사\n",
    "        labels[idx] = 2   # 보 : 2\n",
    "        idx = idx + 1\n",
    "        \n",
    "    print(\"학습데이터(x_train)의 이미지 개수는\", idx, \"입니다.\")\n",
    "    return imgs, labels\n",
    "\n",
    "image_dir_path_test = os.getenv(\"HOME\") + \"/aiffel/rock_scissor_paper/jp1\"\n",
    "(x_test, y_test)=load_test_data(image_dir_path_test, test_endswith)\n",
    "x_test_norm = x_test/255.0   # 입력은 0~1 사이의 값으로 정규화\n",
    "\n",
    "print(\"x_test shape: {}\".format(x_test.shape))\n",
    "print(\"y_test shape: {}\".format(y_test.shape))"
   ]
  },
  {
   "cell_type": "code",
   "execution_count": 8,
   "metadata": {},
   "outputs": [
    {
     "name": "stdout",
     "output_type": "stream",
     "text": [
      "10/10 - 2s - loss: 2.2659 - accuracy: 0.6667\n",
      "test_loss: 2.265941619873047 \n",
      "test_accuracy: 0.6666666865348816\n"
     ]
    }
   ],
   "source": [
    "# model을 학습시키는 코드를 직접 작성해 보세요.\n",
    "# Hint! model.evaluate()을 사용해 봅시다.\n",
    "test_loss, test_accuracy = model.evaluate(x_test,y_test, verbose=2)\n",
    "print(\"test_loss: {} \".format(test_loss))\n",
    "print(\"test_accuracy: {}\".format(test_accuracy))"
   ]
  },
  {
   "cell_type": "code",
   "execution_count": null,
   "metadata": {},
   "outputs": [],
   "source": []
  }
 ],
 "metadata": {
  "kernelspec": {
   "display_name": "aiffel",
   "language": "python",
   "name": "aiffel"
  },
  "language_info": {
   "codemirror_mode": {
    "name": "ipython",
    "version": 3
   },
   "file_extension": ".py",
   "mimetype": "text/x-python",
   "name": "python",
   "nbconvert_exporter": "python",
   "pygments_lexer": "ipython3",
   "version": "3.7.6"
  }
 },
 "nbformat": 4,
 "nbformat_minor": 4
}
