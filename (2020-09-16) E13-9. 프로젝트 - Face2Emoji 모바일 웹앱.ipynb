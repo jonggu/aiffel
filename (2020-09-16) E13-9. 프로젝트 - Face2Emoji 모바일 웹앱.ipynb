{
 "cells": [
  {
   "cell_type": "markdown",
   "metadata": {},
   "source": [
    "# 13-9. 프로젝트: Face2Emoji 모바일 웹앱\n",
    "* tensorflowjs가 브라우저에서 제대로 실행되지 않는 문제가 있어 오래 걸렸다.   \n",
    "   \n",
    "   \n",
    "* 문제의 원인은 ```prompt-toolkit```의 버전 충돌인 것으로 보인다. jupyter notebook에서 요구하는 버전은 3.0.0 이상인 반면, pyinquirer에서 요구하는 버전은 1.0.14 여서 계속 오류가 발생했다. 결국 웹 서버를 띄우기 위한 아나콘다 가상 환경을 별도로 만들었다. jupyter notebook이나 ipython kernel 설치 없이 tensorflowjs만 설치했다. 학습은 기존 환경에서 시키고, 웹 서버 실행만 새로운 환경에서 했다. 기존에 계속 실행해보던 크롬 브라우저에 캐시가 남아서인지 에러가 계속돼, 파이어폭스 브라우저 (private mode) 에서 실행했더니 정상 작동했다. 파이어폭스에서 실행 시 Google Meet 등 현재 PC에서 웹캠을 실행 중인 프로그램을 모두 종료해야 했다.   \n",
    "   \n",
    "   \n",
    "* 학습 시 batch_size를 128로 지정했다. 예시 답안에서 주어진 512로 했을 경우 ```val_categorical_accuracy``` 가 0.1대에 머물렀기 때문이다. 100 epoch 후 최종 ```val_categorical_accuracy```는 0.5166 이었다.   \n",
    "   \n",
    "   \n",
    "* https://jonggu.github.io/face2emoji"
   ]
  },
  {
   "cell_type": "markdown",
   "metadata": {},
   "source": [
    "## 필요한 모듈 import"
   ]
  },
  {
   "cell_type": "code",
   "execution_count": 1,
   "metadata": {},
   "outputs": [],
   "source": [
    "import numpy as np\n",
    "import tqdm\n",
    "import os\n",
    "\n",
    "import tensorflow as tf\n",
    "\n",
    "from matplotlib import pyplot as plt"
   ]
  },
  {
   "cell_type": "markdown",
   "metadata": {},
   "source": [
    "## 표정 데이터로 MobileNet 학습하기"
   ]
  },
  {
   "cell_type": "code",
   "execution_count": 2,
   "metadata": {},
   "outputs": [
    {
     "name": "stderr",
     "output_type": "stream",
     "text": [
      "100%|██████████| 35887/35887 [00:25<00:00, 1400.63it/s]"
     ]
    },
    {
     "name": "stdout",
     "output_type": "stream",
     "text": [
      "train : 32298, eval :3589\n"
     ]
    },
    {
     "name": "stderr",
     "output_type": "stream",
     "text": [
      "\n"
     ]
    }
   ],
   "source": [
    "train_x = []\n",
    "train_y = []\n",
    "eval_x = []\n",
    "eval_y = []\n",
    "\n",
    "csv_path = 'data/fer2013.csv'\n",
    "\n",
    "with open(csv_path) as f:\n",
    "    for line in tqdm.tqdm(f.read().splitlines()[1:]):\n",
    "        emotion, pixels, usage = line.split(',')\n",
    "\n",
    "        x = np.array(pixels.split(' ')).astype(float).reshape(48, 48, 1) / 255\n",
    "        y = int(emotion)\n",
    "\n",
    "        if usage == 'PrivateTest':\n",
    "            eval_x.append(x)\n",
    "            eval_y.append(y)\n",
    "        else:\n",
    "            train_x.append(x)\n",
    "            train_y.append(y)\n",
    "\n",
    "print('train : {}, eval :{}'.format(len(train_x), len(eval_x)))"
   ]
  },
  {
   "cell_type": "code",
   "execution_count": 3,
   "metadata": {},
   "outputs": [
    {
     "name": "stdout",
     "output_type": "stream",
     "text": [
      "Angry\n"
     ]
    },
    {
     "data": {
      "text/plain": [
       "<matplotlib.image.AxesImage at 0x7fb245f1d410>"
      ]
     },
     "execution_count": 3,
     "metadata": {},
     "output_type": "execute_result"
    },
    {
     "data": {
      "image/png": "[encoded data removed]",
      "text/plain": [
       "<Figure size 432x288 with 1 Axes>"
      ]
     },
     "metadata": {
      "needs_background": "light"
     },
     "output_type": "display_data"
    }
   ],
   "source": [
    "# 첫번째 데이터 확인\n",
    "LABELS = ['Angry', 'Disgust', 'Fear', 'Happy', 'Sad', 'Surprise', 'Neutral']\n",
    "\n",
    "print(LABELS[train_y[0]])\n",
    "plt.imshow(train_x[0].reshape([48, 48]), cmap='gray')"
   ]
  },
  {
   "cell_type": "code",
   "execution_count": 4,
   "metadata": {
    "scrolled": false
   },
   "outputs": [
    {
     "name": "stdout",
     "output_type": "stream",
     "text": [
      "Epoch 1/100\n",
      "253/253 [==============================] - 51s 200ms/step - loss: 1.7891 - categorical_accuracy: 0.2634 - val_loss: 1.9185 - val_categorical_accuracy: 0.1744\n",
      "Epoch 2/100\n",
      "253/253 [==============================] - 8s 30ms/step - loss: 1.6125 - categorical_accuracy: 0.3707 - val_loss: 1.8984 - val_categorical_accuracy: 0.1655\n",
      "Epoch 3/100\n",
      "253/253 [==============================] - 8s 30ms/step - loss: 1.4884 - categorical_accuracy: 0.4264 - val_loss: 1.8935 - val_categorical_accuracy: 0.1655\n",
      "Epoch 4/100\n",
      "253/253 [==============================] - 8s 30ms/step - loss: 1.4090 - categorical_accuracy: 0.4571 - val_loss: 1.8858 - val_categorical_accuracy: 0.1655\n",
      "Epoch 5/100\n",
      "253/253 [==============================] - 8s 30ms/step - loss: 1.3368 - categorical_accuracy: 0.4914 - val_loss: 1.8682 - val_categorical_accuracy: 0.1655\n",
      "Epoch 6/100\n",
      "253/253 [==============================] - 8s 30ms/step - loss: 1.2626 - categorical_accuracy: 0.5199 - val_loss: 1.8733 - val_categorical_accuracy: 0.1655\n",
      "Epoch 7/100\n",
      "253/253 [==============================] - 8s 30ms/step - loss: 1.1979 - categorical_accuracy: 0.5480 - val_loss: 1.8675 - val_categorical_accuracy: 0.1655\n",
      "Epoch 8/100\n",
      "253/253 [==============================] - 8s 30ms/step - loss: 1.1389 - categorical_accuracy: 0.5722 - val_loss: 1.8778 - val_categorical_accuracy: 0.1655\n",
      "Epoch 9/100\n",
      "253/253 [==============================] - 8s 30ms/step - loss: 1.0974 - categorical_accuracy: 0.5904 - val_loss: 1.8697 - val_categorical_accuracy: 0.1655\n",
      "Epoch 10/100\n",
      "253/253 [==============================] - 8s 30ms/step - loss: 1.0360 - categorical_accuracy: 0.6147 - val_loss: 1.8882 - val_categorical_accuracy: 0.1655\n",
      "Epoch 11/100\n",
      "253/253 [==============================] - 8s 30ms/step - loss: 0.9819 - categorical_accuracy: 0.6341 - val_loss: 1.8834 - val_categorical_accuracy: 0.1655\n",
      "Epoch 12/100\n",
      "253/253 [==============================] - 8s 30ms/step - loss: 0.9328 - categorical_accuracy: 0.6550 - val_loss: 1.8946 - val_categorical_accuracy: 0.1655\n",
      "Epoch 13/100\n",
      "253/253 [==============================] - 8s 30ms/step - loss: 0.8828 - categorical_accuracy: 0.6785 - val_loss: 1.8999 - val_categorical_accuracy: 0.1655\n",
      "Epoch 14/100\n",
      "253/253 [==============================] - 8s 30ms/step - loss: 0.8393 - categorical_accuracy: 0.6896 - val_loss: 1.8977 - val_categorical_accuracy: 0.1655\n",
      "Epoch 15/100\n",
      "253/253 [==============================] - 8s 30ms/step - loss: 0.7932 - categorical_accuracy: 0.7065 - val_loss: 1.8997 - val_categorical_accuracy: 0.1831\n",
      "Epoch 16/100\n",
      "253/253 [==============================] - 8s 31ms/step - loss: 0.7354 - categorical_accuracy: 0.7284 - val_loss: 1.8714 - val_categorical_accuracy: 0.2619\n",
      "Epoch 17/100\n",
      "253/253 [==============================] - 8s 31ms/step - loss: 0.6958 - categorical_accuracy: 0.7468 - val_loss: 1.8399 - val_categorical_accuracy: 0.2666\n",
      "Epoch 18/100\n",
      "253/253 [==============================] - 8s 30ms/step - loss: 0.6382 - categorical_accuracy: 0.7662 - val_loss: 2.0725 - val_categorical_accuracy: 0.2561\n",
      "Epoch 19/100\n",
      "253/253 [==============================] - 8s 30ms/step - loss: 0.5900 - categorical_accuracy: 0.7878 - val_loss: 1.6475 - val_categorical_accuracy: 0.4199\n",
      "Epoch 20/100\n",
      "253/253 [==============================] - 8s 30ms/step - loss: 0.5585 - categorical_accuracy: 0.7989 - val_loss: 1.8508 - val_categorical_accuracy: 0.4316\n",
      "Epoch 21/100\n",
      "253/253 [==============================] - 8s 30ms/step - loss: 0.5187 - categorical_accuracy: 0.8150 - val_loss: 2.5548 - val_categorical_accuracy: 0.3814\n",
      "Epoch 22/100\n",
      "253/253 [==============================] - 8s 31ms/step - loss: 0.4771 - categorical_accuracy: 0.8283 - val_loss: 3.4172 - val_categorical_accuracy: 0.3890\n",
      "Epoch 23/100\n",
      "253/253 [==============================] - 8s 31ms/step - loss: 0.4252 - categorical_accuracy: 0.8448 - val_loss: 3.7259 - val_categorical_accuracy: 0.4302\n",
      "Epoch 24/100\n",
      "253/253 [==============================] - 8s 30ms/step - loss: 0.4137 - categorical_accuracy: 0.8510 - val_loss: 3.6593 - val_categorical_accuracy: 0.4188\n",
      "Epoch 25/100\n",
      "253/253 [==============================] - 8s 31ms/step - loss: 0.3759 - categorical_accuracy: 0.8679 - val_loss: 4.7246 - val_categorical_accuracy: 0.4213\n",
      "Epoch 26/100\n",
      "253/253 [==============================] - 8s 31ms/step - loss: 0.3501 - categorical_accuracy: 0.8741 - val_loss: 5.2698 - val_categorical_accuracy: 0.4168\n",
      "Epoch 27/100\n",
      "253/253 [==============================] - 8s 30ms/step - loss: 0.3344 - categorical_accuracy: 0.8800 - val_loss: 4.3742 - val_categorical_accuracy: 0.4536\n",
      "Epoch 28/100\n",
      "253/253 [==============================] - 8s 31ms/step - loss: 0.2984 - categorical_accuracy: 0.8935 - val_loss: 6.3396 - val_categorical_accuracy: 0.4425\n",
      "Epoch 29/100\n",
      "253/253 [==============================] - 8s 31ms/step - loss: 0.2897 - categorical_accuracy: 0.8966 - val_loss: 5.5162 - val_categorical_accuracy: 0.4492\n",
      "Epoch 30/100\n",
      "253/253 [==============================] - 8s 30ms/step - loss: 0.2708 - categorical_accuracy: 0.9054 - val_loss: 6.2576 - val_categorical_accuracy: 0.4355\n",
      "Epoch 31/100\n",
      "253/253 [==============================] - 8s 31ms/step - loss: 0.2678 - categorical_accuracy: 0.9057 - val_loss: 5.3048 - val_categorical_accuracy: 0.4283\n",
      "Epoch 32/100\n",
      "253/253 [==============================] - 8s 31ms/step - loss: 0.2447 - categorical_accuracy: 0.9144 - val_loss: 5.1436 - val_categorical_accuracy: 0.4213\n",
      "Epoch 33/100\n",
      "253/253 [==============================] - 8s 31ms/step - loss: 0.2399 - categorical_accuracy: 0.9155 - val_loss: 5.0575 - val_categorical_accuracy: 0.4374\n",
      "Epoch 34/100\n",
      "253/253 [==============================] - 8s 30ms/step - loss: 0.2229 - categorical_accuracy: 0.9204 - val_loss: 5.4411 - val_categorical_accuracy: 0.4430\n",
      "Epoch 35/100\n",
      "253/253 [==============================] - 8s 31ms/step - loss: 0.2176 - categorical_accuracy: 0.9244 - val_loss: 4.5985 - val_categorical_accuracy: 0.4294\n",
      "Epoch 36/100\n",
      "253/253 [==============================] - 8s 31ms/step - loss: 0.2151 - categorical_accuracy: 0.9237 - val_loss: 5.2508 - val_categorical_accuracy: 0.4352\n",
      "Epoch 37/100\n",
      "253/253 [==============================] - 8s 31ms/step - loss: 0.2093 - categorical_accuracy: 0.9269 - val_loss: 3.9904 - val_categorical_accuracy: 0.4525\n",
      "Epoch 38/100\n",
      "253/253 [==============================] - 8s 31ms/step - loss: 0.2041 - categorical_accuracy: 0.9289 - val_loss: 5.0503 - val_categorical_accuracy: 0.4703\n",
      "Epoch 39/100\n",
      "253/253 [==============================] - 8s 31ms/step - loss: 0.1857 - categorical_accuracy: 0.9354 - val_loss: 4.1339 - val_categorical_accuracy: 0.4689\n",
      "Epoch 40/100\n",
      "253/253 [==============================] - 8s 31ms/step - loss: 0.1877 - categorical_accuracy: 0.9339 - val_loss: 4.5615 - val_categorical_accuracy: 0.4450\n",
      "Epoch 41/100\n",
      "253/253 [==============================] - 8s 31ms/step - loss: 0.1832 - categorical_accuracy: 0.9353 - val_loss: 4.6812 - val_categorical_accuracy: 0.4703\n",
      "Epoch 42/100\n",
      "253/253 [==============================] - 8s 31ms/step - loss: 0.1807 - categorical_accuracy: 0.9365 - val_loss: 4.0468 - val_categorical_accuracy: 0.4634\n",
      "Epoch 43/100\n",
      "253/253 [==============================] - 8s 31ms/step - loss: 0.1689 - categorical_accuracy: 0.9413 - val_loss: 4.3782 - val_categorical_accuracy: 0.4804\n",
      "Epoch 44/100\n",
      "253/253 [==============================] - 8s 31ms/step - loss: 0.1698 - categorical_accuracy: 0.9397 - val_loss: 4.1956 - val_categorical_accuracy: 0.4553\n",
      "Epoch 45/100\n",
      "253/253 [==============================] - 8s 31ms/step - loss: 0.1803 - categorical_accuracy: 0.9370 - val_loss: 4.5021 - val_categorical_accuracy: 0.4689\n",
      "Epoch 46/100\n",
      "253/253 [==============================] - 8s 31ms/step - loss: 0.1714 - categorical_accuracy: 0.9399 - val_loss: 4.9161 - val_categorical_accuracy: 0.4826\n",
      "Epoch 47/100\n",
      "253/253 [==============================] - 8s 31ms/step - loss: 0.1485 - categorical_accuracy: 0.9490 - val_loss: 3.6041 - val_categorical_accuracy: 0.4873\n",
      "Epoch 48/100\n",
      "253/253 [==============================] - 8s 30ms/step - loss: 0.1569 - categorical_accuracy: 0.9455 - val_loss: 4.4412 - val_categorical_accuracy: 0.4606\n",
      "Epoch 49/100\n"
     ]
    },
    {
     "name": "stdout",
     "output_type": "stream",
     "text": [
      "253/253 [==============================] - 8s 30ms/step - loss: 0.1636 - categorical_accuracy: 0.9436 - val_loss: 5.1078 - val_categorical_accuracy: 0.4823\n",
      "Epoch 50/100\n",
      "253/253 [==============================] - 8s 30ms/step - loss: 0.1441 - categorical_accuracy: 0.9504 - val_loss: 4.1988 - val_categorical_accuracy: 0.4681\n",
      "Epoch 51/100\n",
      "253/253 [==============================] - 8s 30ms/step - loss: 0.1477 - categorical_accuracy: 0.9487 - val_loss: 4.3029 - val_categorical_accuracy: 0.4765\n",
      "Epoch 52/100\n",
      "253/253 [==============================] - 8s 30ms/step - loss: 0.1449 - categorical_accuracy: 0.9502 - val_loss: 3.9830 - val_categorical_accuracy: 0.4940\n",
      "Epoch 53/100\n",
      "253/253 [==============================] - 8s 30ms/step - loss: 0.1408 - categorical_accuracy: 0.9512 - val_loss: 4.0541 - val_categorical_accuracy: 0.4907\n",
      "Epoch 54/100\n",
      "253/253 [==============================] - 8s 30ms/step - loss: 0.1460 - categorical_accuracy: 0.9496 - val_loss: 4.9318 - val_categorical_accuracy: 0.4778\n",
      "Epoch 55/100\n",
      "253/253 [==============================] - 8s 30ms/step - loss: 0.1343 - categorical_accuracy: 0.9516 - val_loss: 5.8658 - val_categorical_accuracy: 0.4742\n",
      "Epoch 56/100\n",
      "253/253 [==============================] - 8s 30ms/step - loss: 0.1313 - categorical_accuracy: 0.9550 - val_loss: 4.0153 - val_categorical_accuracy: 0.4948\n",
      "Epoch 57/100\n",
      "253/253 [==============================] - 8s 30ms/step - loss: 0.1322 - categorical_accuracy: 0.9528 - val_loss: 4.3011 - val_categorical_accuracy: 0.4982\n",
      "Epoch 58/100\n",
      "253/253 [==============================] - 8s 31ms/step - loss: 0.1346 - categorical_accuracy: 0.9534 - val_loss: 3.9984 - val_categorical_accuracy: 0.4884\n",
      "Epoch 59/100\n",
      "253/253 [==============================] - 8s 30ms/step - loss: 0.1293 - categorical_accuracy: 0.9553 - val_loss: 4.0415 - val_categorical_accuracy: 0.4673\n",
      "Epoch 60/100\n",
      "253/253 [==============================] - 8s 31ms/step - loss: 0.1263 - categorical_accuracy: 0.9563 - val_loss: 4.5324 - val_categorical_accuracy: 0.4884\n",
      "Epoch 61/100\n",
      "253/253 [==============================] - 8s 31ms/step - loss: 0.1294 - categorical_accuracy: 0.9550 - val_loss: 4.4163 - val_categorical_accuracy: 0.4753\n",
      "Epoch 62/100\n",
      "253/253 [==============================] - 8s 31ms/step - loss: 0.1318 - categorical_accuracy: 0.9534 - val_loss: 3.6688 - val_categorical_accuracy: 0.4778\n",
      "Epoch 63/100\n",
      "253/253 [==============================] - 8s 30ms/step - loss: 0.1218 - categorical_accuracy: 0.9585 - val_loss: 4.3582 - val_categorical_accuracy: 0.4857\n",
      "Epoch 64/100\n",
      "253/253 [==============================] - 8s 30ms/step - loss: 0.1221 - categorical_accuracy: 0.9578 - val_loss: 3.9312 - val_categorical_accuracy: 0.4781\n",
      "Epoch 65/100\n",
      "253/253 [==============================] - 8s 31ms/step - loss: 0.1170 - categorical_accuracy: 0.9588 - val_loss: 3.7523 - val_categorical_accuracy: 0.4971\n",
      "Epoch 66/100\n",
      "253/253 [==============================] - 8s 30ms/step - loss: 0.1249 - categorical_accuracy: 0.9555 - val_loss: 3.7483 - val_categorical_accuracy: 0.4500\n",
      "Epoch 67/100\n",
      "253/253 [==============================] - 8s 31ms/step - loss: 0.1137 - categorical_accuracy: 0.9602 - val_loss: 3.8880 - val_categorical_accuracy: 0.5093\n",
      "Epoch 68/100\n",
      "253/253 [==============================] - 8s 31ms/step - loss: 0.1126 - categorical_accuracy: 0.9602 - val_loss: 3.9384 - val_categorical_accuracy: 0.4586\n",
      "Epoch 69/100\n",
      "253/253 [==============================] - 8s 30ms/step - loss: 0.1198 - categorical_accuracy: 0.9580 - val_loss: 3.8182 - val_categorical_accuracy: 0.4792\n",
      "Epoch 70/100\n",
      "253/253 [==============================] - 8s 30ms/step - loss: 0.1021 - categorical_accuracy: 0.9639 - val_loss: 4.0671 - val_categorical_accuracy: 0.4542\n",
      "Epoch 71/100\n",
      "253/253 [==============================] - 8s 30ms/step - loss: 0.1217 - categorical_accuracy: 0.9571 - val_loss: 3.6128 - val_categorical_accuracy: 0.4940\n",
      "Epoch 72/100\n",
      "253/253 [==============================] - 8s 31ms/step - loss: 0.1155 - categorical_accuracy: 0.9612 - val_loss: 4.0112 - val_categorical_accuracy: 0.5233\n",
      "Epoch 73/100\n",
      "253/253 [==============================] - 8s 30ms/step - loss: 0.1059 - categorical_accuracy: 0.9636 - val_loss: 3.6907 - val_categorical_accuracy: 0.5110\n",
      "Epoch 74/100\n",
      "253/253 [==============================] - 8s 31ms/step - loss: 0.0979 - categorical_accuracy: 0.9663 - val_loss: 3.5696 - val_categorical_accuracy: 0.5130\n",
      "Epoch 75/100\n",
      "253/253 [==============================] - 8s 30ms/step - loss: 0.1043 - categorical_accuracy: 0.9637 - val_loss: 3.8709 - val_categorical_accuracy: 0.4848\n",
      "Epoch 76/100\n",
      "253/253 [==============================] - 8s 31ms/step - loss: 0.1079 - categorical_accuracy: 0.9629 - val_loss: 3.6661 - val_categorical_accuracy: 0.5093\n",
      "Epoch 77/100\n",
      "253/253 [==============================] - 8s 31ms/step - loss: 0.0963 - categorical_accuracy: 0.9653 - val_loss: 3.7642 - val_categorical_accuracy: 0.4974\n",
      "Epoch 78/100\n",
      "253/253 [==============================] - 8s 31ms/step - loss: 0.1053 - categorical_accuracy: 0.9633 - val_loss: 3.5556 - val_categorical_accuracy: 0.5057\n",
      "Epoch 79/100\n",
      "253/253 [==============================] - 8s 31ms/step - loss: 0.1020 - categorical_accuracy: 0.9650 - val_loss: 3.6941 - val_categorical_accuracy: 0.5110\n",
      "Epoch 80/100\n",
      "253/253 [==============================] - 8s 31ms/step - loss: 0.0923 - categorical_accuracy: 0.9679 - val_loss: 3.7039 - val_categorical_accuracy: 0.5118\n",
      "Epoch 81/100\n",
      "253/253 [==============================] - 8s 31ms/step - loss: 0.0987 - categorical_accuracy: 0.9646 - val_loss: 3.7374 - val_categorical_accuracy: 0.5057\n",
      "Epoch 82/100\n",
      "253/253 [==============================] - 8s 31ms/step - loss: 0.0939 - categorical_accuracy: 0.9675 - val_loss: 3.7686 - val_categorical_accuracy: 0.5010\n",
      "Epoch 83/100\n",
      "253/253 [==============================] - 8s 31ms/step - loss: 0.0967 - categorical_accuracy: 0.9648 - val_loss: 3.5410 - val_categorical_accuracy: 0.5149\n",
      "Epoch 84/100\n",
      "253/253 [==============================] - 8s 31ms/step - loss: 0.0879 - categorical_accuracy: 0.9699 - val_loss: 3.5933 - val_categorical_accuracy: 0.5174\n",
      "Epoch 85/100\n",
      "253/253 [==============================] - 8s 31ms/step - loss: 0.0934 - categorical_accuracy: 0.9676 - val_loss: 3.5169 - val_categorical_accuracy: 0.4999\n",
      "Epoch 86/100\n",
      "253/253 [==============================] - 8s 31ms/step - loss: 0.0924 - categorical_accuracy: 0.9684 - val_loss: 3.8141 - val_categorical_accuracy: 0.4985\n",
      "Epoch 87/100\n",
      "253/253 [==============================] - 8s 31ms/step - loss: 0.0910 - categorical_accuracy: 0.9674 - val_loss: 3.4211 - val_categorical_accuracy: 0.5021\n",
      "Epoch 88/100\n",
      "253/253 [==============================] - 8s 31ms/step - loss: 0.0958 - categorical_accuracy: 0.9667 - val_loss: 3.7009 - val_categorical_accuracy: 0.4987\n",
      "Epoch 89/100\n",
      "253/253 [==============================] - 8s 31ms/step - loss: 0.0886 - categorical_accuracy: 0.9687 - val_loss: 3.7943 - val_categorical_accuracy: 0.5121\n",
      "Epoch 90/100\n",
      "253/253 [==============================] - 8s 31ms/step - loss: 0.0890 - categorical_accuracy: 0.9685 - val_loss: 3.6574 - val_categorical_accuracy: 0.5099\n",
      "Epoch 91/100\n",
      "253/253 [==============================] - 8s 31ms/step - loss: 0.0888 - categorical_accuracy: 0.9693 - val_loss: 3.6893 - val_categorical_accuracy: 0.5180\n",
      "Epoch 92/100\n",
      "253/253 [==============================] - 8s 31ms/step - loss: 0.0859 - categorical_accuracy: 0.9696 - val_loss: 3.7787 - val_categorical_accuracy: 0.5227\n",
      "Epoch 93/100\n",
      "253/253 [==============================] - 8s 31ms/step - loss: 0.0855 - categorical_accuracy: 0.9706 - val_loss: 3.7510 - val_categorical_accuracy: 0.5121\n",
      "Epoch 94/100\n",
      "253/253 [==============================] - 8s 31ms/step - loss: 0.0792 - categorical_accuracy: 0.9726 - val_loss: 3.9032 - val_categorical_accuracy: 0.5127\n",
      "Epoch 95/100\n",
      "253/253 [==============================] - 8s 31ms/step - loss: 0.0916 - categorical_accuracy: 0.9688 - val_loss: 3.6543 - val_categorical_accuracy: 0.5263\n",
      "Epoch 96/100\n",
      "253/253 [==============================] - 8s 31ms/step - loss: 0.0732 - categorical_accuracy: 0.9740 - val_loss: 3.5215 - val_categorical_accuracy: 0.5077\n",
      "Epoch 97/100\n"
     ]
    },
    {
     "name": "stdout",
     "output_type": "stream",
     "text": [
      "253/253 [==============================] - 8s 30ms/step - loss: 0.0810 - categorical_accuracy: 0.9708 - val_loss: 3.4529 - val_categorical_accuracy: 0.5316\n",
      "Epoch 98/100\n",
      "253/253 [==============================] - 8s 30ms/step - loss: 0.0799 - categorical_accuracy: 0.9716 - val_loss: 3.9734 - val_categorical_accuracy: 0.5141\n",
      "Epoch 99/100\n",
      "253/253 [==============================] - 8s 31ms/step - loss: 0.0788 - categorical_accuracy: 0.9731 - val_loss: 3.6690 - val_categorical_accuracy: 0.5274\n",
      "Epoch 100/100\n",
      "253/253 [==============================] - 8s 30ms/step - loss: 0.0768 - categorical_accuracy: 0.9715 - val_loss: 3.5172 - val_categorical_accuracy: 0.5166\n"
     ]
    },
    {
     "data": {
      "text/plain": [
       "<tensorflow.python.keras.callbacks.History at 0x7fb1c44ff7d0>"
      ]
     },
     "execution_count": 4,
     "metadata": {},
     "output_type": "execute_result"
    }
   ],
   "source": [
    "# MobileNet 모델 학습하기\n",
    "\n",
    "# model 선언 \n",
    "model = tf.keras.applications.MobileNetV2(input_shape=(48, 48, 1), weights=None, classes=7)\n",
    "\n",
    "# model.compile\n",
    "model.compile(optimizer=tf.keras.optimizers.Adam(),\n",
    "              loss=tf.keras.losses.CategoricalCrossentropy(),\n",
    "              metrics=[tf.keras.metrics.CategoricalAccuracy()])\n",
    "\n",
    "#model.fit\n",
    "model.fit(np.stack(train_x),\n",
    "          tf.keras.utils.to_categorical(train_y),\n",
    "          epochs=100,\n",
    "          batch_size=128,\n",
    "          validation_data=(np.stack(eval_x),\n",
    "                           tf.keras.utils.to_categorical(eval_y)))"
   ]
  },
  {
   "cell_type": "markdown",
   "metadata": {},
   "source": [
    "## 학습된 모델을 tensorflow.js 형식으로 변환하기\n",
    "* \\$ pip install tensorflowjs\n",
    "* \\$ tensorflowjs_converter --input_format=keras model.h5 model"
   ]
  },
  {
   "cell_type": "code",
   "execution_count": 5,
   "metadata": {},
   "outputs": [],
   "source": [
    "model_path = 'model.h5'\n",
    "model.save(model_path)"
   ]
  },
  {
   "cell_type": "markdown",
   "metadata": {},
   "source": [
    "## 카메라에서 가져온 영상 전처리하기"
   ]
  },
  {
   "cell_type": "code",
   "execution_count": null,
   "metadata": {},
   "outputs": [],
   "source": []
  }
 ],
 "metadata": {
  "kernelspec": {
   "display_name": "aiffel",
   "language": "python",
   "name": "aiffel"
  },
  "language_info": {
   "codemirror_mode": {
    "name": "ipython",
    "version": 3
   },
   "file_extension": ".py",
   "mimetype": "text/x-python",
   "name": "python",
   "nbconvert_exporter": "python",
   "pygments_lexer": "ipython3",
   "version": "3.7.6"
  }
 },
 "nbformat": 4,
 "nbformat_minor": 4
}
