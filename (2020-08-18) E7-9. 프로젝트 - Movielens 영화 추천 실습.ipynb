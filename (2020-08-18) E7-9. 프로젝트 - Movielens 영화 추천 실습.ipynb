{
 "cells": [
  {
   "cell_type": "markdown",
   "metadata": {},
   "source": [
    "# 7-9. 프로젝트: Movielens 영화 추천 실습\n",
    "\n",
    "movielens 1M dataset을 활용해 추천 시스템을 만들어봤다. 추천받을 사용자는 연습과 같은 이름 대신 movie_id 형태의 임의의 숫자 (9999) 로, 좋아하는 영화 5편은 movie_id로 입력했다. CSR Matrix를 만들기 위해 user_id와 movie_id에 대해 별도의 인덱싱을 진행했다. CSR Matrix를 만들고, AlternatingLeastSquares 모델을 훈련시켜 내가 좋아하는 영화 (토이 스토리 2) 와 비슷한 영화 15편과, 내가 가장 좋아할 만한 영화 20편을 추천받았다. 내가 가장 좋아할 만한 영화 20편을 추천받기 위해, Ratings에 9999 명의로 추가한 영화들은 다음과 같다.\n",
    "\n",
    "* 1682: Truman Show, The (1998) (count: 5)\n",
    "* 1721: Titanic (1997) (count: 5)\n",
    "* 1707: Home Alone 3 (1997) (count: 5)\n",
    "* 2409: Rocky II (1979) (count: 5)\n",
    "* 3114: Toy Story 2 (1999) (count: 5)\n",
    "\n",
    "movies.dat 데이터는 마지막에 이름을 출력할 때만 활용했다. 이를 위해 movies.dat 를 불러올 때 인덱스로 영화 제목을 찾을 수 있는 딕셔너리를 별도로 생성해두었다."
   ]
  },
  {
   "cell_type": "markdown",
   "metadata": {},
   "source": [
    "## 필요한 모듈 import"
   ]
  },
  {
   "cell_type": "code",
   "execution_count": 1,
   "metadata": {},
   "outputs": [],
   "source": [
    "import os\n",
    "\n",
    "import pandas as pd\n",
    "import numpy as np\n",
    "\n",
    "from scipy.sparse import csr_matrix\n",
    "\n",
    "from implicit.als import AlternatingLeastSquares\n",
    "\n",
    "# implicit 라이브러리에서 권장하고 있는 부분입니다. 학습 내용과는 무관합니다.\n",
    "os.environ['OPENBLAS_NUM_THREADS']='1'\n",
    "os.environ['KMP_DUPLICATE_LIB_OK']='True'\n",
    "os.environ['MKL_NUM_THREADS']='1'"
   ]
  },
  {
   "cell_type": "markdown",
   "metadata": {},
   "source": [
    "## 데이터 준비와 전처리"
   ]
  },
  {
   "cell_type": "code",
   "execution_count": 2,
   "metadata": {},
   "outputs": [
    {
     "data": {
      "text/html": [
       "<div>\n",
       "<style scoped>\n",
       "    .dataframe tbody tr th:only-of-type {\n",
       "        vertical-align: middle;\n",
       "    }\n",
       "\n",
       "    .dataframe tbody tr th {\n",
       "        vertical-align: top;\n",
       "    }\n",
       "\n",
       "    .dataframe thead th {\n",
       "        text-align: right;\n",
       "    }\n",
       "</style>\n",
       "<table border=\"1\" class=\"dataframe\">\n",
       "  <thead>\n",
       "    <tr style=\"text-align: right;\">\n",
       "      <th></th>\n",
       "      <th>user_id</th>\n",
       "      <th>movie_id</th>\n",
       "      <th>rating</th>\n",
       "      <th>timestamp</th>\n",
       "    </tr>\n",
       "  </thead>\n",
       "  <tbody>\n",
       "    <tr>\n",
       "      <th>0</th>\n",
       "      <td>1</td>\n",
       "      <td>1193</td>\n",
       "      <td>5</td>\n",
       "      <td>978300760</td>\n",
       "    </tr>\n",
       "    <tr>\n",
       "      <th>1</th>\n",
       "      <td>1</td>\n",
       "      <td>661</td>\n",
       "      <td>3</td>\n",
       "      <td>978302109</td>\n",
       "    </tr>\n",
       "    <tr>\n",
       "      <th>2</th>\n",
       "      <td>1</td>\n",
       "      <td>914</td>\n",
       "      <td>3</td>\n",
       "      <td>978301968</td>\n",
       "    </tr>\n",
       "    <tr>\n",
       "      <th>3</th>\n",
       "      <td>1</td>\n",
       "      <td>3408</td>\n",
       "      <td>4</td>\n",
       "      <td>978300275</td>\n",
       "    </tr>\n",
       "    <tr>\n",
       "      <th>4</th>\n",
       "      <td>1</td>\n",
       "      <td>2355</td>\n",
       "      <td>5</td>\n",
       "      <td>978824291</td>\n",
       "    </tr>\n",
       "  </tbody>\n",
       "</table>\n",
       "</div>"
      ],
      "text/plain": [
       "   user_id  movie_id  rating  timestamp\n",
       "0        1      1193       5  978300760\n",
       "1        1       661       3  978302109\n",
       "2        1       914       3  978301968\n",
       "3        1      3408       4  978300275\n",
       "4        1      2355       5  978824291"
      ]
     },
     "execution_count": 2,
     "metadata": {},
     "output_type": "execute_result"
    }
   ],
   "source": [
    "# rating 데이터 로드\n",
    "# rating_file_path = os.getenv('HOME') + '/Documents/aiffel_local/20200818/ml-1m/ratings.dat'\n",
    "rating_file_path = 'ratings.dat'\n",
    "\n",
    "ratings_cols = ['user_id', 'movie_id', 'rating', 'timestamp']\n",
    "ratings = pd.read_csv(rating_file_path, sep='::', names=ratings_cols, engine='python')\n",
    "\n",
    "orginal_data_size = len(ratings)\n",
    "\n",
    "ratings.head()"
   ]
  },
  {
   "cell_type": "code",
   "execution_count": 3,
   "metadata": {},
   "outputs": [
    {
     "name": "stdout",
     "output_type": "stream",
     "text": [
      "orginal_data_size: 1000209, filtered_data_size: 836478\n",
      "Ratio of Remaining Data is 83.63%\n"
     ]
    }
   ],
   "source": [
    "# 3점 이상만 남기기\n",
    "ratings = ratings[ratings['rating']>=3]\n",
    "filtered_data_size = len(ratings)\n",
    "\n",
    "print(f'orginal_data_size: {orginal_data_size}, filtered_data_size: {filtered_data_size}')\n",
    "print(f'Ratio of Remaining Data is {filtered_data_size / orginal_data_size:.2%}')"
   ]
  },
  {
   "cell_type": "code",
   "execution_count": 4,
   "metadata": {},
   "outputs": [],
   "source": [
    "# 컬럼 이름 변경\n",
    "ratings.rename(columns={'rating':'count1'}, inplace=True)"
   ]
  },
  {
   "cell_type": "code",
   "execution_count": 5,
   "metadata": {},
   "outputs": [
    {
     "data": {
      "text/html": [
       "<div>\n",
       "<style scoped>\n",
       "    .dataframe tbody tr th:only-of-type {\n",
       "        vertical-align: middle;\n",
       "    }\n",
       "\n",
       "    .dataframe tbody tr th {\n",
       "        vertical-align: top;\n",
       "    }\n",
       "\n",
       "    .dataframe thead th {\n",
       "        text-align: right;\n",
       "    }\n",
       "</style>\n",
       "<table border=\"1\" class=\"dataframe\">\n",
       "  <thead>\n",
       "    <tr style=\"text-align: right;\">\n",
       "      <th></th>\n",
       "      <th>movie_id</th>\n",
       "      <th>title</th>\n",
       "      <th>genre</th>\n",
       "    </tr>\n",
       "  </thead>\n",
       "  <tbody>\n",
       "    <tr>\n",
       "      <th>0</th>\n",
       "      <td>1</td>\n",
       "      <td>Toy Story (1995)</td>\n",
       "      <td>Animation|Children's|Comedy</td>\n",
       "    </tr>\n",
       "    <tr>\n",
       "      <th>1</th>\n",
       "      <td>2</td>\n",
       "      <td>Jumanji (1995)</td>\n",
       "      <td>Adventure|Children's|Fantasy</td>\n",
       "    </tr>\n",
       "    <tr>\n",
       "      <th>2</th>\n",
       "      <td>3</td>\n",
       "      <td>Grumpier Old Men (1995)</td>\n",
       "      <td>Comedy|Romance</td>\n",
       "    </tr>\n",
       "    <tr>\n",
       "      <th>3</th>\n",
       "      <td>4</td>\n",
       "      <td>Waiting to Exhale (1995)</td>\n",
       "      <td>Comedy|Drama</td>\n",
       "    </tr>\n",
       "    <tr>\n",
       "      <th>4</th>\n",
       "      <td>5</td>\n",
       "      <td>Father of the Bride Part II (1995)</td>\n",
       "      <td>Comedy</td>\n",
       "    </tr>\n",
       "  </tbody>\n",
       "</table>\n",
       "</div>"
      ],
      "text/plain": [
       "   movie_id                               title                         genre\n",
       "0         1                    Toy Story (1995)   Animation|Children's|Comedy\n",
       "1         2                      Jumanji (1995)  Adventure|Children's|Fantasy\n",
       "2         3             Grumpier Old Men (1995)                Comedy|Romance\n",
       "3         4            Waiting to Exhale (1995)                  Comedy|Drama\n",
       "4         5  Father of the Bride Part II (1995)                        Comedy"
      ]
     },
     "execution_count": 5,
     "metadata": {},
     "output_type": "execute_result"
    }
   ],
   "source": [
    "# 영화 제목 데이터 로드\n",
    "# movie_file_path = os.getenv('HOME') + '/Documents/aiffel_local/20200818/ml-1m/movies.dat'\n",
    "movie_file_path = 'movies.dat'\n",
    "\n",
    "cols = ['movie_id', 'title', 'genre'] \n",
    "movies = pd.read_csv(movie_file_path, sep='::', names=cols, engine='python')\n",
    "\n",
    "# 영화 이름 출력을 위한 {idx: title, ...} 딕셔너리 임의 생성\n",
    "idx_to_movie = {}\n",
    "\n",
    "for idx, movie in enumerate(movies['movie_id']):\n",
    "    idx_to_movie[movie] = movies['title'][idx]\n",
    "    \n",
    "# print(idx_to_movie)\n",
    "    \n",
    "movies.head()"
   ]
  },
  {
   "cell_type": "markdown",
   "metadata": {},
   "source": [
    "## 분석"
   ]
  },
  {
   "cell_type": "markdown",
   "metadata": {},
   "source": [
    "### ratings에 있는 유니크한 영화 수"
   ]
  },
  {
   "cell_type": "code",
   "execution_count": 6,
   "metadata": {},
   "outputs": [
    {
     "data": {
      "text/plain": [
       "3628"
      ]
     },
     "execution_count": 6,
     "metadata": {},
     "output_type": "execute_result"
    }
   ],
   "source": [
    "ratings['movie_id'].nunique()"
   ]
  },
  {
   "cell_type": "markdown",
   "metadata": {},
   "source": [
    "### ratings에 있는 유니크한 사용자 수"
   ]
  },
  {
   "cell_type": "code",
   "execution_count": 7,
   "metadata": {},
   "outputs": [
    {
     "data": {
      "text/plain": [
       "6039"
      ]
     },
     "execution_count": 7,
     "metadata": {},
     "output_type": "execute_result"
    }
   ],
   "source": [
    "ratings['user_id'].nunique()"
   ]
  },
  {
   "cell_type": "markdown",
   "metadata": {},
   "source": [
    "### 가장 인기 있는 영화 30개 (인기순)"
   ]
  },
  {
   "cell_type": "code",
   "execution_count": 8,
   "metadata": {
    "scrolled": false
   },
   "outputs": [
    {
     "data": {
      "text/plain": [
       "movie_id\n",
       "2858    3211\n",
       "260     2910\n",
       "1196    2885\n",
       "1210    2716\n",
       "2028    2561\n",
       "589     2509\n",
       "593     2498\n",
       "1198    2473\n",
       "1270    2460\n",
       "2571    2434\n",
       "480     2413\n",
       "2762    2385\n",
       "608     2371\n",
       "110     2314\n",
       "1580    2297\n",
       "527     2257\n",
       "1197    2252\n",
       "2396    2213\n",
       "1617    2210\n",
       "318     2194\n",
       "858     2167\n",
       "1265    2121\n",
       "1097    2102\n",
       "2997    2066\n",
       "2716    2051\n",
       "296     2030\n",
       "356     2022\n",
       "1240    2019\n",
       "1       2000\n",
       "457     1941\n",
       "Name: user_id, dtype: int64"
      ]
     },
     "execution_count": 8,
     "metadata": {},
     "output_type": "execute_result"
    }
   ],
   "source": [
    "movie_count = ratings.groupby('movie_id')['user_id'].count()\n",
    "movie_count.sort_values(ascending=False).head(30)"
   ]
  },
  {
   "cell_type": "markdown",
   "metadata": {},
   "source": [
    "## 내가 선호하는 영화 5가지 rating에 추가"
   ]
  },
  {
   "cell_type": "code",
   "execution_count": 9,
   "metadata": {},
   "outputs": [
    {
     "data": {
      "text/html": [
       "<div>\n",
       "<style scoped>\n",
       "    .dataframe tbody tr th:only-of-type {\n",
       "        vertical-align: middle;\n",
       "    }\n",
       "\n",
       "    .dataframe tbody tr th {\n",
       "        vertical-align: top;\n",
       "    }\n",
       "\n",
       "    .dataframe thead th {\n",
       "        text-align: right;\n",
       "    }\n",
       "</style>\n",
       "<table border=\"1\" class=\"dataframe\">\n",
       "  <thead>\n",
       "    <tr style=\"text-align: right;\">\n",
       "      <th></th>\n",
       "      <th>user_id</th>\n",
       "      <th>movie_id</th>\n",
       "      <th>count1</th>\n",
       "      <th>timestamp</th>\n",
       "    </tr>\n",
       "  </thead>\n",
       "  <tbody>\n",
       "    <tr>\n",
       "      <th>1000203</th>\n",
       "      <td>6040</td>\n",
       "      <td>1090</td>\n",
       "      <td>3</td>\n",
       "      <td>956715518.0</td>\n",
       "    </tr>\n",
       "    <tr>\n",
       "      <th>1000205</th>\n",
       "      <td>6040</td>\n",
       "      <td>1094</td>\n",
       "      <td>5</td>\n",
       "      <td>956704887.0</td>\n",
       "    </tr>\n",
       "    <tr>\n",
       "      <th>1000206</th>\n",
       "      <td>6040</td>\n",
       "      <td>562</td>\n",
       "      <td>5</td>\n",
       "      <td>956704746.0</td>\n",
       "    </tr>\n",
       "    <tr>\n",
       "      <th>1000207</th>\n",
       "      <td>6040</td>\n",
       "      <td>1096</td>\n",
       "      <td>4</td>\n",
       "      <td>956715648.0</td>\n",
       "    </tr>\n",
       "    <tr>\n",
       "      <th>1000208</th>\n",
       "      <td>6040</td>\n",
       "      <td>1097</td>\n",
       "      <td>4</td>\n",
       "      <td>956715569.0</td>\n",
       "    </tr>\n",
       "    <tr>\n",
       "      <th>0</th>\n",
       "      <td>9999</td>\n",
       "      <td>1682</td>\n",
       "      <td>5</td>\n",
       "      <td>NaN</td>\n",
       "    </tr>\n",
       "    <tr>\n",
       "      <th>1</th>\n",
       "      <td>9999</td>\n",
       "      <td>1721</td>\n",
       "      <td>5</td>\n",
       "      <td>NaN</td>\n",
       "    </tr>\n",
       "    <tr>\n",
       "      <th>2</th>\n",
       "      <td>9999</td>\n",
       "      <td>1707</td>\n",
       "      <td>5</td>\n",
       "      <td>NaN</td>\n",
       "    </tr>\n",
       "    <tr>\n",
       "      <th>3</th>\n",
       "      <td>9999</td>\n",
       "      <td>2409</td>\n",
       "      <td>5</td>\n",
       "      <td>NaN</td>\n",
       "    </tr>\n",
       "    <tr>\n",
       "      <th>4</th>\n",
       "      <td>9999</td>\n",
       "      <td>3114</td>\n",
       "      <td>5</td>\n",
       "      <td>NaN</td>\n",
       "    </tr>\n",
       "  </tbody>\n",
       "</table>\n",
       "</div>"
      ],
      "text/plain": [
       "         user_id  movie_id  count1    timestamp\n",
       "1000203     6040      1090       3  956715518.0\n",
       "1000205     6040      1094       5  956704887.0\n",
       "1000206     6040       562       5  956704746.0\n",
       "1000207     6040      1096       4  956715648.0\n",
       "1000208     6040      1097       4  956715569.0\n",
       "0           9999      1682       5          NaN\n",
       "1           9999      1721       5          NaN\n",
       "2           9999      1707       5          NaN\n",
       "3           9999      2409       5          NaN\n",
       "4           9999      3114       5          NaN"
      ]
     },
     "execution_count": 9,
     "metadata": {},
     "output_type": "execute_result"
    }
   ],
   "source": [
    "# Truman Show, The (1998) / Titanic (1997) / Home Alone 3 (1997) / Rocky II (1979) / Toy Story 2 (1999)\n",
    "my_favorite = [1682, 1721, 1707, 2409, 3114]\n",
    "\n",
    "my_playlist = pd.DataFrame({'user_id': [9999]*5, 'movie_id': my_favorite, 'count1': [5]*5}) # 위에서 rating -> count1 로 변경했으므로\n",
    "\n",
    "if not ratings.isin({'user_id':[9999]})['user_id'].any():\n",
    "    ratings = ratings.append(my_playlist)\n",
    "\n",
    "ratings.tail(10) # 잘 추가되었는지 확인해 봅시다."
   ]
  },
  {
   "cell_type": "code",
   "execution_count": 10,
   "metadata": {},
   "outputs": [],
   "source": [
    "# 고유한 유저, 아티스트를 찾아내는 코드\n",
    "user_unique = ratings['user_id'].unique()\n",
    "movie_unique = ratings['movie_id'].unique()\n",
    "\n",
    "# 유저, 아티스트 indexing 하는 코드 idx는 index의 약자입니다.\n",
    "user_to_idx = {v:k for k,v in enumerate(user_unique)}\n",
    "movie_to_idx = {v:k for k,v in enumerate(movie_unique)}"
   ]
  },
  {
   "cell_type": "code",
   "execution_count": 11,
   "metadata": {},
   "outputs": [
    {
     "name": "stdout",
     "output_type": "stream",
     "text": [
      "6039\n",
      "385\n"
     ]
    }
   ],
   "source": [
    "print(user_to_idx[9999])\n",
    "print(movie_to_idx[1682]) # Truman Show, The"
   ]
  },
  {
   "cell_type": "code",
   "execution_count": 12,
   "metadata": {},
   "outputs": [
    {
     "name": "stdout",
     "output_type": "stream",
     "text": [
      "user_id column indexing OK!!\n",
      "movie_id column indexing OK!!\n"
     ]
    },
    {
     "data": {
      "text/html": [
       "<div>\n",
       "<style scoped>\n",
       "    .dataframe tbody tr th:only-of-type {\n",
       "        vertical-align: middle;\n",
       "    }\n",
       "\n",
       "    .dataframe tbody tr th {\n",
       "        vertical-align: top;\n",
       "    }\n",
       "\n",
       "    .dataframe thead th {\n",
       "        text-align: right;\n",
       "    }\n",
       "</style>\n",
       "<table border=\"1\" class=\"dataframe\">\n",
       "  <thead>\n",
       "    <tr style=\"text-align: right;\">\n",
       "      <th></th>\n",
       "      <th>user_id</th>\n",
       "      <th>movie_id</th>\n",
       "      <th>count1</th>\n",
       "      <th>timestamp</th>\n",
       "    </tr>\n",
       "  </thead>\n",
       "  <tbody>\n",
       "    <tr>\n",
       "      <th>0</th>\n",
       "      <td>0</td>\n",
       "      <td>0</td>\n",
       "      <td>5</td>\n",
       "      <td>978300760.0</td>\n",
       "    </tr>\n",
       "    <tr>\n",
       "      <th>1</th>\n",
       "      <td>0</td>\n",
       "      <td>1</td>\n",
       "      <td>3</td>\n",
       "      <td>978302109.0</td>\n",
       "    </tr>\n",
       "    <tr>\n",
       "      <th>2</th>\n",
       "      <td>0</td>\n",
       "      <td>2</td>\n",
       "      <td>3</td>\n",
       "      <td>978301968.0</td>\n",
       "    </tr>\n",
       "    <tr>\n",
       "      <th>3</th>\n",
       "      <td>0</td>\n",
       "      <td>3</td>\n",
       "      <td>4</td>\n",
       "      <td>978300275.0</td>\n",
       "    </tr>\n",
       "    <tr>\n",
       "      <th>4</th>\n",
       "      <td>0</td>\n",
       "      <td>4</td>\n",
       "      <td>5</td>\n",
       "      <td>978824291.0</td>\n",
       "    </tr>\n",
       "    <tr>\n",
       "      <th>...</th>\n",
       "      <td>...</td>\n",
       "      <td>...</td>\n",
       "      <td>...</td>\n",
       "      <td>...</td>\n",
       "    </tr>\n",
       "    <tr>\n",
       "      <th>0</th>\n",
       "      <td>6039</td>\n",
       "      <td>385</td>\n",
       "      <td>5</td>\n",
       "      <td>NaN</td>\n",
       "    </tr>\n",
       "    <tr>\n",
       "      <th>1</th>\n",
       "      <td>6039</td>\n",
       "      <td>27</td>\n",
       "      <td>5</td>\n",
       "      <td>NaN</td>\n",
       "    </tr>\n",
       "    <tr>\n",
       "      <th>2</th>\n",
       "      <td>6039</td>\n",
       "      <td>1994</td>\n",
       "      <td>5</td>\n",
       "      <td>NaN</td>\n",
       "    </tr>\n",
       "    <tr>\n",
       "      <th>3</th>\n",
       "      <td>6039</td>\n",
       "      <td>1123</td>\n",
       "      <td>5</td>\n",
       "      <td>NaN</td>\n",
       "    </tr>\n",
       "    <tr>\n",
       "      <th>4</th>\n",
       "      <td>6039</td>\n",
       "      <td>50</td>\n",
       "      <td>5</td>\n",
       "      <td>NaN</td>\n",
       "    </tr>\n",
       "  </tbody>\n",
       "</table>\n",
       "<p>836483 rows × 4 columns</p>\n",
       "</div>"
      ],
      "text/plain": [
       "    user_id  movie_id  count1    timestamp\n",
       "0         0         0       5  978300760.0\n",
       "1         0         1       3  978302109.0\n",
       "2         0         2       3  978301968.0\n",
       "3         0         3       4  978300275.0\n",
       "4         0         4       5  978824291.0\n",
       "..      ...       ...     ...          ...\n",
       "0      6039       385       5          NaN\n",
       "1      6039        27       5          NaN\n",
       "2      6039      1994       5          NaN\n",
       "3      6039      1123       5          NaN\n",
       "4      6039        50       5          NaN\n",
       "\n",
       "[836483 rows x 4 columns]"
      ]
     },
     "execution_count": 12,
     "metadata": {},
     "output_type": "execute_result"
    }
   ],
   "source": [
    "# indexing을 통해 데이터 컬럼 내 값을 바꾸는 코드\n",
    "# dictionary 자료형의 get 함수는 https://wikidocs.net/16 을 참고하세요.\n",
    "\n",
    "# user_to_idx.get을 통해 user_id 컬럼의 모든 값을 인덱싱한 Series를 구해 봅시다. \n",
    "# 혹시 정상적으로 인덱싱되지 않은 row가 있다면 인덱스가 NaN이 될 테니 dropna()로 제거합니다. \n",
    "temp_user_data = ratings['user_id'].map(user_to_idx.get).dropna()\n",
    "if len(temp_user_data) == len(ratings):   # 모든 row가 정상적으로 인덱싱되었다면\n",
    "    print('user_id column indexing OK!!')\n",
    "    ratings['user_id'] = temp_user_data   # data['user_id']을 인덱싱된 Series로 교체해 줍니다. \n",
    "else:\n",
    "    print('user_id column indexing Fail!!')\n",
    "\n",
    "# movie_to_idx을 통해 artist 컬럼도 동일한 방식으로 인덱싱해 줍니다. \n",
    "temp_movie_data = ratings['movie_id'].map(movie_to_idx.get).dropna()\n",
    "if len(temp_movie_data) == len(ratings):\n",
    "    print('movie_id column indexing OK!!')\n",
    "    ratings['movie_id'] = temp_movie_data\n",
    "else:\n",
    "    print('movie_id column indexing Fail!!')\n",
    "    \n",
    "ratings"
   ]
  },
  {
   "cell_type": "markdown",
   "metadata": {},
   "source": [
    "## CSR Matrix 만들기"
   ]
  },
  {
   "cell_type": "code",
   "execution_count": 13,
   "metadata": {},
   "outputs": [
    {
     "name": "stdout",
     "output_type": "stream",
     "text": [
      "6040 3628\n"
     ]
    }
   ],
   "source": [
    "num_user = ratings['user_id'].nunique()\n",
    "num_movies = ratings['movie_id'].nunique()\n",
    "\n",
    "print(num_user, num_movies)\n",
    "\n",
    "csr_data = csr_matrix((ratings.count1, (ratings.user_id, ratings.movie_id)), shape=(num_user, num_movies))"
   ]
  },
  {
   "cell_type": "code",
   "execution_count": 14,
   "metadata": {},
   "outputs": [
    {
     "data": {
      "text/plain": [
       "<3628x6040 sparse matrix of type '<class 'numpy.int64'>'\n",
       "\twith 836483 stored elements in Compressed Sparse Column format>"
      ]
     },
     "execution_count": 14,
     "metadata": {},
     "output_type": "execute_result"
    }
   ],
   "source": [
    "als_model = AlternatingLeastSquares(factors=100, regularization=0.01, use_gpu=False, iterations=15, dtype=np.float32)\n",
    "\n",
    "csr_data_transpose = csr_data.T\n",
    "csr_data_transpose"
   ]
  },
  {
   "cell_type": "code",
   "execution_count": 15,
   "metadata": {},
   "outputs": [
    {
     "data": {
      "application/vnd.jupyter.widget-view+json": {
       "model_id": "11338bbda5784b95911c76dd5d83e0fa",
       "version_major": 2,
       "version_minor": 0
      },
      "text/plain": [
       "HBox(children=(FloatProgress(value=0.0, max=15.0), HTML(value='')))"
      ]
     },
     "metadata": {},
     "output_type": "display_data"
    },
    {
     "name": "stdout",
     "output_type": "stream",
     "text": [
      "\n"
     ]
    }
   ],
   "source": [
    "als_model.fit(csr_data_transpose)\n",
    "\n",
    "me = user_to_idx[9999]\n",
    "truman_show = movie_to_idx[1682] # Truman Show, The (1998)\n",
    "\n",
    "me_vector = als_model.user_factors[me]\n",
    "truman_show_vector = als_model.item_factors[truman_show]"
   ]
  },
  {
   "cell_type": "code",
   "execution_count": 16,
   "metadata": {},
   "outputs": [
    {
     "data": {
      "text/plain": [
       "array([-0.5023395 ,  0.47425917, -0.44555765, -0.23234725,  0.71560633,\n",
       "        0.11919172,  0.24120735,  0.1134606 , -0.28699768,  0.23794885,\n",
       "        0.15122478,  0.67456746,  0.45145684,  0.10664889,  0.08289762,\n",
       "        0.40104854,  0.10766234, -0.54468405, -0.54212284,  0.35090855,\n",
       "       -0.19838512, -0.13492206,  0.18157226, -0.40668172,  0.15376309,\n",
       "        0.5420676 ,  0.09573819,  0.6261025 ,  0.04298294, -0.2915683 ,\n",
       "       -0.11186088,  0.49985915, -0.5852413 ,  0.8637775 ,  0.26765132,\n",
       "        0.32546225,  0.6263474 , -0.05404732,  0.26476517, -0.10040475,\n",
       "       -1.062659  , -0.13486083,  0.46549273, -0.30968258,  0.26248175,\n",
       "        0.27486387, -0.8336964 , -0.5985054 , -0.3621482 ,  0.03164356,\n",
       "       -0.09827969,  0.198316  ,  0.6557962 , -0.7942498 ,  0.6897818 ,\n",
       "        0.42427132, -0.37774047, -0.28196573,  0.26461554, -0.10634741,\n",
       "       -0.62180686, -0.04492638, -0.07326837, -1.5329964 , -0.20814385,\n",
       "        0.15416156, -0.0749208 , -0.4907188 , -0.07181611,  0.094161  ,\n",
       "        0.8401849 ,  0.14397326, -0.44215652, -0.27423242, -0.1331311 ,\n",
       "       -0.5010841 ,  0.4330356 ,  0.41944566,  0.10949165,  0.03980574,\n",
       "        0.35515767,  0.59334636, -0.05079935,  0.38880146, -0.51824105,\n",
       "        0.3687231 , -0.271561  , -0.6484931 ,  0.12320147, -0.06732415,\n",
       "        0.8702966 ,  0.5325144 , -0.78427804,  0.35122916,  0.16480683,\n",
       "       -0.72315794,  0.21538799, -0.17129539,  0.81260794, -0.34381607],\n",
       "      dtype=float32)"
      ]
     },
     "execution_count": 16,
     "metadata": {},
     "output_type": "execute_result"
    }
   ],
   "source": [
    "me_vector"
   ]
  },
  {
   "cell_type": "code",
   "execution_count": 17,
   "metadata": {
    "scrolled": false
   },
   "outputs": [
    {
     "data": {
      "text/plain": [
       "array([-5.65540791e-03,  9.58374795e-03, -8.79791938e-03,  8.02674505e-04,\n",
       "        2.88799591e-02,  4.76889499e-03,  1.47020230e-02,  1.34645179e-02,\n",
       "       -5.59536135e-03,  2.36092117e-02,  2.52423640e-02,  3.27905677e-02,\n",
       "        5.48206689e-03, -3.06742731e-05,  9.01089329e-03,  2.72900183e-02,\n",
       "        2.44526435e-02,  3.87912645e-04,  1.79112665e-02,  3.02854683e-02,\n",
       "        1.41862677e-02, -1.35171153e-02,  9.90547519e-03, -1.66605096e-02,\n",
       "       -1.61456049e-03,  7.83762429e-03,  3.22673633e-03,  2.64177583e-02,\n",
       "        3.00891115e-03,  1.09127229e-02,  5.34542790e-03, -7.29669072e-03,\n",
       "        1.79826003e-02,  1.65786110e-02, -1.62819691e-04,  3.26321716e-03,\n",
       "        5.43234637e-03, -1.82644511e-03,  8.93633161e-03, -2.29558162e-03,\n",
       "        7.39892945e-03, -1.07527813e-02, -1.00348156e-03,  7.84977246e-03,\n",
       "        1.11419605e-02,  1.11303581e-02, -2.79943347e-02, -1.39470417e-02,\n",
       "       -7.77342706e-04,  9.35642142e-03,  9.02976748e-03,  3.58549543e-02,\n",
       "        1.84565187e-02,  9.14210081e-03,  4.16903347e-02,  1.01864766e-02,\n",
       "        1.12106837e-02, -1.76490135e-02,  3.34492931e-03, -1.94538932e-03,\n",
       "       -1.80575643e-02, -1.15739340e-02,  1.66837275e-02,  1.50588306e-03,\n",
       "        1.97350215e-02,  1.11227818e-02, -7.68865808e-04, -3.18543576e-02,\n",
       "       -1.29274568e-02,  2.34056693e-02,  2.60004774e-02,  2.12208042e-03,\n",
       "       -1.91964526e-02, -4.57628956e-03, -1.49797453e-02,  5.52328129e-04,\n",
       "        1.57105364e-02, -1.87676097e-03, -6.14835275e-03,  5.82139648e-04,\n",
       "        7.11451052e-03,  5.27853938e-03, -1.30917365e-02,  2.94698663e-02,\n",
       "       -2.12423559e-02,  2.18174197e-02,  2.22262871e-02, -3.85771767e-04,\n",
       "       -1.64285041e-02,  8.23161565e-03,  1.89130828e-02,  5.42295212e-03,\n",
       "       -1.11921877e-03,  1.03123840e-02,  2.25513633e-02, -2.29843911e-02,\n",
       "        8.46003008e-04, -1.86407170e-03,  2.93122008e-02,  1.05236284e-02],\n",
       "      dtype=float32)"
      ]
     },
     "execution_count": 17,
     "metadata": {},
     "output_type": "execute_result"
    }
   ],
   "source": [
    "truman_show_vector"
   ]
  },
  {
   "cell_type": "code",
   "execution_count": 18,
   "metadata": {},
   "outputs": [
    {
     "data": {
      "text/plain": [
       "0.3520363"
      ]
     },
     "execution_count": 18,
     "metadata": {},
     "output_type": "execute_result"
    }
   ],
   "source": [
    "np.dot(me_vector, truman_show_vector)"
   ]
  },
  {
   "cell_type": "markdown",
   "metadata": {},
   "source": [
    "## 내가 좋아하는 영화와 비슷한 영화 추천받기"
   ]
  },
  {
   "cell_type": "code",
   "execution_count": 19,
   "metadata": {
    "scrolled": true
   },
   "outputs": [
    {
     "name": "stdout",
     "output_type": "stream",
     "text": [
      "(3114, 0.021781715, 'Toy Story 2 (1999)')\n",
      "(2346, 0.015372159, 'Stepford Wives, The (1975)')\n",
      "(1941, 0.015248158, 'Hamlet (1948)')\n",
      "(1963, 0.015002224, 'Take the Money and Run (1969)')\n",
      "(1672, 0.014914121, 'Rainmaker, The (1997)')\n",
      "(1199, 0.014806441, 'Brazil (1985)')\n",
      "(3062, 0.014660781, 'Longest Day, The (1962)')\n",
      "(1962, 0.014557213, 'Driving Miss Daisy (1989)')\n",
      "(1974, 0.014544688, 'Friday the 13th (1980)')\n",
      "(1970, 0.014538508, 'Nightmare on Elm Street 3: Dream Warriors, A (1987)')\n",
      "(2904, 0.014520839, 'Rain (1932)')\n",
      "(1960, 0.014500704, 'Last Emperor, The (1987)')\n",
      "(1973, 0.014121532, \"Freddy's Dead: The Final Nightmare (1991)\")\n",
      "(2134, 0.014108021, 'Weird Science (1985)')\n",
      "(2109, 0.013958392, 'Jerk, The (1979)')\n"
     ]
    }
   ],
   "source": [
    "favorite_movie_id = 3114 # Toy Story 2 (1999)\n",
    "similar_movie = als_model.similar_items(favorite_movie_id, N=15)\n",
    "\n",
    "for m in similar_movie:\n",
    "    m = m + (idx_to_movie[m[0]],)\n",
    "    print(m)\n",
    "\n",
    "# similar_movie"
   ]
  },
  {
   "cell_type": "markdown",
   "metadata": {},
   "source": [
    "## 내가 가장 좋아할 만한 영화 추천받기"
   ]
  },
  {
   "cell_type": "code",
   "execution_count": 20,
   "metadata": {},
   "outputs": [
    {
     "name": "stdout",
     "output_type": "stream",
     "text": [
      "(40, 0.3369577, 'Cry, the Beloved Country (1995)')\n",
      "(4, 0.32402563, 'Waiting to Exhale (1995)')\n",
      "(39, 0.3007994, 'Clueless (1995)')\n",
      "(384, 0.22715054, 'Bad Company (1995)')\n",
      "(851, 0.20881493, 'Basquiat (1996)')\n",
      "(322, 0.20593917, 'Swimming with Sharks (1995)')\n",
      "(126, 0.20396644, 'NeverEnding Story III, The (1994)')\n",
      "(626, 0.20281257, 'Thin Line Between Love and Hate, A (1996)')\n",
      "(60, 0.20138767, 'Indian in the Cupboard, The (1995)')\n",
      "(1126, 0.19806126, 'Drop Dead Fred (1991)')\n",
      "(463, 0.18555391, 'Guilty as Sin (1993)')\n",
      "(38, 0.1794315, 'It Takes Two (1995)')\n",
      "(474, 0.17410618, 'In the Line of Fire (1993)')\n",
      "(139, 0.17175257, 'Target (1995)')\n",
      "(330, 0.161925, 'Tales from the Hood (1995)')\n",
      "(131, 0.16082264, 'Frankie Starlight (1995)')\n",
      "(641, 0.15905504, 'Little Indian, Big City (Un indien dans la ville) (1994)')\n",
      "(110, 0.15694457, 'Braveheart (1995)')\n",
      "(248, 0.15378532, 'Houseguest (1994)')\n",
      "(160, 0.15039498, 'Congo (1995)')\n"
     ]
    }
   ],
   "source": [
    "user = user_to_idx[9999]\n",
    "movie_recommended = als_model.recommend(user, csr_data, N=20, filter_already_liked_items=True)\n",
    "\n",
    "for m in movie_recommended:\n",
    "    m = m + (idx_to_movie[m[0]], )\n",
    "    print(m)\n",
    "\n",
    "# movie_recommended"
   ]
  },
  {
   "cell_type": "code",
   "execution_count": null,
   "metadata": {},
   "outputs": [],
   "source": []
  }
 ],
 "metadata": {
  "kernelspec": {
   "display_name": "aiffel",
   "language": "python",
   "name": "aiffel"
  },
  "language_info": {
   "codemirror_mode": {
    "name": "ipython",
    "version": 3
   },
   "file_extension": ".py",
   "mimetype": "text/x-python",
   "name": "python",
   "nbconvert_exporter": "python",
   "pygments_lexer": "ipython3",
   "version": "3.7.6"
  }
 },
 "nbformat": 4,
 "nbformat_minor": 4
}
